{
 "cells": [
  {
   "cell_type": "markdown",
   "metadata": {},
   "source": [
    "# Plot N cross-section with matplotlib"
   ]
  },
  {
   "cell_type": "code",
   "execution_count": 17,
   "metadata": {},
   "outputs": [],
   "source": [
    "%matplotlib widget"
   ]
  },
  {
   "cell_type": "code",
   "execution_count": 1,
   "metadata": {},
   "outputs": [],
   "source": [
    "import xarray as xr\n",
    "import pandas as pd\n",
    "import matplotlib.pyplot as plt\n",
    "import matplotlib.patheffects as PathEffects\n",
    "from matplotlib.ticker import (MultipleLocator, FormatStrFormatter, AutoMinorLocator)\n",
    "from JulesD3D.processNetCDF import addDepth, makeVelocity # why make instead of addvelocity\n",
    "from JulesD3D.utils import folderPicker, ncFilePicker, easyTimeFormat\n",
    "import numpy as np\n",
    "from os import path\n",
    "from IPython.display import Markdown as md"
   ]
  },
  {
   "cell_type": "code",
   "execution_count": 27,
   "metadata": {},
   "outputs": [
    {
     "data": {
      "application/vnd.jupyter.widget-view+json": {
       "model_id": "010baa13f19247d8bc0afe3f4eb4479c",
       "version_major": 2,
       "version_minor": 0
      },
      "text/plain": [
       "Select(description='Scenario folder:', layout=Layout(height='120px', width='100%'), options=('/Volumes/Seagate…"
      ]
     },
     "metadata": {},
     "output_type": "display_data"
    }
   ],
   "source": [
    "# parent_folder = '/Users/julesblom/ThesisResults/'\n",
    "parent_folder = '/Volumes/Seagate Expansion Drive/FinalResults/'\n",
    "scenario_folder = folderPicker(parent_folder)\n",
    "scenario_folder"
   ]
  },
  {
   "cell_type": "code",
   "execution_count": 29,
   "metadata": {},
   "outputs": [
    {
     "data": {
      "application/vnd.jupyter.widget-view+json": {
       "model_id": "7f0870cd010d440496d22c7905ec948d",
       "version_major": 2,
       "version_minor": 0
      },
      "text/plain": [
       "Select(description='NetCDF file:', layout=Layout(height='120px', width='100%'), options=('/Volumes/Seagate Exp…"
      ]
     },
     "metadata": {},
     "output_type": "display_data"
    }
   ],
   "source": [
    "nc_filename = ncFilePicker(scenario_folder.value)\n",
    "nc_filename"
   ]
  },
  {
   "cell_type": "code",
   "execution_count": 30,
   "metadata": {},
   "outputs": [],
   "source": [
    "trim = xr.open_dataset(nc_filename.value)"
   ]
  },
  {
   "cell_type": "code",
   "execution_count": 31,
   "metadata": {},
   "outputs": [
    {
     "data": {
      "text/plain": [
       "'Slope125_Run05'"
      ]
     },
     "execution_count": 31,
     "metadata": {},
     "output_type": "execute_result"
    }
   ],
   "source": [
    "basename = path.basename(nc_filename.value)\n",
    "plot_title, _ = path.splitext(basename)\n",
    "plot_title"
   ]
  },
  {
   "cell_type": "code",
   "execution_count": 32,
   "metadata": {},
   "outputs": [],
   "source": [
    "plt.close('all')"
   ]
  },
  {
   "cell_type": "code",
   "execution_count": 43,
   "metadata": {},
   "outputs": [],
   "source": [
    "scenario = 'Slope 1.25°'"
   ]
  },
  {
   "cell_type": "code",
   "execution_count": 34,
   "metadata": {},
   "outputs": [
    {
     "name": "stdout",
     "output_type": "stream",
     "text": [
      "Need to processNetCDF first\n"
     ]
    },
    {
     "name": "stderr",
     "output_type": "stream",
     "text": [
      "/Users/julesblom/Library/Caches/pypoetry/virtualenvs/delft3d-python-j5EFwY34-py3.7/lib/python3.7/site-packages/xarray/core/computation.py:1215: FutureWarning: This DataArray contains multi-dimensional coordinates. In the future, these coordinates will be transposed as well unless you specify transpose_coords=False.\n",
      "  return result.transpose(*[d for d in all_dims if d in result.dims])\n"
     ]
    }
   ],
   "source": [
    "# only if the NetCDF has already been processed\n",
    "if \"depth_center\" not in trim:\n",
    "    print(\"Need to processNetCDF first\")\n",
    "    trim = addDepth(trim)\n",
    "    trim = makeVelocity(trim)"
   ]
  },
  {
   "cell_type": "code",
   "execution_count": 35,
   "metadata": {},
   "outputs": [],
   "source": [
    "# in my models channel is always at half of total M cells\n",
    "SAND = 0\n",
    "SILT = 1"
   ]
  },
  {
   "cell_type": "code",
   "execution_count": 36,
   "metadata": {},
   "outputs": [
    {
     "data": {
      "text/markdown": [
       "\n",
       "Property  | Max Value\n",
       "--------- | -------------\n",
       "Density   | 1041.2073974609375\n",
       "Velocity  | 2.6055798530578613\n",
       "Sand conc | 12.678256034851074\n",
       "Silt conc | 16.391407012939453\n",
       "\n"
      ],
      "text/plain": [
       "<IPython.core.display.Markdown object>"
      ]
     },
     "execution_count": 36,
     "metadata": {},
     "output_type": "execute_result"
    }
   ],
   "source": [
    "md(f\"\"\"\n",
    "Property  | Max Value\n",
    "--------- | -------------\n",
    "Density   | {float(trim.RHO.max().values)}\n",
    "Velocity  | {float(trim.velocity.max().values)}\n",
    "Sand conc | {float(trim.R1.isel(LSTSCI=SAND).max().values)}\n",
    "Silt conc | {float(trim.R1.isel(LSTSCI=SILT).max().values)}\n",
    "\n",
    "\"\"\")"
   ]
  },
  {
   "cell_type": "code",
   "execution_count": 12,
   "metadata": {},
   "outputs": [],
   "source": [
    "depth_center = trim['depth_center']"
   ]
  },
  {
   "cell_type": "code",
   "execution_count": 37,
   "metadata": {},
   "outputs": [
    {
     "name": "stdout",
     "output_type": "stream",
     "text": [
      "2020-02-05T05:48:00.000000000\n"
     ]
    }
   ],
   "source": [
    "selected_time = -1\n",
    "selected_M = int(trim.M.size/2)\n",
    "timestring = easyTimeFormat(trim.time.isel(time=selected_time).values)\n",
    "\n",
    "# turbu_energy_at_time = trim.RTUR1.isel(LTUR=0).isel(time=selected_time, M=selected_M)\n",
    "concentration_sand = trim.R1.isel(LSTSCI=SAND, time=selected_time, M=selected_M)\n",
    "concentration_silt = trim.R1.isel(LSTSCI=SILT, time=selected_time, M=selected_M)\n",
    "density_m_at_time = trim.RHO.isel(time=selected_time, M=selected_M) \n",
    "velocity_m_at_time = trim.velocity.isel(time=selected_time, M=selected_M) \n",
    "\n",
    "z_section_center = depth_center.isel(time=selected_time, M=selected_M) # density_m_31.depth_center.T #trim.depth_center.isel(time=this_time, M=this_M).T # why do i need to transpose this?\n",
    "z_section_intf = trim.depth.isel(time=selected_time, M=selected_M) # why do i need to transpose this?\n",
    "\n",
    "n_section = z_section_intf.YZ\n",
    "\n",
    "_, mesh_N = np.meshgrid(trim.SIG_INTF.values, n_section)"
   ]
  },
  {
   "cell_type": "markdown",
   "metadata": {},
   "source": [
    "### Sanity check of dimensions"
   ]
  },
  {
   "cell_type": "code",
   "execution_count": 14,
   "metadata": {},
   "outputs": [],
   "source": [
    "# # is there a way to quickly print a formatted table in jupyter without pandas?\n",
    "# print('quad_NSigma\\t', mesh_N.shape)\n",
    "# print('n_section\\t', n_section.shape)\n",
    "# print('z_section_center', z_section_center.shape)\n",
    "# print('z_section_intf\\t', z_section_intf.shape)\n",
    "# print('density_m_at_time', density_m_at_time.T.shape)"
   ]
  },
  {
   "cell_type": "code",
   "execution_count": 208,
   "metadata": {},
   "outputs": [],
   "source": [
    "# sigma_percentages = np.diff(trim.SIG_LYR.values)*-100"
   ]
  },
  {
   "cell_type": "code",
   "execution_count": 209,
   "metadata": {},
   "outputs": [],
   "source": [
    "bottom = z_section_intf.isel(SIG_INTF=-1)"
   ]
  },
  {
   "cell_type": "code",
   "execution_count": 210,
   "metadata": {},
   "outputs": [],
   "source": [
    "legend_hack_intf = z_section_intf.isel(SIG_INTF=-1)\n",
    "legend_hack_center = z_section_center.isel(SIG_LYR=-1)"
   ]
  },
  {
   "cell_type": "code",
   "execution_count": 211,
   "metadata": {},
   "outputs": [],
   "source": [
    "plt.close(\"all\")"
   ]
  },
  {
   "cell_type": "markdown",
   "metadata": {},
   "source": [
    "## Plot Sigma interfaces and center with length"
   ]
  },
  {
   "cell_type": "code",
   "execution_count": 212,
   "metadata": {},
   "outputs": [],
   "source": [
    "# # zscale = 20\n",
    "# fig, ax = plt.subplots(nrows=1, figsize=(10,4.5)) # scale to actual depth lenght: (20 ,4) for  factor 10\n",
    "# plt.suptitle('Vertical grid-section')\n",
    "# plt.title(\"Channel slope 1.5° - Basin slope 0.2°\", fontsize=11)\n",
    "\n",
    "# ax.plot(n_section, z_section_intf, c='k', linewidth=0.55, marker='+', markersize=0.1)\n",
    "# ax.plot(n_section, not_all_centers, c='steelblue', linewidth=0.15, marker='+', markersize=0.1)\n",
    "\n",
    "# ax.xaxis.set_minor_locator(MultipleLocator(1000))\n",
    "# plt.xlim(0., 36200)\n",
    "\n",
    "# # hack to get only names in legend for lines\n",
    "# interfaces, = ax.plot(n_section, legend_hack_intf, c='k', linewidth=0.8, marker='+', markersize=0.)\n",
    "# centers, = ax.plot(n_section, legend_hack_center, c='steelblue', linewidth=0.8, marker='+', markersize=0.1)\n",
    "# not_all_centers = z_section_center.isel(SIG_LYR=slice(0,40))\n",
    "# # mark one line just because\n",
    "# # ax.plot(n_section, z_section_intf[:,42], c='hotpink', marker='o', markersize=1.5,)\n",
    "\n",
    "# # inset axes\n",
    "# axins = ax.inset_axes([0.5, 0.5, 0.47, 0.47])\n",
    "# axins.plot(n_section, z_section_intf, c='k',  linewidth=0.55, marker='+', markersize=0.1)\n",
    "# plt.setp(axins.spines.values(), color='tomato')\n",
    "# plt.setp([axins.get_xticklines(), ax.get_yticklines()], color='tomato')\n",
    "# plt.setp([axins.get_yticklines(), ax.get_yticklines()], color='tomato')\n",
    "\n",
    "\n",
    "# # sub region of the original image\n",
    "# x1, x2 = 13000, 17000\n",
    "# y1, y2 = -635, -600\n",
    "# axins.set_xlim(x1, x2)\n",
    "# axins.set_ylim(y1, y2)\n",
    "# axins.set_xticklabels('')\n",
    "# axins.set_yticklabels('')\n",
    "\n",
    "# ax.indicate_inset_zoom(axins, edgecolor='tomato', alpha=0.5)\n",
    "\n",
    "# # ax.scatter(n_section, depth_m_31[:,10], s=1.5)\n",
    "# ax.set_xlabel('Length $n$ [m]', fontsize=13.5)\n",
    "# ax.set_ylabel('Depth [m]', fontsize=13.5)\n",
    "# ax.legend((interfaces, centers), ('$\\sigma$ Interfaces', '$\\sigma$ Centers'), fontsize=\"x-large\", loc=\"lower left\", markerscale=50)\n",
    "# fig.show()"
   ]
  },
  {
   "cell_type": "markdown",
   "metadata": {},
   "source": [
    "## Plot Sigma interfaces and center with grid index"
   ]
  },
  {
   "cell_type": "code",
   "execution_count": 213,
   "metadata": {},
   "outputs": [],
   "source": [
    "# fig_N, ax_N = plt.subplots(nrows=1, figsize=(9,6))\n",
    "# ax_N.set_title('Sigma layers vertical section - N number')\n",
    "\n",
    "# ax_N.plot(z_section_intf, c='k', linewidth=0.25, marker='+', markersize=0.1)\n",
    "# ax_N.plot(z_section_center, c='g', linewidth=0.05, marker='+', markersize=0.1)\n",
    "# ax_N.set_xlabel('N')\n",
    "# ax_N.set_ylabel('Depth [m]')\n",
    "# fig_N.show()"
   ]
  },
  {
   "cell_type": "markdown",
   "metadata": {},
   "source": [
    "## Plot density N cross section"
   ]
  },
  {
   "cell_type": "code",
   "execution_count": 15,
   "metadata": {},
   "outputs": [
    {
     "name": "stdout",
     "output_type": "stream",
     "text": [
      "(182, 81)\n",
      "(182, 81)\n",
      "(182, 80)\n"
     ]
    }
   ],
   "source": [
    "print(mesh_N[:,:].shape)\n",
    "print(z_section_intf[:,:].shape)\n",
    "print(density_m_at_time.T.shape)"
   ]
  },
  {
   "cell_type": "code",
   "execution_count": 51,
   "metadata": {},
   "outputs": [
    {
     "data": {
      "application/vnd.jupyter.widget-view+json": {
       "model_id": "390396ae737d4802a7ec9505083f284b",
       "version_major": 2,
       "version_minor": 0
      },
      "text/plain": [
       "Canvas(toolbar=Toolbar(toolitems=[('Home', 'Reset original view', 'home', 'home'), ('Back', 'Back to previous …"
      ]
     },
     "metadata": {},
     "output_type": "display_data"
    },
    {
     "data": {
      "text/plain": [
       "Text(0, 0.5, 'Depth [m]')"
      ]
     },
     "execution_count": 51,
     "metadata": {},
     "output_type": "execute_result"
    }
   ],
   "source": [
    "fig_vert, ax_vert2 = plt.subplots(nrows=1, figsize=(6,4))\n",
    "\n",
    "ax_vert2.set_title(f'Density {scenario} {timestring}')\n",
    "# ax_vert2.set_ylim(-550, -250)\n",
    "# ax_vert2.set_xlim(2000, 12500)\n",
    "\n",
    "# or z_section.YZ both work\n",
    "mesh = ax_vert2.pcolormesh(mesh_N, z_section_intf, density_m_at_time.T, vmin=1025, vmax=1025.05)\n",
    "\n",
    "# ax_vert2.plot(n_section, z_section_center, c='lightsteelblue', linewidth=0.10, alpha=0.5) #, marker='+', markersize=0.1)\n",
    "ax_vert2.plot(n_section, z_section_intf[:,:], c='bisque', linewidth=0.08, alpha=0.5)\n",
    "\n",
    "cbar = fig_vert.colorbar(mesh, ax=ax_vert2) #, orientation='horizontal')\n",
    "cbar.ax.get_xaxis().labelpad = 5\n",
    "cbar.ax.set_xlabel('Density [kg/m3]')\n",
    "ax_vert2.set_xlabel('Length $n$ [m]')\n",
    "ax_vert2.set_ylabel('Depth [m]')"
   ]
  },
  {
   "cell_type": "markdown",
   "metadata": {},
   "source": [
    "## Velocity cross section"
   ]
  },
  {
   "cell_type": "code",
   "execution_count": 47,
   "metadata": {},
   "outputs": [
    {
     "data": {
      "application/vnd.jupyter.widget-view+json": {
       "model_id": "cde86a8245aa4bcb9852c62fed83d0de",
       "version_major": 2,
       "version_minor": 0
      },
      "text/plain": [
       "Canvas(toolbar=Toolbar(toolitems=[('Home', 'Reset original view', 'home', 'home'), ('Back', 'Back to previous …"
      ]
     },
     "metadata": {},
     "output_type": "display_data"
    },
    {
     "data": {
      "text/plain": [
       "Text(0, 0.5, 'Depth [m]')"
      ]
     },
     "execution_count": 47,
     "metadata": {},
     "output_type": "execute_result"
    }
   ],
   "source": [
    "fig_vert, ax_vert2 = plt.subplots(nrows=1, figsize=(9,4))\n",
    "\n",
    "ax_vert2.set_title(f'Velocity {scenario} {timestring}')\n",
    "ax_vert2.set_ylim(-700, -200)\n",
    "\n",
    "# or z_section.YZ both work\n",
    "mesh = ax_vert2.pcolormesh(mesh_N, z_section_intf, velocity_m_at_time,\n",
    "                          vmin=0, vmax=0.25, cmap='inferno') #, edgecolors='w', linewidths=0.1)\n",
    "\n",
    "# ax_vert2.plot(n_section, z_section_center, c='lightsteelblue', linewidth=0.10, alpha=0.5) #, marker='+', markersize=0.1)\n",
    "# ax_vert2.plot(n_section, z_section_intf[:,:], c='bisque', linewidth=0.08, alpha=0.7)\n",
    "\n",
    "cbar = fig_vert.colorbar(mesh, ax=ax_vert2)\n",
    "cbar.ax.get_yaxis().labelpad = 15\n",
    "cbar.ax.set_ylabel('Velocity [m/s]',rotation=90)\n",
    "ax_vert2.set_xlabel('Length $n$ [m]')\n",
    "ax_vert2.set_ylabel('Depth [m]')"
   ]
  },
  {
   "cell_type": "markdown",
   "metadata": {},
   "source": [
    "# Silt concentration"
   ]
  },
  {
   "cell_type": "code",
   "execution_count": 45,
   "metadata": {},
   "outputs": [
    {
     "data": {
      "application/vnd.jupyter.widget-view+json": {
       "model_id": "b06572386e8d4652bd0c415a39b64f3e",
       "version_major": 2,
       "version_minor": 0
      },
      "text/plain": [
       "Canvas(toolbar=Toolbar(toolitems=[('Home', 'Reset original view', 'home', 'home'), ('Back', 'Back to previous …"
      ]
     },
     "metadata": {},
     "output_type": "display_data"
    },
    {
     "data": {
      "text/plain": [
       "Text(0, 0.5, 'Depth [m]')"
      ]
     },
     "execution_count": 45,
     "metadata": {},
     "output_type": "execute_result"
    }
   ],
   "source": [
    "fig_vert, ax_vert2 = plt.subplots(nrows=1, figsize=(9,4))\n",
    "\n",
    "ax_vert2.set_title(f'Silt concentration {scenario} {timestring}')\n",
    "ax_vert2.set_ylim(-700, -250)\n",
    "\n",
    "# or z_section.YZ both work\n",
    "mesh = ax_vert2.pcolormesh(mesh_N, z_section_intf, concentration_silt.T, vmin=0, vmax=0.15, cmap='magma_r')\n",
    "ax_vert2.plot(n_section, z_section_intf[:,:], c='dimgray', linewidth=0.08, alpha=0.5)\n",
    "\n",
    "cbar = fig_vert.colorbar(mesh, ax=ax_vert2)\n",
    "cbar.ax.get_yaxis().labelpad = 15\n",
    "cbar.ax.set_ylabel('Silt concentration [%]',rotation=90)\n",
    "ax_vert2.set_xlabel('Length $n$ [m]')\n",
    "ax_vert2.set_ylabel('Depth [m]')"
   ]
  },
  {
   "cell_type": "markdown",
   "metadata": {},
   "source": [
    "## Turbulent Energy"
   ]
  },
  {
   "cell_type": "code",
   "execution_count": 257,
   "metadata": {},
   "outputs": [
    {
     "data": {
      "text/html": [
       "<div><svg style=\"position: absolute; width: 0; height: 0; overflow: hidden\">\n",
       "<defs>\n",
       "<symbol id=\"icon-database\" viewBox=\"0 0 32 32\">\n",
       "<title>Show/Hide data repr</title>\n",
       "<path d=\"M16 0c-8.837 0-16 2.239-16 5v4c0 2.761 7.163 5 16 5s16-2.239 16-5v-4c0-2.761-7.163-5-16-5z\"></path>\n",
       "<path d=\"M16 17c-8.837 0-16-2.239-16-5v6c0 2.761 7.163 5 16 5s16-2.239 16-5v-6c0 2.761-7.163 5-16 5z\"></path>\n",
       "<path d=\"M16 26c-8.837 0-16-2.239-16-5v6c0 2.761 7.163 5 16 5s16-2.239 16-5v-6c0 2.761-7.163 5-16 5z\"></path>\n",
       "</symbol>\n",
       "<symbol id=\"icon-file-text2\" viewBox=\"0 0 32 32\">\n",
       "<title>Show/Hide attributes</title>\n",
       "<path d=\"M28.681 7.159c-0.694-0.947-1.662-2.053-2.724-3.116s-2.169-2.030-3.116-2.724c-1.612-1.182-2.393-1.319-2.841-1.319h-15.5c-1.378 0-2.5 1.121-2.5 2.5v27c0 1.378 1.122 2.5 2.5 2.5h23c1.378 0 2.5-1.122 2.5-2.5v-19.5c0-0.448-0.137-1.23-1.319-2.841zM24.543 5.457c0.959 0.959 1.712 1.825 2.268 2.543h-4.811v-4.811c0.718 0.556 1.584 1.309 2.543 2.268zM28 29.5c0 0.271-0.229 0.5-0.5 0.5h-23c-0.271 0-0.5-0.229-0.5-0.5v-27c0-0.271 0.229-0.5 0.5-0.5 0 0 15.499-0 15.5 0v7c0 0.552 0.448 1 1 1h7v19.5z\"></path>\n",
       "<path d=\"M23 26h-14c-0.552 0-1-0.448-1-1s0.448-1 1-1h14c0.552 0 1 0.448 1 1s-0.448 1-1 1z\"></path>\n",
       "<path d=\"M23 22h-14c-0.552 0-1-0.448-1-1s0.448-1 1-1h14c0.552 0 1 0.448 1 1s-0.448 1-1 1z\"></path>\n",
       "<path d=\"M23 18h-14c-0.552 0-1-0.448-1-1s0.448-1 1-1h14c0.552 0 1 0.448 1 1s-0.448 1-1 1z\"></path>\n",
       "</symbol>\n",
       "</defs>\n",
       "</svg>\n",
       "<style>/* CSS stylesheet for displaying xarray objects in jupyterlab.\n",
       " *\n",
       " */\n",
       "\n",
       ":root {\n",
       "  --xr-font-color0: var(--jp-content-font-color0, rgba(0, 0, 0, 1));\n",
       "  --xr-font-color2: var(--jp-content-font-color2, rgba(0, 0, 0, 0.54));\n",
       "  --xr-font-color3: var(--jp-content-font-color3, rgba(0, 0, 0, 0.38));\n",
       "  --xr-border-color: var(--jp-border-color2, #e0e0e0);\n",
       "  --xr-disabled-color: var(--jp-layout-color3, #bdbdbd);\n",
       "  --xr-background-color: var(--jp-layout-color0, white);\n",
       "  --xr-background-color-row-even: var(--jp-layout-color1, white);\n",
       "  --xr-background-color-row-odd: var(--jp-layout-color2, #eeeeee);\n",
       "}\n",
       "\n",
       ".xr-wrap {\n",
       "  min-width: 300px;\n",
       "  max-width: 700px;\n",
       "}\n",
       "\n",
       ".xr-header {\n",
       "  padding-top: 6px;\n",
       "  padding-bottom: 6px;\n",
       "  margin-bottom: 4px;\n",
       "  border-bottom: solid 1px var(--xr-border-color);\n",
       "}\n",
       "\n",
       ".xr-header > div,\n",
       ".xr-header > ul {\n",
       "  display: inline;\n",
       "  margin-top: 0;\n",
       "  margin-bottom: 0;\n",
       "}\n",
       "\n",
       ".xr-obj-type,\n",
       ".xr-array-name {\n",
       "  margin-left: 2px;\n",
       "  margin-right: 10px;\n",
       "}\n",
       "\n",
       ".xr-obj-type {\n",
       "  color: var(--xr-font-color2);\n",
       "}\n",
       "\n",
       ".xr-sections {\n",
       "  padding-left: 0 !important;\n",
       "  display: grid;\n",
       "  grid-template-columns: 150px auto auto 1fr 20px 20px;\n",
       "}\n",
       "\n",
       ".xr-section-item {\n",
       "  display: contents;\n",
       "}\n",
       "\n",
       ".xr-section-item input {\n",
       "  display: none;\n",
       "}\n",
       "\n",
       ".xr-section-item input + label {\n",
       "  color: var(--xr-disabled-color);\n",
       "}\n",
       "\n",
       ".xr-section-item input:enabled + label {\n",
       "  cursor: pointer;\n",
       "  color: var(--xr-font-color2);\n",
       "}\n",
       "\n",
       ".xr-section-item input:enabled + label:hover {\n",
       "  color: var(--xr-font-color0);\n",
       "}\n",
       "\n",
       ".xr-section-summary {\n",
       "  grid-column: 1;\n",
       "  color: var(--xr-font-color2);\n",
       "  font-weight: 500;\n",
       "}\n",
       "\n",
       ".xr-section-summary > span {\n",
       "  display: inline-block;\n",
       "  padding-left: 0.5em;\n",
       "}\n",
       "\n",
       ".xr-section-summary-in:disabled + label {\n",
       "  color: var(--xr-font-color2);\n",
       "}\n",
       "\n",
       ".xr-section-summary-in + label:before {\n",
       "  display: inline-block;\n",
       "  content: '►';\n",
       "  font-size: 11px;\n",
       "  width: 15px;\n",
       "  text-align: center;\n",
       "}\n",
       "\n",
       ".xr-section-summary-in:disabled + label:before {\n",
       "  color: var(--xr-disabled-color);\n",
       "}\n",
       "\n",
       ".xr-section-summary-in:checked + label:before {\n",
       "  content: '▼';\n",
       "}\n",
       "\n",
       ".xr-section-summary-in:checked + label > span {\n",
       "  display: none;\n",
       "}\n",
       "\n",
       ".xr-section-summary,\n",
       ".xr-section-inline-details {\n",
       "  padding-top: 4px;\n",
       "  padding-bottom: 4px;\n",
       "}\n",
       "\n",
       ".xr-section-inline-details {\n",
       "  grid-column: 2 / -1;\n",
       "}\n",
       "\n",
       ".xr-section-details {\n",
       "  display: none;\n",
       "  grid-column: 1 / -1;\n",
       "  margin-bottom: 5px;\n",
       "}\n",
       "\n",
       ".xr-section-summary-in:checked ~ .xr-section-details {\n",
       "  display: contents;\n",
       "}\n",
       "\n",
       ".xr-array-wrap {\n",
       "  grid-column: 1 / -1;\n",
       "  display: grid;\n",
       "  grid-template-columns: 20px auto;\n",
       "}\n",
       "\n",
       ".xr-array-wrap > label {\n",
       "  grid-column: 1;\n",
       "  vertical-align: top;\n",
       "}\n",
       "\n",
       ".xr-preview {\n",
       "  color: var(--xr-font-color3);\n",
       "}\n",
       "\n",
       ".xr-array-preview,\n",
       ".xr-array-data {\n",
       "  padding: 0 5px !important;\n",
       "  grid-column: 2;\n",
       "}\n",
       "\n",
       ".xr-array-data,\n",
       ".xr-array-in:checked ~ .xr-array-preview {\n",
       "  display: none;\n",
       "}\n",
       "\n",
       ".xr-array-in:checked ~ .xr-array-data,\n",
       ".xr-array-preview {\n",
       "  display: inline-block;\n",
       "}\n",
       "\n",
       ".xr-dim-list {\n",
       "  display: inline-block !important;\n",
       "  list-style: none;\n",
       "  padding: 0 !important;\n",
       "  margin: 0;\n",
       "}\n",
       "\n",
       ".xr-dim-list li {\n",
       "  display: inline-block;\n",
       "  padding: 0;\n",
       "  margin: 0;\n",
       "}\n",
       "\n",
       ".xr-dim-list:before {\n",
       "  content: '(';\n",
       "}\n",
       "\n",
       ".xr-dim-list:after {\n",
       "  content: ')';\n",
       "}\n",
       "\n",
       ".xr-dim-list li:not(:last-child):after {\n",
       "  content: ',';\n",
       "  padding-right: 5px;\n",
       "}\n",
       "\n",
       ".xr-has-index {\n",
       "  font-weight: bold;\n",
       "}\n",
       "\n",
       ".xr-var-list,\n",
       ".xr-var-item {\n",
       "  display: contents;\n",
       "}\n",
       "\n",
       ".xr-var-item > div,\n",
       ".xr-var-item label,\n",
       ".xr-var-item > .xr-var-name span {\n",
       "  background-color: var(--xr-background-color-row-even);\n",
       "  margin-bottom: 0;\n",
       "}\n",
       "\n",
       ".xr-var-item > .xr-var-name:hover span {\n",
       "  padding-right: 5px;\n",
       "}\n",
       "\n",
       ".xr-var-list > li:nth-child(odd) > div,\n",
       ".xr-var-list > li:nth-child(odd) > label,\n",
       ".xr-var-list > li:nth-child(odd) > .xr-var-name span {\n",
       "  background-color: var(--xr-background-color-row-odd);\n",
       "}\n",
       "\n",
       ".xr-var-name {\n",
       "  grid-column: 1;\n",
       "}\n",
       "\n",
       ".xr-var-dims {\n",
       "  grid-column: 2;\n",
       "}\n",
       "\n",
       ".xr-var-dtype {\n",
       "  grid-column: 3;\n",
       "  text-align: right;\n",
       "  color: var(--xr-font-color2);\n",
       "}\n",
       "\n",
       ".xr-var-preview {\n",
       "  grid-column: 4;\n",
       "}\n",
       "\n",
       ".xr-var-name,\n",
       ".xr-var-dims,\n",
       ".xr-var-dtype,\n",
       ".xr-preview,\n",
       ".xr-attrs dt {\n",
       "  white-space: nowrap;\n",
       "  overflow: hidden;\n",
       "  text-overflow: ellipsis;\n",
       "  padding-right: 10px;\n",
       "}\n",
       "\n",
       ".xr-var-name:hover,\n",
       ".xr-var-dims:hover,\n",
       ".xr-var-dtype:hover,\n",
       ".xr-attrs dt:hover {\n",
       "  overflow: visible;\n",
       "  width: auto;\n",
       "  z-index: 1;\n",
       "}\n",
       "\n",
       ".xr-var-attrs,\n",
       ".xr-var-data {\n",
       "  display: none;\n",
       "  background-color: var(--xr-background-color) !important;\n",
       "  padding-bottom: 5px !important;\n",
       "}\n",
       "\n",
       ".xr-var-attrs-in:checked ~ .xr-var-attrs,\n",
       ".xr-var-data-in:checked ~ .xr-var-data {\n",
       "  display: block;\n",
       "}\n",
       "\n",
       ".xr-var-data > table {\n",
       "  float: right;\n",
       "}\n",
       "\n",
       ".xr-var-name span,\n",
       ".xr-var-data,\n",
       ".xr-attrs {\n",
       "  padding-left: 25px !important;\n",
       "}\n",
       "\n",
       ".xr-attrs,\n",
       ".xr-var-attrs,\n",
       ".xr-var-data {\n",
       "  grid-column: 1 / -1;\n",
       "}\n",
       "\n",
       "dl.xr-attrs {\n",
       "  padding: 0;\n",
       "  margin: 0;\n",
       "  display: grid;\n",
       "  grid-template-columns: 125px auto;\n",
       "}\n",
       "\n",
       ".xr-attrs dt, dd {\n",
       "  padding: 0;\n",
       "  margin: 0;\n",
       "  float: left;\n",
       "  padding-right: 10px;\n",
       "  width: auto;\n",
       "}\n",
       "\n",
       ".xr-attrs dt {\n",
       "  font-weight: normal;\n",
       "  grid-column: 1;\n",
       "}\n",
       "\n",
       ".xr-attrs dt:hover span {\n",
       "  display: inline-block;\n",
       "  background: var(--xr-background-color);\n",
       "  padding-right: 10px;\n",
       "}\n",
       "\n",
       ".xr-attrs dd {\n",
       "  grid-column: 2;\n",
       "  white-space: pre-wrap;\n",
       "  word-break: break-all;\n",
       "}\n",
       "\n",
       ".xr-icon-database,\n",
       ".xr-icon-file-text2 {\n",
       "  display: inline-block;\n",
       "  vertical-align: middle;\n",
       "  width: 1em;\n",
       "  height: 1.5em !important;\n",
       "  stroke-width: 0;\n",
       "  stroke: currentColor;\n",
       "  fill: currentColor;\n",
       "}\n",
       "</style><div class='xr-wrap'><div class='xr-header'><div class='xr-obj-type'>xarray.DataArray</div><div class='xr-array-name'>'RTUR1'</div></div><ul class='xr-sections'><li class='xr-section-item'><div class='xr-array-wrap'><input id='section-1ae9ee9a-eb0b-4f46-b8e0-20a3e50a1102' class='xr-array-in' type='checkbox' ><label for='section-1ae9ee9a-eb0b-4f46-b8e0-20a3e50a1102' title='Show/hide data repr'><svg class='icon xr-icon-database'><use xlink:href='#icon-database'></use></svg></label><div class='xr-array-preview xr-preview'><span>0.10475133</span></div><pre class='xr-array-data'>array(0.10475133, dtype=float32)</pre></div></li><li class='xr-section-item'><input id='section-1d17846d-4403-459a-a34a-d59555f20fa9' class='xr-section-summary-in' type='checkbox'  checked><label for='section-1d17846d-4403-459a-a34a-d59555f20fa9' class='xr-section-summary' >Coordinates: <span>(1)</span></label><div class='xr-section-inline-details'></div><div class='xr-section-details'><ul class='xr-var-list'><li class='xr-var-item'><div class='xr-var-name'><span>time</span></div><div class='xr-var-dims'>()</div><div class='xr-var-dtype'>datetime64[ns]</div><div class='xr-var-preview xr-preview'>2020-02-01T01:42:00</div><input id='attrs-ccb775f6-848e-485d-bd63-58e8d9aa2749' class='xr-var-attrs-in' type='checkbox' ><label for='attrs-ccb775f6-848e-485d-bd63-58e8d9aa2749' title='Show/Hide attributes'><svg class='icon xr-icon-file-text2'><use xlink:href='#icon-file-text2'></use></svg></label><input id='data-9e6e0fa6-f7ec-474e-ae22-c140e27acac8' class='xr-var-data-in' type='checkbox'><label for='data-9e6e0fa6-f7ec-474e-ae22-c140e27acac8' title='Show/Hide data repr'><svg class='icon xr-icon-database'><use xlink:href='#icon-database'></use></svg></label><div class='xr-var-attrs'><dl class='xr-attrs'><dt><span>standard_name :</span></dt><dd>time</dd><dt><span>long_name :</span></dt><dd>time</dd></dl></div><pre class='xr-var-data'>array(&#x27;2020-02-01T01:42:00.000000000&#x27;, dtype=&#x27;datetime64[ns]&#x27;)</pre></li></ul></div></li><li class='xr-section-item'><input id='section-45ef96ff-f35a-480c-a3fa-4e6af500680a' class='xr-section-summary-in' type='checkbox' disabled ><label for='section-45ef96ff-f35a-480c-a3fa-4e6af500680a' class='xr-section-summary'  title='Expand/collapse section'>Attributes: <span>(0)</span></label><div class='xr-section-inline-details'></div><div class='xr-section-details'><dl class='xr-attrs'></dl></div></li></ul></div></div>"
      ],
      "text/plain": [
       "<xarray.DataArray 'RTUR1' ()>\n",
       "array(0.10475133, dtype=float32)\n",
       "Coordinates:\n",
       "    time     datetime64[ns] 2020-02-01T01:42:00"
      ]
     },
     "execution_count": 257,
     "metadata": {},
     "output_type": "execute_result"
    }
   ],
   "source": [
    "turbu_energy_at_time.max()"
   ]
  },
  {
   "cell_type": "code",
   "execution_count": 265,
   "metadata": {},
   "outputs": [
    {
     "data": {
      "application/vnd.jupyter.widget-view+json": {
       "model_id": "5d92cf5dc6d24c70ba1d3f76f0c6362c",
       "version_major": 2,
       "version_minor": 0
      },
      "text/plain": [
       "Canvas(toolbar=Toolbar(toolitems=[('Home', 'Reset original view', 'home', 'home'), ('Back', 'Back to previous …"
      ]
     },
     "metadata": {},
     "output_type": "display_data"
    },
    {
     "data": {
      "text/plain": [
       "Text(0, 0.5, 'Depth [m]')"
      ]
     },
     "execution_count": 265,
     "metadata": {},
     "output_type": "execute_result"
    }
   ],
   "source": [
    "fig_vert, ax_vert2 = plt.subplots(nrows=1, figsize=(9,4))\n",
    "\n",
    "ax_vert2.set_title(f'Turbulent energy {scenario} {timestring}')\n",
    "ax_vert2.set_ylim(-700, -300)\n",
    "ax_vert2.set_xlim(0, 15000)\n",
    "\n",
    "\n",
    "# or z_section.YZ both work\n",
    "mesh = ax_vert2.pcolormesh(mesh_N, z_section_intf, turbu_energy_at_time.T, cmap='magma_r', vmin=0, vmax=0.05,)\n",
    "ax_vert2.plot(n_section, z_section_intf[:,:], c='dimgray', linewidth=0.08, alpha=0.5)\n",
    "\n",
    "cbar = fig_vert.colorbar(mesh, ax=ax_vert2)\n",
    "cbar.ax.get_yaxis().labelpad = 15\n",
    "cbar.ax.set_ylabel('Turbulent energy [%]',rotation=90)\n",
    "ax_vert2.set_xlabel('Length $n$ [m]')\n",
    "ax_vert2.set_ylabel('Depth [m]')"
   ]
  },
  {
   "cell_type": "markdown",
   "metadata": {},
   "source": [
    "## Sand concentration"
   ]
  },
  {
   "cell_type": "code",
   "execution_count": 231,
   "metadata": {},
   "outputs": [
    {
     "data": {
      "application/vnd.jupyter.widget-view+json": {
       "model_id": "aa4710a04761432fa716488c50a0bb75",
       "version_major": 2,
       "version_minor": 0
      },
      "text/plain": [
       "Canvas(toolbar=Toolbar(toolitems=[('Home', 'Reset original view', 'home', 'home'), ('Back', 'Back to previous …"
      ]
     },
     "metadata": {},
     "output_type": "display_data"
    },
    {
     "data": {
      "text/plain": [
       "Text(0, 0.5, 'Depth [m]')"
      ]
     },
     "execution_count": 231,
     "metadata": {},
     "output_type": "execute_result"
    }
   ],
   "source": [
    "fig_vert, ax_vert2 = plt.subplots(nrows=1, figsize=(9,4))\n",
    "\n",
    "ax_vert2.set_title(f'Sand concentration {scenario} {timestring}')\n",
    "ax_vert2.set_ylim(-700, -200)\n",
    "\n",
    "# or z_section.YZ both work\n",
    "mesh = ax_vert2.pcolormesh(mesh_N, z_section_intf, concentration_sand.T, vmin=0, vmax=7, cmap='magma_r')\n",
    "ax_vert2.plot(n_section, z_section_intf[:,:], c='dimgray', linewidth=0.08, alpha=0.5)\n",
    "\n",
    "cbar = fig_vert.colorbar(mesh, ax=ax_vert2)\n",
    "cbar.ax.get_yaxis().labelpad = 15\n",
    "cbar.ax.set_ylabel('Sand concentration [%]',rotation=90)\n",
    "ax_vert2.set_xlabel('Length $n$ [m]')\n",
    "ax_vert2.set_ylabel('Depth [m]')"
   ]
  },
  {
   "cell_type": "markdown",
   "metadata": {},
   "source": [
    "# Report BC plot"
   ]
  },
  {
   "cell_type": "code",
   "execution_count": 232,
   "metadata": {},
   "outputs": [],
   "source": [
    "# # jessy_hopman_uglyman = [(400, 500), (400 , -200)]\n",
    "\n",
    "# fig_vert, ax_vert1 = plt.subplots(nrows=1, figsize=(9,6))\n",
    "\n",
    "# ax_vert1.set_title('Vertical Section Density')\n",
    "# ax_vert1.set_xlim(250, 2000)\n",
    "# ax_vert1.set_ylim(-400, -200)\n",
    "\n",
    "# # or z_section.YZ both work\n",
    "# mesh = ax_vert1.pcolormesh(mesh_N, z_section_intf, density_m_at_time.T,\n",
    "#                           vmin=1027, vmax=1035) #, edgecolors='w', linewidths=0.1)\n",
    "# # ax_vert1.plot(n_section, z_section_center, c='lightsteelblue', linewidth=0.10, alpha=0.5) #, marker='+', markersize=0.1)\n",
    "# ax_vert1.plot(n_section, z_section_intf[:,:], c='bisque', linewidth=0.1, alpha=1, marker='+', markersize=0.05)\n",
    "# # interfaces, = ax.plot(n_section, legend_hack_intf, c='k', linewidth=0.8, marker='+', markersize=0.)\n",
    "\n",
    "# ax_vert1.plot(n_section, z_section_intf[:,-53], c='white', marker='o', markersize=1.5,)\n",
    "\n",
    "\n",
    "# ax_vert1.plot(n_section, z_section_intf[:,-53:None], c='white', linewidth=0.06,)\n",
    "# sigma_text = ax_vert1.text(1000, -277, \"$\\sigma$-interface = 27\", color=\"white\", fontsize=13, rotation=-7.5)\n",
    "# sigma_text.set_path_effects([PathEffects.withStroke(linewidth=1.2, foreground='black')])\n",
    "\n",
    "\n",
    "# ax_vert1.plot(n_section, z_section_intf[:,-2:None], c='black', linewidth=0.6,)\n",
    "# sigma_text2 = ax_vert1.text(1000, -340, \"$\\sigma$-interface = 80\", color=\"black\", fontsize=13, rotation=-7.5)\n",
    "# sigma_text2.set_path_effects([PathEffects.withStroke(linewidth=0.2, foreground='white')])\n",
    "\n",
    "\n",
    "# ax_vert1.plot([255, 255], [-260, -305], c='coral', marker='o', linewidth=3,)\n",
    "\n",
    "# dischage_text = ax_vert1.text(300, -300, \"Discharge: 4500 m3/s\", color=\"white\", fontsize=11)\n",
    "# discharge_text.set_path_effects([PathEffects.withStroke(linewidth=1, foreground='hotpink')])\n",
    "\n",
    "# # ax_vert1.legend(interfaces, '$\\sigma$ Interfaces', fontsize=\"x-large\", loc=\"lower left\", markerscale=50)\n",
    "\n",
    "# cbar = fig_vert.colorbar(mesh, ax=ax_vert1)\n",
    "# cbar.ax.get_yaxis().labelpad = 15\n",
    "# cbar.ax.set_ylabel('Density [$kg/m^3$]', rotation=90, fontsize=13)\n",
    "# ax_vert1.set_xlabel('Length $n$ [m]', fontsize=14)\n",
    "# ax_vert1.set_ylabel('Depth [m]', fontsize=14)"
   ]
  },
  {
   "cell_type": "code",
   "execution_count": 233,
   "metadata": {},
   "outputs": [],
   "source": [
    "# plt.close(\"all\")"
   ]
  }
 ],
 "metadata": {
  "kernelspec": {
   "display_name": "Python 3",
   "language": "python",
   "name": "python3"
  },
  "language_info": {
   "codemirror_mode": {
    "name": "ipython",
    "version": 3
   },
   "file_extension": ".py",
   "mimetype": "text/x-python",
   "name": "python",
   "nbconvert_exporter": "python",
   "pygments_lexer": "ipython3",
   "version": "3.7.7"
  }
 },
 "nbformat": 4,
 "nbformat_minor": 4
}
