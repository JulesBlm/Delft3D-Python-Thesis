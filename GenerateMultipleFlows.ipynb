{
 "cells": [
  {
   "cell_type": "code",
   "execution_count": 2,
   "metadata": {},
   "outputs": [],
   "source": [
    "from JulesD3D.multipleruns import makeMultipleRuns\n",
    "from os import path"
   ]
  },
  {
   "cell_type": "code",
   "execution_count": 2,
   "metadata": {},
   "outputs": [],
   "source": [
    "# for dev purposes\n",
    "%load_ext autoreload\n",
    "%reload_ext autoreload"
   ]
  },
  {
   "cell_type": "markdown",
   "metadata": {},
   "source": [
    "# Multiple Models + Multiple Runs\n",
    "* Assumes the models with different slopes are already in place in folder with a first (template) run "
   ]
  },
  {
   "cell_type": "code",
   "execution_count": 3,
   "metadata": {},
   "outputs": [],
   "source": [
    "# base_folder = '/Users/julesblom/Dropbox/TU/Master/Thesis/Runs/5050_single_slope'\n",
    "\n",
    "# model_names = ['/Slope0.50', '/Slope0.75', '/Slope1.00', '/Slope1.25', '/Slope1.50']\n",
    "# first_run = '/Run01'\n",
    "\n",
    "# models_folder_paths = [base_folder + model_name + first_run for model_name in model_names]\n",
    "\n",
    "# number_of_runs = 50"
   ]
  },
  {
   "cell_type": "code",
   "execution_count": 4,
   "metadata": {},
   "outputs": [],
   "source": [
    "# for model in models_folder_paths:\n",
    "#     print(\"---------------------- \", model[:-5] ,\"-------------------------- \")\n",
    "#     read_folder = path.join(base_folder, model)\n",
    "# #     print(\"read folder is\", read_folder)\n",
    "#     makeMultipleRuns(template_folder=read_folder, number_of_runs=number_of_runs)"
   ]
  },
  {
   "cell_type": "code",
   "execution_count": null,
   "metadata": {},
   "outputs": [],
   "source": []
  },
  {
   "cell_type": "markdown",
   "metadata": {},
   "source": [
    "<hr/>"
   ]
  },
  {
   "cell_type": "markdown",
   "metadata": {},
   "source": [
    "# Single model Multiple Runs\n",
    "Has to be the filepath to the **first run** of the model"
   ]
  },
  {
   "cell_type": "code",
   "execution_count": 3,
   "metadata": {},
   "outputs": [],
   "source": [
    "# has to start in Run01\n",
    "my_folder = '/Users/julesblom/Dropbox/TU/Master/Thesis/Runs/Current/TransportLayer50cm_multi_test/Run01'"
   ]
  },
  {
   "cell_type": "code",
   "execution_count": 4,
   "metadata": {},
   "outputs": [
    {
     "name": "stdout",
     "output_type": "stream",
     "text": [
      "mdf_filename 36km_200m_W60Channel.mdf\n",
      "No restart Id string provided. Got it from mdf filename:  trim-36km_200m_W60Channel\n",
      "Total number of output timesteps is 11\n",
      "**--------- RUN1-----------**\n",
      "**--------- RUN2-----------**\n",
      "New folder: /Users/julesblom/Dropbox/TU/Master/Thesis/Runs/Current/TransportLayer50cm_multi_test/Run02\n",
      "Creation of the directory '/Users/julesblom/Dropbox/TU/Master/Thesis/Runs/Current/TransportLayer50cm_multi_test/Run02' failed, because it already exists! Carrying on\n",
      "Removing morphology smoothing time\n",
      "\tChanging times in 5050_15.bcc\n",
      "\tChanging times in discharge4500.bct\n",
      "**--------- RUN3-----------**\n",
      "New folder: /Users/julesblom/Dropbox/TU/Master/Thesis/Runs/Current/TransportLayer50cm_multi_test/Run03\n",
      "Creation of the directory '/Users/julesblom/Dropbox/TU/Master/Thesis/Runs/Current/TransportLayer50cm_multi_test/Run03' failed, because it already exists! Carrying on\n",
      "Removing morphology smoothing time\n",
      "\tChanging times in 5050_15.bcc\n",
      "\tChanging times in discharge4500.bct\n",
      "**--------- RUN4-----------**\n",
      "New folder: /Users/julesblom/Dropbox/TU/Master/Thesis/Runs/Current/TransportLayer50cm_multi_test/Run04\n",
      "Creation of the directory '/Users/julesblom/Dropbox/TU/Master/Thesis/Runs/Current/TransportLayer50cm_multi_test/Run04' failed, because it already exists! Carrying on\n",
      "Removing morphology smoothing time\n",
      "\tChanging times in 5050_15.bcc\n",
      "\tChanging times in discharge4500.bct\n",
      "**--------- RUN5-----------**\n",
      "New folder: /Users/julesblom/Dropbox/TU/Master/Thesis/Runs/Current/TransportLayer50cm_multi_test/Run05\n",
      "Creation of the directory '/Users/julesblom/Dropbox/TU/Master/Thesis/Runs/Current/TransportLayer50cm_multi_test/Run05' failed, because it already exists! Carrying on\n",
      "Removing morphology smoothing time\n",
      "\tChanging times in 5050_15.bcc\n",
      "\tChanging times in discharge4500.bct\n",
      "**--------- RUN6-----------**\n",
      "New folder: /Users/julesblom/Dropbox/TU/Master/Thesis/Runs/Current/TransportLayer50cm_multi_test/Run06\n",
      "Creation of the directory '/Users/julesblom/Dropbox/TU/Master/Thesis/Runs/Current/TransportLayer50cm_multi_test/Run06' failed, because it already exists! Carrying on\n",
      "Removing morphology smoothing time\n",
      "\tChanging times in 5050_15.bcc\n",
      "\tChanging times in discharge4500.bct\n",
      "**--------- RUN7-----------**\n",
      "New folder: /Users/julesblom/Dropbox/TU/Master/Thesis/Runs/Current/TransportLayer50cm_multi_test/Run07\n",
      "Creation of the directory '/Users/julesblom/Dropbox/TU/Master/Thesis/Runs/Current/TransportLayer50cm_multi_test/Run07' failed, because it already exists! Carrying on\n",
      "Removing morphology smoothing time\n",
      "\tChanging times in 5050_15.bcc\n",
      "\tChanging times in discharge4500.bct\n",
      "**--------- RUN8-----------**\n",
      "New folder: /Users/julesblom/Dropbox/TU/Master/Thesis/Runs/Current/TransportLayer50cm_multi_test/Run08\n",
      "Creation of the directory '/Users/julesblom/Dropbox/TU/Master/Thesis/Runs/Current/TransportLayer50cm_multi_test/Run08' failed, because it already exists! Carrying on\n",
      "Removing morphology smoothing time\n",
      "\tChanging times in 5050_15.bcc\n",
      "\tChanging times in discharge4500.bct\n",
      "**--------- RUN9-----------**\n",
      "New folder: /Users/julesblom/Dropbox/TU/Master/Thesis/Runs/Current/TransportLayer50cm_multi_test/Run09\n",
      "Creation of the directory '/Users/julesblom/Dropbox/TU/Master/Thesis/Runs/Current/TransportLayer50cm_multi_test/Run09' failed, because it already exists! Carrying on\n",
      "Removing morphology smoothing time\n",
      "\tChanging times in 5050_15.bcc\n",
      "\tChanging times in discharge4500.bct\n",
      "**--------- RUN10-----------**\n",
      "New folder: /Users/julesblom/Dropbox/TU/Master/Thesis/Runs/Current/TransportLayer50cm_multi_test/Run10\n",
      "Creation of the directory '/Users/julesblom/Dropbox/TU/Master/Thesis/Runs/Current/TransportLayer50cm_multi_test/Run10' failed, because it already exists! Carrying on\n",
      "Removing morphology smoothing time\n",
      "\tChanging times in 5050_15.bcc\n",
      "\tChanging times in discharge4500.bct\n",
      "**--------- RUN11-----------**\n",
      "New folder: /Users/julesblom/Dropbox/TU/Master/Thesis/Runs/Current/TransportLayer50cm_multi_test/Run11\n",
      "Removing morphology smoothing time\n",
      "\tChanging times in 5050_15.bcc\n",
      "\tChanging times in discharge4500.bct\n",
      "**--------- RUN12-----------**\n",
      "New folder: /Users/julesblom/Dropbox/TU/Master/Thesis/Runs/Current/TransportLayer50cm_multi_test/Run12\n",
      "Removing morphology smoothing time\n",
      "\tChanging times in 5050_15.bcc\n",
      "\tChanging times in discharge4500.bct\n",
      "**--------- RUN13-----------**\n",
      "New folder: /Users/julesblom/Dropbox/TU/Master/Thesis/Runs/Current/TransportLayer50cm_multi_test/Run13\n",
      "Removing morphology smoothing time\n",
      "\tChanging times in 5050_15.bcc\n",
      "\tChanging times in discharge4500.bct\n",
      "**--------- RUN14-----------**\n",
      "New folder: /Users/julesblom/Dropbox/TU/Master/Thesis/Runs/Current/TransportLayer50cm_multi_test/Run14\n",
      "Removing morphology smoothing time\n",
      "\tChanging times in 5050_15.bcc\n",
      "\tChanging times in discharge4500.bct\n",
      "**--------- RUN15-----------**\n",
      "New folder: /Users/julesblom/Dropbox/TU/Master/Thesis/Runs/Current/TransportLayer50cm_multi_test/Run15\n",
      "Removing morphology smoothing time\n",
      "\tChanging times in 5050_15.bcc\n",
      "\tChanging times in discharge4500.bct\n",
      "**--------- RUN16-----------**\n",
      "New folder: /Users/julesblom/Dropbox/TU/Master/Thesis/Runs/Current/TransportLayer50cm_multi_test/Run16\n",
      "Removing morphology smoothing time\n",
      "\tChanging times in 5050_15.bcc\n",
      "\tChanging times in discharge4500.bct\n",
      "**--------- RUN17-----------**\n",
      "New folder: /Users/julesblom/Dropbox/TU/Master/Thesis/Runs/Current/TransportLayer50cm_multi_test/Run17\n",
      "Removing morphology smoothing time\n",
      "\tChanging times in 5050_15.bcc\n",
      "\tChanging times in discharge4500.bct\n",
      "**--------- RUN18-----------**\n",
      "New folder: /Users/julesblom/Dropbox/TU/Master/Thesis/Runs/Current/TransportLayer50cm_multi_test/Run18\n",
      "Removing morphology smoothing time\n",
      "\tChanging times in 5050_15.bcc\n",
      "\tChanging times in discharge4500.bct\n",
      "**--------- RUN19-----------**\n",
      "New folder: /Users/julesblom/Dropbox/TU/Master/Thesis/Runs/Current/TransportLayer50cm_multi_test/Run19\n",
      "Removing morphology smoothing time\n",
      "\tChanging times in 5050_15.bcc\n",
      "\tChanging times in discharge4500.bct\n",
      "**--------- RUN20-----------**\n",
      "New folder: /Users/julesblom/Dropbox/TU/Master/Thesis/Runs/Current/TransportLayer50cm_multi_test/Run20\n",
      "Removing morphology smoothing time\n",
      "\tChanging times in 5050_15.bcc\n",
      "\tChanging times in discharge4500.bct\n",
      "**--------- RUN21-----------**\n",
      "New folder: /Users/julesblom/Dropbox/TU/Master/Thesis/Runs/Current/TransportLayer50cm_multi_test/Run21\n",
      "Removing morphology smoothing time\n",
      "\tChanging times in 5050_15.bcc\n",
      "\tChanging times in discharge4500.bct\n",
      "**--------- RUN22-----------**\n",
      "New folder: /Users/julesblom/Dropbox/TU/Master/Thesis/Runs/Current/TransportLayer50cm_multi_test/Run22\n",
      "Removing morphology smoothing time\n",
      "\tChanging times in 5050_15.bcc\n",
      "\tChanging times in discharge4500.bct\n",
      "**--------- RUN23-----------**\n",
      "New folder: /Users/julesblom/Dropbox/TU/Master/Thesis/Runs/Current/TransportLayer50cm_multi_test/Run23\n",
      "Removing morphology smoothing time\n",
      "\tChanging times in 5050_15.bcc\n",
      "\tChanging times in discharge4500.bct\n",
      "**--------- RUN24-----------**\n",
      "New folder: /Users/julesblom/Dropbox/TU/Master/Thesis/Runs/Current/TransportLayer50cm_multi_test/Run24\n",
      "Removing morphology smoothing time\n",
      "\tChanging times in 5050_15.bcc\n",
      "\tChanging times in discharge4500.bct\n",
      "**--------- RUN25-----------**\n",
      "New folder: /Users/julesblom/Dropbox/TU/Master/Thesis/Runs/Current/TransportLayer50cm_multi_test/Run25\n",
      "Removing morphology smoothing time\n",
      "\tChanging times in 5050_15.bcc\n",
      "\tChanging times in discharge4500.bct\n",
      "**--------- RUN26-----------**\n",
      "New folder: /Users/julesblom/Dropbox/TU/Master/Thesis/Runs/Current/TransportLayer50cm_multi_test/Run26\n",
      "Removing morphology smoothing time\n",
      "\tChanging times in 5050_15.bcc\n",
      "\tChanging times in discharge4500.bct\n",
      "**--------- RUN27-----------**\n",
      "New folder: /Users/julesblom/Dropbox/TU/Master/Thesis/Runs/Current/TransportLayer50cm_multi_test/Run27\n",
      "Removing morphology smoothing time\n",
      "\tChanging times in 5050_15.bcc\n",
      "\tChanging times in discharge4500.bct\n",
      "**--------- RUN28-----------**\n",
      "New folder: /Users/julesblom/Dropbox/TU/Master/Thesis/Runs/Current/TransportLayer50cm_multi_test/Run28\n",
      "Removing morphology smoothing time\n",
      "\tChanging times in 5050_15.bcc\n",
      "\tChanging times in discharge4500.bct\n",
      "**--------- RUN29-----------**\n",
      "New folder: /Users/julesblom/Dropbox/TU/Master/Thesis/Runs/Current/TransportLayer50cm_multi_test/Run29\n",
      "Removing morphology smoothing time\n",
      "\tChanging times in 5050_15.bcc\n",
      "\tChanging times in discharge4500.bct\n",
      "**--------- RUN30-----------**\n",
      "New folder: /Users/julesblom/Dropbox/TU/Master/Thesis/Runs/Current/TransportLayer50cm_multi_test/Run30\n",
      "Removing morphology smoothing time\n",
      "\tChanging times in 5050_15.bcc\n",
      "\tChanging times in discharge4500.bct\n",
      "Start time: 29580.0 \n",
      "End time:   30600.0\n"
     ]
    }
   ],
   "source": [
    "makeMultipleRuns(template_folder=my_folder, number_of_runs=30, init_MorStt=\"4.5000000e+001\")"
   ]
  },
  {
   "cell_type": "code",
   "execution_count": null,
   "metadata": {},
   "outputs": [],
   "source": []
  }
 ],
 "metadata": {
  "kernelspec": {
   "display_name": "Python 3",
   "language": "python",
   "name": "python3"
  },
  "language_info": {
   "codemirror_mode": {
    "name": "ipython",
    "version": 3
   },
   "file_extension": ".py",
   "mimetype": "text/x-python",
   "name": "python",
   "nbconvert_exporter": "python",
   "pygments_lexer": "ipython3",
   "version": "3.7.6"
  }
 },
 "nbformat": 4,
 "nbformat_minor": 4
}
