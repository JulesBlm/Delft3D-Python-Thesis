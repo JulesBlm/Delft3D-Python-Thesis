{
 "cells": [
  {
   "cell_type": "markdown",
   "metadata": {},
   "source": [
    "## Condensed into functions\n",
    "* Feed in input when initializing class and then calculate all the basic stuff that many functions need fe nr_zero_discharge_layers\n",
    "\n",
    "## Todo\n",
    "* Move to JulesD3D\n",
    "* Should be able to handle multiple discharge start times\n",
    "* Should make use of generic write bc functions bcc.py\n",
    "* Should be able to declare volume percentages of sediments and then use function to translate this into a kg/m3\n",
    "* Should be able to handle more than two sediments\n",
    "* Read grid depth at bc, declare flow height then calculate nr of gridlayers needed to reach that height"
   ]
  },
  {
   "cell_type": "code",
   "execution_count": 1,
   "metadata": {},
   "outputs": [],
   "source": [
    "import os\n",
    "import numpy as np\n",
    "from JulesD3D.utils import formatSci\n",
    "from JulesD3D.mdf import read\n",
    "from IPython.display import Markdown as md\n",
    "import pandas as pd\n",
    "from decimal import Decimal"
   ]
  },
  {
   "cell_type": "markdown",
   "metadata": {},
   "source": [
    "# User defined input"
   ]
  },
  {
   "cell_type": "code",
   "execution_count": 2,
   "metadata": {},
   "outputs": [],
   "source": [
    "nr_discharge_layers = 53\n",
    "init_depth = 300   # [m] at bc location # ureg.meter \n",
    "density_sed = 2650 # [kg/m3]\n",
    "\n",
    "cell_width = 200   # at bc location # ureg.meter [m] \n",
    "cell_length = 200  # at bc location # ureg.meter [m]\n",
    "\n",
    "density_sed = 2650 # [kg/m3] # should be read from sed file ideally\n",
    "discharge_total = 4500 # [m3/s]\n",
    "\n",
    "sand_mass_conc = 19.75\n",
    "silt_mass_conc = 19.75 \n",
    "\n",
    "sediments = [{'name': 'sand', \"mass_conc\": sand_mass_conc}, {'name': 'silt', \"mass_conc\": silt_mass_conc}]\n",
    "\n",
    "start_discharge_time = 9 # [min]\n",
    "discharge_duration = 39 # [min]"
   ]
  },
  {
   "cell_type": "markdown",
   "metadata": {},
   "source": [
    "## Read some things from mdf file"
   ]
  },
  {
   "cell_type": "code",
   "execution_count": 3,
   "metadata": {},
   "outputs": [],
   "source": [
    "mdf_filename = '/Users/julesblom/Dropbox/TU/Master/Thesis/Runs/Current/ResetEvery5_Slope0.85/Run01/36km_200m_W60Channel.mdf'\n",
    "mdf_dict, _ = read(mdf_filename)"
   ]
  },
  {
   "cell_type": "code",
   "execution_count": 4,
   "metadata": {},
   "outputs": [],
   "source": [
    "sigma_layer_percentages = mdf_dict['Thick']\n",
    "nr_sigma_layers = int(mdf_dict['MNKmax'][2])\n",
    "timestep = mdf_dict['Dt'][0] # [min]\n",
    "end_time = mdf_dict['Tstop'][0] # [min]"
   ]
  },
  {
   "cell_type": "markdown",
   "metadata": {},
   "source": [
    "## Calculate some more basics"
   ]
  },
  {
   "cell_type": "code",
   "execution_count": 5,
   "metadata": {},
   "outputs": [],
   "source": [
    "nr_of_timesteps = int(end_time / timestep)\n",
    "nr_zero_discharge_layers = int(nr_sigma_layers - nr_discharge_layers)\n",
    "end_discharge_time = start_discharge_time + discharge_duration # [min]"
   ]
  },
  {
   "cell_type": "code",
   "execution_count": 6,
   "metadata": {},
   "outputs": [],
   "source": [
    "input_dict = dict(timestep = timestep, nr_sigma_layers=nr_sigma_layers, start_discharge_time=start_discharge_time,\n",
    "                  discharge_duration=discharge_duration, nr_discharge_layers=nr_discharge_layers)"
   ]
  },
  {
   "cell_type": "markdown",
   "metadata": {},
   "source": [
    "# All these functions"
   ]
  },
  {
   "cell_type": "code",
   "execution_count": 7,
   "metadata": {},
   "outputs": [],
   "source": [
    "def allZeroesRecords(nr_sigma_layers=80):\n",
    "    all_zeros_line = '  '.join('0.0000000e+000' for i in range(nr_sigma_layers))\n",
    "    line_all_zero = f\"{all_zeros_line}  {all_zeros_line}\" # left + right\n",
    "    \n",
    "    return line_all_zero"
   ]
  },
  {
   "cell_type": "code",
   "execution_count": 8,
   "metadata": {},
   "outputs": [],
   "source": [
    "def makeBcTimes(timestep=0.3, start_discharge_time=15, discharge_duration=45):\n",
    "    # Discharge is linearly interpolated between timesteps\n",
    "    # Therefore, we need to add one timestep before the start and one timestep after in which discharges are zero\n",
    "    end_discharge_time = start_discharge_time + discharge_duration # [min]\n",
    "    pre_start_discharge_time = start_discharge_time - timestep  # [min]\n",
    "    post_end_discharge_time = end_discharge_time + timestep  # [min]    \n",
    "\n",
    "    times = [formatSci(0), \n",
    "             formatSci(pre_start_discharge_time), \n",
    "             formatSci(start_discharge_time),\n",
    "             formatSci(end_discharge_time), \n",
    "             formatSci(post_end_discharge_time), \n",
    "             formatSci(end_time)\n",
    "            ]\n",
    "    \n",
    "    return times"
   ]
  },
  {
   "cell_type": "code",
   "execution_count": 18,
   "metadata": {},
   "outputs": [],
   "source": [
    "def calcDischargePerCell(discharge_total=4500, sigma_layer_percentages=[], nr_zero_discharge_layers=0):\n",
    "    discharge_layer_sigma_percentages = sigma_layer_percentages[nr_zero_discharge_layers:] # select only the discharge parts\n",
    "    discharge_layers_sigma_percentage_sum = np.array(discharge_layer_sigma_percentages).sum() # sum it\n",
    "\n",
    "    print(f\"Now divide {discharge_total} $m^3/s$ discharge among the bottom {discharge_layers_sigma_percentage_sum}% height of sigma layers\")\n",
    "    discharge_records_list = discharge_layer_sigma_percentages/discharge_layers_sigma_percentage_sum * discharge_total\n",
    "    \n",
    "    return discharge_records_list"
   ]
  },
  {
   "cell_type": "code",
   "execution_count": 19,
   "metadata": {},
   "outputs": [],
   "source": [
    "def makeDischargeRecords(discharge_bc_list=None, nr_sigma_layers=80, nr_discharge_layers = 53):\n",
    "    '''\n",
    "    Pass a list of float values for discharge layer \n",
    "    Returns a formatted string of records\n",
    "    '''\n",
    "    if not len(discharge_bc_list):\n",
    "        raise Exception(\"discharge_records should be be a list\")\n",
    "    \n",
    "    nr_zero_discharge_layers = nr_sigma_layers - nr_discharge_layers  # move this to class self props\n",
    "\n",
    "    discharge_records = '  '.join(formatSci(discharge) for discharge in discharge_bc_list)\n",
    "    \n",
    "    print(f\"The first {nr_zero_discharge_layers} 'cells' are all zeroes, then the next {nr_discharge_layers} layers contain the discharge values\")\n",
    "    \n",
    "    zero_records_discharge_layer = '  '.join('0.0000000e+000' for i in range(nr_zero_discharge_layers))\n",
    "    # first the cells where discharge is zero, then the cells that have values for discharge \n",
    "    discharge_line = f\"{zero_records_discharge_layer}  {discharge_records}\"\n",
    "\n",
    "    # Each line has two discharge 'points' so repeat it twice\n",
    "    complete_line_records = f'{discharge_line}  {discharge_line}' # A + B\n",
    "\n",
    "    return complete_line_records"
   ]
  },
  {
   "cell_type": "code",
   "execution_count": 20,
   "metadata": {},
   "outputs": [],
   "source": [
    "line_all_zero = allZeroesRecords(nr_sigma_layers)"
   ]
  },
  {
   "cell_type": "code",
   "execution_count": 21,
   "metadata": {},
   "outputs": [],
   "source": [
    "# times = makeBcTimes(timestep, start_discharge_time, discharge_duration)"
   ]
  },
  {
   "cell_type": "code",
   "execution_count": 22,
   "metadata": {},
   "outputs": [],
   "source": [
    "def generateVerticalBC(filename='untitled', timestep = 0.3, nr_sigma_layers=80, start_discharge_time=0,\n",
    "                       discharge_duration=0, nr_discharge_layers=53):\n",
    "    if discharge_duration == 0:\n",
    "        raise Exception(\"discharge_duration cannot be 0\")\n",
    "    \n",
    "    if not Decimal(discharge_duration) % Decimal(timestep) < 10e-9:\n",
    "        raise Exception(\"Discharge duration is not a multiple of timestep\")\n",
    "\n",
    "    times = makeBcTimes(timestep, start_discharge_time, discharge_duration)    \n",
    "    line_all_zero = allZeroesRecords(nr_sigma_layers)\n",
    "        \n",
    "    # --- Write Concentration file (.bcc) ---\n",
    "    # time + A + B\n",
    "    bcc_filename = filename + \".bccrecords\"\n",
    "    with open(bcc_filename, 'w') as f:\n",
    "        # why not use a f multiline string here f'''{ line below} '''\n",
    "        # what if more than 6 records? this approach is inflexible\n",
    "        # for each discharge write these six lines\n",
    "            # for time in times:\n",
    "            \n",
    "        for sed in sediments:\n",
    "            f.write(sed['name'] + '\\n')\n",
    "            conc_discharge_list = [sed['mass_conc'] for i in range(nr_discharge_layers)]\n",
    "\n",
    "            line_with_conc_records = makeDischargeRecords(conc_discharge_list)\n",
    "\n",
    "            for i, time in enumerate(times):\n",
    "                if i == 2 or i == 3:\n",
    "                    write_line =  f\" {time}  {line_with_conc_records}\\n\"\n",
    "                    f.write(write_line)\n",
    "                else:\n",
    "                    write_line = f\" {time}  {line_all_zero}\\n\"\n",
    "                    f.write(write_line)                    \n",
    "            \n",
    "        # one discharge always follows this sequence of 6 time values with discharge records at the 3rd and 4th place\n",
    "#         linesToWrite = [\n",
    "#             \"sand\\n\",\n",
    "#             f\" {times[0]}  {line_all_zero}\\n\",\n",
    "#             f\" {times[1]}  {line_all_zero}\\n\",\n",
    "#             f\" {times[2]}  {line_with_sand_conc_records}\\n\",\n",
    "#             f\" {times[3]}  {line_with_sand_conc_records}\\n\",\n",
    "#             f\" {times[4]}  {line_all_zero}\\n\",\n",
    "#             f\" {times[5]}  {line_all_zero}\\n\",\n",
    "#             \"\\n\",\n",
    "#             \"silt\\n\"\n",
    "#             f\" {times[0]}  {line_all_zero}\\n\",\n",
    "#             f\" {times[1]}  {line_all_zero}\\n\",\n",
    "#             f\" {times[2]}  {line_with_silt_conc_records}\\n\",\n",
    "#             f\" {times[3]}  {line_with_silt_conc_records}\\n\",\n",
    "#             f\" {times[4]}  {line_all_zero}\\n\",\n",
    "#             f\" {times[5]}  {line_all_zero}\\n\"\n",
    "#         ]\n",
    "#         f.writelines(line for line in linesToWrite)\n",
    "        \n",
    "    # discharges inflow of water (different for gridcells)\n",
    "    nr_zero_discharge_layer = nr_sigma_layers - nr_discharge_layers\n",
    "    discharges_list = calcDischargePerCell(discharge_total, sigma_layer_percentages, nr_zero_discharge_layer)\n",
    "    line_with_discharge_records = makeDischargeRecords(discharges_list, nr_sigma_layers, nr_discharge_layers)        \n",
    "    # Format: time + A + B\n",
    "    bct_filename = filename + \".bctrecords\"\n",
    "    with open(bct_filename, 'w') as bct_file:\n",
    "        linesToWrite = [\n",
    "            f\" {times[0]}  {line_all_zero}\\n\",\n",
    "            f\" {times[1]}  {line_all_zero}\\n\",\n",
    "            f\" {times[2]}  {line_with_discharge_records}\\n\",\n",
    "            f\" {times[3]}  {line_with_discharge_records}\\n\",\n",
    "            f\" {times[4]}  {line_all_zero}\\n\",\n",
    "            f\" {times[5]}  {line_all_zero}\\n\"\n",
    "        ]\n",
    "        bct_file.writelines(line for line in linesToWrite) "
   ]
  },
  {
   "cell_type": "markdown",
   "metadata": {},
   "source": [
    "# And now, magic!"
   ]
  },
  {
   "cell_type": "code",
   "execution_count": 23,
   "metadata": {},
   "outputs": [
    {
     "name": "stdout",
     "output_type": "stream",
     "text": [
      "The first 27 'cells' are all zeroes, then the next 53 layers contain the discharge values\n",
      "The first 27 'cells' are all zeroes, then the next 53 layers contain the discharge values\n",
      "Now divide 4500 $m^3/s$ discharge among the bottom 16.42% height of sigma layers\n",
      "The first 27 'cells' are all zeroes, then the next 53 layers contain the discharge values\n"
     ]
    }
   ],
   "source": [
    "generateVerticalBC('test', **input_dict)"
   ]
  },
  {
   "cell_type": "code",
   "execution_count": null,
   "metadata": {},
   "outputs": [],
   "source": []
  },
  {
   "cell_type": "code",
   "execution_count": null,
   "metadata": {},
   "outputs": [],
   "source": []
  }
 ],
 "metadata": {
  "kernelspec": {
   "display_name": "Python 3",
   "language": "python",
   "name": "python3"
  },
  "language_info": {
   "codemirror_mode": {
    "name": "ipython",
    "version": 3
   },
   "file_extension": ".py",
   "mimetype": "text/x-python",
   "name": "python",
   "nbconvert_exporter": "python",
   "pygments_lexer": "ipython3",
   "version": "3.7.7"
  }
 },
 "nbformat": 4,
 "nbformat_minor": 4
}
