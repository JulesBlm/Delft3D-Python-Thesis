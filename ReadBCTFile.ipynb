{
 "cells": [
  {
   "cell_type": "markdown",
   "metadata": {
    "jupyter": {
     "outputs_hidden": false
    }
   },
   "source": [
    "# Work in progress: Read and display a D3D .bct file\n",
    "\n",
    "## Todo\n",
    "* Read from files and calculate values like total discharge, concentration, sediment volume etc like in GenerateBCRecords.ipynb\n",
    "* Split to function\n",
    "    * With gridcell values"
   ]
  },
  {
   "cell_type": "code",
   "execution_count": 1,
   "metadata": {
    "collapsed": false,
    "jupyter": {
     "outputs_hidden": false
    }
   },
   "outputs": [],
   "source": [
    "import numpy as np\n",
    "import sys\n",
    "import os\n",
    "import pandas as pd\n",
    "import linecache\n",
    "from JulesD3D.utils import quickDF"
   ]
  },
  {
   "cell_type": "code",
   "execution_count": 2,
   "metadata": {},
   "outputs": [],
   "source": [
    "bound_trans_cond_filename = '/Users/julesblom/Dropbox/TU/Master/Thesis/Runs/5050_simple_bathymetry/Run1/2200_1cellchannel.bct'"
   ]
  },
  {
   "cell_type": "code",
   "execution_count": 3,
   "metadata": {},
   "outputs": [
    {
     "ename": "FileNotFoundError",
     "evalue": "[Errno 2] No such file or directory: '/Users/julesblom/Dropbox/TU/Master/Thesis/Runs/5050_simple_bathymetry/Run1/2200_1cellchannel.bct'",
     "output_type": "error",
     "traceback": [
      "\u001b[0;31m---------------------------------------------------------------------------\u001b[0m",
      "\u001b[0;31mFileNotFoundError\u001b[0m                         Traceback (most recent call last)",
      "\u001b[0;32m<ipython-input-3-b2b4bf5fa2cc>\u001b[0m in \u001b[0;36m<module>\u001b[0;34m\u001b[0m\n\u001b[0;32m----> 1\u001b[0;31m \u001b[0;32mwith\u001b[0m \u001b[0mopen\u001b[0m\u001b[0;34m(\u001b[0m\u001b[0mbound_trans_cond_filename\u001b[0m\u001b[0;34m,\u001b[0m\u001b[0;34m'r'\u001b[0m\u001b[0;34m)\u001b[0m \u001b[0;32mas\u001b[0m \u001b[0mf\u001b[0m\u001b[0;34m:\u001b[0m\u001b[0;34m\u001b[0m\u001b[0;34m\u001b[0m\u001b[0m\n\u001b[0m\u001b[1;32m      2\u001b[0m     \u001b[0mnames\u001b[0m \u001b[0;34m=\u001b[0m \u001b[0;34m[\u001b[0m\u001b[0;34m]\u001b[0m\u001b[0;34m\u001b[0m\u001b[0;34m\u001b[0m\u001b[0m\n\u001b[1;32m      3\u001b[0m     \u001b[0mcontents\u001b[0m \u001b[0;34m=\u001b[0m \u001b[0;34m[\u001b[0m\u001b[0;34m]\u001b[0m\u001b[0;34m\u001b[0m\u001b[0;34m\u001b[0m\u001b[0m\n\u001b[1;32m      4\u001b[0m     \u001b[0mlocations\u001b[0m \u001b[0;34m=\u001b[0m \u001b[0;34m[\u001b[0m\u001b[0;34m]\u001b[0m\u001b[0;34m\u001b[0m\u001b[0;34m\u001b[0m\u001b[0m\n\u001b[1;32m      5\u001b[0m     \u001b[0mtimefunctions\u001b[0m \u001b[0;34m=\u001b[0m \u001b[0;34m[\u001b[0m\u001b[0;34m]\u001b[0m\u001b[0;34m\u001b[0m\u001b[0;34m\u001b[0m\u001b[0m\n",
      "\u001b[0;31mFileNotFoundError\u001b[0m: [Errno 2] No such file or directory: '/Users/julesblom/Dropbox/TU/Master/Thesis/Runs/5050_simple_bathymetry/Run1/2200_1cellchannel.bct'"
     ]
    }
   ],
   "source": [
    "with open(bound_trans_cond_filename,'r') as f:\n",
    "    names = []\n",
    "    contents = []\n",
    "    locations = []\n",
    "    timefunctions = []\n",
    "    referencetimes = []\n",
    "    timeunits = []\n",
    "    interpolations = []\n",
    "    parameters = []\n",
    "    records = []\n",
    "    data = []\n",
    "\n",
    "    i = 0\n",
    "\n",
    "    for i, line in enumerate(f):\n",
    "        if 'table-name' in line:\n",
    "            names.append(line.split(\"'\")[1])\n",
    "        elif 'contents' in line:\n",
    "            contents.append(line.split(\"'\")[1])\n",
    "        elif 'location' in line:\n",
    "            locations.append(line.split(\"'\")[1])\n",
    "        elif 'time-function' in line:\n",
    "            timefunctions.append(line.split(\"'\")[1])\n",
    "        elif 'reference-time' in line:\n",
    "            referencetimes.append(int(line.split()[1]))\n",
    "        elif 'time-unit' in line:\n",
    "            timeunits.append(line.split(\"'\")[1])\n",
    "        elif 'interpolation' in line:\n",
    "            interpolations.append(line.split(\"'\")[1])\n",
    "        elif 'parameter' in line:\n",
    "            parameters.append([line.split(\"'\")[1], line.split(\"'\")[3]])\n",
    "        elif 'records-in-table' in line:\n",
    "            records.append(int(line.split()[1]))\n",
    "        else:\n",
    "            break\n",
    "\n",
    "    start_records_line_nr, end_records_line_nr = [i+1, i + 1 + records[0] ]\n",
    "    bcts_times = []\n",
    "    bcts_values = []\n",
    "\n",
    "    for line in range(i + 1, i + 1 + records[0]):\n",
    "            bct_line = linecache.getline(bound_trans_cond_filename, line).split()\n",
    "            time = float(bct_line[0])\n",
    "            \n",
    "            bct_values_line = [float(value) for value in bct_line[1:-1]]\n",
    "            bcts_values.append(bct_values_line)\n",
    "            \n",
    "            bcts_times.append(time)\n",
    "\n",
    "    data = np.array(bcts_times).T\n",
    "    columns = ['L {}'.format(layer_nr) for layer_nr in range(len(bcts_values[0]))]\n",
    "    df = pd.DataFrame(bcts_values, index=data, columns=columns)\n",
    "    df.name = 'KKKK'\n",
    "    print(parameters[1][0])\n",
    "    print('Units', parameters[1][1])\n",
    "    print(timeunits[0])\n",
    "    quickDF(df)\n",
    "    f.close()"
   ]
  },
  {
   "cell_type": "code",
   "execution_count": 15,
   "metadata": {
    "collapsed": false,
    "jupyter": {
     "outputs_hidden": false
    }
   },
   "outputs": [],
   "source": [
    "# linecache.getline(bound_trans_cond_filename, i+1).split()"
   ]
  }
 ],
 "metadata": {
  "kernelspec": {
   "display_name": "Python 3",
   "language": "python",
   "name": "python3"
  },
  "language_info": {
   "codemirror_mode": {
    "name": "ipython",
    "version": 3
   },
   "file_extension": ".py",
   "mimetype": "text/x-python",
   "name": "python",
   "nbconvert_exporter": "python",
   "pygments_lexer": "ipython3",
   "version": "3.7.7"
  }
 },
 "nbformat": 4,
 "nbformat_minor": 4
}
