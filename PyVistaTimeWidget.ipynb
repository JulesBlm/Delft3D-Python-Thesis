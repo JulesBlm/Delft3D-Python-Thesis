{
 "cells": [
  {
   "cell_type": "markdown",
   "metadata": {},
   "source": [
    "# WORK IN PROGRESS\n",
    "\n",
    "Not sure what widget options would be best and how to write a performant callback that selects and processes values for each timestep"
   ]
  },
  {
   "cell_type": "code",
   "execution_count": 1,
   "metadata": {},
   "outputs": [],
   "source": [
    "import pyvista as pv\n",
    "import numpy as np\n",
    "import xarray as xr\n",
    "from JulesD3D.utils import quickDF\n",
    "from JulesD3D.processNetCDF import fixMeshGrid, addVectorSum, addDepth, makeVelocity, addUnderlayerCoords\n",
    "from JulesD3D.plotPyVista import makeBottomSurface, makeStructuredGridDepth, easyTimeFormat\n",
    "from cmocean.cm import deep\n",
    "import matplotlib.pyplot as plt\n",
    "from JulesD3D.utils import ncFilepicker\n",
    "from os import path"
   ]
  },
  {
   "cell_type": "code",
   "execution_count": 2,
   "metadata": {},
   "outputs": [],
   "source": [
    "folder = '/Users/julesblom/ThesisResults/'\n",
    "\n",
    "nc_filename = ncFilepicker(folder)"
   ]
  },
  {
   "cell_type": "code",
   "execution_count": 3,
   "metadata": {},
   "outputs": [
    {
     "data": {
      "application/vnd.jupyter.widget-view+json": {
       "model_id": "8f31131bb20e40449c4c966bd3a2c1ea",
       "version_major": 2,
       "version_minor": 0
      },
      "text/plain": [
       "Select(description='NetCDF file:', layout=Layout(height='120px', width='100%'), options=('/Users/julesblom/The…"
      ]
     },
     "metadata": {},
     "output_type": "display_data"
    }
   ],
   "source": [
    "nc_filename"
   ]
  },
  {
   "cell_type": "code",
   "execution_count": 4,
   "metadata": {},
   "outputs": [
    {
     "data": {
      "text/plain": [
       "'trim-36km_200m_W60ChannelRun01MoreOutput'"
      ]
     },
     "execution_count": 4,
     "metadata": {},
     "output_type": "execute_result"
    }
   ],
   "source": [
    "basename = path.basename(nc_filename.value)\n",
    "plot_title, _ = path.splitext(basename)\n",
    "plot_title"
   ]
  },
  {
   "cell_type": "code",
   "execution_count": 5,
   "metadata": {},
   "outputs": [],
   "source": [
    "trim = xr.open_dataset(nc_filename.value) # Open with xarray : DataSet : A collection of DataArrays"
   ]
  },
  {
   "cell_type": "code",
   "execution_count": 6,
   "metadata": {},
   "outputs": [
    {
     "name": "stdout",
     "output_type": "stream",
     "text": [
      "------ Fixing mesh grid, assuming a uniform grid ------\n",
      "x_gridstep:\t 200.0 m\n",
      "y_gridstep:\t 200.0 m\n",
      "width:\t\t 26000.0 m\n",
      "length:\t\t 36200.0 m\n",
      "132 x 182 grid\n"
     ]
    }
   ],
   "source": [
    "if 'velocity' not in trim:\n",
    "    trim = fixMeshGrid(trim, trim.XZ.values, trim.YZ.values, mystery_flag=True)\n",
    "    trim = addDepth(trim)\n",
    "    trim = makeVelocity(trim)\n",
    "    trim = addUnderlayerCoords(trim)\n",
    "else:\n",
    "    print(\"DataSet is preprocessed, 'velocity' is already in DataSet\")"
   ]
  },
  {
   "cell_type": "markdown",
   "metadata": {},
   "source": [
    "### Process data vars"
   ]
  },
  {
   "cell_type": "code",
   "execution_count": 7,
   "metadata": {},
   "outputs": [],
   "source": [
    "concentration = trim.R1.transpose('time', 'LSTSCI', 'M', 'N', 'KMAXOUT_RESTR')\n",
    "# concentration_sand = concentration.isel(LSTSCI=0)\n",
    "concentration_silt = concentration.isel(LSTSCI=1)\n",
    "# concentration_silt_at_time = concentration_silt.isel(time=5)\n",
    "# concentration_silt_at_time = concentration_silt_at_time.assign_attrs({'long_name': 'Silt concentrations percentage per layer in zeta point',\n",
    "#                                                               'units': '%',\n",
    "#                                                               'grid': 'grid',\n",
    "#                                                               'location': 'face'})"
   ]
  },
  {
   "cell_type": "code",
   "execution_count": 8,
   "metadata": {},
   "outputs": [
    {
     "data": {
      "text/html": [
       "<pre>&lt;xarray.DataArray &#x27;R1&#x27; (time: 191, M: 132, N: 182, KMAXOUT_RESTR: 80)&gt;\n",
       "[367086720 values with dtype=float32]\n",
       "Coordinates:\n",
       "    XZ             (M, N) int64 0 0 0 0 0 0 ... 26100 26100 26100 26100 26100\n",
       "    YZ             (M, N) int64 0 200 400 600 800 ... 35600 35800 36000 36200\n",
       "  * KMAXOUT_RESTR  (KMAXOUT_RESTR) int32 0 1 2 3 4 5 6 ... 73 74 75 76 77 78 79\n",
       "  * time           (time) datetime64[ns] 2020-02-01 ... 2020-02-01T19:00:00\n",
       "Dimensions without coordinates: M, N\n",
       "Attributes:\n",
       "    long_name:  Concentrations per layer in zeta point\n",
       "    units:      1\n",
       "    grid:       grid\n",
       "    location:   face</pre>"
      ],
      "text/plain": [
       "<xarray.DataArray 'R1' (time: 191, M: 132, N: 182, KMAXOUT_RESTR: 80)>\n",
       "[367086720 values with dtype=float32]\n",
       "Coordinates:\n",
       "    XZ             (M, N) int64 0 0 0 0 0 0 ... 26100 26100 26100 26100 26100\n",
       "    YZ             (M, N) int64 0 200 400 600 800 ... 35600 35800 36000 36200\n",
       "  * KMAXOUT_RESTR  (KMAXOUT_RESTR) int32 0 1 2 3 4 5 6 ... 73 74 75 76 77 78 79\n",
       "  * time           (time) datetime64[ns] 2020-02-01 ... 2020-02-01T19:00:00\n",
       "Dimensions without coordinates: M, N\n",
       "Attributes:\n",
       "    long_name:  Concentrations per layer in zeta point\n",
       "    units:      1\n",
       "    grid:       grid\n",
       "    location:   face"
      ]
     },
     "execution_count": 8,
     "metadata": {},
     "output_type": "execute_result"
    }
   ],
   "source": [
    "concentration_silt"
   ]
  },
  {
   "cell_type": "code",
   "execution_count": 9,
   "metadata": {},
   "outputs": [
    {
     "data": {
      "text/plain": [
       "('time', 'M', 'N', 'KMAXOUT_RESTR')"
      ]
     },
     "execution_count": 9,
     "metadata": {},
     "output_type": "execute_result"
    }
   ],
   "source": [
    "# Reorder velocity dims to match x, y, z\n",
    "velocity = trim.velocity.transpose('time', 'M', 'N', 'KMAXOUT_RESTR')\n",
    "velocity.dims"
   ]
  },
  {
   "cell_type": "code",
   "execution_count": 10,
   "metadata": {},
   "outputs": [
    {
     "data": {
      "text/plain": [
       "('time', 'M', 'N', 'KMAXOUT_RESTR')"
      ]
     },
     "execution_count": 10,
     "metadata": {},
     "output_type": "execute_result"
    }
   ],
   "source": [
    "density = trim.RHO.transpose('time', 'M', 'N', 'KMAXOUT_RESTR')\n",
    "density.dims"
   ]
  },
  {
   "cell_type": "markdown",
   "metadata": {},
   "source": [
    "### Turn Delft3D output into PyVista grid"
   ]
  },
  {
   "cell_type": "code",
   "execution_count": 11,
   "metadata": {},
   "outputs": [
    {
     "data": {
      "text/html": [
       "<table><tr><th>Header</th><th>Data Arrays</th></tr><tr><td>\n",
       "<table>\n",
       "<tr><th>StructuredGrid</th><th>Information</th></tr>\n",
       "<tr><td>N Cells</td><td>23400</td></tr>\n",
       "<tr><td>N Points</td><td>23711</td></tr>\n",
       "<tr><td>X Bounds</td><td>0.000e+00, 2.600e+04</td></tr>\n",
       "<tr><td>Y Bounds</td><td>1.000e+02, 3.610e+04</td></tr>\n",
       "<tr><td>Z Bounds</td><td>-6.999e+02, -0.000e+00</td></tr>\n",
       "<tr><td>Dimensions</td><td>131, 181, 1</td></tr>\n",
       "<tr><td>N Arrays</td><td>1</td></tr>\n",
       "</table>\n",
       "\n",
       "</td><td>\n",
       "<table>\n",
       "<tr><th>Name</th><th>Field</th><th>Type</th><th>N Comp</th><th>Min</th><th>Max</th></tr>\n",
       "<tr><td><b>Depth</b></td><td>Points</td><td>float32</td><td>1</td><td>-6.999e+02</td><td>-0.000e+00</td></tr>\n",
       "</table>\n",
       "\n",
       "</td></tr> </table>"
      ],
      "text/plain": [
       "StructuredGrid (0x1242fe8a0)\n",
       "  N Cells:\t23400\n",
       "  N Points:\t23711\n",
       "  X Bounds:\t0.000e+00, 2.600e+04\n",
       "  Y Bounds:\t1.000e+02, 3.610e+04\n",
       "  Z Bounds:\t-6.999e+02, -0.000e+00\n",
       "  Dimensions:\t131, 181, 1\n",
       "  N Arrays:\t1"
      ]
     },
     "execution_count": 11,
     "metadata": {},
     "output_type": "execute_result"
    }
   ],
   "source": [
    "bottom_surface = makeBottomSurface(trim, timestep=0)\n",
    "bottom_surface"
   ]
  },
  {
   "cell_type": "code",
   "execution_count": 12,
   "metadata": {},
   "outputs": [
    {
     "name": "stdout",
     "output_type": "stream",
     "text": [
      "'depth' DataArray already found in DataSet!\n",
      "xyz_layers.shape (1921920, 3)\n"
     ]
    }
   ],
   "source": [
    "depth_centers_grid = makeStructuredGridDepth(trim, keyword='SIG_LYR')"
   ]
  },
  {
   "cell_type": "code",
   "execution_count": 13,
   "metadata": {},
   "outputs": [],
   "source": [
    "plotting_options = dict(lighting=True, ambient=0.9, specular=0.1, specular_power=1) #show_edges=False ,\n",
    "\n",
    "sargs = dict(\n",
    "    title_font_size=30,\n",
    "    label_font_size=28,\n",
    "    shadow=True,\n",
    "    n_labels=6,\n",
    "    fmt=\"%.1f\",\n",
    "    font_family=\"arial\",\n",
    ")\n",
    "\n",
    "outline = depth_centers_grid.outline()"
   ]
  },
  {
   "cell_type": "markdown",
   "metadata": {},
   "source": [
    "# Interactive Density"
   ]
  },
  {
   "cell_type": "code",
   "execution_count": 14,
   "metadata": {},
   "outputs": [
    {
     "ename": "NameError",
     "evalue": "name 'initial_timestep' is not defined",
     "output_type": "error",
     "traceback": [
      "\u001b[0;31m---------------------------------------------------------------------------\u001b[0m",
      "\u001b[0;31mNameError\u001b[0m                                 Traceback (most recent call last)",
      "\u001b[0;32m<ipython-input-14-2cc9988c8273>\u001b[0m in \u001b[0;36m<module>\u001b[0;34m\u001b[0m\n\u001b[0;32m----> 1\u001b[0;31m \u001b[0mdepth_centers_grid\u001b[0m\u001b[0;34m[\u001b[0m\u001b[0;34m'Density'\u001b[0m\u001b[0;34m]\u001b[0m \u001b[0;34m=\u001b[0m \u001b[0mdensity\u001b[0m\u001b[0;34m.\u001b[0m\u001b[0misel\u001b[0m\u001b[0;34m(\u001b[0m\u001b[0mtime\u001b[0m\u001b[0;34m=\u001b[0m\u001b[0minitial_timestep\u001b[0m\u001b[0;34m)\u001b[0m\u001b[0;34m.\u001b[0m\u001b[0mvalues\u001b[0m\u001b[0;34m.\u001b[0m\u001b[0mravel\u001b[0m\u001b[0;34m(\u001b[0m\u001b[0;34m)\u001b[0m\u001b[0;34m\u001b[0m\u001b[0;34m\u001b[0m\u001b[0m\n\u001b[0m\u001b[1;32m      2\u001b[0m \u001b[0;31m# density_threshold_lim = [1025.25, 1040]\u001b[0m\u001b[0;34m\u001b[0m\u001b[0;34m\u001b[0m\u001b[0;34m\u001b[0m\u001b[0m\n\u001b[1;32m      3\u001b[0m \u001b[0;31m# threshed_density_centers = depth_centers_grid.threshold(density_threshold_lim, scalars=\"Density\")\u001b[0m\u001b[0;34m\u001b[0m\u001b[0;34m\u001b[0m\u001b[0;34m\u001b[0m\u001b[0m\n\u001b[1;32m      4\u001b[0m \u001b[0;34m\u001b[0m\u001b[0m\n\u001b[1;32m      5\u001b[0m \u001b[0mdensity_clim\u001b[0m \u001b[0;34m=\u001b[0m \u001b[0;34m(\u001b[0m\u001b[0;36m1020\u001b[0m\u001b[0;34m,\u001b[0m \u001b[0;36m1040\u001b[0m\u001b[0;34m)\u001b[0m\u001b[0;34m\u001b[0m\u001b[0;34m\u001b[0m\u001b[0m\n",
      "\u001b[0;31mNameError\u001b[0m: name 'initial_timestep' is not defined"
     ]
    }
   ],
   "source": [
    "depth_centers_grid['Density'] = density.isel(time=initial_timestep).values.ravel()\n",
    "# density_threshold_lim = [1025.25, 1040]\n",
    "# threshed_density_centers = depth_centers_grid.threshold(density_threshold_lim, scalars=\"Density\")\n",
    "\n",
    "density_clim = (1020, 1040)\n",
    "opacity_trick = [0] * 6 + [0.9] * 15 # should 'map' to steps of clim "
   ]
  },
  {
   "cell_type": "code",
   "execution_count": null,
   "metadata": {},
   "outputs": [],
   "source": [
    "def densityCallback(val):\n",
    "    p.remove_actor(initTimeActor)\n",
    "    outputstep = int(val)\n",
    "    Density = density.isel(time=outputstep).values.ravel()\n",
    "\n",
    "    print(Density.max())\n",
    "\n",
    "    p.update_scalars(Density, mesh=depth_centers_grid) \n",
    "    \n",
    "    time_outputstep = trim.time.isel(time=outputstep).values\n",
    "    timeActor = p.add_text(f\"Density at {easyTimeFormat(time_outputstep)}\", position='upper_left')"
   ]
  },
  {
   "cell_type": "code",
   "execution_count": null,
   "metadata": {},
   "outputs": [],
   "source": [
    "p = pv.Plotter(notebook=False)\n",
    "p.add_mesh(outline)\n",
    "p.add_mesh(bottom_surface, cmap=deep, opacity=0.3)\n",
    "p.add_mesh(depth_centers_grid, scalars='Density', clim=density_clim, opacity=opacity_trick, scalar_bar_args=sargs, **plotting_options)\n",
    "initTimeActor = p.add_text(f\"Density at {easyTimeFormat(time_outputstep)}\", position='upper_left')\n",
    "# p.add_slider_widget(densityCallback, time_lims, title=\"Outputstep\", value=initial_timestep, event_type='end')\n",
    "p.enable_depth_peeling()\n",
    "p.show_grid()\n",
    "p.set_scale(zscale=25)\n",
    "panel = p.show()"
   ]
  },
  {
   "cell_type": "markdown",
   "metadata": {},
   "source": [
    "# Interactive silt concentrations"
   ]
  },
  {
   "cell_type": "code",
   "execution_count": null,
   "metadata": {},
   "outputs": [],
   "source": [
    "depth_centers_grid['Silt_concentration'] = concentration_silt.isel(time=initial_timestep).values.ravel()"
   ]
  },
  {
   "cell_type": "code",
   "execution_count": null,
   "metadata": {},
   "outputs": [],
   "source": [
    "concentration_silt.isel(time=-10).max()"
   ]
  },
  {
   "cell_type": "code",
   "execution_count": null,
   "metadata": {},
   "outputs": [],
   "source": [
    "concentration_silt.max()"
   ]
  },
  {
   "cell_type": "code",
   "execution_count": null,
   "metadata": {},
   "outputs": [],
   "source": [
    "def siltCallback(val):\n",
    "    p.remove_actor(initTimeActor)\n",
    "    outputstep = int(val)\n",
    "    Silt_concentration = concentration_silt.isel(time=outputstep).values.ravel()\n",
    "    \n",
    "    print(Silt_concentration.max())\n",
    "\n",
    "    p.update_scalars(Silt_concentration, mesh=depth_centers_grid) \n",
    "    \n",
    "    time_outputstep = trim.time.isel(time=outputstep).values\n",
    "    timeActor = p.add_text(f\"Silt conc at {easyTimeFormat(time_outputstep)}\", position='upper_left')"
   ]
  },
  {
   "cell_type": "code",
   "execution_count": null,
   "metadata": {},
   "outputs": [],
   "source": [
    "silt_clim = (0.1, 5)\n",
    "silt_opacity_trick = [0] * 6 + [0.9] * 15 # should 'map' to steps of clim "
   ]
  },
  {
   "cell_type": "code",
   "execution_count": null,
   "metadata": {},
   "outputs": [],
   "source": [
    "p = pv.Plotter(notebook=False)\n",
    "p.add_mesh(outline)\n",
    "p.add_mesh(bottom_surface, cmap=deep, opacity=0.3)\n",
    "p.add_mesh(depth_centers_grid, scalars='Silt_concentration', clim=silt_clim, opacity=silt_opacity_trick, scalar_bar_args=sargs, **plotting_options)\n",
    "initTimeActor = p.add_text(f\"Silt concentration at {easyTimeFormat(time_outputstep)}\", position='upper_left')\n",
    "p.add_slider_widget(siltCallback, time_lims, title=\"Outputstep\", value=initial_timestep, event_type='end')\n",
    "p.enable_depth_peeling()\n",
    "p.show_grid()\n",
    "p.set_scale(zscale=25)\n",
    "panel = p.show()"
   ]
  }
 ],
 "metadata": {
  "kernelspec": {
   "display_name": "Python 3",
   "language": "python",
   "name": "python3"
  },
  "language_info": {
   "codemirror_mode": {
    "name": "ipython",
    "version": 3
   },
   "file_extension": ".py",
   "mimetype": "text/x-python",
   "name": "python",
   "nbconvert_exporter": "python",
   "pygments_lexer": "ipython3",
   "version": "3.7.6"
  }
 },
 "nbformat": 4,
 "nbformat_minor": 4
}
