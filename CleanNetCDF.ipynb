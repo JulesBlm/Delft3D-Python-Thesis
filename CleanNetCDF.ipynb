{
 "cells": [
  {
   "cell_type": "markdown",
   "metadata": {},
   "source": [
    "# Clean netCDF output\n",
    "Makes vectors sums and removes component variables from the netCDF"
   ]
  },
  {
   "cell_type": "code",
   "execution_count": 3,
   "metadata": {},
   "outputs": [],
   "source": [
    "from JulesD3D.cleanNetCDF import writeCleanCDF\n",
    "import ipywidgets as widgets\n",
    "\n",
    "from glob import glob"
   ]
  },
  {
   "cell_type": "code",
   "execution_count": 3,
   "metadata": {},
   "outputs": [
    {
     "name": "stdout",
     "output_type": "stream",
     "text": [
      "The autoreload extension is already loaded. To reload it, use:\n",
      "  %reload_ext autoreload\n"
     ]
    }
   ],
   "source": [
    "%load_ext autoreload"
   ]
  },
  {
   "cell_type": "code",
   "execution_count": 4,
   "metadata": {},
   "outputs": [],
   "source": [
    "%reload_ext autoreload"
   ]
  },
  {
   "cell_type": "code",
   "execution_count": 6,
   "metadata": {},
   "outputs": [],
   "source": [
    "# folder = '/Volumes/Seagate Expansion Drive/ThesisResults/5050_single_slope/Slope1.25'\n",
    "folder = '/Volumes/Seagate Expansion Drive/ThesisResults/Current'\n",
    "nc_files = sorted(glob(folder + '/*.nc'))\n",
    "    \n",
    "nc_filename = widgets.Select(\n",
    "    options=nc_files,\n",
    "    description='NetCDF file:',\n",
    "    disabled=False,\n",
    "    width='100%',\n",
    "    layout=widgets.Layout(width='90%', height='120px')\n",
    ")"
   ]
  },
  {
   "cell_type": "code",
   "execution_count": 7,
   "metadata": {},
   "outputs": [
    {
     "data": {
      "application/vnd.jupyter.widget-view+json": {
       "model_id": "354be5a711f64502b9530e51409a999b",
       "version_major": 2,
       "version_minor": 0
      },
      "text/plain": [
       "Select(description='NetCDF file:', layout=Layout(height='120px', width='90%'), options=('/Volumes/Seagate Expa…"
      ]
     },
     "metadata": {},
     "output_type": "display_data"
    }
   ],
   "source": [
    "nc_filename"
   ]
  },
  {
   "cell_type": "code",
   "execution_count": 10,
   "metadata": {},
   "outputs": [
    {
     "name": "stdout",
     "output_type": "stream",
     "text": [
      "62 x 152 grid\n",
      "XZ (62, 152)\n",
      "YZ (62, 152)\n",
      "Fixed mesh grid\n"
     ]
    },
    {
     "name": "stderr",
     "output_type": "stream",
     "text": [
      "/Users/julesblom/.local/share/virtualenvs/ThesisPython-OwMgd5UG/lib/python3.7/site-packages/xarray/core/computation.py:1188: FutureWarning: This DataArray contains multi-dimensional coordinates. In the future, these coordinates will be transposed as well unless you specify transpose_coords=False.\n",
      "  return result.transpose(*[d for d in all_dims if d in result.dims])\n",
      "/Users/julesblom/.local/share/virtualenvs/ThesisPython-OwMgd5UG/lib/python3.7/site-packages/xarray/core/computation.py:1188: FutureWarning: This DataArray contains multi-dimensional coordinates. In the future, these coordinates will be transposed as well unless you specify transpose_coords=False.\n",
      "  return result.transpose(*[d for d in all_dims if d in result.dims])\n"
     ]
    },
    {
     "name": "stdout",
     "output_type": "stream",
     "text": [
      "Added depth & depth_center to DataSet\n",
      "Calculated velocity\n",
      "Assigned underlayer coordinates\n",
      "Dropping a bunch of DataArrays from DataSet...Done dropping variables.\n",
      "Dropped variables from DataSet\n",
      "Start writing netCDF to disk...Succesfully written new file as  /Volumes/Seagate Expansion Drive/ThesisResults/Current/Slope1.75_21min_conc4.5_50mchannel_clean.nc\n",
      "CPU times: user 36.5 s, sys: 1min 11s, total: 1min 47s\n",
      "Wall time: 9min 54s\n"
     ]
    }
   ],
   "source": [
    "%time clean_nc_filename = writeCleanCDF(nc_filename.value)"
   ]
  },
  {
   "cell_type": "code",
   "execution_count": 6,
   "metadata": {},
   "outputs": [],
   "source": [
    "clean_nc_filename"
   ]
  },
  {
   "cell_type": "code",
   "execution_count": null,
   "metadata": {},
   "outputs": [],
   "source": []
  }
 ],
 "metadata": {
  "kernelspec": {
   "display_name": "Python 3",
   "language": "python",
   "name": "python3"
  },
  "language_info": {
   "codemirror_mode": {
    "name": "ipython",
    "version": 3
   },
   "file_extension": ".py",
   "mimetype": "text/x-python",
   "name": "python",
   "nbconvert_exporter": "python",
   "pygments_lexer": "ipython3",
   "version": "3.7.5"
  }
 },
 "nbformat": 4,
 "nbformat_minor": 4
}
