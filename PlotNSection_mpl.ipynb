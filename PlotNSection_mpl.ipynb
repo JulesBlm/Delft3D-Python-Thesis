{
 "cells": [
  {
   "cell_type": "markdown",
   "metadata": {},
   "source": [
    "# Plot N cross-section with matplotlib"
   ]
  },
  {
   "cell_type": "code",
   "execution_count": 1,
   "metadata": {},
   "outputs": [],
   "source": [
    "%matplotlib widget"
   ]
  },
  {
   "cell_type": "code",
   "execution_count": 2,
   "metadata": {},
   "outputs": [],
   "source": [
    "import xarray as xr\n",
    "import pandas as pd\n",
    "import matplotlib.pyplot as plt\n",
    "from matplotlib.ticker import (MultipleLocator, FormatStrFormatter, AutoMinorLocator)\n",
    "import numpy as np"
   ]
  },
  {
   "cell_type": "code",
   "execution_count": 3,
   "metadata": {},
   "outputs": [],
   "source": [
    "ncfilename = '/Users/julesblom/ThesisResults/MultiTest/trim-36km_200m_W60ChannelRun01_compressed_realclean.nc'\n",
    "trim = xr.open_dataset(ncfilename) # Lazyload DataSet with xarray, unload from memory with .close()"
   ]
  },
  {
   "cell_type": "code",
   "execution_count": 4,
   "metadata": {},
   "outputs": [],
   "source": [
    "# only if the NetCDF has already been processed\n",
    "if \"depth_center\" in trim:\n",
    "    depth_center = trim['depth_center']\n",
    "else:\n",
    "    print(\"processNetCDF first\")"
   ]
  },
  {
   "cell_type": "code",
   "execution_count": 5,
   "metadata": {},
   "outputs": [],
   "source": [
    "selected_time = 2\n",
    "selected_M = int(trim.M.size/2)\n",
    "\n",
    "density_m_at_time = trim.RHO.isel(time=selected_time, M=selected_M) \n",
    "z_section_center = depth_center.isel(time=selected_time, M=selected_M) # density_m_31.depth_center.T #trim.depth_center.isel(time=this_time, M=this_M).T # why do i need to transpose this?\n",
    "\n",
    "z_section_intf = trim.depth.isel(time=selected_time, M=selected_M) # why do i need to transpose this?\n",
    "\n",
    "n_section = z_section_intf.YZ\n",
    "\n",
    "_, mesh_N = np.meshgrid(trim.SIG_INTF.values, n_section)"
   ]
  },
  {
   "cell_type": "markdown",
   "metadata": {},
   "source": [
    "### Sanity check of dimensions"
   ]
  },
  {
   "cell_type": "code",
   "execution_count": 6,
   "metadata": {},
   "outputs": [
    {
     "name": "stdout",
     "output_type": "stream",
     "text": [
      "quad_NSigma\t (182, 81)\n",
      "n_section\t (182,)\n",
      "z_section_center (182, 80)\n",
      "z_section_intf\t (182, 81)\n",
      "density_m_at_time (182, 80)\n"
     ]
    }
   ],
   "source": [
    "# is there a way to quickly print a formatted table in jupyter without pandas?\n",
    "print('quad_NSigma\\t', mesh_N.shape)\n",
    "print('n_section\\t', n_section.shape)\n",
    "print('z_section_center', z_section_center.shape)\n",
    "print('z_section_intf\\t', z_section_intf.shape)\n",
    "print('density_m_at_time', density_m_at_time.T.shape)"
   ]
  },
  {
   "cell_type": "code",
   "execution_count": 7,
   "metadata": {},
   "outputs": [],
   "source": [
    "sigma_percentages = np.diff(trim.SIG_LYR.values)*-100"
   ]
  },
  {
   "cell_type": "code",
   "execution_count": 12,
   "metadata": {},
   "outputs": [],
   "source": [
    "# z_section_center.isel(N=-1).diff('SIG_LYR').to_dataframe()"
   ]
  },
  {
   "cell_type": "code",
   "execution_count": 13,
   "metadata": {},
   "outputs": [],
   "source": [
    "legend_hack_intf = z_section_intf.isel(SIG_INTF=-1)\n",
    "legend_hack_center = z_section_center.isel(SIG_LYR=-1)"
   ]
  },
  {
   "cell_type": "code",
   "execution_count": 11,
   "metadata": {},
   "outputs": [],
   "source": [
    "plt.close(\"all\")"
   ]
  },
  {
   "cell_type": "markdown",
   "metadata": {},
   "source": [
    "## Plot Sigma interfaces and center with length"
   ]
  },
  {
   "cell_type": "code",
   "execution_count": 20,
   "metadata": {},
   "outputs": [
    {
     "data": {
      "application/vnd.jupyter.widget-view+json": {
       "model_id": "28150b5a598549f7bebd264b1728f6a5",
       "version_major": 2,
       "version_minor": 0
      },
      "text/plain": [
       "Canvas(toolbar=Toolbar(toolitems=[('Home', 'Reset original view', 'home', 'home'), ('Back', 'Back to previous …"
      ]
     },
     "metadata": {},
     "output_type": "display_data"
    }
   ],
   "source": [
    "# zscale = 20\n",
    "fig, ax = plt.subplots(nrows=1, figsize=(10,4.5)) # scale to actual depth lenght: (20 ,4) for  factor 10\n",
    "plt.suptitle('Vertical grid-section')\n",
    "plt.title(\"Channel slope 1.5° - Basin slope 0.2°\", fontsize=11)\n",
    "\n",
    "ax.plot(n_section, z_section_intf, c='k', linewidth=0.55, marker='+', markersize=0.1)\n",
    "ax.plot(n_section, z_section_center, c='steelblue', linewidth=0.15, marker='+', markersize=0.1)\n",
    "\n",
    "ax.xaxis.set_minor_locator(MultipleLocator(1000))\n",
    "plt.xlim(0., 36200)\n",
    "\n",
    "# hack to get only names in legend for lines\n",
    "interfaces, = ax.plot(n_section, legend_hack_intf, c='k', linewidth=0.8, marker='+', markersize=0.)\n",
    "centers, = ax.plot(n_section, legend_hack_center, c='steelblue', linewidth=0.8, marker='+', markersize=0.1)\n",
    "\n",
    "# mark one line just because\n",
    "# ax.plot(n_section, z_section_intf[:,42], c='hotpink', marker='o', markersize=1.5,)\n",
    "\n",
    "\n",
    "# inset axes\n",
    "axins = ax.inset_axes([0.5, 0.5, 0.47, 0.47])\n",
    "axins.plot(n_section, z_section_intf, c='k',  linewidth=0.55, marker='+', markersize=0.1)\n",
    "plt.setp(axins.spines.values(), color='tomato')\n",
    "plt.setp([axins.get_xticklines(), ax.get_yticklines()], color='tomato')\n",
    "plt.setp([axins.get_yticklines(), ax.get_yticklines()], color='tomato')\n",
    "\n",
    "# axins.imshow(Z2, extent=extent, interpolation=\"nearest\",origin=\"lower\")\n",
    "# sub region of the original image\n",
    "x1, x2, y1, y2 = 13000, 17000, -640, -600\n",
    "axins.set_xlim(x1, x2)\n",
    "axins.set_ylim(y1, y2)\n",
    "axins.set_xticklabels('')\n",
    "axins.set_yticklabels('')\n",
    "\n",
    "ax.indicate_inset_zoom(axins, edgecolor='tomato', alpha=0.5)\n",
    "\n",
    "# ax.scatter(n_section, depth_m_31[:,10], s=1.5)\n",
    "ax.set_xlabel('Length $n$ [m]', fontsize=13.5)\n",
    "ax.set_ylabel('Depth [m]', fontsize=13.5)\n",
    "ax.legend((interfaces, centers), ('$\\sigma$ Interfaces', '$\\sigma$ Centers'), fontsize=\"x-large\", loc=\"lower left\", markerscale=50)\n",
    "fig.show()"
   ]
  },
  {
   "cell_type": "code",
   "execution_count": 13,
   "metadata": {},
   "outputs": [],
   "source": [
    "# help(ax.indicate_inset_zoom)\n",
    "# plt.close('all')"
   ]
  },
  {
   "cell_type": "markdown",
   "metadata": {},
   "source": [
    "## Plot Sigma interfaces and center with grid index"
   ]
  },
  {
   "cell_type": "code",
   "execution_count": 14,
   "metadata": {},
   "outputs": [
    {
     "data": {
      "application/vnd.jupyter.widget-view+json": {
       "model_id": "64c9a191c52445dfad40c01c24edee7f",
       "version_major": 2,
       "version_minor": 0
      },
      "text/plain": [
       "Canvas(toolbar=Toolbar(toolitems=[('Home', 'Reset original view', 'home', 'home'), ('Back', 'Back to previous …"
      ]
     },
     "metadata": {},
     "output_type": "display_data"
    }
   ],
   "source": [
    "fig_N, ax_N = plt.subplots(nrows=1, figsize=(9,6))\n",
    "ax_N.set_title('Sigma layers vertical section - N number')\n",
    "\n",
    "ax_N.plot(z_section_intf, c='k', linewidth=0.25, marker='+', markersize=0.1)\n",
    "ax_N.plot(z_section_center, c='g', linewidth=0.05, marker='+', markersize=0.1)\n",
    "ax_N.set_xlabel('N')\n",
    "ax_N.set_ylabel('Depth [m]')\n",
    "fig_N.show()"
   ]
  },
  {
   "cell_type": "markdown",
   "metadata": {},
   "source": [
    "## Plot density N cross section"
   ]
  },
  {
   "cell_type": "code",
   "execution_count": 15,
   "metadata": {},
   "outputs": [
    {
     "name": "stdout",
     "output_type": "stream",
     "text": [
      "(182, 81)\n",
      "(182, 81)\n",
      "(182, 80)\n"
     ]
    }
   ],
   "source": [
    "print(mesh_N[:,:].shape)\n",
    "print(z_section_intf[:,:].shape)\n",
    "print(density_m_at_time.T.shape)"
   ]
  },
  {
   "cell_type": "code",
   "execution_count": 16,
   "metadata": {},
   "outputs": [
    {
     "data": {
      "application/vnd.jupyter.widget-view+json": {
       "model_id": "3ab7d76c1a854796af08ab74227dd15e",
       "version_major": 2,
       "version_minor": 0
      },
      "text/plain": [
       "Canvas(toolbar=Toolbar(toolitems=[('Home', 'Reset original view', 'home', 'home'), ('Back', 'Back to previous …"
      ]
     },
     "metadata": {},
     "output_type": "display_data"
    },
    {
     "data": {
      "text/plain": [
       "Text(0, 0.5, 'Depth [m]')"
      ]
     },
     "execution_count": 16,
     "metadata": {},
     "output_type": "execute_result"
    }
   ],
   "source": [
    "fig_vert, ax_vert1 = plt.subplots(nrows=1, figsize=(9,6))\n",
    "\n",
    "ax_vert1.set_title('Vertical Dection Density')\n",
    "\n",
    "# or z_section.YZ both work\n",
    "mesh = ax_vert1.pcolormesh(mesh_N, z_section_intf, density_m_at_time.T,\n",
    "                          vmin=1025, vmax=1050) #, edgecolors='w', linewidths=0.1)\n",
    "# ax_vert1.plot(n_section, z_section_center, c='lightsteelblue', linewidth=0.10, alpha=0.5) #, marker='+', markersize=0.1)\n",
    "# ax_vert1.plot(n_section, z_section_intf[:,:], c='bisque', linewidth=0.08, alpha=0.5)\n",
    "\n",
    "cbar = fig_vert.colorbar(mesh, ax=ax_vert1)\n",
    "cbar.ax.get_yaxis().labelpad = 15\n",
    "cbar.ax.set_ylabel('Density [kg/m3]',rotation=90)\n",
    "ax_vert1.set_xlabel('Length $n$ [m]')\n",
    "ax_vert1.set_ylabel('Depth [m]')"
   ]
  },
  {
   "cell_type": "code",
   "execution_count": null,
   "metadata": {},
   "outputs": [],
   "source": []
  },
  {
   "cell_type": "code",
   "execution_count": null,
   "metadata": {},
   "outputs": [],
   "source": []
  },
  {
   "cell_type": "code",
   "execution_count": null,
   "metadata": {},
   "outputs": [],
   "source": []
  }
 ],
 "metadata": {
  "kernelspec": {
   "display_name": "Python 3",
   "language": "python",
   "name": "python3"
  },
  "language_info": {
   "codemirror_mode": {
    "name": "ipython",
    "version": 3
   },
   "file_extension": ".py",
   "mimetype": "text/x-python",
   "name": "python",
   "nbconvert_exporter": "python",
   "pygments_lexer": "ipython3",
   "version": "3.7.6"
  }
 },
 "nbformat": 4,
 "nbformat_minor": 4
}
