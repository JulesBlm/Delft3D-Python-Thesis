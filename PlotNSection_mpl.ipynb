{
 "cells": [
  {
   "cell_type": "markdown",
   "metadata": {},
   "source": [
    "# Plot N cross-section with matplotlib\n",
    "Plots a cross-section along the length\n",
    "\n",
    "hvPlot is the way to go, but this helped me figure out how it should work for hvPlot"
   ]
  },
  {
   "cell_type": "code",
   "execution_count": 26,
   "metadata": {},
   "outputs": [],
   "source": [
    "%matplotlib widget"
   ]
  },
  {
   "cell_type": "code",
   "execution_count": 2,
   "metadata": {},
   "outputs": [],
   "source": [
    "import xarray as xr\n",
    "import matplotlib.pyplot as plt\n",
    "import matplotlib.patheffects as PathEffects\n",
    "from matplotlib.ticker import (MultipleLocator, FormatStrFormatter, AutoMinorLocator)\n",
    "from JulesD3D.processNetCDF import addDepth, makeVelocity # why make instead of addvelocity\n",
    "from JulesD3D.utils import folderPicker, ncFilePicker, easyTimeFormat\n",
    "import numpy as np\n",
    "from os import path\n",
    "from IPython.display import Markdown as md"
   ]
  },
  {
   "cell_type": "code",
   "execution_count": 5,
   "metadata": {},
   "outputs": [
    {
     "data": {
      "application/vnd.jupyter.widget-view+json": {
       "model_id": "6f4e1c91ae934b239a93ec690375936c",
       "version_major": 2,
       "version_minor": 0
      },
      "text/plain": [
       "Select(description='Scenario folder:', layout=Layout(height='120px', width='100%'), options=('/Users/julesblom…"
      ]
     },
     "metadata": {},
     "output_type": "display_data"
    }
   ],
   "source": [
    "parent_folder = '/Users/julesblom/ThesisResults/'\n",
    "# parent_folder = '/Volumes/Seagate Expansion Drive/FinalResults/'\n",
    "scenario_folder = folderPicker(parent_folder)\n",
    "scenario_folder"
   ]
  },
  {
   "cell_type": "code",
   "execution_count": 9,
   "metadata": {},
   "outputs": [
    {
     "data": {
      "application/vnd.jupyter.widget-view+json": {
       "model_id": "16166619e580474f8adbb7f743867f02",
       "version_major": 2,
       "version_minor": 0
      },
      "text/plain": [
       "Select(description='NetCDF file:', layout=Layout(height='120px', width='100%'), options=('/Users/julesblom/The…"
      ]
     },
     "metadata": {},
     "output_type": "display_data"
    }
   ],
   "source": [
    "nc_filename = ncFilePicker(parent_folder)#scenario_folder.value)\n",
    "nc_filename"
   ]
  },
  {
   "cell_type": "code",
   "execution_count": 28,
   "metadata": {},
   "outputs": [],
   "source": [
    "trim = xr.open_dataset(nc_filename.value)"
   ]
  },
  {
   "cell_type": "code",
   "execution_count": 29,
   "metadata": {},
   "outputs": [
    {
     "data": {
      "text/plain": [
       "'Slope125_Run01'"
      ]
     },
     "execution_count": 29,
     "metadata": {},
     "output_type": "execute_result"
    }
   ],
   "source": [
    "basename = path.basename(nc_filename.value)\n",
    "plot_title, _ = path.splitext(basename)\n",
    "plot_title"
   ]
  },
  {
   "cell_type": "code",
   "execution_count": 30,
   "metadata": {},
   "outputs": [],
   "source": [
    "scenario = 'Slope 1.00°'"
   ]
  },
  {
   "cell_type": "code",
   "execution_count": 31,
   "metadata": {},
   "outputs": [
    {
     "name": "stdout",
     "output_type": "stream",
     "text": [
      "Need to processNetCDF first\n"
     ]
    },
    {
     "name": "stderr",
     "output_type": "stream",
     "text": [
      "/Users/julesblom/Library/Caches/pypoetry/virtualenvs/delft3d-python-j5EFwY34-py3.7/lib/python3.7/site-packages/xarray/core/computation.py:1215: FutureWarning: This DataArray contains multi-dimensional coordinates. In the future, these coordinates will be transposed as well unless you specify transpose_coords=False.\n",
      "  return result.transpose(*[d for d in all_dims if d in result.dims])\n"
     ]
    }
   ],
   "source": [
    "# only if the NetCDF has already been processed\n",
    "if \"depth_center\" not in trim:\n",
    "    print(\"Need to processNetCDF first\")\n",
    "    trim = addDepth(trim)\n",
    "    trim = makeVelocity(trim)"
   ]
  },
  {
   "cell_type": "code",
   "execution_count": 32,
   "metadata": {},
   "outputs": [],
   "source": [
    "SAND = 0\n",
    "SILT = 1"
   ]
  },
  {
   "cell_type": "code",
   "execution_count": 33,
   "metadata": {},
   "outputs": [
    {
     "data": {
      "text/markdown": [
       "\n",
       "Property  | Max Value\n",
       "--------- | -------------\n",
       "Density   | 1099.4537353515625\n",
       "Velocity  | 3.8808841705322266\n",
       "Sand conc | 34.09403610229492\n",
       "Silt conc | 87.74174499511719\n",
       "\n"
      ],
      "text/plain": [
       "<IPython.core.display.Markdown object>"
      ]
     },
     "execution_count": 33,
     "metadata": {},
     "output_type": "execute_result"
    }
   ],
   "source": [
    "md(f\"\"\"\n",
    "Property  | Max Value\n",
    "--------- | -------------\n",
    "Density   | {float(trim.RHO.max().values)}\n",
    "Velocity  | {float(trim.velocity.max().values)}\n",
    "Sand conc | {float(trim.R1.isel(LSTSCI=SAND).max().values)}\n",
    "Silt conc | {float(trim.R1.isel(LSTSCI=SILT).max().values)}\n",
    "\n",
    "\"\"\")"
   ]
  },
  {
   "cell_type": "code",
   "execution_count": 34,
   "metadata": {},
   "outputs": [],
   "source": [
    "depth_center = trim['depth_center']"
   ]
  },
  {
   "cell_type": "code",
   "execution_count": 35,
   "metadata": {},
   "outputs": [
    {
     "name": "stdout",
     "output_type": "stream",
     "text": [
      "2020-02-01T01:48:00.000000000\n"
     ]
    }
   ],
   "source": [
    "selected_time = 1\n",
    "selected_M = int(trim.M.size/2)\n",
    "timestring = easyTimeFormat(trim.time.isel(time=selected_time).values)\n",
    "\n",
    "# turbu_energy_at_time = trim.RTUR1.isel(LTUR=0).isel(time=selected_time, M=selected_M)\n",
    "concentration_sand = trim.R1.isel(LSTSCI=SAND, time=selected_time, M=selected_M)\n",
    "concentration_silt = trim.R1.isel(LSTSCI=SILT, time=selected_time, M=selected_M)\n",
    "density_m_at_time = trim.RHO.isel(time=selected_time, M=selected_M) \n",
    "velocity_m_at_time = trim.velocity.isel(time=selected_time, M=selected_M) \n",
    "\n",
    "z_section_center = depth_center.isel(time=selected_time, M=selected_M) # density_m_31.depth_center.T #trim.depth_center.isel(time=this_time, M=this_M).T # why do i need to transpose this?\n",
    "z_section_intf = trim.depth.isel(time=selected_time, M=selected_M) # why do i need to transpose this?\n",
    "\n",
    "n_section = z_section_intf.YZ\n",
    "\n",
    "_, mesh_N = np.meshgrid(trim.SIG_INTF.values, n_section)"
   ]
  },
  {
   "cell_type": "markdown",
   "metadata": {},
   "source": [
    "### Sanity check of dimensions"
   ]
  },
  {
   "cell_type": "code",
   "execution_count": 36,
   "metadata": {},
   "outputs": [],
   "source": [
    "# # is there a way to quickly print a formatted table in jupyter without pandas?\n",
    "# print('quad_NSigma\\t', mesh_N.shape)\n",
    "# print('n_section\\t', n_section.shape)\n",
    "# print('z_section_center', z_section_center.shape)\n",
    "# print('z_section_intf\\t', z_section_intf.shape)\n",
    "# print('density_m_at_time', density_m_at_time.T.shape)"
   ]
  },
  {
   "cell_type": "code",
   "execution_count": 37,
   "metadata": {},
   "outputs": [],
   "source": [
    "# sigma_percentages = np.diff(trim.SIG_LYR.values)*-100"
   ]
  },
  {
   "cell_type": "code",
   "execution_count": 38,
   "metadata": {},
   "outputs": [],
   "source": [
    "bottom = z_section_intf.isel(SIG_INTF=-1)"
   ]
  },
  {
   "cell_type": "code",
   "execution_count": 39,
   "metadata": {},
   "outputs": [],
   "source": [
    "legend_hack_intf = z_section_intf.isel(SIG_INTF=-1)\n",
    "legend_hack_center = z_section_center.isel(SIG_LYR=-1)"
   ]
  },
  {
   "cell_type": "code",
   "execution_count": 24,
   "metadata": {},
   "outputs": [],
   "source": [
    "plt.close(\"all\")"
   ]
  },
  {
   "cell_type": "markdown",
   "metadata": {},
   "source": [
    "## Plot Sigma interfaces and center with length\n",
    "\n",
    "Fancy plot for report with inset to show detailed sigma-layers"
   ]
  },
  {
   "cell_type": "code",
   "execution_count": 1,
   "metadata": {},
   "outputs": [
    {
     "ename": "NameError",
     "evalue": "name 'plt' is not defined",
     "output_type": "error",
     "traceback": [
      "\u001b[0;31m---------------------------------------------------------------------------\u001b[0m",
      "\u001b[0;31mNameError\u001b[0m                                 Traceback (most recent call last)",
      "\u001b[0;32m<ipython-input-1-d752503ef758>\u001b[0m in \u001b[0;36m<module>\u001b[0;34m\u001b[0m\n\u001b[1;32m      1\u001b[0m \u001b[0;31m# zscale = 20\u001b[0m\u001b[0;34m\u001b[0m\u001b[0;34m\u001b[0m\u001b[0;34m\u001b[0m\u001b[0m\n\u001b[0;32m----> 2\u001b[0;31m \u001b[0mfig\u001b[0m\u001b[0;34m,\u001b[0m \u001b[0max\u001b[0m \u001b[0;34m=\u001b[0m \u001b[0mplt\u001b[0m\u001b[0;34m.\u001b[0m\u001b[0msubplots\u001b[0m\u001b[0;34m(\u001b[0m\u001b[0mnrows\u001b[0m\u001b[0;34m=\u001b[0m\u001b[0;36m1\u001b[0m\u001b[0;34m,\u001b[0m \u001b[0mfigsize\u001b[0m\u001b[0;34m=\u001b[0m\u001b[0;34m(\u001b[0m\u001b[0;36m10\u001b[0m\u001b[0;34m,\u001b[0m\u001b[0;36m4.5\u001b[0m\u001b[0;34m)\u001b[0m\u001b[0;34m)\u001b[0m \u001b[0;31m# scale to actual depth lenght: (20 ,4) for  factor 10\u001b[0m\u001b[0;34m\u001b[0m\u001b[0;34m\u001b[0m\u001b[0m\n\u001b[0m\u001b[1;32m      3\u001b[0m \u001b[0mplt\u001b[0m\u001b[0;34m.\u001b[0m\u001b[0msuptitle\u001b[0m\u001b[0;34m(\u001b[0m\u001b[0;34m'Vertical grid-section'\u001b[0m\u001b[0;34m)\u001b[0m\u001b[0;34m\u001b[0m\u001b[0;34m\u001b[0m\u001b[0m\n\u001b[1;32m      4\u001b[0m \u001b[0mplt\u001b[0m\u001b[0;34m.\u001b[0m\u001b[0mtitle\u001b[0m\u001b[0;34m(\u001b[0m\u001b[0;34m\"Channel slope 1.25° - Basin slope 0.2°\"\u001b[0m\u001b[0;34m,\u001b[0m \u001b[0mfontsize\u001b[0m\u001b[0;34m=\u001b[0m\u001b[0;36m11\u001b[0m\u001b[0;34m)\u001b[0m\u001b[0;34m\u001b[0m\u001b[0;34m\u001b[0m\u001b[0m\n\u001b[1;32m      5\u001b[0m \u001b[0;34m\u001b[0m\u001b[0m\n",
      "\u001b[0;31mNameError\u001b[0m: name 'plt' is not defined"
     ]
    }
   ],
   "source": [
    "# zscale = 20\n",
    "fig, ax = plt.subplots(nrows=1, figsize=(10,4.5)) # scale to actual depth lenght: (20 ,4) for  factor 10\n",
    "plt.suptitle('Vertical grid-section')\n",
    "plt.title(\"Channel slope 1.25° - Basin slope 0.2°\", fontsize=11)\n",
    "\n",
    "not_all_centers = z_section_center.isel(SIG_LYR=slice(0,40))\n",
    "\n",
    "ax.plot(n_section, z_section_intf, c='k', linewidth=0.55, marker='+', markersize=0.1)\n",
    "ax.plot(n_section, not_all_centers, c='steelblue', linewidth=0.15, marker='+', markersize=0.1)\n",
    "\n",
    "ax.xaxis.set_minor_locator(MultipleLocator(1000))\n",
    "plt.xlim(0., 36200)\n",
    "\n",
    "# hack to get only names in legend for lines\n",
    "interfaces, = ax.plot(n_section, legend_hack_intf, c='k', linewidth=0.8, marker='+', markersize=0.)\n",
    "centers, = ax.plot(n_section, legend_hack_center, c='steelblue', linewidth=0.8, marker='+', markersize=0.1)\n",
    "# mark one line just because\n",
    "# ax.plot(n_section, z_section_intf[:,42], c='hotpink', marker='o', markersize=1.5,)\n",
    "\n",
    "# inset axes\n",
    "axins = ax.inset_axes([0.5, 0.5, 0.47, 0.47])\n",
    "axins.plot(n_section, z_section_intf, c='k',  linewidth=0.55, marker='+', markersize=0.1)\n",
    "plt.setp(axins.spines.values(), color='tomato')\n",
    "plt.setp([axins.get_xticklines(), axins.get_yticklines()], color='tomato')\n",
    "plt.setp([axins.get_yticklines(), axins.get_yticklines()], color='tomato')\n",
    " \n",
    "# sub region of the original image\n",
    "x1, x2 = 13000, 17000\n",
    "y1, y2 = -635, -600\n",
    "axins.set_xlim(x1, x2)\n",
    "axins.set_ylim(y1, y2)\n",
    "axins.set_xticklabels('')\n",
    "axins.set_yticklabels('')\n",
    "\n",
    "ax.indicate_inset_zoom(axins, edgecolor='tomato', alpha=0.5)\n",
    "\n",
    "# ax.scatter(n_section, depth_m_31[:,10], s=1.5)\n",
    "ax.set_xlabel('Length $n$ (m)', fontsize=13.5)\n",
    "ax.set_ylabel('Depth (m)', fontsize=13.5)\n",
    "ax.legend((interfaces, centers), ('$\\sigma$ Interfaces', '$\\sigma$ Centers'), fontsize=\"x-large\", loc=\"lower left\", markerscale=50)\n",
    "fig.show()"
   ]
  },
  {
   "cell_type": "code",
   "execution_count": 107,
   "metadata": {},
   "outputs": [],
   "source": [
    "# fig_N, ax_N = plt.subplots(nrows=1, figsize=(9,6))\n",
    "# ax_N.set_title('Sigma layers vertical section - N number')\n",
    "\n",
    "# ax_N.plot(z_section_intf, c='k', linewidth=0.25, marker='+', markersize=0.1)\n",
    "# ax_N.plot(z_section_center, c='g', linewidth=0.05, marker='+', markersize=0.1)\n",
    "# ax_N.set_xlabel('N')\n",
    "# ax_N.set_ylabel('Depth [m]')\n",
    "# fig_N.show()"
   ]
  },
  {
   "cell_type": "markdown",
   "metadata": {},
   "source": [
    "## Plot density cross-section"
   ]
  },
  {
   "cell_type": "code",
   "execution_count": 108,
   "metadata": {},
   "outputs": [
    {
     "name": "stdout",
     "output_type": "stream",
     "text": [
      "(182, 81)\n",
      "(182, 81)\n",
      "(182, 80)\n"
     ]
    }
   ],
   "source": [
    "print(mesh_N[:,:].shape)\n",
    "print(z_section_intf[:,:].shape)\n",
    "print(density_m_at_time.T.shape)"
   ]
  },
  {
   "cell_type": "code",
   "execution_count": 109,
   "metadata": {},
   "outputs": [
    {
     "data": {
      "application/vnd.jupyter.widget-view+json": {
       "model_id": "0ee403149fe4411eac2ad6a105469b81",
       "version_major": 2,
       "version_minor": 0
      },
      "text/plain": [
       "Canvas(toolbar=Toolbar(toolitems=[('Home', 'Reset original view', 'home', 'home'), ('Back', 'Back to previous …"
      ]
     },
     "metadata": {},
     "output_type": "display_data"
    },
    {
     "data": {
      "text/plain": [
       "Text(0, 0.5, 'Depth [m]')"
      ]
     },
     "execution_count": 109,
     "metadata": {},
     "output_type": "execute_result"
    }
   ],
   "source": [
    "fig_vert, ax_vert2 = plt.subplots(nrows=1, figsize=(8,4))\n",
    "\n",
    "ax_vert2.set_title(f'Density {scenario} {timestring}')\n",
    "ax_vert2.set_ylim(-700, -200)\n",
    "ax_vert2.set_xlim(2000, 12500)\n",
    "\n",
    "\n",
    "mesh = ax_vert2.pcolormesh(mesh_N, z_section_intf, density_m_at_time.T, vmin=1025, vmax=1030)\n",
    "\n",
    "# ax_vert2.plot(n_section, z_section_center, c='lightsteelblue', linewidth=0.10, alpha=0.5) #, marker='+', markersize=0.1)\n",
    "ax_vert2.plot(n_section, z_section_intf[:,:], c='bisque', linewidth=0.08, alpha=0.5)\n",
    "\n",
    "\n",
    "cbar = fig_vert.colorbar(mesh, ax=ax_vert2)\n",
    "cbar.ax.get_yaxis().labelpad = 15\n",
    "cbar.ax.set_ylabel('Density [kg/m3]', rotation=90)\n",
    "cbar.ax.get_xaxis().labelpad = 15\n",
    "ax_vert2.set_xlabel('Length $n$ [m]')\n",
    "ax_vert2.set_ylabel('Depth [m]')"
   ]
  },
  {
   "cell_type": "markdown",
   "metadata": {},
   "source": [
    "## Velocity cross section"
   ]
  },
  {
   "cell_type": "code",
   "execution_count": 150,
   "metadata": {},
   "outputs": [
    {
     "name": "stderr",
     "output_type": "stream",
     "text": [
      "/Users/julesblom/Library/Caches/pypoetry/virtualenvs/delft3d-python-j5EFwY34-py3.7/lib/python3.7/site-packages/ipykernel_launcher.py:1: RuntimeWarning: More than 20 figures have been opened. Figures created through the pyplot interface (`matplotlib.pyplot.figure`) are retained until explicitly closed and may consume too much memory. (To control this warning, see the rcParam `figure.max_open_warning`).\n",
      "  \"\"\"Entry point for launching an IPython kernel.\n"
     ]
    },
    {
     "data": {
      "application/vnd.jupyter.widget-view+json": {
       "model_id": "23026f53ecd14d1da538b6af8ba54b5c",
       "version_major": 2,
       "version_minor": 0
      },
      "text/plain": [
       "Canvas(toolbar=Toolbar(toolitems=[('Home', 'Reset original view', 'home', 'home'), ('Back', 'Back to previous …"
      ]
     },
     "metadata": {},
     "output_type": "display_data"
    },
    {
     "data": {
      "text/plain": [
       "Text(0.5, 0, 'Length $n$ [m]')"
      ]
     },
     "execution_count": 150,
     "metadata": {},
     "output_type": "execute_result"
    }
   ],
   "source": [
    "fig_vert, ax_vert2 = plt.subplots(nrows=1, figsize=(8,4))\n",
    "\n",
    "ax_vert2.set_title(f'Velocity {scenario} {timestring}')\n",
    "ax_vert2.set_ylim(-550, -250)\n",
    "ax_vert2.set_xlim(2000, 12500)\n",
    "\n",
    "# or z_section.YZ both work\n",
    "mesh = ax_vert2.pcolormesh(mesh_N, z_section_intf, velocity_m_at_time,\n",
    "                          vmin=0, vmax=2.00, cmap='inferno') #, edgecolors='w', linewidths=0.1)\n",
    "\n",
    "# ax_vert2.plot(n_section, z_section_center, c='lightsteelblue', linewidth=0.10, alpha=0.5) #, marker='+', markersize=0.1)\n",
    "ax_vert2.plot(n_section, z_section_intf[:,:], c='bisque', linewidth=0.08, alpha=0.7)\n",
    "\n",
    "# cbar = fig_vert.colorbar(mesh, orientation=\"horizontal\", ax=ax_vert2)\n",
    "# cbar.ax.get_yaxis().labelpad = 15\n",
    "# cbar.ax.set_xlabel('Velocity [m/s]')\n",
    "ax_vert2.set_xlabel('Length $n$ [m]')\n",
    "# ax_vert2.set_ylabel('Depth [m]')"
   ]
  },
  {
   "cell_type": "markdown",
   "metadata": {},
   "source": [
    "# Silt concentration"
   ]
  },
  {
   "cell_type": "code",
   "execution_count": 50,
   "metadata": {},
   "outputs": [
    {
     "data": {
      "application/vnd.jupyter.widget-view+json": {
       "model_id": "be3c4a8d0c974fc9b8829245afdd9ef2",
       "version_major": 2,
       "version_minor": 0
      },
      "text/plain": [
       "Canvas(toolbar=Toolbar(toolitems=[('Home', 'Reset original view', 'home', 'home'), ('Back', 'Back to previous …"
      ]
     },
     "metadata": {},
     "output_type": "display_data"
    },
    {
     "data": {
      "text/plain": [
       "Text(0, 0.5, 'Depth [m]')"
      ]
     },
     "execution_count": 50,
     "metadata": {},
     "output_type": "execute_result"
    }
   ],
   "source": [
    "fig_vert, ax_vert2 = plt.subplots(nrows=1, figsize=(9,4))\n",
    "\n",
    "ax_vert2.set_title(f'Silt concentration {scenario} {timestring}')\n",
    "ax_vert2.set_ylim(-700, -200)\n",
    "\n",
    "# or z_section.YZ both work\n",
    "mesh = ax_vert2.pcolormesh(mesh_N, z_section_intf, concentration_silt.T, vmin=0, vmax=7, cmap='magma_r')\n",
    "ax_vert2.plot(n_section, z_section_intf[:,:], c='dimgray', linewidth=0.08, alpha=0.5)\n",
    "\n",
    "cbar = fig_vert.colorbar(mesh, ax=ax_vert2)\n",
    "cbar.ax.get_yaxis().labelpad = 15\n",
    "cbar.ax.set_ylabel('Silt concentration [%]',rotation=90)\n",
    "ax_vert2.set_xlabel('Length $n$ [m]')\n",
    "ax_vert2.set_ylabel('Depth [m]')"
   ]
  },
  {
   "cell_type": "markdown",
   "metadata": {},
   "source": [
    "## Sand concentration"
   ]
  },
  {
   "cell_type": "code",
   "execution_count": 54,
   "metadata": {},
   "outputs": [
    {
     "data": {
      "application/vnd.jupyter.widget-view+json": {
       "model_id": "31d2064b475048ae802e767a87223b71",
       "version_major": 2,
       "version_minor": 0
      },
      "text/plain": [
       "Canvas(toolbar=Toolbar(toolitems=[('Home', 'Reset original view', 'home', 'home'), ('Back', 'Back to previous …"
      ]
     },
     "metadata": {},
     "output_type": "display_data"
    },
    {
     "data": {
      "text/plain": [
       "Text(0, 0.5, 'Depth [m]')"
      ]
     },
     "execution_count": 54,
     "metadata": {},
     "output_type": "execute_result"
    }
   ],
   "source": [
    "fig_vert, ax_vert2 = plt.subplots(nrows=1, figsize=(9,4))\n",
    "\n",
    "ax_vert2.set_title(f'Sand concentration {scenario} {timestring}')\n",
    "ax_vert2.set_ylim(-700, -200)\n",
    "\n",
    "# or z_section.YZ both work\n",
    "mesh = ax_vert2.pcolormesh(mesh_N, z_section_intf, concentration_sand.T, vmin=0, vmax=2, cmap='magma_r')\n",
    "ax_vert2.plot(n_section, z_section_intf[:,:], c='dimgray', linewidth=0.08, alpha=0.5)\n",
    "\n",
    "cbar = fig_vert.colorbar(mesh, ax=ax_vert2)\n",
    "cbar.ax.get_yaxis().labelpad = 15\n",
    "cbar.ax.set_ylabel('Sand concentration [%]',rotation=90)\n",
    "ax_vert2.set_xlabel('Length $n$ [m]')\n",
    "ax_vert2.set_ylabel('Depth [m]')"
   ]
  },
  {
   "cell_type": "markdown",
   "metadata": {},
   "source": [
    "## Turbulent Energy"
   ]
  },
  {
   "cell_type": "code",
   "execution_count": null,
   "metadata": {},
   "outputs": [],
   "source": [
    "fig_vert, ax_vert2 = plt.subplots(nrows=1, figsize=(9,4))\n",
    "\n",
    "ax_vert2.set_title(f'Turbulent energy {scenario} {timestring}')\n",
    "ax_vert2.set_ylim(-700, -300)\n",
    "ax_vert2.set_xlim(0, 15000)\n",
    "\n",
    "\n",
    "# or z_section.YZ both work\n",
    "mesh = ax_vert2.pcolormesh(mesh_N, z_section_intf, turbu_energy_at_time.T, cmap='magma_r', vmin=0, vmax=0.05,)\n",
    "ax_vert2.plot(n_section, z_section_intf[:,:], c='dimgray', linewidth=0.08, alpha=0.5)\n",
    "\n",
    "cbar = fig_vert.colorbar(mesh, ax=ax_vert2)\n",
    "cbar.ax.get_yaxis().labelpad = 15\n",
    "cbar.ax.set_ylabel('Turbulent energy [%]',rotation=90)\n",
    "ax_vert2.set_xlabel('Length $n$ [m]')\n",
    "ax_vert2.set_ylabel('Depth [m]')"
   ]
  },
  {
   "cell_type": "markdown",
   "metadata": {},
   "source": [
    "# Report BC plot"
   ]
  },
  {
   "cell_type": "code",
   "execution_count": null,
   "metadata": {},
   "outputs": [],
   "source": [
    "# # jessy_hopman_uglyman = [(400, 500), (400 , -200)]\n",
    "\n",
    "# fig_vert, ax_vert1 = plt.subplots(nrows=1, figsize=(9,6))\n",
    "\n",
    "# ax_vert1.set_title('Vertical Section Density')\n",
    "# ax_vert1.set_xlim(250, 2000)\n",
    "# ax_vert1.set_ylim(-400, -200)\n",
    "\n",
    "# # or z_section.YZ both work\n",
    "# mesh = ax_vert1.pcolormesh(mesh_N, z_section_intf, density_m_at_time.T,\n",
    "#                           vmin=1027, vmax=1035) #, edgecolors='w', linewidths=0.1)\n",
    "# # ax_vert1.plot(n_section, z_section_center, c='lightsteelblue', linewidth=0.10, alpha=0.5) #, marker='+', markersize=0.1)\n",
    "# ax_vert1.plot(n_section, z_section_intf[:,:], c='bisque', linewidth=0.1, alpha=1, marker='+', markersize=0.05)\n",
    "# # interfaces, = ax.plot(n_section, legend_hack_intf, c='k', linewidth=0.8, marker='+', markersize=0.)\n",
    "\n",
    "# ax_vert1.plot(n_section, z_section_intf[:,-53], c='white', marker='o', markersize=1.5,)\n",
    "\n",
    "\n",
    "# ax_vert1.plot(n_section, z_section_intf[:,-53:None], c='white', linewidth=0.06,)\n",
    "# sigma_text = ax_vert1.text(1000, -277, \"$\\sigma$-interface = 27\", color=\"white\", fontsize=13, rotation=-7.5)\n",
    "# sigma_text.set_path_effects([PathEffects.withStroke(linewidth=1.2, foreground='black')])\n",
    "\n",
    "\n",
    "# ax_vert1.plot(n_section, z_section_intf[:,-2:None], c='black', linewidth=0.6,)\n",
    "# sigma_text2 = ax_vert1.text(1000, -340, \"$\\sigma$-interface = 80\", color=\"black\", fontsize=13, rotation=-7.5)\n",
    "# sigma_text2.set_path_effects([PathEffects.withStroke(linewidth=0.2, foreground='white')])\n",
    "\n",
    "\n",
    "# ax_vert1.plot([255, 255], [-260, -305], c='coral', marker='o', linewidth=3,)\n",
    "\n",
    "# dischage_text = ax_vert1.text(300, -300, \"Discharge: 4500 m3/s\", color=\"white\", fontsize=11)\n",
    "# discharge_text.set_path_effects([PathEffects.withStroke(linewidth=1, foreground='hotpink')])\n",
    "\n",
    "# # ax_vert1.legend(interfaces, '$\\sigma$ Interfaces', fontsize=\"x-large\", loc=\"lower left\", markerscale=50)\n",
    "\n",
    "# cbar = fig_vert.colorbar(mesh, ax=ax_vert1)\n",
    "# cbar.ax.get_yaxis().labelpad = 15\n",
    "# cbar.ax.set_ylabel('Density [$kg/m^3$]', rotation=90, fontsize=13)\n",
    "# ax_vert1.set_xlabel('Length $n$ [m]', fontsize=14)\n",
    "# ax_vert1.set_ylabel('Depth [m]', fontsize=14)"
   ]
  },
  {
   "cell_type": "code",
   "execution_count": null,
   "metadata": {},
   "outputs": [],
   "source": [
    "# plt.close(\"all\")"
   ]
  }
 ],
 "metadata": {
  "kernelspec": {
   "display_name": "Python 3",
   "language": "python",
   "name": "python3"
  },
  "language_info": {
   "codemirror_mode": {
    "name": "ipython",
    "version": 3
   },
   "file_extension": ".py",
   "mimetype": "text/x-python",
   "name": "python",
   "nbconvert_exporter": "python",
   "pygments_lexer": "ipython3",
   "version": "3.7.7"
  }
 },
 "nbformat": 4,
 "nbformat_minor": 4
}
