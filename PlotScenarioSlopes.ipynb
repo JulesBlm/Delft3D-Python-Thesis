{
 "cells": [
  {
   "cell_type": "markdown",
   "metadata": {},
   "source": [
    "# Plot all slopes scenarios\n",
    "Stupid notebook to plot all slopes in one pretty chart"
   ]
  },
  {
   "cell_type": "code",
   "execution_count": 1,
   "metadata": {},
   "outputs": [],
   "source": [
    "%matplotlib widget"
   ]
  },
  {
   "cell_type": "code",
   "execution_count": 2,
   "metadata": {},
   "outputs": [],
   "source": [
    "import numpy as np\n",
    "import math\n",
    "import bezier\n",
    "import cmocean.cm as cmo\n",
    "import matplotlib.pyplot as plt\n",
    "import matplotlib.patheffects as PathEffects\n",
    "from matplotlib.ticker import (MultipleLocator, FormatStrFormatter, AutoMinorLocator)"
   ]
  },
  {
   "cell_type": "code",
   "execution_count": 3,
   "metadata": {},
   "outputs": [],
   "source": [
    "def slopeFunction(slope_radians, length):\n",
    "    return math.tan(slope_radians) * length"
   ]
  },
  {
   "cell_type": "code",
   "execution_count": 4,
   "metadata": {},
   "outputs": [],
   "source": [
    "# TODO improvement: Define whole channel dimensions in gridsteps!\n",
    "channel = {\n",
    "    \"width\": 400,    # [m]  has to be at least x gridstep wide\n",
    "    \"slope\": 1.00,   # [deg]\n",
    "    \"length\": 15000, # [m] has to be multiple of y gridstep\n",
    "    \"depth\": 150,     # [m] \n",
    "    \"basinslope\": 0.2,         # [m] the 'basin' slope    \n",
    "}\n",
    "\n",
    "grid = {\n",
    "    \"length\": 36000,      # y [m] has to be multiple of y gridstep\n",
    "    \"width\":  26000,       # x [m] has to be multiple of x gridstep\n",
    "    \"x_gridstep\": 200,    # [m]\n",
    "    \"y_gridstep\": 200,    # [m]\n",
    "    \"dims\": [],\n",
    "}\n",
    "\n",
    "# in the y direction of the grid that is\n",
    "ylist = np.array([i for i in range(0, grid['length'] + grid['y_gridstep'], grid['y_gridstep'])]) + 100 # + 100 is default start y in REFGRID"
   ]
  },
  {
   "cell_type": "code",
   "execution_count": 5,
   "metadata": {},
   "outputs": [],
   "source": [
    "# initial_depth = 150 \n",
    "basinSlope = 0.2"
   ]
  },
  {
   "cell_type": "code",
   "execution_count": 6,
   "metadata": {},
   "outputs": [],
   "source": [
    "break_point_index = int(channel['length']/grid['y_gridstep'])\n",
    "smoothen_over = 10\n",
    "\n",
    "# reduced version of that in JulesD3D\n",
    "def makeCrossSection(channelSlope, basinSlope, initial_depth=150):\n",
    "    channel_slope_radians = math.radians(channelSlope)\n",
    "\n",
    "    channel_slope_range = range(0, channel['length'] + grid['y_gridstep'], grid['y_gridstep'])    \n",
    "    \n",
    "    # channel slope depths\n",
    "    channel_slope_list = np.array([slopeFunction(channel_slope_radians, i) for i in channel_slope_range])\n",
    "\n",
    "    channel_slope_last_depth = channel_slope_list[-1] + channel['depth']\n",
    "    \n",
    "    basin_slope_radians = math.radians(basinSlope)\n",
    "    basin_length = grid['length'] - channel['length'] \n",
    "    basin_list_range = range(0, basin_length, grid['y_gridstep'])\n",
    "    basin_list = np.array([slopeFunction(basin_slope_radians, i) for i in basin_list_range]) + channel_slope_last_depth\n",
    "    \n",
    "    \n",
    "    channel_slope_list += channel['depth']\n",
    "    \n",
    "    depth_list = np.concatenate((channel_slope_list, basin_list), axis=0) + initial_depth\n",
    "\n",
    "    normal_cross_section = [ylist, depth_list] # x, y values for smoothening\n",
    "    \n",
    "    # ----smoothen slope break -----\n",
    "    x_cross_section = ylist.copy()\n",
    "    depth_cross_section = depth_list.copy()\n",
    "\n",
    "    # Smooth with bezier curve between these points\n",
    "    start_smooth_index, end_smooth_index = [break_point_index - smoothen_over,\\\n",
    "                                            break_point_index + smoothen_over]\n",
    "\n",
    "    # Prepare section to be smoothed for Bezier\n",
    "    nodes_x = np.array(x_cross_section[start_smooth_index:end_smooth_index])\n",
    "    nodes_y = np.array(depth_cross_section[start_smooth_index:end_smooth_index])\n",
    "\n",
    "    # Feed nodes into bezier instance\n",
    "    nodes = np.array([nodes_x, nodes_y]) # Bezier class wants it like this\n",
    "    curved = bezier.Curve.from_nodes(nodes)\n",
    "\n",
    "    # Get new depth (y-values in bezier funct) from bezier instance\n",
    "    s_vals_channel = np.linspace(0.0, 1.0, 2 * smoothen_over)\n",
    "    smoothened_channel_part = curved.evaluate_multi(s_vals_channel)[1]\n",
    "    \n",
    "    fig_q, ax_q = plt.subplots()\n",
    "    fig_q.suptitle('Bathymetry cross-sections (Unsmoothened!)')\n",
    "    ax_q.plot(range(start_smooth_index, end_smooth_index), -smoothened_channel_part)\n",
    "    ax_q.set_xlabel('N (grid number)')\n",
    "    ax_q.set_ylabel('Depth [m]')\n",
    "    ax_q.grid()    \n",
    "\n",
    "    smooth_cross_section = depth_cross_section.copy()\n",
    "    smooth_cross_section[start_smooth_index:end_smooth_index] = smoothened_channel_part\n",
    "    \n",
    "    return smooth_cross_section"
   ]
  },
  {
   "cell_type": "code",
   "execution_count": 17,
   "metadata": {},
   "outputs": [
    {
     "data": {
      "application/vnd.jupyter.widget-view+json": {
       "model_id": "5846c6a3dddb4401baf61ca0a240b8cd",
       "version_major": 2,
       "version_minor": 0
      },
      "text/plain": [
       "Canvas(toolbar=Toolbar(toolitems=[('Home', 'Reset original view', 'home', 'home'), ('Back', 'Back to previous …"
      ]
     },
     "metadata": {},
     "output_type": "display_data"
    },
    {
     "data": {
      "application/vnd.jupyter.widget-view+json": {
       "model_id": "1a9af463747d477a9c6c1a4a08a82198",
       "version_major": 2,
       "version_minor": 0
      },
      "text/plain": [
       "Canvas(toolbar=Toolbar(toolitems=[('Home', 'Reset original view', 'home', 'home'), ('Back', 'Back to previous …"
      ]
     },
     "metadata": {},
     "output_type": "display_data"
    },
    {
     "data": {
      "application/vnd.jupyter.widget-view+json": {
       "model_id": "a5c8d59cde81486ea3a56b5b1f4baefa",
       "version_major": 2,
       "version_minor": 0
      },
      "text/plain": [
       "Canvas(toolbar=Toolbar(toolitems=[('Home', 'Reset original view', 'home', 'home'), ('Back', 'Back to previous …"
      ]
     },
     "metadata": {},
     "output_type": "display_data"
    }
   ],
   "source": [
    "depths085 = makeCrossSection(0.85, basinSlope)\n",
    "depths100 = makeCrossSection(1, basinSlope)\n",
    "depths125 = makeCrossSection(1.25, basinSlope)"
   ]
  },
  {
   "cell_type": "code",
   "execution_count": 8,
   "metadata": {},
   "outputs": [
    {
     "data": {
      "text/plain": [
       "(181,)"
      ]
     },
     "execution_count": 8,
     "metadata": {},
     "output_type": "execute_result"
    }
   ],
   "source": [
    "depths1_25.shape"
   ]
  },
  {
   "cell_type": "code",
   "execution_count": 9,
   "metadata": {
    "jupyter": {
     "source_hidden": true
    }
   },
   "outputs": [],
   "source": [
    "# fig, ax = plt.subplots(figsize=(10, 5))\n",
    "# fig.suptitle('Slopes of different model scenarios', fontsize=16)\n",
    "# ax.set_title('Smoothened slope breaks')\n",
    "# # ax.set_aspect('equal')\n",
    "\n",
    "# ax.set_xlim((0, 36000))\n",
    "# ax.set_ylim(700, 300)\n",
    "\n",
    "# ax.plot(ylist, -depths1_00[:-1])\n",
    "\n",
    "# arrowprops = dict(facecolor='black', shrink=0.05),\n",
    "\n",
    "# text_100 = ax.annotate('Slope 1.00°', xy=(10000, 450), xytext=(12000, 400), fontsize=13, arrowprops=dict(facecolor='black', shrink=0.02)) #, arrowprops=arrowprops) # \n",
    "# text_100.set_path_effects([PathEffects.withStroke(linewidth=1.5, foreground='bisque')])\n",
    "\n",
    "# ax.plot(ylist, depths1_125[:-1])\n",
    "# # text_100 = ax.text(10000, -560, \"Slope 1.125°\", fontsize=13) #, rotation=-8)\n",
    "# # text_125.set_path_effects([PathEffects.withStroke(linewidth=1.5, foreground='w')])\n",
    "# text_1125 = ax.annotate('Slope 1.0°', xy=(10000, 450), xytext=(12000, 400), fontsize=13, arrowprops=dict(facecolor='black', shrink=0.02)) #, arrowprops=arrowprops) # \n",
    "# text_1125.set_path_effects([PathEffects.withStroke(linewidth=1.5, foreground='bisque')])\n",
    "\n",
    "# ax.plot(ylist, depths1_25[:-1])\n",
    "# text_125 = ax.text(9000, -600, \"Slope 1.25°\", fontsize=13) #, rotation=-8)\n",
    "# text_125.set_path_effects([PathEffects.withStroke(linewidth=1.5, foreground='w')])\n",
    "\n",
    "\n",
    "# ax.set_xlabel('Length $n$ [m]')\n",
    "# ax.set_ylabel('Depth [m]')\n",
    "# # ax.grid()"
   ]
  },
  {
   "cell_type": "code",
   "execution_count": 10,
   "metadata": {},
   "outputs": [],
   "source": [
    "plt.close('all')"
   ]
  },
  {
   "cell_type": "code",
   "execution_count": 23,
   "metadata": {},
   "outputs": [
    {
     "data": {
      "application/vnd.jupyter.widget-view+json": {
       "model_id": "d652985be5b746d7915526185fea7370",
       "version_major": 2,
       "version_minor": 0
      },
      "text/plain": [
       "Canvas(toolbar=Toolbar(toolitems=[('Home', 'Reset original view', 'home', 'home'), ('Back', 'Back to previous …"
      ]
     },
     "metadata": {},
     "output_type": "display_data"
    },
    {
     "data": {
      "text/plain": [
       "Text(0, 0.5, 'Depth [m]')"
      ]
     },
     "execution_count": 23,
     "metadata": {},
     "output_type": "execute_result"
    }
   ],
   "source": [
    "fig, ax = plt.subplots(figsize=(10, 5))\n",
    "fig.suptitle('Slopes of Different Scenarios', fontsize=16)\n",
    "# ax.set_title('Smoothened slope breaks')\n",
    "# ax.set_aspect('equal')\n",
    "\n",
    "ax.set_xlim((0, 36000))\n",
    "ax.set_ylim(700, 300)\n",
    "ax.xaxis.set_minor_locator(MultipleLocator(1000))\n",
    "ax.yaxis.set_minor_locator(MultipleLocator(10))\n",
    "\n",
    "\n",
    "ax.plot(ylist, depths100, c=\"orange\", marker='+', markersize=2.8)\n",
    "ax.plot(ylist, depths125, c='olive', marker='+', markersize=2.8)\n",
    "\n",
    "arrow_props = dict(width=1, headwidth=8, facecolor='black', shrink=0.02)\n",
    "text_085 = ax.annotate('Slope 0.85·°', xy=(14500, 510), xytext=(15500, 460), fontsize=13,  arrowprops=arrow_props) #, arrowprops=arrowprops) # \n",
    "text_085.set_path_effects([PathEffects.withStroke(linewidth=0.5, foreground='blueviolet')])\n",
    "\n",
    "text_100 = ax.annotate('Slope 1.00°', xy=(10000, 470), xytext=(11000, 430), fontsize=13, arrowprops=arrow_props) #, arrowprops=arrowprops) # \n",
    "text_100.set_path_effects([PathEffects.withStroke(linewidth=0.5, foreground='orange')])\n",
    "\n",
    "ax.plot(ylist, depths085, c=\"blueviolet\",  marker='+', markersize=2.8)\n",
    "text_125 = ax.annotate('Slope 1.25°', xy=(8000, 475), xytext=(1500, 540), horizontalalignment='left',\n",
    "                       fontsize=13, arrowprops=arrow_props)\n",
    "text_125.set_path_effects([PathEffects.withStroke(linewidth=0.5, foreground='olive')])\n",
    "\n",
    "\n",
    "ax.set_xlabel('Length $n$ [m]', fontsize=14)\n",
    "ax.set_ylabel('Depth [m]', fontsize=14)\n",
    "# ax.grid()"
   ]
  },
  {
   "cell_type": "code",
   "execution_count": null,
   "metadata": {},
   "outputs": [],
   "source": [
    "# plt.close(\"all\")"
   ]
  }
 ],
 "metadata": {
  "kernelspec": {
   "display_name": "Python 3",
   "language": "python",
   "name": "python3"
  },
  "language_info": {
   "codemirror_mode": {
    "name": "ipython",
    "version": 3
   },
   "file_extension": ".py",
   "mimetype": "text/x-python",
   "name": "python",
   "nbconvert_exporter": "python",
   "pygments_lexer": "ipython3",
   "version": "3.7.7"
  }
 },
 "nbformat": 4,
 "nbformat_minor": 4
}
