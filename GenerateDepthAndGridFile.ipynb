{
 "cells": [
  {
   "cell_type": "markdown",
   "metadata": {},
   "source": [
    "## Reading, writing and displaying depth file data"
   ]
  },
  {
   "cell_type": "markdown",
   "metadata": {},
   "source": [
    "Note that a lot of function assume a square grid of with equal x and y gridsteps! Also assumes grid width and length are even (cleanly divisible by 2), so watch it."
   ]
  },
  {
   "cell_type": "code",
   "execution_count": 1,
   "metadata": {},
   "outputs": [],
   "source": [
    "%matplotlib widget"
   ]
  },
  {
   "cell_type": "code",
   "execution_count": 2,
   "metadata": {},
   "outputs": [],
   "source": [
    "from JulesD3D.DepthModel import DepthModel\n",
    "from JulesD3D.utils import quickDF\n",
    "from os import path, mkdir"
   ]
  },
  {
   "cell_type": "code",
   "execution_count": 3,
   "metadata": {},
   "outputs": [],
   "source": [
    "%load_ext autoreload"
   ]
  },
  {
   "cell_type": "code",
   "execution_count": 4,
   "metadata": {},
   "outputs": [],
   "source": [
    "%reload_ext autoreload"
   ]
  },
  {
   "cell_type": "code",
   "execution_count": 5,
   "metadata": {},
   "outputs": [],
   "source": [
    "# Better to give channel width an int of x gridsteps width!\n",
    "# TODO improvement: Define whole channel dimensions in gridsteps!\n",
    "channel = {\n",
    "    \"width\": 400,    # [m]  has to be at least x gridstep wide\n",
    "    \"slope\": 1.25,   # [deg]\n",
    "    \"length\": 15000, # [m] has to be multiple of y gridstep\n",
    "    \"depth\": 150,     # [m] \n",
    "#     \"bank_depth\": 100  # [m] Ignored if channel depth is given\n",
    "}\n",
    "\n",
    "grid = {\n",
    "    \"length\": 36000,      # y [m] has to be multiple of y gridstep\n",
    "    \"width\":  26000,       # x [m] has to be multiple of x gridstep\n",
    "    \"x_gridstep\": 200,    # [m]\n",
    "    \"y_gridstep\": 200,    # [m]\n",
    "    \"dims\": [],\n",
    "}\n",
    "\n",
    "\n",
    "bathymetry = {\n",
    "    \"initial_depth\": 150, # [m]\n",
    "    \"slope\": 0.2,         # [m] the 'basin' slope\n",
    "}\n",
    "\n",
    "folder = '/Users/julesblom/ThesisPython/generated'\n",
    "\n",
    "width_in_km_str = str(int(grid['width']/1000))\n",
    "length_in_km_str = str(int(grid['length']/1000))\n",
    "grid_str = str(grid['x_gridstep'])\n",
    "\n",
    "dep_filename = f\"gen_{length_in_km_str}_by_{width_in_km_str}km.dep\"\n",
    "grid_filename = f\"{length_in_km_str}km_{width_in_km_str}km_W60Channel.grd\"\n",
    "enc_filename = f\"{length_in_km_str}km_1cellchannel_15km.enc\"\n",
    "\n",
    "filenames = {\n",
    "    \"grid\": path.join(folder, grid_filename),\n",
    "    \"dep\": path.join(folder, dep_filename),\n",
    "    \"enc\": path.join(folder, enc_filename)\n",
    "}"
   ]
  },
  {
   "cell_type": "markdown",
   "metadata": {},
   "source": [
    "# Remember to change MNKMax in .mdf and location in .bnd files"
   ]
  },
  {
   "cell_type": "code",
   "execution_count": 6,
   "metadata": {},
   "outputs": [],
   "source": [
    "new_model = DepthModel(filenames=filenames, channel=channel, bathymetry=bathymetry, grid=grid)"
   ]
  },
  {
   "cell_type": "code",
   "execution_count": 7,
   "metadata": {},
   "outputs": [
    {
     "name": "stdout",
     "output_type": "stream",
     "text": [
      "------ Making new Delft3D grid ------\n",
      "x_gridstep 200\n",
      "y_gridstep 200\n",
      "width 26000\n",
      "length 36000\n",
      "MNKmax = 132 182 SIGMALAYERS\n",
      "xDim 131\n",
      "yDim 181\n",
      "Writing grid file with shape (131, 181)\n",
      "------ Making bathymetry ------\n",
      "* Minimum depth:  150\n",
      "* Channel slope:  1.25\n",
      "* Basin slope: \t 0.2\n",
      "channel_length_index 76\n",
      "channel_grid_cells 3\n",
      "* bank_width 12800.0\n",
      "* bank_index 64\n",
      "bank_left 64\n",
      "bank_right 67\n",
      "\n",
      "depth_matrix[bank_left:bank_right,:] shape (3, 182)\n",
      "channel (3, 182)\n",
      "--- Writing enclosure file ---\n",
      "xDim:  131\n",
      "yDim:  181\n",
      " ----- Writing enclosure file with channel -----\n",
      "Writing depth file to: /Users/julesblom/ThesisPython/generated/gen_36_by_26km.dep\n",
      "Writing .dep file with shape (182, 132)\n"
     ]
    }
   ],
   "source": [
    "new_model.makeModelAtOnce()"
   ]
  },
  {
   "cell_type": "markdown",
   "metadata": {},
   "source": [
    "## Easy copy new boundary conditions"
   ]
  },
  {
   "cell_type": "code",
   "execution_count": 8,
   "metadata": {},
   "outputs": [],
   "source": [
    "dims = new_model.grid['dims']"
   ]
  },
  {
   "cell_type": "code",
   "execution_count": 9,
   "metadata": {},
   "outputs": [],
   "source": [
    "xDim, yDim = dims[0]\n",
    "xDim, yDim"
   ]
  },
  {
   "cell_type": "code",
   "execution_count": 11,
   "metadata": {},
   "outputs": [
    {
     "name": "stdout",
     "output_type": "stream",
     "text": [
      "MNKmax = 132 182 80\n"
     ]
    }
   ],
   "source": [
    "print(f\"MNKmax = {xDim+1} {yDim+1} 80\")"
   ]
  },
  {
   "cell_type": "code",
   "execution_count": 12,
   "metadata": {},
   "outputs": [
    {
     "name": "stdout",
     "output_type": "stream",
     "text": [
      "Discharge            Q T    66     1    66     1  2.0000000e+002 3d-profile\n",
      "deep                 Z T     2   182   131   182  2.0000000e+002\n"
     ]
    }
   ],
   "source": [
    "discharge_location = int((xDim-1)/2+1)\n",
    "\n",
    "new_boundary_file = f'''Discharge            Q T    {discharge_location}     1    {discharge_location}     1  2.0000000e+002 3d-profile\n",
    "deep                 Z T     2   {yDim+1}   {xDim}   {yDim+1}  2.0000000e+002'''\n",
    "print(new_boundary_file)"
   ]
  },
  {
   "cell_type": "code",
   "execution_count": 13,
   "metadata": {},
   "outputs": [
    {
     "name": "stdout",
     "output_type": "stream",
     "text": [
      "x shape: 131\n",
      "y shape: 181\n",
      "z shape: (181, 131)\n"
     ]
    },
    {
     "data": {
      "application/vnd.jupyter.widget-view+json": {
       "model_id": "cf759584013245f683ec7e32d7c5215e",
       "version_major": 2,
       "version_minor": 0
      },
      "text/plain": [
       "Canvas(toolbar=Toolbar(toolitems=[('Home', 'Reset original view', 'home', 'home'), ('Back', 'Back to previous …"
      ]
     },
     "metadata": {},
     "output_type": "display_data"
    }
   ],
   "source": [
    "new_model.plot3D()"
   ]
  },
  {
   "cell_type": "code",
   "execution_count": 14,
   "metadata": {},
   "outputs": [
    {
     "data": {
      "application/vnd.jupyter.widget-view+json": {
       "model_id": "25fc1384114d4831a11a2e9b5344f8b3",
       "version_major": 2,
       "version_minor": 0
      },
      "text/plain": [
       "Canvas(toolbar=Toolbar(toolitems=[('Home', 'Reset original view', 'home', 'home'), ('Back', 'Back to previous …"
      ]
     },
     "metadata": {},
     "output_type": "display_data"
    }
   ],
   "source": [
    "new_model.plotCrossSection()"
   ]
  },
  {
   "cell_type": "code",
   "execution_count": 15,
   "metadata": {},
   "outputs": [],
   "source": [
    "# quickDF(new_model.bathymetry['depth'])"
   ]
  },
  {
   "cell_type": "code",
   "execution_count": 16,
   "metadata": {},
   "outputs": [
    {
     "data": {
      "application/vnd.jupyter.widget-view+json": {
       "model_id": "0b32a68d35d948219f2031a3bc9c6eee",
       "version_major": 2,
       "version_minor": 0
      },
      "text/plain": [
       "Canvas(toolbar=Toolbar(toolitems=[('Home', 'Reset original view', 'home', 'home'), ('Back', 'Back to previous …"
      ]
     },
     "metadata": {},
     "output_type": "display_data"
    }
   ],
   "source": [
    "new_model.plotGrid()"
   ]
  },
  {
   "cell_type": "code",
   "execution_count": 17,
   "metadata": {},
   "outputs": [
    {
     "data": {
      "text/plain": [
       "21000"
      ]
     },
     "execution_count": 17,
     "metadata": {},
     "output_type": "execute_result"
    }
   ],
   "source": [
    "# new_model.grid['width']/300/2+1\n",
    "# 18000/300/2+1\n",
    "# 20100/300\n",
    "70*300"
   ]
  },
  {
   "cell_type": "code",
   "execution_count": 18,
   "metadata": {},
   "outputs": [
    {
     "data": {
      "application/vnd.jupyter.widget-view+json": {
       "model_id": "9e6fdeeeb4374c2fa2d8577cc5de3d78",
       "version_major": 2,
       "version_minor": 0
      },
      "text/plain": [
       "Canvas(toolbar=Toolbar(toolitems=[('Home', 'Reset original view', 'home', 'home'), ('Back', 'Back to previous …"
      ]
     },
     "metadata": {},
     "output_type": "display_data"
    }
   ],
   "source": [
    "new_model.plotDepthAndGrid()"
   ]
  },
  {
   "cell_type": "markdown",
   "metadata": {},
   "source": [
    "<hr/>"
   ]
  },
  {
   "cell_type": "markdown",
   "metadata": {},
   "source": [
    "### Generate bathymetries with different slopes"
   ]
  },
  {
   "cell_type": "code",
   "execution_count": 19,
   "metadata": {},
   "outputs": [],
   "source": [
    "# channel_slopes = [1.00, 1.25, 1.5, 1.75] # [degrees]"
   ]
  },
  {
   "cell_type": "code",
   "execution_count": 20,
   "metadata": {},
   "outputs": [],
   "source": [
    "# for channel_slope in channel_slopes:\n",
    "#     print(\"---------- Making depth model with slope:\", channel_slope, '----------')\n",
    "\n",
    "#     # modify slope in channel object defined above!\n",
    "#     channel['slope'] = channel_slope\n",
    "\n",
    "# #     bathymetry['slope'] = basin_slope\n",
    "    \n",
    "#     new_folder = '/Users/julesblom/ThesisPython/generated/Slope{}/'.format(str(channel_slope))\n",
    "\n",
    "#     try:  \n",
    "#         print(\"Making new folder:\", new_folder)\n",
    "#         mkdir(new_folder)\n",
    "#     except OSError:\n",
    "#         dir(OSError)\n",
    "#         print(\"Creation of the directory failed, it probably already exists!\")\n",
    "    \n",
    "#     new_filenames = {\n",
    "#         \"grid\": path.join(new_folder, '45km_300m_W60Channel.grd'),\n",
    "#         \"dep\": path.join(new_folder, 'gen_18_by_45km.dep'), # folder_name + '/slopeBreakSmooth.dep' #\n",
    "#         \"enc\": path.join(new_folder, '45km_1cellchannel_15km.enc')\n",
    "#     }\n",
    "    \n",
    "#     new_slope_model = DepthModel(filenames=new_filenames, channel=channel, bathymetry=bathymetry, grid=grid)\n",
    "#     new_slope_model.makeModelAtOnce()"
   ]
  },
  {
   "cell_type": "markdown",
   "metadata": {},
   "source": [
    "# PyVista 3D generated bathymetry"
   ]
  },
  {
   "cell_type": "code",
   "execution_count": 21,
   "metadata": {},
   "outputs": [],
   "source": [
    "import pyvista as pv\n",
    "# from JulesD3D.plotPyVista import makeBottomSurface\n",
    "from cmocean.cm import deep_r\n",
    "from JulesD3D.enc import readEnc\n",
    "import pandas as pd\n",
    "from numpy import ones"
   ]
  },
  {
   "cell_type": "code",
   "execution_count": 22,
   "metadata": {},
   "outputs": [],
   "source": [
    "# enc_filename = '/Users/julesblom/ThesisPython/generated/45km_1cellchannel_15km.enc'\n",
    "# enclosure_x, enclosure_y = readEnc(enc_filename)\n",
    "# enclosure_z = ones(len(enclosure_x))\n",
    "# plot_enclosure = zip(enclosure_x, enclosure_y, enclosure_z)"
   ]
  },
  {
   "cell_type": "code",
   "execution_count": 23,
   "metadata": {},
   "outputs": [
    {
     "data": {
      "text/html": [
       "<table><tr><th>Header</th><th>Data Arrays</th></tr><tr><td>\n",
       "<table>\n",
       "<tr><th>StructuredGrid</th><th>Information</th></tr>\n",
       "<tr><td>N Cells</td><td>23091</td></tr>\n",
       "<tr><td>N Points</td><td>23400</td></tr>\n",
       "<tr><td>X Bounds</td><td>0.000e+00, 2.580e+04</td></tr>\n",
       "<tr><td>Y Bounds</td><td>1.000e+02, 3.590e+04</td></tr>\n",
       "<tr><td>Z Bounds</td><td>-6.990e+02, -1.540e+02</td></tr>\n",
       "<tr><td>Dimensions</td><td>180, 130, 1</td></tr>\n",
       "<tr><td>N Arrays</td><td>1</td></tr>\n",
       "</table>\n",
       "\n",
       "</td><td>\n",
       "<table>\n",
       "<tr><th>Name</th><th>Field</th><th>Type</th><th>N Comp</th><th>Min</th><th>Max</th></tr>\n",
       "<tr><td>depth</td><td>Fields</td><td>float64</td><td>180</td><td>-6.999e+02</td><td>-1.544e+02</td></tr>\n",
       "</table>\n",
       "\n",
       "</td></tr> </table>"
      ],
      "text/plain": [
       "StructuredGrid (0x129ff78a0)\n",
       "  N Cells:\t23091\n",
       "  N Points:\t23400\n",
       "  X Bounds:\t0.000e+00, 2.580e+04\n",
       "  Y Bounds:\t1.000e+02, 3.590e+04\n",
       "  Z Bounds:\t-6.990e+02, -1.540e+02\n",
       "  Dimensions:\t180, 130, 1\n",
       "  N Arrays:\t1"
      ]
     },
     "execution_count": 23,
     "metadata": {},
     "output_type": "execute_result"
    }
   ],
   "source": [
    "depth = new_model.bathymetry['depth'][1:-1,1:-1]\n",
    "\n",
    "plot_x_mesh = new_model.grid['x_grid'][:-1,:-1]\n",
    "plot_y_mesh = new_model.grid['y_grid'][:-1,:-1]\n",
    "plot_z_mesh = -depth\n",
    "\n",
    "bottom_surface = pv.StructuredGrid(plot_x_mesh, plot_y_mesh, plot_z_mesh)\n",
    "bottom_surface.field_arrays['depth'] = -depth.T\n",
    "bottom_surface"
   ]
  },
  {
   "cell_type": "code",
   "execution_count": null,
   "metadata": {},
   "outputs": [],
   "source": [
    "p = pv.Plotter(notebook=False)\n",
    "p.add_mesh(bottom_surface, cmap=deep_r, scalars='depth', ambient=0.2)\n",
    "# p.add_lines(plot_enclosure)\n",
    "p.show_grid()\n",
    "p.set_scale(zscale=10)\n",
    "p.show()"
   ]
  },
  {
   "cell_type": "code",
   "execution_count": null,
   "metadata": {},
   "outputs": [],
   "source": [
    "p.close()"
   ]
  },
  {
   "cell_type": "code",
   "execution_count": null,
   "metadata": {},
   "outputs": [],
   "source": []
  }
 ],
 "metadata": {
  "kernelspec": {
   "display_name": "Python 3",
   "language": "python",
   "name": "python3"
  },
  "language_info": {
   "codemirror_mode": {
    "name": "ipython",
    "version": 3
   },
   "file_extension": ".py",
   "mimetype": "text/x-python",
   "name": "python",
   "nbconvert_exporter": "python",
   "pygments_lexer": "ipython3",
   "version": "3.7.6"
  }
 },
 "nbformat": 4,
 "nbformat_minor": 4
}
