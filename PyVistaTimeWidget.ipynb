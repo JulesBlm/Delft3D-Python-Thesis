{
 "cells": [
  {
   "cell_type": "markdown",
   "metadata": {},
   "source": [
    "# WORK IN PROGRESS\n",
    "\n",
    "Not sure what widget options would be best and how to write a performant callback that selects and processes values for each timestep"
   ]
  },
  {
   "cell_type": "code",
   "execution_count": 11,
   "metadata": {},
   "outputs": [],
   "source": [
    "import pyvista as pv\n",
    "import numpy as np\n",
    "import xarray as xr\n",
    "from JulesD3D.utils import quickDF\n",
    "from JulesD3D.processNetCDF import fixMeshGrid, addVectorSum, addDepth, makeVelocity, addUnderlayerCoords\n",
    "from JulesD3D.plotPyVista import makeBottomSurface, makeStructuredGridDepth, easyTimeFormat\n",
    "from cmocean.cm import deep\n",
    "import matplotlib.pyplot as plt\n",
    "from JulesD3D.utils import ncFilepicker\n",
    "from os import path"
   ]
  },
  {
   "cell_type": "code",
   "execution_count": 86,
   "metadata": {},
   "outputs": [],
   "source": [
    "folder = '/Users/julesblom/ThesisResults/'\n",
    "\n",
    "nc_filename = ncFilepicker(folder)"
   ]
  },
  {
   "cell_type": "code",
   "execution_count": 87,
   "metadata": {},
   "outputs": [
    {
     "data": {
      "application/vnd.jupyter.widget-view+json": {
       "model_id": "70ea1fb9259a4311886f08289b878440",
       "version_major": 2,
       "version_minor": 0
      },
      "text/plain": [
       "Select(description='NetCDF file:', layout=Layout(height='120px', width='100%'), options=('/Users/julesblom/The…"
      ]
     },
     "metadata": {},
     "output_type": "display_data"
    }
   ],
   "source": [
    "nc_filename"
   ]
  },
  {
   "cell_type": "code",
   "execution_count": 88,
   "metadata": {},
   "outputs": [
    {
     "data": {
      "text/plain": [
       "'trim-36km_200m_W60ChannelRun01MoreOutput'"
      ]
     },
     "execution_count": 88,
     "metadata": {},
     "output_type": "execute_result"
    }
   ],
   "source": [
    "basename = path.basename(nc_filename.value)\n",
    "plot_title, _ = path.splitext(basename)\n",
    "plot_title"
   ]
  },
  {
   "cell_type": "code",
   "execution_count": 89,
   "metadata": {},
   "outputs": [],
   "source": [
    "trim = xr.open_dataset(nc_filename.value) # Open with xarray : DataSet : A collection of DataArrays"
   ]
  },
  {
   "cell_type": "code",
   "execution_count": 90,
   "metadata": {},
   "outputs": [
    {
     "name": "stdout",
     "output_type": "stream",
     "text": [
      "------ Fixing mesh grid, assuming a uniform grid ------\n",
      "x_gridstep:\t 200.0 m\n",
      "y_gridstep:\t 200.0 m\n",
      "width:\t\t 26000.0 m\n",
      "length:\t\t 36200.0 m\n",
      "132 x 182 grid\n"
     ]
    }
   ],
   "source": [
    "if 'velocity' not in trim:\n",
    "    trim = fixMeshGrid(trim, trim.XZ.values, trim.YZ.values, mystery_flag=True)\n",
    "    trim = addDepth(trim)\n",
    "#     trim = makeVelocity(trim)\n",
    "    trim = addUnderlayerCoords(trim)\n",
    "else:\n",
    "    print(\"DataSet is preprocessed, 'velocity' is already in DataSet\")"
   ]
  },
  {
   "cell_type": "markdown",
   "metadata": {},
   "source": [
    "### Process data vars"
   ]
  },
  {
   "cell_type": "code",
   "execution_count": 6,
   "metadata": {},
   "outputs": [],
   "source": [
    "concentration = trim.R1.transpose('time', 'LSTSCI', 'M', 'N', 'KMAXOUT_RESTR')\n",
    "# concentration_silt = concentration.isel(LSTSCI=1)\n",
    "concentration_silt = concentration.isel(LSTSCI=1)\n",
    "concentration_silt_at_time = concentration_silt.isel(time=5)\n",
    "concentration_silt_at_time = concentration_silt_at_time.assign_attrs({'long_name': 'Silt concentrations percentage per layer in zeta point',\n",
    "                                                              'units': '%',\n",
    "                                                              'grid': 'grid',\n",
    "                                                              'location': 'face'})"
   ]
  },
  {
   "cell_type": "code",
   "execution_count": 21,
   "metadata": {},
   "outputs": [],
   "source": [
    "# # Reorder velocity dims to match x, y, z\n",
    "# velocity = trim.velocity.transpose('time', 'M', 'N', 'KMAXOUT_RESTR')\n",
    "# velocity.dims"
   ]
  },
  {
   "cell_type": "code",
   "execution_count": 91,
   "metadata": {},
   "outputs": [
    {
     "data": {
      "text/plain": [
       "('time', 'M', 'N', 'KMAXOUT_RESTR')"
      ]
     },
     "execution_count": 91,
     "metadata": {},
     "output_type": "execute_result"
    }
   ],
   "source": [
    "density = trim.RHO.transpose('time', 'M', 'N', 'KMAXOUT_RESTR')\n",
    "density.dims"
   ]
  },
  {
   "cell_type": "code",
   "execution_count": null,
   "metadata": {},
   "outputs": [],
   "source": [
    "# trim['RHO'] = trim['RHO'].where(trim['RHO'].values == 1025, 0)"
   ]
  },
  {
   "cell_type": "markdown",
   "metadata": {},
   "source": [
    "### Turn Delft3D output into PyVista grid"
   ]
  },
  {
   "cell_type": "code",
   "execution_count": 92,
   "metadata": {},
   "outputs": [
    {
     "data": {
      "text/html": [
       "<table><tr><th>Header</th><th>Data Arrays</th></tr><tr><td>\n",
       "<table>\n",
       "<tr><th>StructuredGrid</th><th>Information</th></tr>\n",
       "<tr><td>N Cells</td><td>23400</td></tr>\n",
       "<tr><td>N Points</td><td>23711</td></tr>\n",
       "<tr><td>X Bounds</td><td>0.000e+00, 2.600e+04</td></tr>\n",
       "<tr><td>Y Bounds</td><td>1.000e+02, 3.610e+04</td></tr>\n",
       "<tr><td>Z Bounds</td><td>-6.999e+02, -0.000e+00</td></tr>\n",
       "<tr><td>Dimensions</td><td>131, 181, 1</td></tr>\n",
       "<tr><td>N Arrays</td><td>1</td></tr>\n",
       "</table>\n",
       "\n",
       "</td><td>\n",
       "<table>\n",
       "<tr><th>Name</th><th>Field</th><th>Type</th><th>N Comp</th><th>Min</th><th>Max</th></tr>\n",
       "<tr><td><b>Depth</b></td><td>Points</td><td>float32</td><td>1</td><td>-6.999e+02</td><td>-0.000e+00</td></tr>\n",
       "</table>\n",
       "\n",
       "</td></tr> </table>"
      ],
      "text/plain": [
       "StructuredGrid (0x11d92cfa0)\n",
       "  N Cells:\t23400\n",
       "  N Points:\t23711\n",
       "  X Bounds:\t0.000e+00, 2.600e+04\n",
       "  Y Bounds:\t1.000e+02, 3.610e+04\n",
       "  Z Bounds:\t-6.999e+02, -0.000e+00\n",
       "  Dimensions:\t131, 181, 1\n",
       "  N Arrays:\t1"
      ]
     },
     "execution_count": 92,
     "metadata": {},
     "output_type": "execute_result"
    }
   ],
   "source": [
    "bottom_surface = makeBottomSurface(trim, timestep=0)\n",
    "bottom_surface"
   ]
  },
  {
   "cell_type": "code",
   "execution_count": 93,
   "metadata": {},
   "outputs": [
    {
     "name": "stdout",
     "output_type": "stream",
     "text": [
      "'depth' DataArray already found in DataSet!\n",
      "xyz_layers.shape (1921920, 3)\n"
     ]
    }
   ],
   "source": [
    "depth_centers_grid = makeStructuredGridDepth(trim, keyword='SIG_LYR')"
   ]
  },
  {
   "cell_type": "code",
   "execution_count": 94,
   "metadata": {},
   "outputs": [
    {
     "data": {
      "text/plain": [
       "(10, 190)"
      ]
     },
     "execution_count": 94,
     "metadata": {},
     "output_type": "execute_result"
    }
   ],
   "source": [
    "initial_timestep = 10\n",
    "time_outputstep = trim.time.isel(time=initial_timestep).values\n",
    "time_lims = (initial_timestep, trim.time.size-1)\n",
    "time_lims"
   ]
  },
  {
   "cell_type": "code",
   "execution_count": 67,
   "metadata": {},
   "outputs": [],
   "source": [
    "sargs = dict(\n",
    "    title_font_size=30,\n",
    "    label_font_size=28,\n",
    "    shadow=True,\n",
    "    n_labels=6,\n",
    "    fmt=\"%.1f\",\n",
    "    font_family=\"arial\",\n",
    ")"
   ]
  },
  {
   "cell_type": "code",
   "execution_count": 112,
   "metadata": {},
   "outputs": [],
   "source": [
    "depth_centers_grid['Density'] = density.isel(time=initial_timestep).values.ravel()\n",
    "density_threshold_lim = [1025.25, 1040]\n",
    "threshed_density_centers = depth_centers_grid.threshold(density_threshold_lim, scalars=\"Density\")\n",
    "\n",
    "outline = depth_centers_grid.outline()\n",
    "opacity_trick = [0] * 6 + [0.9] * 14"
   ]
  },
  {
   "cell_type": "code",
   "execution_count": 113,
   "metadata": {},
   "outputs": [
    {
     "name": "stdout",
     "output_type": "stream",
     "text": [
      "2020-02-01T01:00:00.000000000\n",
      "1084.23\n",
      "2020-02-01T01:00:00.000000000\n",
      "1036.041\n",
      "2020-02-01T05:00:00.000000000\n",
      "1111.2157\n",
      "2020-02-01T02:06:00.000000000\n"
     ]
    }
   ],
   "source": [
    "p = pv.Plotter(notebook=False)\n",
    "p.add_mesh(outline)\n",
    "# p.add_mesh(bottom_surface, cmap=deep)\n",
    "p.add_mesh(depth_centers_grid, scalars='Density', clim=(1020, 1040), opacity=opacity_trick, scalar_bar_args=sargs)\n",
    "initTimeActor = p.add_text(f\"Density at {easyTimeFormat(time_outputstep)}\", position='upper_left')\n",
    "p.add_slider_widget(callback, time_lims, value=initial_timestep, event_type='end')\n",
    "p.enable_depth_peeling()\n",
    "p.show_grid()\n",
    "p.set_scale(zscale=25)\n",
    "panel = p.show()"
   ]
  },
  {
   "cell_type": "code",
   "execution_count": 110,
   "metadata": {},
   "outputs": [],
   "source": [
    "def callback(val):\n",
    "    p.remove_actor(initTimeActor)\n",
    "    outputstep = int(val)\n",
    "    Density = density.isel(time=outputstep).values.ravel()\n",
    "\n",
    "    print(Density.max())\n",
    "\n",
    "    p.update_scalars(Density, mesh=depth_centers_grid) \n",
    "    \n",
    "    time_outputstep = trim.time.isel(time=outputstep).values\n",
    "    timeActor = p.add_text(f\"Density at {easyTimeFormat(time_outputstep)}\", position='upper_left')"
   ]
  },
  {
   "cell_type": "markdown",
   "metadata": {},
   "source": [
    "# Old approaches"
   ]
  },
  {
   "cell_type": "code",
   "execution_count": null,
   "metadata": {},
   "outputs": [],
   "source": [
    "# alg = vtk.vtkThreshold()\n",
    "# alg.SetInputDataObject(depth_centers_grid)\n",
    "# alg.SetInputArrayToProcess(0, 0, 0, field, scalars) # args: (idx, port, connection, field, name)\n",
    "# alg.SetUseContinuousCellRange(continuous)"
   ]
  },
  {
   "cell_type": "code",
   "execution_count": null,
   "metadata": {},
   "outputs": [],
   "source": [
    "# def testCallback(val):\n",
    "#     outputstep = int(val)\n",
    "    \n",
    "#     scalars = density.isel(time=outputstep).values.ravel()\n",
    "#     print(scalars.max())\n",
    "# #     concentration_silt.isel(time=outputstep).values.ravel()\n",
    "#     p.update_scalars(scalars, mesh=depth_centers_grid)\n",
    "# #     print(\"Updated scalars\", scalars.size)\n",
    "# #     alg.SetInputDataObject(depth_centers_grid)\n",
    "# #     threshold_mesh = pv.wrap(alg.GetOutput())\n",
    "    \n",
    "# #     alg.ThresholdByLower(value)\n",
    "# #     alg.update()"
   ]
  },
  {
   "cell_type": "code",
   "execution_count": null,
   "metadata": {},
   "outputs": [],
   "source": [
    "# def oldCallback(val):\n",
    "#     outputstep = int(val)\n",
    "#     scalars = concentration_silt.isel(time=outputstep).values.ravel()\n",
    "#     depth_centers_grid['conc_silt'] = scalars\n",
    "    \n",
    "#     thresh_conc_silt = depth_centers_grid.threshold(conc_silt_lims, scalars=\"conc_silt\")\n",
    "\n",
    "#     threshed_actor = p.add_mesh(thresh_conc_silt, scalars='conc_silt', cmap=\"plasma\",\n",
    "#                        opacity=0.8, clim=conc_silt_lims, ambient=0.2)\n",
    "#     print(\"outputstep\", outputstep)\n",
    "    "
   ]
  },
  {
   "cell_type": "code",
   "execution_count": null,
   "metadata": {},
   "outputs": [],
   "source": [
    "# p = pv.Plotter(notebook=False)\n",
    "# p.add_mesh(bottom_surface, cmap=deep)\n",
    "# p.add_mesh(depth_centers_grid, opacity=0.9)\n",
    "# # p.add_mesh(thresh_conc_silt, scalars='conc_silt', cmap=\"plasma\", opacity=0.8, clim=conc_silt_lims, ambient=0.2)\n",
    "# # p.add_mesh_threshold(thresh_conc_silt, scalars='conc_silt', cmap=\"plasma\", opacity=0.8, clim=conc_silt_lims, ambient=0.2)\n",
    "# # p.add_slider_widget(testCallback, time_lims, value=5)\n",
    "# p.add_slider_widget(testCallback, time_lims, value=5)\n",
    "# p.enable_depth_peeling()\n",
    "# p.show_grid()\n",
    "# p.set_scale(zscale=25)\n",
    "# panel = p.show()"
   ]
  }
 ],
 "metadata": {
  "kernelspec": {
   "display_name": "Python 3",
   "language": "python",
   "name": "python3"
  },
  "language_info": {
   "codemirror_mode": {
    "name": "ipython",
    "version": 3
   },
   "file_extension": ".py",
   "mimetype": "text/x-python",
   "name": "python",
   "nbconvert_exporter": "python",
   "pygments_lexer": "ipython3",
   "version": "3.7.6"
  }
 },
 "nbformat": 4,
 "nbformat_minor": 4
}
