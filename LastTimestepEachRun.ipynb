{
 "cells": [
  {
   "cell_type": "markdown",
   "metadata": {},
   "source": [
    "## Pick last timestep of every run of multirun\n",
    "* This is me doing the same thing I already did in `CompareMultipleRuns.ipynb` but in different approach because I like wasting time"
   ]
  },
  {
   "cell_type": "code",
   "execution_count": 51,
   "metadata": {},
   "outputs": [],
   "source": [
    "%matplotlib widget"
   ]
  },
  {
   "cell_type": "code",
   "execution_count": 52,
   "metadata": {},
   "outputs": [],
   "source": [
    "import xarray as xr\n",
    "import hvplot.xarray\n",
    "import pyvista as pv\n",
    "from JulesD3D.processNetCDF import fixCORs, fixMeshGrid\n",
    "from JulesD3D.utils import quickDF, folderPicker\n",
    "from os import path, walk\n",
    "import ipywidgets as widgets\n",
    "from IPython.display import Markdown as md"
   ]
  },
  {
   "cell_type": "code",
   "execution_count": 53,
   "metadata": {},
   "outputs": [
    {
     "data": {
      "application/vnd.jupyter.widget-view+json": {
       "model_id": "1b7438fad1564c25b7f8699ae3a3cc41",
       "version_major": 2,
       "version_minor": 0
      },
      "text/plain": [
       "Select(description='Scenario folder:', layout=Layout(height='120px', width='100%'), options=('/Users/julesblom…"
      ]
     },
     "metadata": {},
     "output_type": "display_data"
    }
   ],
   "source": [
    "parent_folder = '/Users/julesblom/ThesisResults/'\n",
    "scenario_folder = folderPicker(parent_folder)\n",
    "scenario_folder"
   ]
  },
  {
   "cell_type": "markdown",
   "metadata": {},
   "source": [
    "## ⚠️ Things blow up when you include Run01 in this folder  ¯\\_(ツ)_/¯   ⚠️"
   ]
  },
  {
   "cell_type": "code",
   "execution_count": 57,
   "metadata": {},
   "outputs": [
    {
     "data": {
      "text/plain": [
       "'Slope0.85'"
      ]
     },
     "execution_count": 57,
     "metadata": {},
     "output_type": "execute_result"
    }
   ],
   "source": [
    "all_nc_files_in_folder = '/Users/julesblom/ThesisResults/Slope0.85/*.nc'\n",
    "scenario = scenario_folder.value[-10:-1]\n",
    "scenario"
   ]
  },
  {
   "cell_type": "code",
   "execution_count": 61,
   "metadata": {},
   "outputs": [],
   "source": [
    "# hack because first dataset is composed slightly differnt to restart datasets \n",
    "first_ncfilename = '/Users/julesblom/ThesisResults/Slope085_Run01.nc'\n",
    "# '/Users/julesblom/ThesisResults/Slope125_Run01.nc'\n",
    "\n",
    "first = xr.open_dataset(first_ncfilename)"
   ]
  },
  {
   "cell_type": "code",
   "execution_count": 62,
   "metadata": {},
   "outputs": [],
   "source": [
    "combined = xr.open_mfdataset(all_nc_files_in_folder, combine='nested', concat_dim=\"time\",# chunks={'time': 5},\n",
    "                             data_vars='minimal', coords='minimal', join='left', compat='override')"
   ]
  },
  {
   "cell_type": "code",
   "execution_count": 63,
   "metadata": {},
   "outputs": [
    {
     "name": "stdout",
     "output_type": "stream",
     "text": [
      "------ Fixing mesh grid, assuming a uniform grid ------\n",
      "x_gridstep:\t 200.0 m\n",
      "y_gridstep:\t 200.0 m\n",
      "width:\t\t 26000.0 m\n",
      "length:\t\t 36200.0 m\n",
      "132 x 182 grid\n"
     ]
    }
   ],
   "source": [
    "combined = fixCORs(combined)\n",
    "combined = fixMeshGrid(combined, mystery_flag=True)\n",
    "combined['bottom_diff'] = first.DPS.isel(time = 0) - combined.DPS # Make accumulated deposition/erosion DataArray"
   ]
  },
  {
   "cell_type": "code",
   "execution_count": 65,
   "metadata": {},
   "outputs": [],
   "source": [
    "_, _, files = next(walk(results_folder[:-4]))\n",
    "nr_of_datasets = len(files) - 1 # .DS_Store wrecking things here\n",
    "nr_time_steps = int(combined.time.size)\n",
    "steps_per_dataset = int(nr_time_steps/nr_of_datasets)\n",
    "times = [i for i in range(steps_per_dataset-1, nr_time_steps+1, steps_per_dataset)]"
   ]
  },
  {
   "cell_type": "code",
   "execution_count": 66,
   "metadata": {},
   "outputs": [
    {
     "data": {
      "text/markdown": [
       "\n",
       "# Times\n",
       "| Name | Value |\n",
       "| --- | --- |\n",
       "| Nr of timesteps total | 144 |\n",
       "| Nr of datasets | 12 |\n",
       "| Timestep per set | 12 |\n"
      ],
      "text/plain": [
       "<IPython.core.display.Markdown object>"
      ]
     },
     "execution_count": 66,
     "metadata": {},
     "output_type": "execute_result"
    }
   ],
   "source": [
    "md(f\"\"\"\n",
    "# Times\n",
    "| Name | Value |\n",
    "| --- | --- |\n",
    "| Nr of timesteps total | {nr_time_steps} |\n",
    "| Nr of datasets | {nr_of_datasets} |\n",
    "| Timestep per set | {steps_per_dataset} |\n",
    "\"\"\")"
   ]
  },
  {
   "cell_type": "code",
   "execution_count": 67,
   "metadata": {},
   "outputs": [
    {
     "data": {
      "text/plain": [
       "[11, 23, 35, 47, 59, 71, 83, 95, 107, 119, 131, 143]"
      ]
     },
     "execution_count": 67,
     "metadata": {},
     "output_type": "execute_result"
    }
   ],
   "source": [
    "times"
   ]
  },
  {
   "cell_type": "code",
   "execution_count": 69,
   "metadata": {},
   "outputs": [],
   "source": [
    "# Returns a new dataset with each array indexed along every n-th value for the specified dimension(s)\n",
    "# So only timesteps on last of each run\n",
    "# Ignore channel, only basin part\n",
    "only_last_timestep_each_run = combined.thin({'time': steps_per_dataset }).isel(N=slice(75,None))"
   ]
  },
  {
   "cell_type": "markdown",
   "metadata": {},
   "source": [
    "# Depocenter coords\n",
    "Ignoring channel"
   ]
  },
  {
   "cell_type": "code",
   "execution_count": 70,
   "metadata": {},
   "outputs": [
    {
     "data": {
      "text/html": [
       "<div><svg style=\"position: absolute; width: 0; height: 0; overflow: hidden\">\n",
       "<defs>\n",
       "<symbol id=\"icon-database\" viewBox=\"0 0 32 32\">\n",
       "<title>Show/Hide data repr</title>\n",
       "<path d=\"M16 0c-8.837 0-16 2.239-16 5v4c0 2.761 7.163 5 16 5s16-2.239 16-5v-4c0-2.761-7.163-5-16-5z\"></path>\n",
       "<path d=\"M16 17c-8.837 0-16-2.239-16-5v6c0 2.761 7.163 5 16 5s16-2.239 16-5v-6c0 2.761-7.163 5-16 5z\"></path>\n",
       "<path d=\"M16 26c-8.837 0-16-2.239-16-5v6c0 2.761 7.163 5 16 5s16-2.239 16-5v-6c0 2.761-7.163 5-16 5z\"></path>\n",
       "</symbol>\n",
       "<symbol id=\"icon-file-text2\" viewBox=\"0 0 32 32\">\n",
       "<title>Show/Hide attributes</title>\n",
       "<path d=\"M28.681 7.159c-0.694-0.947-1.662-2.053-2.724-3.116s-2.169-2.030-3.116-2.724c-1.612-1.182-2.393-1.319-2.841-1.319h-15.5c-1.378 0-2.5 1.121-2.5 2.5v27c0 1.378 1.122 2.5 2.5 2.5h23c1.378 0 2.5-1.122 2.5-2.5v-19.5c0-0.448-0.137-1.23-1.319-2.841zM24.543 5.457c0.959 0.959 1.712 1.825 2.268 2.543h-4.811v-4.811c0.718 0.556 1.584 1.309 2.543 2.268zM28 29.5c0 0.271-0.229 0.5-0.5 0.5h-23c-0.271 0-0.5-0.229-0.5-0.5v-27c0-0.271 0.229-0.5 0.5-0.5 0 0 15.499-0 15.5 0v7c0 0.552 0.448 1 1 1h7v19.5z\"></path>\n",
       "<path d=\"M23 26h-14c-0.552 0-1-0.448-1-1s0.448-1 1-1h14c0.552 0 1 0.448 1 1s-0.448 1-1 1z\"></path>\n",
       "<path d=\"M23 22h-14c-0.552 0-1-0.448-1-1s0.448-1 1-1h14c0.552 0 1 0.448 1 1s-0.448 1-1 1z\"></path>\n",
       "<path d=\"M23 18h-14c-0.552 0-1-0.448-1-1s0.448-1 1-1h14c0.552 0 1 0.448 1 1s-0.448 1-1 1z\"></path>\n",
       "</symbol>\n",
       "</defs>\n",
       "</svg>\n",
       "<style>/* CSS stylesheet for displaying xarray objects in jupyterlab.\n",
       " *\n",
       " */\n",
       "\n",
       ":root {\n",
       "  --xr-font-color0: var(--jp-content-font-color0, rgba(0, 0, 0, 1));\n",
       "  --xr-font-color2: var(--jp-content-font-color2, rgba(0, 0, 0, 0.54));\n",
       "  --xr-font-color3: var(--jp-content-font-color3, rgba(0, 0, 0, 0.38));\n",
       "  --xr-border-color: var(--jp-border-color2, #e0e0e0);\n",
       "  --xr-disabled-color: var(--jp-layout-color3, #bdbdbd);\n",
       "  --xr-background-color: var(--jp-layout-color0, white);\n",
       "  --xr-background-color-row-even: var(--jp-layout-color1, white);\n",
       "  --xr-background-color-row-odd: var(--jp-layout-color2, #eeeeee);\n",
       "}\n",
       "\n",
       ".xr-wrap {\n",
       "  min-width: 300px;\n",
       "  max-width: 700px;\n",
       "}\n",
       "\n",
       ".xr-header {\n",
       "  padding-top: 6px;\n",
       "  padding-bottom: 6px;\n",
       "  margin-bottom: 4px;\n",
       "  border-bottom: solid 1px var(--xr-border-color);\n",
       "}\n",
       "\n",
       ".xr-header > div,\n",
       ".xr-header > ul {\n",
       "  display: inline;\n",
       "  margin-top: 0;\n",
       "  margin-bottom: 0;\n",
       "}\n",
       "\n",
       ".xr-obj-type,\n",
       ".xr-array-name {\n",
       "  margin-left: 2px;\n",
       "  margin-right: 10px;\n",
       "}\n",
       "\n",
       ".xr-obj-type {\n",
       "  color: var(--xr-font-color2);\n",
       "}\n",
       "\n",
       ".xr-sections {\n",
       "  padding-left: 0 !important;\n",
       "  display: grid;\n",
       "  grid-template-columns: 150px auto auto 1fr 20px 20px;\n",
       "}\n",
       "\n",
       ".xr-section-item {\n",
       "  display: contents;\n",
       "}\n",
       "\n",
       ".xr-section-item input {\n",
       "  display: none;\n",
       "}\n",
       "\n",
       ".xr-section-item input + label {\n",
       "  color: var(--xr-disabled-color);\n",
       "}\n",
       "\n",
       ".xr-section-item input:enabled + label {\n",
       "  cursor: pointer;\n",
       "  color: var(--xr-font-color2);\n",
       "}\n",
       "\n",
       ".xr-section-item input:enabled + label:hover {\n",
       "  color: var(--xr-font-color0);\n",
       "}\n",
       "\n",
       ".xr-section-summary {\n",
       "  grid-column: 1;\n",
       "  color: var(--xr-font-color2);\n",
       "  font-weight: 500;\n",
       "}\n",
       "\n",
       ".xr-section-summary > span {\n",
       "  display: inline-block;\n",
       "  padding-left: 0.5em;\n",
       "}\n",
       "\n",
       ".xr-section-summary-in:disabled + label {\n",
       "  color: var(--xr-font-color2);\n",
       "}\n",
       "\n",
       ".xr-section-summary-in + label:before {\n",
       "  display: inline-block;\n",
       "  content: '►';\n",
       "  font-size: 11px;\n",
       "  width: 15px;\n",
       "  text-align: center;\n",
       "}\n",
       "\n",
       ".xr-section-summary-in:disabled + label:before {\n",
       "  color: var(--xr-disabled-color);\n",
       "}\n",
       "\n",
       ".xr-section-summary-in:checked + label:before {\n",
       "  content: '▼';\n",
       "}\n",
       "\n",
       ".xr-section-summary-in:checked + label > span {\n",
       "  display: none;\n",
       "}\n",
       "\n",
       ".xr-section-summary,\n",
       ".xr-section-inline-details {\n",
       "  padding-top: 4px;\n",
       "  padding-bottom: 4px;\n",
       "}\n",
       "\n",
       ".xr-section-inline-details {\n",
       "  grid-column: 2 / -1;\n",
       "}\n",
       "\n",
       ".xr-section-details {\n",
       "  display: none;\n",
       "  grid-column: 1 / -1;\n",
       "  margin-bottom: 5px;\n",
       "}\n",
       "\n",
       ".xr-section-summary-in:checked ~ .xr-section-details {\n",
       "  display: contents;\n",
       "}\n",
       "\n",
       ".xr-array-wrap {\n",
       "  grid-column: 1 / -1;\n",
       "  display: grid;\n",
       "  grid-template-columns: 20px auto;\n",
       "}\n",
       "\n",
       ".xr-array-wrap > label {\n",
       "  grid-column: 1;\n",
       "  vertical-align: top;\n",
       "}\n",
       "\n",
       ".xr-preview {\n",
       "  color: var(--xr-font-color3);\n",
       "}\n",
       "\n",
       ".xr-array-preview,\n",
       ".xr-array-data {\n",
       "  padding: 0 5px !important;\n",
       "  grid-column: 2;\n",
       "}\n",
       "\n",
       ".xr-array-data,\n",
       ".xr-array-in:checked ~ .xr-array-preview {\n",
       "  display: none;\n",
       "}\n",
       "\n",
       ".xr-array-in:checked ~ .xr-array-data,\n",
       ".xr-array-preview {\n",
       "  display: inline-block;\n",
       "}\n",
       "\n",
       ".xr-dim-list {\n",
       "  display: inline-block !important;\n",
       "  list-style: none;\n",
       "  padding: 0 !important;\n",
       "  margin: 0;\n",
       "}\n",
       "\n",
       ".xr-dim-list li {\n",
       "  display: inline-block;\n",
       "  padding: 0;\n",
       "  margin: 0;\n",
       "}\n",
       "\n",
       ".xr-dim-list:before {\n",
       "  content: '(';\n",
       "}\n",
       "\n",
       ".xr-dim-list:after {\n",
       "  content: ')';\n",
       "}\n",
       "\n",
       ".xr-dim-list li:not(:last-child):after {\n",
       "  content: ',';\n",
       "  padding-right: 5px;\n",
       "}\n",
       "\n",
       ".xr-has-index {\n",
       "  font-weight: bold;\n",
       "}\n",
       "\n",
       ".xr-var-list,\n",
       ".xr-var-item {\n",
       "  display: contents;\n",
       "}\n",
       "\n",
       ".xr-var-item > div,\n",
       ".xr-var-item label,\n",
       ".xr-var-item > .xr-var-name span {\n",
       "  background-color: var(--xr-background-color-row-even);\n",
       "  margin-bottom: 0;\n",
       "}\n",
       "\n",
       ".xr-var-item > .xr-var-name:hover span {\n",
       "  padding-right: 5px;\n",
       "}\n",
       "\n",
       ".xr-var-list > li:nth-child(odd) > div,\n",
       ".xr-var-list > li:nth-child(odd) > label,\n",
       ".xr-var-list > li:nth-child(odd) > .xr-var-name span {\n",
       "  background-color: var(--xr-background-color-row-odd);\n",
       "}\n",
       "\n",
       ".xr-var-name {\n",
       "  grid-column: 1;\n",
       "}\n",
       "\n",
       ".xr-var-dims {\n",
       "  grid-column: 2;\n",
       "}\n",
       "\n",
       ".xr-var-dtype {\n",
       "  grid-column: 3;\n",
       "  text-align: right;\n",
       "  color: var(--xr-font-color2);\n",
       "}\n",
       "\n",
       ".xr-var-preview {\n",
       "  grid-column: 4;\n",
       "}\n",
       "\n",
       ".xr-var-name,\n",
       ".xr-var-dims,\n",
       ".xr-var-dtype,\n",
       ".xr-preview,\n",
       ".xr-attrs dt {\n",
       "  white-space: nowrap;\n",
       "  overflow: hidden;\n",
       "  text-overflow: ellipsis;\n",
       "  padding-right: 10px;\n",
       "}\n",
       "\n",
       ".xr-var-name:hover,\n",
       ".xr-var-dims:hover,\n",
       ".xr-var-dtype:hover,\n",
       ".xr-attrs dt:hover {\n",
       "  overflow: visible;\n",
       "  width: auto;\n",
       "  z-index: 1;\n",
       "}\n",
       "\n",
       ".xr-var-attrs,\n",
       ".xr-var-data {\n",
       "  display: none;\n",
       "  background-color: var(--xr-background-color) !important;\n",
       "  padding-bottom: 5px !important;\n",
       "}\n",
       "\n",
       ".xr-var-attrs-in:checked ~ .xr-var-attrs,\n",
       ".xr-var-data-in:checked ~ .xr-var-data {\n",
       "  display: block;\n",
       "}\n",
       "\n",
       ".xr-var-data > table {\n",
       "  float: right;\n",
       "}\n",
       "\n",
       ".xr-var-name span,\n",
       ".xr-var-data,\n",
       ".xr-attrs {\n",
       "  padding-left: 25px !important;\n",
       "}\n",
       "\n",
       ".xr-attrs,\n",
       ".xr-var-attrs,\n",
       ".xr-var-data {\n",
       "  grid-column: 1 / -1;\n",
       "}\n",
       "\n",
       "dl.xr-attrs {\n",
       "  padding: 0;\n",
       "  margin: 0;\n",
       "  display: grid;\n",
       "  grid-template-columns: 125px auto;\n",
       "}\n",
       "\n",
       ".xr-attrs dt, dd {\n",
       "  padding: 0;\n",
       "  margin: 0;\n",
       "  float: left;\n",
       "  padding-right: 10px;\n",
       "  width: auto;\n",
       "}\n",
       "\n",
       ".xr-attrs dt {\n",
       "  font-weight: normal;\n",
       "  grid-column: 1;\n",
       "}\n",
       "\n",
       ".xr-attrs dt:hover span {\n",
       "  display: inline-block;\n",
       "  background: var(--xr-background-color);\n",
       "  padding-right: 10px;\n",
       "}\n",
       "\n",
       ".xr-attrs dd {\n",
       "  grid-column: 2;\n",
       "  white-space: pre-wrap;\n",
       "  word-break: break-all;\n",
       "}\n",
       "\n",
       ".xr-icon-database,\n",
       ".xr-icon-file-text2 {\n",
       "  display: inline-block;\n",
       "  vertical-align: middle;\n",
       "  width: 1em;\n",
       "  height: 1.5em !important;\n",
       "  stroke-width: 0;\n",
       "  stroke: currentColor;\n",
       "  fill: currentColor;\n",
       "}\n",
       "</style><div class='xr-wrap'><div class='xr-header'><div class='xr-obj-type'>xarray.DataArray</div><div class='xr-array-name'>'time'</div><ul class='xr-dim-list'><li><span class='xr-has-index'>time</span>: 12</li></ul></div><ul class='xr-sections'><li class='xr-section-item'><div class='xr-array-wrap'><input id='section-169d9d7e-962f-443c-90da-3d49763724d0' class='xr-array-in' type='checkbox' ><label for='section-169d9d7e-962f-443c-90da-3d49763724d0' title='Show/hide data repr'><svg class='icon xr-icon-database'><use xlink:href='#icon-database'></use></svg></label><div class='xr-array-preview xr-preview'><span>2020-02-01T20:30:00 2020-02-04T10:00:00 ... 2020-03-13T20:30:00</span></div><pre class='xr-array-data'>array([&#x27;2020-02-01T20:30:00.000000000&#x27;, &#x27;2020-02-04T10:00:00.000000000&#x27;,\n",
       "       &#x27;2020-02-05T06:30:00.000000000&#x27;, &#x27;2020-02-08T16:30:00.000000000&#x27;,\n",
       "       &#x27;2020-02-12T23:00:00.000000000&#x27;, &#x27;2020-02-17T05:30:00.000000000&#x27;,\n",
       "       &#x27;2020-02-21T12:00:00.000000000&#x27;, &#x27;2020-02-25T18:30:00.000000000&#x27;,\n",
       "       &#x27;2020-03-01T01:00:00.000000000&#x27;, &#x27;2020-03-05T07:30:00.000000000&#x27;,\n",
       "       &#x27;2020-03-09T14:00:00.000000000&#x27;, &#x27;2020-03-13T20:30:00.000000000&#x27;],\n",
       "      dtype=&#x27;datetime64[ns]&#x27;)</pre></div></li><li class='xr-section-item'><input id='section-709b2602-b593-47d7-8617-e2e0be950a84' class='xr-section-summary-in' type='checkbox'  checked><label for='section-709b2602-b593-47d7-8617-e2e0be950a84' class='xr-section-summary' >Coordinates: <span>(1)</span></label><div class='xr-section-inline-details'></div><div class='xr-section-details'><ul class='xr-var-list'><li class='xr-var-item'><div class='xr-var-name'><span class='xr-has-index'>time</span></div><div class='xr-var-dims'>(time)</div><div class='xr-var-dtype'>datetime64[ns]</div><div class='xr-var-preview xr-preview'>2020-02-01T20:30:00 ... 2020-03-13T20:30:00</div><input id='attrs-734fe7df-3dc4-4a14-8567-122862adbedc' class='xr-var-attrs-in' type='checkbox' ><label for='attrs-734fe7df-3dc4-4a14-8567-122862adbedc' title='Show/Hide attributes'><svg class='icon xr-icon-file-text2'><use xlink:href='#icon-file-text2'></use></svg></label><input id='data-5079173e-7648-4d71-9242-983bd5d8afcf' class='xr-var-data-in' type='checkbox'><label for='data-5079173e-7648-4d71-9242-983bd5d8afcf' title='Show/Hide data repr'><svg class='icon xr-icon-database'><use xlink:href='#icon-database'></use></svg></label><div class='xr-var-attrs'><dl class='xr-attrs'><dt><span>standard_name :</span></dt><dd>time</dd><dt><span>long_name :</span></dt><dd>time</dd></dl></div><pre class='xr-var-data'>array([&#x27;2020-02-01T20:30:00.000000000&#x27;, &#x27;2020-02-04T10:00:00.000000000&#x27;,\n",
       "       &#x27;2020-02-05T06:30:00.000000000&#x27;, &#x27;2020-02-08T16:30:00.000000000&#x27;,\n",
       "       &#x27;2020-02-12T23:00:00.000000000&#x27;, &#x27;2020-02-17T05:30:00.000000000&#x27;,\n",
       "       &#x27;2020-02-21T12:00:00.000000000&#x27;, &#x27;2020-02-25T18:30:00.000000000&#x27;,\n",
       "       &#x27;2020-03-01T01:00:00.000000000&#x27;, &#x27;2020-03-05T07:30:00.000000000&#x27;,\n",
       "       &#x27;2020-03-09T14:00:00.000000000&#x27;, &#x27;2020-03-13T20:30:00.000000000&#x27;],\n",
       "      dtype=&#x27;datetime64[ns]&#x27;)</pre></li></ul></div></li><li class='xr-section-item'><input id='section-4982ef70-03f4-4db9-a3f3-f4dff51f48ae' class='xr-section-summary-in' type='checkbox'  checked><label for='section-4982ef70-03f4-4db9-a3f3-f4dff51f48ae' class='xr-section-summary' >Attributes: <span>(2)</span></label><div class='xr-section-inline-details'></div><div class='xr-section-details'><dl class='xr-attrs'><dt><span>standard_name :</span></dt><dd>time</dd><dt><span>long_name :</span></dt><dd>time</dd></dl></div></li></ul></div></div>"
      ],
      "text/plain": [
       "<xarray.DataArray 'time' (time: 12)>\n",
       "array(['2020-02-01T20:30:00.000000000', '2020-02-04T10:00:00.000000000',\n",
       "       '2020-02-05T06:30:00.000000000', '2020-02-08T16:30:00.000000000',\n",
       "       '2020-02-12T23:00:00.000000000', '2020-02-17T05:30:00.000000000',\n",
       "       '2020-02-21T12:00:00.000000000', '2020-02-25T18:30:00.000000000',\n",
       "       '2020-03-01T01:00:00.000000000', '2020-03-05T07:30:00.000000000',\n",
       "       '2020-03-09T14:00:00.000000000', '2020-03-13T20:30:00.000000000'],\n",
       "      dtype='datetime64[ns]')\n",
       "Coordinates:\n",
       "  * time     (time) datetime64[ns] 2020-02-01T20:30:00 ... 2020-03-13T20:30:00\n",
       "Attributes:\n",
       "    standard_name:  time\n",
       "    long_name:      time"
      ]
     },
     "execution_count": 70,
     "metadata": {},
     "output_type": "execute_result"
    }
   ],
   "source": [
    "only_last_timestep_each_run.time"
   ]
  },
  {
   "cell_type": "markdown",
   "metadata": {},
   "source": [
    "# Plan (cumulative thickest point)\n",
    "* Include first run, very important! Bottom diff should be relative to first run\n",
    "* use thinned dataset\n",
    "* loop over each time in thinned datasat (should be last of each 5th run)\n",
    "* get the depocenter coords"
   ]
  },
  {
   "cell_type": "code",
   "execution_count": 71,
   "metadata": {},
   "outputs": [
    {
     "name": "stdout",
     "output_type": "stream",
     "text": [
      "time 1\n",
      "thickest: 0.1473999 lowest -0.7699585\n",
      "time 2\n",
      "thickest: 0.1687622 lowest -0.7974243\n",
      "time 3\n",
      "thickest: 0.3076172 lowest -1.4804688\n",
      "time 4\n",
      "thickest: 0.4595337 lowest -2.1726685\n",
      "time 5\n",
      "thickest: 0.60375977 lowest -2.8484497\n",
      "time 6\n",
      "thickest: 0.743103 lowest -3.5142517\n",
      "time 7\n",
      "thickest: 0.88323975 lowest -4.1671753\n",
      "time 8\n",
      "thickest: 1.0234375 lowest -4.8122253\n",
      "time 9\n",
      "thickest: 1.1583862 lowest -5.4520874\n",
      "time 10\n",
      "thickest: 1.2886353 lowest -6.087158\n",
      "time 11\n",
      "thickest: 1.4125366 lowest -6.724365\n"
     ]
    }
   ],
   "source": [
    "thickest_points = []\n",
    "lowest_point = []\n",
    "\n",
    "for time in range(1, only_last_timestep_per_run.time.size):\n",
    "    print('time', time)\n",
    "    bottom_diff_at_time = only_last_timestep_per_run.bottom_diff.isel(time=time).squeeze()\n",
    "    \n",
    "    thickest_deposit_height = bottom_diff_at_time.max().values    \n",
    "    lowest_deposit_height = bottom_diff_at_time.min().values\n",
    "\n",
    "    print(\"thickest:\", thickest_deposit_height, \"lowest\", lowest_deposit_height)\n",
    "    \n",
    "    x_coord_erosion = bottom_diff_at_time.where(bottom_diff_at_time == lowest_deposit_height, drop=True).squeeze().XZ.values\n",
    "    y_coord_erosion = bottom_diff_at_time.where(bottom_diff_at_time == lowest_deposit_height, drop=True).squeeze().YZ.values\n",
    "    \n",
    "    x_coord_depocenter = bottom_diff_at_time.where(bottom_diff_at_time == thickest_deposit_height, drop=True).squeeze().XZ.values\n",
    "    y_coord_depocenter = bottom_diff_at_time.where(bottom_diff_at_time == thickest_deposit_height, drop=True).squeeze().YZ.values\n",
    "    \n",
    "    thickest_points.append(\n",
    "        {\"x\": x_coord_depocenter,\n",
    "         \"y\": y_coord_depocenter,\n",
    "         \"height\": float(thickest_deposit_height),\n",
    "         \"run\": int(time-1*5)\n",
    "        })\n",
    "#     lowest_point_coords.append([int(x_coord_erosion),int(y_coord_depocenter) ])"
   ]
  },
  {
   "cell_type": "code",
   "execution_count": 28,
   "metadata": {},
   "outputs": [
    {
     "data": {
      "text/plain": [
       "[{'x': array([11500, 14500]),\n",
       "  'y': array([18600, 18600]),\n",
       "  'height': 0.0380859375,\n",
       "  'run': -4},\n",
       " {'x': array(11500), 'y': array(18600), 'height': 0.1112060546875, 'run': -3},\n",
       " {'x': array(11500), 'y': array(18600), 'height': 0.27044677734375, 'run': -2},\n",
       " {'x': array(11500), 'y': array(18600), 'height': 0.42083740234375, 'run': -1},\n",
       " {'x': array(11500), 'y': array(18600), 'height': 0.561767578125, 'run': 0},\n",
       " {'x': array(11700), 'y': array(18800), 'height': 0.6973876953125, 'run': 1},\n",
       " {'x': array(12300), 'y': array(19600), 'height': 0.83270263671875, 'run': 2},\n",
       " {'x': array(12300), 'y': array(19600), 'height': 0.9676513671875, 'run': 3},\n",
       " {'x': array(12300), 'y': array(19600), 'height': 1.10107421875, 'run': 4},\n",
       " {'x': array(12300), 'y': array(19600), 'height': 1.232421875, 'run': 5},\n",
       " {'x': array(12300), 'y': array(19600), 'height': 1.35595703125, 'run': 6}]"
      ]
     },
     "execution_count": 28,
     "metadata": {},
     "output_type": "execute_result"
    }
   ],
   "source": [
    "thickest_points"
   ]
  },
  {
   "cell_type": "code",
   "execution_count": 13,
   "metadata": {},
   "outputs": [
    {
     "data": {
      "text/plain": [
       "[[13100, 18200],\n",
       " [13500, 18400],\n",
       " [13500, 18400],\n",
       " [13500, 18600],\n",
       " [13500, 18600],\n",
       " [13500, 18600],\n",
       " [13500, 18600],\n",
       " [13500, 21600],\n",
       " [13500, 21600],\n",
       " [13500, 21600]]"
      ]
     },
     "execution_count": 13,
     "metadata": {},
     "output_type": "execute_result"
    }
   ],
   "source": [
    "lowest_point_coords"
   ]
  },
  {
   "cell_type": "markdown",
   "metadata": {},
   "source": [
    "\n",
    "# Plot Slope 1.25"
   ]
  },
  {
   "cell_type": "code",
   "execution_count": 16,
   "metadata": {},
   "outputs": [],
   "source": [
    "import matplotlib.pyplot as plt\n",
    "import matplotlib.patheffects as PathEffects\n",
    "from mpl_toolkits.mplot3d import Axes3D\n",
    "from JulesD3D.D3DModel import D3DModel\n",
    "%load_ext autoreload"
   ]
  },
  {
   "cell_type": "code",
   "execution_count": 17,
   "metadata": {},
   "outputs": [],
   "source": [
    "%reload_ext autoreload"
   ]
  },
  {
   "cell_type": "code",
   "execution_count": 19,
   "metadata": {},
   "outputs": [],
   "source": [
    "# from JulesD3D.grid import Grid\n",
    "# from JulesD3D.dep import Depth\n",
    "\n",
    "# for root, dirs, files in walk(model_folder):\n",
    "#     for file in files:\n",
    "#         if file.endswith('grd'):\n",
    "#             grid_filename = path.join(model_folder, file)\n",
    "#         if file.endswith('dep'):\n",
    "#             dep_filename = path.join(model_folder, file)\n",
    "# grid = Grid.read(grid_filename)\n",
    "# grid.shape\n",
    "# dep = Depth.read(dep_filename, grid.shape)\n",
    "# depth_matrix = dep.values[0:-1,0:-1]"
   ]
  },
  {
   "cell_type": "code",
   "execution_count": 60,
   "metadata": {},
   "outputs": [
    {
     "data": {
      "text/plain": [
       "['Run 5: x m',\n",
       " 'Run 10: x m',\n",
       " 'Run 15: x m',\n",
       " 'Run 20: x m',\n",
       " 'Run 25: x m',\n",
       " 'Run 30: x m',\n",
       " 'Run 35: x m',\n",
       " 'Run 40: x m',\n",
       " 'Run 45: x m',\n",
       " 'Run 50: x m']"
      ]
     },
     "execution_count": 60,
     "metadata": {},
     "output_type": "execute_result"
    }
   ],
   "source": [
    "thick_125_x, thick_125_y = zip(*thickest_point_coords)\n",
    "labels_125 = [f\"Run {((i+1)*5)}: x m\" for i in range(len(thick_125_x))]\n",
    "labels_125"
   ]
  },
  {
   "cell_type": "code",
   "execution_count": 30,
   "metadata": {},
   "outputs": [],
   "source": [
    "model_folder = \"/Users/julesblom/Dropbox/TU/Master/Thesis/Runs/Current/ResetEvery5_Slope1.25/Run01\""
   ]
  },
  {
   "cell_type": "code",
   "execution_count": 31,
   "metadata": {},
   "outputs": [
    {
     "name": "stdout",
     "output_type": "stream",
     "text": [
      "D3D model filenames\n"
     ]
    },
    {
     "data": {
      "text/html": [
       "<div>\n",
       "<style scoped>\n",
       "    .dataframe tbody tr th:only-of-type {\n",
       "        vertical-align: middle;\n",
       "    }\n",
       "\n",
       "    .dataframe tbody tr th {\n",
       "        vertical-align: top;\n",
       "    }\n",
       "\n",
       "    .dataframe thead th {\n",
       "        text-align: right;\n",
       "    }\n",
       "</style>\n",
       "<table border=\"1\" class=\"dataframe\">\n",
       "  <thead>\n",
       "    <tr style=\"text-align: right;\">\n",
       "      <th></th>\n",
       "      <th>type</th>\n",
       "      <th>filename</th>\n",
       "    </tr>\n",
       "  </thead>\n",
       "  <tbody>\n",
       "    <tr>\n",
       "      <th>0</th>\n",
       "      <td>B.C. Constituents</td>\n",
       "      <td>5050_15.bcc</td>\n",
       "    </tr>\n",
       "    <tr>\n",
       "      <th>1</th>\n",
       "      <td>Depth</td>\n",
       "      <td>gen_36_by_26km.dep</td>\n",
       "    </tr>\n",
       "    <tr>\n",
       "      <th>2</th>\n",
       "      <td>MDF</td>\n",
       "      <td>36km_200m_W60Channel.mdf</td>\n",
       "    </tr>\n",
       "    <tr>\n",
       "      <th>3</th>\n",
       "      <td>Boundary</td>\n",
       "      <td>QChannelZdeep.bnd</td>\n",
       "    </tr>\n",
       "    <tr>\n",
       "      <th>4</th>\n",
       "      <td>Grid</td>\n",
       "      <td>36km_26km_W60Channel.grd</td>\n",
       "    </tr>\n",
       "    <tr>\n",
       "      <th>5</th>\n",
       "      <td>Enclosure</td>\n",
       "      <td>36km_1cellchannel_15km.enc</td>\n",
       "    </tr>\n",
       "    <tr>\n",
       "      <th>6</th>\n",
       "      <td>Morphology</td>\n",
       "      <td>20_20.mor</td>\n",
       "    </tr>\n",
       "    <tr>\n",
       "      <th>7</th>\n",
       "      <td>Sediments</td>\n",
       "      <td>SandSilt.sed</td>\n",
       "    </tr>\n",
       "    <tr>\n",
       "      <th>8</th>\n",
       "      <td>B.C. Time series</td>\n",
       "      <td>discharge4500.bct</td>\n",
       "    </tr>\n",
       "  </tbody>\n",
       "</table>\n",
       "</div>"
      ],
      "text/plain": [
       "                type                    filename\n",
       "0  B.C. Constituents                 5050_15.bcc\n",
       "1              Depth          gen_36_by_26km.dep\n",
       "2                MDF    36km_200m_W60Channel.mdf\n",
       "3           Boundary           QChannelZdeep.bnd\n",
       "4               Grid    36km_26km_W60Channel.grd\n",
       "5          Enclosure  36km_1cellchannel_15km.enc\n",
       "6         Morphology                   20_20.mor\n",
       "7          Sediments                SandSilt.sed\n",
       "8   B.C. Time series           discharge4500.bct"
      ]
     },
     "metadata": {},
     "output_type": "display_data"
    },
    {
     "name": "stdout",
     "output_type": "stream",
     "text": [
      "Boundary file\n"
     ]
    },
    {
     "data": {
      "text/html": [
       "<div>\n",
       "<style scoped>\n",
       "    .dataframe tbody tr th:only-of-type {\n",
       "        vertical-align: middle;\n",
       "    }\n",
       "\n",
       "    .dataframe tbody tr th {\n",
       "        vertical-align: top;\n",
       "    }\n",
       "\n",
       "    .dataframe thead th {\n",
       "        text-align: right;\n",
       "    }\n",
       "</style>\n",
       "<table border=\"1\" class=\"dataframe\">\n",
       "  <thead>\n",
       "    <tr style=\"text-align: right;\">\n",
       "      <th></th>\n",
       "      <th>name</th>\n",
       "      <th>type</th>\n",
       "      <th>forcing</th>\n",
       "      <th>m1</th>\n",
       "      <th>n1</th>\n",
       "      <th>m2</th>\n",
       "      <th>n2</th>\n",
       "      <th>reflection coefficient</th>\n",
       "      <th>vertical profile</th>\n",
       "      <th>label1</th>\n",
       "      <th>label2</th>\n",
       "    </tr>\n",
       "  </thead>\n",
       "  <tbody>\n",
       "    <tr>\n",
       "      <th>0</th>\n",
       "      <td>Discharge</td>\n",
       "      <td>Q</td>\n",
       "      <td>T</td>\n",
       "      <td>66</td>\n",
       "      <td>1</td>\n",
       "      <td>66</td>\n",
       "      <td>1</td>\n",
       "      <td>200.0</td>\n",
       "      <td>3d-profile</td>\n",
       "      <td>NaN</td>\n",
       "      <td>NaN</td>\n",
       "    </tr>\n",
       "    <tr>\n",
       "      <th>1</th>\n",
       "      <td>deep</td>\n",
       "      <td>Z</td>\n",
       "      <td>T</td>\n",
       "      <td>2</td>\n",
       "      <td>182</td>\n",
       "      <td>131</td>\n",
       "      <td>182</td>\n",
       "      <td>200.0</td>\n",
       "      <td>NaN</td>\n",
       "      <td>NaN</td>\n",
       "      <td>NaN</td>\n",
       "    </tr>\n",
       "  </tbody>\n",
       "</table>\n",
       "</div>"
      ],
      "text/plain": [
       "        name type forcing  m1   n1   m2   n2  reflection coefficient  \\\n",
       "0  Discharge    Q       T  66    1   66    1                   200.0   \n",
       "1       deep    Z       T   2  182  131  182                   200.0   \n",
       "\n",
       "  vertical profile  label1  label2  \n",
       "0       3d-profile     NaN     NaN  \n",
       "1              NaN     NaN     NaN  "
      ]
     },
     "metadata": {},
     "output_type": "display_data"
    },
    {
     "name": "stdout",
     "output_type": "stream",
     "text": [
      "Enclosure values\n"
     ]
    },
    {
     "data": {
      "text/html": [
       "<div>\n",
       "<style scoped>\n",
       "    .dataframe tbody tr th:only-of-type {\n",
       "        vertical-align: middle;\n",
       "    }\n",
       "\n",
       "    .dataframe tbody tr th {\n",
       "        vertical-align: top;\n",
       "    }\n",
       "\n",
       "    .dataframe thead th {\n",
       "        text-align: right;\n",
       "    }\n",
       "</style>\n",
       "<table border=\"1\" class=\"dataframe\">\n",
       "  <thead>\n",
       "    <tr style=\"text-align: right;\">\n",
       "      <th></th>\n",
       "      <th>x</th>\n",
       "      <th>y</th>\n",
       "    </tr>\n",
       "  </thead>\n",
       "  <tbody>\n",
       "    <tr>\n",
       "      <th>0</th>\n",
       "      <td>1</td>\n",
       "      <td>75</td>\n",
       "    </tr>\n",
       "    <tr>\n",
       "      <th>1</th>\n",
       "      <td>64</td>\n",
       "      <td>75</td>\n",
       "    </tr>\n",
       "    <tr>\n",
       "      <th>2</th>\n",
       "      <td>64</td>\n",
       "      <td>1</td>\n",
       "    </tr>\n",
       "    <tr>\n",
       "      <th>3</th>\n",
       "      <td>69</td>\n",
       "      <td>1</td>\n",
       "    </tr>\n",
       "    <tr>\n",
       "      <th>4</th>\n",
       "      <td>69</td>\n",
       "      <td>75</td>\n",
       "    </tr>\n",
       "    <tr>\n",
       "      <th>5</th>\n",
       "      <td>132</td>\n",
       "      <td>75</td>\n",
       "    </tr>\n",
       "    <tr>\n",
       "      <th>6</th>\n",
       "      <td>132</td>\n",
       "      <td>182</td>\n",
       "    </tr>\n",
       "    <tr>\n",
       "      <th>7</th>\n",
       "      <td>1</td>\n",
       "      <td>182</td>\n",
       "    </tr>\n",
       "    <tr>\n",
       "      <th>8</th>\n",
       "      <td>1</td>\n",
       "      <td>75</td>\n",
       "    </tr>\n",
       "  </tbody>\n",
       "</table>\n",
       "</div>"
      ],
      "text/plain": [
       "     x    y\n",
       "0    1   75\n",
       "1   64   75\n",
       "2   64    1\n",
       "3   69    1\n",
       "4   69   75\n",
       "5  132   75\n",
       "6  132  182\n",
       "7    1  182\n",
       "8    1   75"
      ]
     },
     "metadata": {},
     "output_type": "display_data"
    }
   ],
   "source": [
    "slope125 = D3DModel(folderpath=model_folder)"
   ]
  },
  {
   "cell_type": "code",
   "execution_count": 65,
   "metadata": {},
   "outputs": [
    {
     "data": {
      "application/vnd.jupyter.widget-view+json": {
       "model_id": "b0dbd29af2004f689a06007edd86a204",
       "version_major": 2,
       "version_minor": 0
      },
      "text/plain": [
       "Canvas(toolbar=Toolbar(toolitems=[('Home', 'Reset original view', 'home', 'home'), ('Back', 'Back to previous …"
      ]
     },
     "metadata": {},
     "output_type": "display_data"
    },
    {
     "name": "stderr",
     "output_type": "stream",
     "text": [
      "No handles with labels found to put in legend.\n"
     ]
    }
   ],
   "source": [
    "fig, ax = slope125.plotMap(enclosure=False)"
   ]
  },
  {
   "cell_type": "code",
   "execution_count": 66,
   "metadata": {},
   "outputs": [
    {
     "name": "stdout",
     "output_type": "stream",
     "text": [
      "0\n",
      "Run 5: x m\n",
      "3\n",
      "Run 20: x m\n",
      "6\n",
      "Run 35: x m\n",
      "9\n",
      "Run 50: x m\n"
     ]
    }
   ],
   "source": [
    "ax.scatter(thick_125_x, thick_125_y, c='white', edgecolors=\"black\")\n",
    "for i  in range(0, len(labels_125), 3):\n",
    "    print(i)\n",
    "    print(labels_125[i])\n",
    "    anno = ax.annotate(labels_125[i], (thick_125_x[i], thick_125_y[i]), c='white')\n",
    "    anno.set_path_effects([PathEffects.withStroke(linewidth=0.4, foreground='black')])\n"
   ]
  },
  {
   "cell_type": "code",
   "execution_count": 41,
   "metadata": {},
   "outputs": [],
   "source": [
    "plt.show()"
   ]
  },
  {
   "cell_type": "code",
   "execution_count": null,
   "metadata": {},
   "outputs": [],
   "source": []
  }
 ],
 "metadata": {
  "kernelspec": {
   "display_name": "Python 3",
   "language": "python",
   "name": "python3"
  },
  "language_info": {
   "codemirror_mode": {
    "name": "ipython",
    "version": 3
   },
   "file_extension": ".py",
   "mimetype": "text/x-python",
   "name": "python",
   "nbconvert_exporter": "python",
   "pygments_lexer": "ipython3",
   "version": "3.7.7"
  }
 },
 "nbformat": 4,
 "nbformat_minor": 4
}
