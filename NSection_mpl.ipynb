{
 "cells": [
  {
   "cell_type": "markdown",
   "metadata": {},
   "source": [
    "# Plot N cross-section with matplotlib"
   ]
  },
  {
   "cell_type": "code",
   "execution_count": 1,
   "metadata": {},
   "outputs": [],
   "source": [
    "%matplotlib widget"
   ]
  },
  {
   "cell_type": "code",
   "execution_count": 4,
   "metadata": {},
   "outputs": [],
   "source": [
    "import xarray as xr\n",
    "import pandas as pd\n",
    "import matplotlib.pyplot as plt\n",
    "import numpy as np\n",
    "from JulesD3D.utils import quickDF"
   ]
  },
  {
   "cell_type": "code",
   "execution_count": 5,
   "metadata": {},
   "outputs": [],
   "source": [
    "ncfilename = '/Users/julesblom/ThesisResults/5050_single_slope/Slope1.50/Run1_clean.nc'\n",
    "trim = xr.open_dataset(ncfilename) # Lazyload DataSet with xarray, unload from memory with .close()"
   ]
  },
  {
   "cell_type": "code",
   "execution_count": 6,
   "metadata": {},
   "outputs": [],
   "source": [
    "# only if the NetCDF has already been processed\n",
    "depth_center = trim['depthcenter']"
   ]
  },
  {
   "cell_type": "code",
   "execution_count": 7,
   "metadata": {},
   "outputs": [],
   "source": [
    "selected_time = 20\n",
    "selected_M = 31\n",
    "\n",
    "density_m_31 = trim.RHO.isel(time=selected_time, M=selected_M) \n",
    "z_section_center = depth_center.isel(time=selected_time, M=selected_M) # density_m_31.depth_center.T #trim.depth_center.isel(time=this_time, M=this_M).T # why do i need to transpose this?\n",
    "\n",
    "z_section_intf = trim.depth.isel(time=selected_time, M=selected_M) # why do i need to transpose this?\n",
    "\n",
    "n_section = density_m_31.YZ\n",
    "\n",
    "_, mesh_N = np.meshgrid(trim.SIG_INTF.values, n_section)"
   ]
  },
  {
   "cell_type": "markdown",
   "metadata": {},
   "source": [
    "Sanity check of dimensions"
   ]
  },
  {
   "cell_type": "code",
   "execution_count": 12,
   "metadata": {},
   "outputs": [
    {
     "name": "stdout",
     "output_type": "stream",
     "text": [
      "quad_NSigma\t (202, 81)\n",
      "n_section\t (202,)\n",
      "z_section_center (202, 80)\n",
      "z_section_intf\t (202, 81)\n",
      "density_m_31\t (202, 80)\n"
     ]
    },
    {
     "name": "stderr",
     "output_type": "stream",
     "text": [
      "/Users/julesblom/.local/share/virtualenvs/ThesisPython-OwMgd5UG/lib/python3.7/site-packages/xarray/core/dataarray.py:1897: FutureWarning: This DataArray contains multi-dimensional coordinates. In the future, these coordinates will be transposed as well unless you specify transpose_coords=False.\n",
      "  return self.transpose()\n"
     ]
    }
   ],
   "source": [
    "print('quad_NSigma\\t', mesh_N.shape)\n",
    "print('n_section\\t', n_section.shape)\n",
    "print('z_section_center', z_section_center.shape)\n",
    "print('z_section_intf\\t', z_section_intf.shape)\n",
    "print('density_m_31\\t', density_m_31.T.shape)"
   ]
  },
  {
   "cell_type": "markdown",
   "metadata": {},
   "source": [
    "## Plot Sigma interfaces and center with length"
   ]
  },
  {
   "cell_type": "code",
   "execution_count": 17,
   "metadata": {},
   "outputs": [
    {
     "data": {
      "application/vnd.jupyter.widget-view+json": {
       "model_id": "289fa94d0b0f47c3873d5bb26b7cd6f6",
       "version_major": 2,
       "version_minor": 0
      },
      "text/plain": [
       "Canvas(toolbar=Toolbar(toolitems=[('Home', 'Reset original view', 'home', 'home'), ('Back', 'Back to previous …"
      ]
     },
     "metadata": {},
     "output_type": "display_data"
    }
   ],
   "source": [
    "fig, ax = plt.subplots(nrows=1, figsize=(9,6))\n",
    "plt.suptitle(\"Channel slope 0.5 - Basin slope 0.2\")\n",
    "plt.title('Sigma interfaces vertical section - Length')\n",
    "\n",
    "ax.plot(n_section, z_section_intf, c='k', linewidth=0.55, marker='+', markersize=0.1,)\n",
    "ax.plot(n_section, z_section_intf[:,42], c='hotpink', marker='o', markersize=1.5,)\n",
    "ax.plot(n_section, z_section_center, c='powderblue', linewidth=0.05, marker='+', markersize=0.1,)\n",
    "\n",
    "# ax.scatter(n_section, depth_m_31[:,10], s=1.5)\n",
    "ax.set_xlabel('Length [m]')\n",
    "ax.set_ylabel('Depth [m]')\n",
    "fig.show()"
   ]
  },
  {
   "cell_type": "markdown",
   "metadata": {},
   "source": [
    "## Plot Sigma interfaces and center with grid index"
   ]
  },
  {
   "cell_type": "code",
   "execution_count": 16,
   "metadata": {},
   "outputs": [
    {
     "data": {
      "application/vnd.jupyter.widget-view+json": {
       "model_id": "ad591b45750e44d1867b22291c9e21a0",
       "version_major": 2,
       "version_minor": 0
      },
      "text/plain": [
       "Canvas(toolbar=Toolbar(toolitems=[('Home', 'Reset original view', 'home', 'home'), ('Back', 'Back to previous …"
      ]
     },
     "metadata": {},
     "output_type": "display_data"
    }
   ],
   "source": [
    "fig_N, ax_N = plt.subplots(nrows=1, figsize=(9,6))\n",
    "ax_N.set_title('Sigma layers vertical section - N number')\n",
    "\n",
    "ax_N.plot(z_section_intf, c='k', linewidth=0.25, marker='+', markersize=0.1)\n",
    "ax_N.plot(z_section_center, c='g', linewidth=0.05, marker='+', markersize=0.1)\n",
    "ax_N.set_xlabel('N')\n",
    "ax_N.set_ylabel('Depth [m]')\n",
    "fig_N.show()"
   ]
  },
  {
   "cell_type": "markdown",
   "metadata": {},
   "source": [
    "## Plot density N cross section"
   ]
  },
  {
   "cell_type": "code",
   "execution_count": 19,
   "metadata": {},
   "outputs": [
    {
     "name": "stdout",
     "output_type": "stream",
     "text": [
      "(202, 81)\n",
      "(202, 81)\n",
      "(202, 80)\n"
     ]
    }
   ],
   "source": [
    "print(mesh_N[:,:].shape)\n",
    "print(z_section_intf[:,:].shape)\n",
    "print(density_m_31.T.shape)"
   ]
  },
  {
   "cell_type": "code",
   "execution_count": 20,
   "metadata": {},
   "outputs": [
    {
     "data": {
      "application/vnd.jupyter.widget-view+json": {
       "model_id": "385698e40ce849f0b4e6eb7935fa5dc3",
       "version_major": 2,
       "version_minor": 0
      },
      "text/plain": [
       "Canvas(toolbar=Toolbar(toolitems=[('Home', 'Reset original view', 'home', 'home'), ('Back', 'Back to previous …"
      ]
     },
     "metadata": {},
     "output_type": "display_data"
    },
    {
     "name": "stderr",
     "output_type": "stream",
     "text": [
      "/Users/julesblom/.local/share/virtualenvs/ThesisPython-OwMgd5UG/lib/python3.7/site-packages/xarray/core/dataarray.py:1897: FutureWarning: This DataArray contains multi-dimensional coordinates. In the future, these coordinates will be transposed as well unless you specify transpose_coords=False.\n",
      "  return self.transpose()\n"
     ]
    },
    {
     "data": {
      "text/plain": [
       "Text(0, 0.5, 'Depth [m]')"
      ]
     },
     "execution_count": 20,
     "metadata": {},
     "output_type": "execute_result"
    }
   ],
   "source": [
    "fig_vert, ax_vert1 = plt.subplots(nrows=1, figsize=(9,6))\n",
    "\n",
    "ax_vert1.set_title('Vertical section density')\n",
    "\n",
    "# or z_section.YZ both work\n",
    "mesh = ax_vert1.pcolormesh(mesh_N, z_section_intf, density_m_31.T,\n",
    "                          vmin=1025, vmax=1025.5) #, edgecolors='w', linewidths=0.1)\n",
    "ax_vert1.plot(n_section, z_section_center, c='lightsteelblue', linewidth=0.10) #, marker='+', markersize=0.1)\n",
    "ax_vert1.plot(n_section, z_section_intf[:,:], c='bisque', linewidth=0.08)\n",
    "# ax_vert1.plot(n_section, z_section_intf[:,45], c='hotpink', marker='o', markersize=0.75,)\n",
    "cbar = fig_vert.colorbar(mesh, ax=ax_vert1)\n",
    "cbar.ax.get_yaxis().labelpad = 15\n",
    "cbar.ax.set_ylabel('Density [kg/m3]',rotation=90)\n",
    "ax_vert1.set_xlabel('N [m]')\n",
    "ax_vert1.set_ylabel('Depth [m]')"
   ]
  },
  {
   "cell_type": "code",
   "execution_count": null,
   "metadata": {},
   "outputs": [],
   "source": []
  },
  {
   "cell_type": "code",
   "execution_count": null,
   "metadata": {},
   "outputs": [],
   "source": []
  }
 ],
 "metadata": {
  "kernelspec": {
   "display_name": "Python 3",
   "language": "python",
   "name": "python3"
  },
  "language_info": {
   "codemirror_mode": {
    "name": "ipython",
    "version": 3
   },
   "file_extension": ".py",
   "mimetype": "text/x-python",
   "name": "python",
   "nbconvert_exporter": "python",
   "pygments_lexer": "ipython3",
   "version": "3.7.5"
  }
 },
 "nbformat": 4,
 "nbformat_minor": 4
}
