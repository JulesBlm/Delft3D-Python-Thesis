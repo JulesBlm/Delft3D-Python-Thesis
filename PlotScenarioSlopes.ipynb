{
 "cells": [
  {
   "cell_type": "markdown",
   "metadata": {},
   "source": [
    "# Plot all slopes scenarios\n",
    "Stupid notebook to plot all slopes in one pretty chart"
   ]
  },
  {
   "cell_type": "code",
   "execution_count": 1,
   "metadata": {},
   "outputs": [],
   "source": [
    "%matplotlib widget"
   ]
  },
  {
   "cell_type": "code",
   "execution_count": 2,
   "metadata": {},
   "outputs": [],
   "source": [
    "import numpy as np\n",
    "import math\n",
    "import bezier\n",
    "import cmocean.cm as cmo\n",
    "import matplotlib.pyplot as plt\n",
    "import matplotlib.patheffects as PathEffects\n",
    "from matplotlib.ticker import (MultipleLocator, FormatStrFormatter, AutoMinorLocator)"
   ]
  },
  {
   "cell_type": "code",
   "execution_count": 3,
   "metadata": {},
   "outputs": [],
   "source": [
    "def slopeFunction(slope_radians, length):\n",
    "    return math.tan(slope_radians) * length"
   ]
  },
  {
   "cell_type": "code",
   "execution_count": 4,
   "metadata": {},
   "outputs": [],
   "source": [
    "# TODO improvement: Define whole channel dimensions in gridsteps!\n",
    "channel = {\n",
    "    \"width\": 400,    # [m]  has to be at least x gridstep wide\n",
    "    \"slope\": 1.00,   # [deg]\n",
    "    \"length\": 15000, # [m] has to be multiple of y gridstep\n",
    "    \"depth\": 150,     # [m] \n",
    "    \"basinslope\": 0.2,         # [m] the 'basin' slope    \n",
    "}\n",
    "\n",
    "grid = {\n",
    "    \"length\": 36000,      # y [m] has to be multiple of y gridstep\n",
    "    \"width\":  26000,       # x [m] has to be multiple of x gridstep\n",
    "    \"x_gridstep\": 200,    # [m]\n",
    "    \"y_gridstep\": 200,    # [m]\n",
    "    \"dims\": [],\n",
    "}\n",
    "\n",
    "# in the y direction of the grid that is\n",
    "ylist = np.array([i for i in range(0, grid['length'] + grid['y_gridstep'], grid['y_gridstep'])]) + 100 # + 100 is default start y in REFGRID"
   ]
  },
  {
   "cell_type": "code",
   "execution_count": 5,
   "metadata": {},
   "outputs": [],
   "source": [
    "# initial_depth = 150 \n",
    "basinSlope = 0.2"
   ]
  },
  {
   "cell_type": "code",
   "execution_count": 6,
   "metadata": {},
   "outputs": [],
   "source": [
    "break_point_index = int(channel['length']/grid['y_gridstep'])\n",
    "smoothen_over = 10\n",
    "\n",
    "def makeCrossSection(channelSlope, basinSlope, initial_depth=150):\n",
    "    channel_slope_radians = math.radians(channelSlope)\n",
    "\n",
    "    channel_slope_range = range(0, channel['length'] + grid['y_gridstep'], grid['y_gridstep'])    \n",
    "    \n",
    "    # channel slope depths\n",
    "    channel_slope_list = np.array([slopeFunction(channel_slope_radians, i) for i in channel_slope_range])\n",
    "\n",
    "    channel_slope_last_depth = channel_slope_list[-1] + channel['depth']\n",
    "    \n",
    "    basin_slope_radians = math.radians(basinSlope)\n",
    "    basin_length = grid['length'] - channel['length'] \n",
    "    basin_list_range = range(0, basin_length, grid['y_gridstep'])\n",
    "    basin_list = np.array([slopeFunction(basin_slope_radians, i) for i in basin_list_range]) + channel_slope_last_depth\n",
    "    \n",
    "    \n",
    "    channel_slope_list += channel['depth']\n",
    "    \n",
    "    depth_list = np.concatenate((channel_slope_list, basin_list), axis=0) + initial_depth\n",
    "\n",
    "    normal_cross_section = [ylist, depth_list] # x, y values for smoothening\n",
    "    \n",
    "    # ----smoothen slope break -----\n",
    "    x_cross_section = ylist.copy()\n",
    "    depth_cross_section = depth_list.copy()\n",
    "\n",
    "    # Smooth with bezier curve between these points\n",
    "    start_smooth_index, end_smooth_index = [break_point_index - smoothen_over,\\\n",
    "                                            break_point_index + smoothen_over]\n",
    "\n",
    "    # Prepare section to be smoothed for Bezier\n",
    "    nodes_x = np.array(x_cross_section[start_smooth_index:end_smooth_index])\n",
    "    nodes_y = np.array(depth_cross_section[start_smooth_index:end_smooth_index])\n",
    "\n",
    "    # Feed nodes into bezier instance\n",
    "    nodes = np.array([nodes_x, nodes_y]) # Bezier class wants it like this\n",
    "    curved = bezier.Curve.from_nodes(nodes)\n",
    "\n",
    "    # Get new depth (y-values in bezier funct) from bezier instance\n",
    "    s_vals_channel = np.linspace(0.0, 1.0, 2 * smoothen_over)\n",
    "    smoothened_channel_part = curved.evaluate_multi(s_vals_channel)[1]\n",
    "    \n",
    "    fig_q, ax_q = plt.subplots()\n",
    "    fig_q.suptitle('Bathymetry cross-sections (Unsmoothened!)')\n",
    "    ax_q.plot(range(start_smooth_index, end_smooth_index), -smoothened_channel_part)\n",
    "    ax_q.set_xlabel('N (grid number)')\n",
    "    ax_q.set_ylabel('Depth [m]')\n",
    "    ax_q.grid()    \n",
    "\n",
    "    smooth_cross_section = depth_cross_section.copy()\n",
    "    smooth_cross_section[start_smooth_index:end_smooth_index] = smoothened_channel_part\n",
    "    \n",
    "    return smooth_cross_section"
   ]
  },
  {
   "cell_type": "code",
   "execution_count": 7,
   "metadata": {},
   "outputs": [
    {
     "data": {
      "application/vnd.jupyter.widget-view+json": {
       "model_id": "fcae2ce6a497496aae680a90434bd3c4",
       "version_major": 2,
       "version_minor": 0
      },
      "text/plain": [
       "Canvas(toolbar=Toolbar(toolitems=[('Home', 'Reset original view', 'home', 'home'), ('Back', 'Back to previous …"
      ]
     },
     "metadata": {},
     "output_type": "display_data"
    },
    {
     "data": {
      "application/vnd.jupyter.widget-view+json": {
       "model_id": "f413dadc9944415c930c32e662bad836",
       "version_major": 2,
       "version_minor": 0
      },
      "text/plain": [
       "Canvas(toolbar=Toolbar(toolitems=[('Home', 'Reset original view', 'home', 'home'), ('Back', 'Back to previous …"
      ]
     },
     "metadata": {},
     "output_type": "display_data"
    },
    {
     "data": {
      "application/vnd.jupyter.widget-view+json": {
       "model_id": "9add27c0db0f4213b4865ed9b820f6c7",
       "version_major": 2,
       "version_minor": 0
      },
      "text/plain": [
       "Canvas(toolbar=Toolbar(toolitems=[('Home', 'Reset original view', 'home', 'home'), ('Back', 'Back to previous …"
      ]
     },
     "metadata": {},
     "output_type": "display_data"
    }
   ],
   "source": [
    "depths1_25 = makeCrossSection(1.25, basinSlope)\n",
    "depths1_00 = makeCrossSection(1, basinSlope)\n",
    "depths1_125 = makeCrossSection(0.85, basinSlope)"
   ]
  },
  {
   "cell_type": "code",
   "execution_count": 8,
   "metadata": {},
   "outputs": [
    {
     "data": {
      "text/plain": [
       "(181,)"
      ]
     },
     "execution_count": 8,
     "metadata": {},
     "output_type": "execute_result"
    }
   ],
   "source": [
    "depths1_25.shape"
   ]
  },
  {
   "cell_type": "code",
   "execution_count": 9,
   "metadata": {},
   "outputs": [],
   "source": [
    "# fig, ax = plt.subplots(figsize=(10, 5))\n",
    "# fig.suptitle('Slopes of different model scenarios', fontsize=16)\n",
    "# ax.set_title('Smoothened slope breaks')\n",
    "# # ax.set_aspect('equal')\n",
    "\n",
    "# ax.set_xlim((0, 36000))\n",
    "# ax.set_ylim(700, 300)\n",
    "\n",
    "# ax.plot(ylist, -depths1_00[:-1])\n",
    "\n",
    "# arrowprops = dict(facecolor='black', shrink=0.05),\n",
    "\n",
    "# text_100 = ax.annotate('Slope 1.00°', xy=(10000, 450), xytext=(12000, 400), fontsize=13, arrowprops=dict(facecolor='black', shrink=0.02)) #, arrowprops=arrowprops) # \n",
    "# text_100.set_path_effects([PathEffects.withStroke(linewidth=1.5, foreground='bisque')])\n",
    "\n",
    "# ax.plot(ylist, depths1_125[:-1])\n",
    "# # text_100 = ax.text(10000, -560, \"Slope 1.125°\", fontsize=13) #, rotation=-8)\n",
    "# # text_125.set_path_effects([PathEffects.withStroke(linewidth=1.5, foreground='w')])\n",
    "# text_1125 = ax.annotate('Slope 1.0°', xy=(10000, 450), xytext=(12000, 400), fontsize=13, arrowprops=dict(facecolor='black', shrink=0.02)) #, arrowprops=arrowprops) # \n",
    "# text_1125.set_path_effects([PathEffects.withStroke(linewidth=1.5, foreground='bisque')])\n",
    "\n",
    "# ax.plot(ylist, depths1_25[:-1])\n",
    "# text_125 = ax.text(9000, -600, \"Slope 1.25°\", fontsize=13) #, rotation=-8)\n",
    "# text_125.set_path_effects([PathEffects.withStroke(linewidth=1.5, foreground='w')])\n",
    "\n",
    "\n",
    "# ax.set_xlabel('Length $n$ [m]')\n",
    "# ax.set_ylabel('Depth [m]')\n",
    "# # ax.grid()"
   ]
  },
  {
   "cell_type": "code",
   "execution_count": 10,
   "metadata": {},
   "outputs": [],
   "source": [
    "plt.close('all')"
   ]
  },
  {
   "cell_type": "code",
   "execution_count": 18,
   "metadata": {},
   "outputs": [
    {
     "data": {
      "application/vnd.jupyter.widget-view+json": {
       "model_id": "4212234f0ea34d0cb0935f44d4d41089",
       "version_major": 2,
       "version_minor": 0
      },
      "text/plain": [
       "Canvas(toolbar=Toolbar(toolitems=[('Home', 'Reset original view', 'home', 'home'), ('Back', 'Back to previous …"
      ]
     },
     "metadata": {},
     "output_type": "display_data"
    },
    {
     "data": {
      "text/plain": [
       "Text(0, 0.5, 'Depth [m]')"
      ]
     },
     "execution_count": 18,
     "metadata": {},
     "output_type": "execute_result"
    }
   ],
   "source": [
    "fig, ax = plt.subplots(figsize=(10, 5))\n",
    "fig.suptitle('Slopes of different model scenarios', fontsize=16)\n",
    "# ax.set_title('Smoothened slope breaks')\n",
    "# ax.set_aspect('equal')\n",
    "\n",
    "ax.set_xlim((0, 36000))\n",
    "ax.set_ylim(700, 300)\n",
    "ax.xaxis.set_minor_locator(MultipleLocator(1000))\n",
    "ax.yaxis.set_minor_locator(MultipleLocator(10))\n",
    "\n",
    "\n",
    "ax.plot(ylist, depths1_00, c=\"coral\")\n",
    "ax.plot(ylist, depths1_125, c='DODGERBLUE')\n",
    "\n",
    "\n",
    "text_085 = ax.annotate('Slope 0.85·°', xy=(14500, 510), xytext=(15500, 460), fontsize=13,  arrowprops=dict(width=1, headwidth=8, facecolor='black', shrink=0.02)) #, arrowprops=arrowprops) # \n",
    "text_085.set_path_effects([PathEffects.withStroke(linewidth=0.5, foreground='DODGERBLUE')])\n",
    "\n",
    "text_100 = ax.annotate('Slope 1.00°', xy=(10000, 470), xytext=(11000, 430), fontsize=13, arrowprops=dict(width=1, headwidth=8, facecolor='black', shrink=0.02)) #, arrowprops=arrowprops) # \n",
    "text_100.set_path_effects([PathEffects.withStroke(linewidth=0.5, foreground='coral')])\n",
    "\n",
    "ax.plot(ylist, depths1_25, c=\"limegreen\")\n",
    "text_125 = ax.annotate('Slope 1.25°', xy=(8000, 475), xytext=(1500, 540), horizontalalignment='left',\n",
    "                       fontsize=13, arrowprops=dict(width=1, headwidth=8, facecolor='black', shrink=0.02, )) #, arrowprops=arrowprops) # \n",
    "text_125.set_path_effects([PathEffects.withStroke(linewidth=0.5, foreground='limegreen')])\n",
    "\n",
    "\n",
    "ax.set_xlabel('Length $n$ [m]', fontsize=14)\n",
    "ax.set_ylabel('Depth [m]', fontsize=14)\n",
    "# ax.grid()"
   ]
  },
  {
   "cell_type": "code",
   "execution_count": 12,
   "metadata": {},
   "outputs": [],
   "source": [
    "plt.close(\"all\")"
   ]
  },
  {
   "cell_type": "code",
   "execution_count": null,
   "metadata": {},
   "outputs": [],
   "source": []
  }
 ],
 "metadata": {
  "kernelspec": {
   "display_name": "Python 3",
   "language": "python",
   "name": "python3"
  },
  "language_info": {
   "codemirror_mode": {
    "name": "ipython",
    "version": 3
   },
   "file_extension": ".py",
   "mimetype": "text/x-python",
   "name": "python",
   "nbconvert_exporter": "python",
   "pygments_lexer": "ipython3",
   "version": "3.7.7"
  }
 },
 "nbformat": 4,
 "nbformat_minor": 4
}
