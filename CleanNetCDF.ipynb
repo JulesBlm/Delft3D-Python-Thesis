{
 "cells": [
  {
   "cell_type": "markdown",
   "metadata": {},
   "source": [
    "# Clean netCDF output\n",
    "Makes vectors sums and removes component variables from the netCDF"
   ]
  },
  {
   "cell_type": "code",
   "execution_count": 1,
   "metadata": {},
   "outputs": [],
   "source": [
    "from JulesD3D.cleanNetCDF import writeCleanCDF\n",
    "from JulesD3D.utils import ncFilepicker, quickDF\n",
    "import ipywidgets as widgets\n",
    "\n",
    "from glob import glob"
   ]
  },
  {
   "cell_type": "code",
   "execution_count": 2,
   "metadata": {},
   "outputs": [],
   "source": [
    "%load_ext autoreload"
   ]
  },
  {
   "cell_type": "code",
   "execution_count": 3,
   "metadata": {},
   "outputs": [],
   "source": [
    "%reload_ext autoreload"
   ]
  },
  {
   "cell_type": "code",
   "execution_count": 4,
   "metadata": {},
   "outputs": [],
   "source": [
    "# folder = '/Volumes/Seagate Expansion Drive/ThesisResults/Current'\n",
    "folder = '/Users/julesblom/ThesisResults'\n",
    "\n",
    "nc_filename = ncFilepicker(folder)"
   ]
  },
  {
   "cell_type": "code",
   "execution_count": 5,
   "metadata": {},
   "outputs": [
    {
     "data": {
      "application/vnd.jupyter.widget-view+json": {
       "model_id": "d98df53ac6034ba4812e1ab5176a1661",
       "version_major": 2,
       "version_minor": 0
      },
      "text/plain": [
       "Select(description='NetCDF file:', layout=Layout(height='120px', width='100%'), options=('/Users/julesblom/The…"
      ]
     },
     "metadata": {},
     "output_type": "display_data"
    }
   ],
   "source": [
    "nc_filename"
   ]
  },
  {
   "cell_type": "code",
   "execution_count": 6,
   "metadata": {},
   "outputs": [
    {
     "name": "stdout",
     "output_type": "stream",
     "text": [
      "Fixing mesh grid, assuming a uniform grid\n",
      "x_gridstep 200.0\n",
      "y_gridstep 200.0\n",
      "width 26000.0\n",
      "length 36200.0\n",
      "132 x 182 grid\n",
      "original XZ (132, 182)\n",
      "original YZ (132, 182)\n",
      "new XZ (132, 182)\n",
      "new YZ (132, 182)\n",
      "* Fixed mesh grid\n",
      "Added depth & depth_center to DataSet\n"
     ]
    },
    {
     "name": "stderr",
     "output_type": "stream",
     "text": [
      "/Users/julesblom/Library/Caches/pypoetry/virtualenvs/delft3d-python-j5EFwY34-py3.7/lib/python3.7/site-packages/xarray/core/computation.py:1216: FutureWarning: This DataArray contains multi-dimensional coordinates. In the future, these coordinates will be transposed as well unless you specify transpose_coords=False.\n",
      "  return result.transpose(*[d for d in all_dims if d in result.dims])\n",
      "/Users/julesblom/Library/Caches/pypoetry/virtualenvs/delft3d-python-j5EFwY34-py3.7/lib/python3.7/site-packages/xarray/core/computation.py:1216: FutureWarning: This DataArray contains multi-dimensional coordinates. In the future, these coordinates will be transposed as well unless you specify transpose_coords=False.\n",
      "  return result.transpose(*[d for d in all_dims if d in result.dims])\n"
     ]
    },
    {
     "name": "stdout",
     "output_type": "stream",
     "text": [
      "Calculated velocity\n",
      "Calculated bottom stress sum\n",
      "Assigned underlayer coordinates\n",
      "Dropping a bunch of DataArrays from DataSet...Done dropping variables.\n",
      "Dropped variables from DataSet\n",
      "Start writing netCDF to disk...Succesfully written new file as  /Users/julesblom/ThesisResults/trim-36km_200m_W60ChannelRun01_compressed_clean.nc\n",
      "CPU times: user 35.6 s, sys: 2.55 s, total: 38.1 s\n",
      "Wall time: 44.3 s\n"
     ]
    }
   ],
   "source": [
    "%time clean_nc_filename = writeCleanCDF(nc_filename.value, mystery_flag=True)"
   ]
  },
  {
   "cell_type": "code",
   "execution_count": 7,
   "metadata": {},
   "outputs": [
    {
     "data": {
      "text/plain": [
       "'/Users/julesblom/ThesisResults/trim-36km_200m_W60ChannelRun01_compressed_clean.nc'"
      ]
     },
     "execution_count": 7,
     "metadata": {},
     "output_type": "execute_result"
    }
   ],
   "source": [
    "clean_nc_filename"
   ]
  },
  {
   "cell_type": "code",
   "execution_count": null,
   "metadata": {},
   "outputs": [],
   "source": []
  }
 ],
 "metadata": {
  "kernelspec": {
   "display_name": "Python 3",
   "language": "python",
   "name": "python3"
  },
  "language_info": {
   "codemirror_mode": {
    "name": "ipython",
    "version": 3
   },
   "file_extension": ".py",
   "mimetype": "text/x-python",
   "name": "python",
   "nbconvert_exporter": "python",
   "pygments_lexer": "ipython3",
   "version": "3.7.6"
  }
 },
 "nbformat": 4,
 "nbformat_minor": 4
}
