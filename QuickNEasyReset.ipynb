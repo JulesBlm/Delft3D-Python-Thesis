{
 "cells": [
  {
   "cell_type": "markdown",
   "metadata": {},
   "source": [
    "# Reset properties in NetCDF mapfile\n",
    "* Velocities\n",
    "* Concentrations\n",
    "* Turbulent energy and dissipation\n",
    "* Vertical and horizontal eddy viscosity and diffusivity\n",
    "* Transport layer composition"
   ]
  },
  {
   "cell_type": "code",
   "execution_count": 1,
   "metadata": {},
   "outputs": [],
   "source": [
    "import xarray as xr\n",
    "from JulesD3D.processNetCDF import fixMeshGrid, addUnderlayerCoords, makeVelocity\n",
    "import numpy as np\n",
    "from IPython.display import Markdown as md"
   ]
  },
  {
   "cell_type": "code",
   "execution_count": 2,
   "metadata": {},
   "outputs": [],
   "source": [
    "filename = '/Users/julesblom/ThesisResults/Slope1.00/trim-36km_200m_W60ChannelRun10_compressed.nc' # Puts all of DP_BEDLYR at 0.5 m?, which is the height of the transport layer\n",
    "\n",
    "trim = xr.open_dataset(filename)"
   ]
  },
  {
   "cell_type": "code",
   "execution_count": 3,
   "metadata": {},
   "outputs": [
    {
     "data": {
      "text/plain": [
       "'/Users/julesblom/ThesisResults/Slope1.00/trim-36km_200m_W60ChannelRun10.nc'"
      ]
     },
     "execution_count": 3,
     "metadata": {},
     "output_type": "execute_result"
    }
   ],
   "source": [
    "new_write_filename = filename[0:-14] + '.nc'\n",
    "new_write_filename"
   ]
  },
  {
   "cell_type": "code",
   "execution_count": null,
   "metadata": {},
   "outputs": [],
   "source": [
    "sand = 0 \n",
    "silt = 1\n",
    "last_timestep = -1\n",
    "\n",
    "# this has happened\n",
    "if silt == sand:\n",
    "    raise Exception(\"You stupid\")"
   ]
  },
  {
   "cell_type": "code",
   "execution_count": null,
   "metadata": {},
   "outputs": [],
   "source": [
    "interfaces_shape = trim.W.isel(time=last_timestep).shape\n",
    "centers_shape = trim.V1.isel(time=last_timestep).shape"
   ]
  },
  {
   "cell_type": "code",
   "execution_count": null,
   "metadata": {},
   "outputs": [],
   "source": [
    "all_ones_centers = np.ones(centers_shape)\n",
    "\n",
    "all_zeros_centers = np.zeros(centers_shape)\n",
    "all_zeros_interfaces = np.zeros(interfaces_shape)"
   ]
  },
  {
   "cell_type": "markdown",
   "metadata": {},
   "source": [
    "## Reset velocity"
   ]
  },
  {
   "cell_type": "code",
   "execution_count": null,
   "metadata": {},
   "outputs": [],
   "source": [
    "trim['V1'][last_timestep] = all_zeros_centers      # Horizontal velocity U component\n",
    "trim['U1'][last_timestep] = all_zeros_centers      # Horizontal velocity U component\n",
    "trim['WPHY'][last_timestep] = all_zeros_centers    # Vertical velocity component?\n",
    "trim['W'][last_timestep] = all_zeros_interfaces    # Velocity angle?"
   ]
  },
  {
   "cell_type": "markdown",
   "metadata": {},
   "source": [
    "## Reset Eddies"
   ]
  },
  {
   "cell_type": "code",
   "execution_count": null,
   "metadata": {},
   "outputs": [],
   "source": [
    "trim['VICWW'][last_timestep] = all_zeros_interfaces # Vertical eddy viscosity-3D\n",
    "trim['DICWW'][last_timestep] = all_zeros_interfaces # Vertical eddy diffusivity-3D\n",
    "trim['VICUV'][last_timestep] = all_zeros_centers    # Horizontal eddy viscosity"
   ]
  },
  {
   "cell_type": "code",
   "execution_count": null,
   "metadata": {},
   "outputs": [],
   "source": [
    "trim.VICUV.isel(time=0).min()"
   ]
  },
  {
   "cell_type": "markdown",
   "metadata": {},
   "source": [
    "## Reset Water Level"
   ]
  },
  {
   "cell_type": "code",
   "execution_count": null,
   "metadata": {},
   "outputs": [],
   "source": [
    "water_level_shape = trim.S1.isel(time=0).shape\n",
    "reset_water_level = np.zeros(water_level_shape)\n",
    "\n",
    "trim['S1'][last_timestep] = reset_water_level"
   ]
  },
  {
   "cell_type": "markdown",
   "metadata": {},
   "source": [
    "## Reset concentrations"
   ]
  },
  {
   "cell_type": "code",
   "execution_count": null,
   "metadata": {},
   "outputs": [],
   "source": [
    "test_conc_shape = trim.R1.isel(time=last_timestep).shape\n",
    "reset_concentrations = np.zeros(test_conc_shape)"
   ]
  },
  {
   "cell_type": "code",
   "execution_count": null,
   "metadata": {},
   "outputs": [],
   "source": [
    "trim['R1'][last_timestep] = reset_concentrations"
   ]
  },
  {
   "cell_type": "markdown",
   "metadata": {},
   "source": [
    "## Reset density"
   ]
  },
  {
   "cell_type": "code",
   "execution_count": null,
   "metadata": {},
   "outputs": [],
   "source": [
    "initial_density = float(trim.RHOCONST.values)\n",
    "reset_densities = all_ones_centers * initial_density\n",
    "\n",
    "trim['RHO'][last_timestep] = reset_densities"
   ]
  },
  {
   "cell_type": "markdown",
   "metadata": {},
   "source": [
    "## Reset transport layer"
   ]
  },
  {
   "cell_type": "markdown",
   "metadata": {},
   "source": [
    "### Volume fraction"
   ]
  },
  {
   "cell_type": "code",
   "execution_count": null,
   "metadata": {},
   "outputs": [],
   "source": [
    "vol_frac_sand_transport_layer_end = trim.LYRFRAC.isel(time=last_timestep, LSEDTOT=sand, nlyr=0)\n",
    "vol_frac_silt_transport_layer_end = trim.LYRFRAC.isel(time=last_timestep, LSEDTOT=silt, nlyr=0)"
   ]
  },
  {
   "cell_type": "code",
   "execution_count": null,
   "metadata": {},
   "outputs": [],
   "source": [
    "# Replace transport layer with 50%/50% composition\n",
    "replaced_vol_frac_sand = vol_frac_sand_transport_layer_end.where(vol_frac_sand_transport_layer_end.values == 0, 0.5)\n",
    "replaced_vol_frac_silt = vol_frac_silt_transport_layer_end.where(vol_frac_silt_transport_layer_end.values == 0, 0.5)"
   ]
  },
  {
   "cell_type": "code",
   "execution_count": null,
   "metadata": {},
   "outputs": [],
   "source": [
    "# Reset volume composition in transport layer at final timestep\n",
    "trim.LYRFRAC[last_timestep, sand, 0] = replaced_vol_frac_sand.values\n",
    "trim.LYRFRAC[last_timestep, silt, 0] = replaced_vol_frac_silt.values"
   ]
  },
  {
   "cell_type": "markdown",
   "metadata": {},
   "source": [
    "### Mass of sediment"
   ]
  },
  {
   "cell_type": "code",
   "execution_count": null,
   "metadata": {},
   "outputs": [],
   "source": [
    "# for 50 cm thick transport layer!\n",
    "initial_sand_mass = 400 # 16000 # [kg/m2]\n",
    "initial_silt_mass = 125 # 5000  # [kg/m2]"
   ]
  },
  {
   "cell_type": "code",
   "execution_count": null,
   "metadata": {},
   "outputs": [],
   "source": [
    "mass_sand_transport_layer_end = trim.MSED.isel(time=last_timestep, LSEDTOT=sand, nlyr=0)\n",
    "mass_silt_transport_layer_end = trim.MSED.isel(time=last_timestep, LSEDTOT=silt, nlyr=0)\n",
    "\n",
    "replaced_mass_sand = mass_sand_transport_layer_end.where(mass_sand_transport_layer_end.values == 0, initial_sand_mass)\n",
    "replaced_mass_silt = mass_silt_transport_layer_end.where(mass_silt_transport_layer_end.values == 0, initial_silt_mass)"
   ]
  },
  {
   "cell_type": "code",
   "execution_count": null,
   "metadata": {},
   "outputs": [],
   "source": [
    "# Reset mass of sediment in transport layer at final timestep\n",
    "trim.MSED[last_timestep, sand, 0] = replaced_mass_sand.values\n",
    "trim.MSED[last_timestep, silt, 0] = replaced_mass_silt.values"
   ]
  },
  {
   "cell_type": "markdown",
   "metadata": {},
   "source": [
    "## Write to NetCDF\n",
    "Write only last timestep to save space"
   ]
  },
  {
   "cell_type": "code",
   "execution_count": null,
   "metadata": {},
   "outputs": [],
   "source": [
    "only_last_timestep = trim.isel(time=-1)"
   ]
  },
  {
   "cell_type": "code",
   "execution_count": null,
   "metadata": {},
   "outputs": [],
   "source": [
    "only_last_timestep.load().to_netcdf(new_write_filename, mode='w', engine='netcdf4', format='NETCDF3_64BIT') "
   ]
  },
  {
   "cell_type": "code",
   "execution_count": null,
   "metadata": {},
   "outputs": [],
   "source": [
    "trim.time.size"
   ]
  },
  {
   "cell_type": "code",
   "execution_count": null,
   "metadata": {},
   "outputs": [],
   "source": [
    "only_last_timestep.time.size"
   ]
  },
  {
   "cell_type": "code",
   "execution_count": null,
   "metadata": {},
   "outputs": [],
   "source": []
  }
 ],
 "metadata": {
  "kernelspec": {
   "display_name": "Python 3",
   "language": "python",
   "name": "python3"
  },
  "language_info": {
   "codemirror_mode": {
    "name": "ipython",
    "version": 3
   },
   "file_extension": ".py",
   "mimetype": "text/x-python",
   "name": "python",
   "nbconvert_exporter": "python",
   "pygments_lexer": "ipython3",
   "version": "3.7.6"
  }
 },
 "nbformat": 4,
 "nbformat_minor": 4
}
