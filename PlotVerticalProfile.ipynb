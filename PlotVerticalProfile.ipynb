{
 "cells": [
  {
   "cell_type": "markdown",
   "metadata": {},
   "source": [
    "# Plot at one point\n",
    "* Old problem: Should plot according to depth not according to sigma-grid layer"
   ]
  },
  {
   "cell_type": "code",
   "execution_count": 5,
   "metadata": {},
   "outputs": [],
   "source": [
    "%matplotlib widget"
   ]
  },
  {
   "cell_type": "code",
   "execution_count": 33,
   "metadata": {},
   "outputs": [
    {
     "name": "stdout",
     "output_type": "stream",
     "text": [
      "The autoreload extension is already loaded. To reload it, use:\n",
      "  %reload_ext autoreload\n"
     ]
    }
   ],
   "source": [
    "import xarray as xr\n",
    "import hvplot.xarray\n",
    "from JulesD3D.processNetCDF import fixMeshGrid, makeMeshGrid, makeVelocity, addDepth, addUnderlayerCoords, addVectorSum\n",
    "from JulesD3D.utils import ncFilePicker, quickDF, folderPicker, easyTimeFormat\n",
    "import numpy as np\n",
    "from os import path\n",
    "from IPython.display import Markdown as md \n",
    "# import ipywidgets as widgets\n",
    "from glob import glob\n",
    "import matplotlib.pyplot as plt\n",
    "%load_ext autoreload"
   ]
  },
  {
   "cell_type": "code",
   "execution_count": 34,
   "metadata": {},
   "outputs": [
    {
     "data": {
      "application/vnd.jupyter.widget-view+json": {
       "model_id": "144c5b8140614867b788c561c7d74bf6",
       "version_major": 2,
       "version_minor": 0
      },
      "text/plain": [
       "Select(description='Scenario folder:', layout=Layout(height='120px', width='100%'), options=('/Users/julesblom…"
      ]
     },
     "metadata": {},
     "output_type": "display_data"
    }
   ],
   "source": [
    "parent_folder = '/Users/julesblom/ThesisResults/'\n",
    "scenario_folder = folderPicker(parent_folder)\n",
    "scenario_folder"
   ]
  },
  {
   "cell_type": "code",
   "execution_count": 35,
   "metadata": {},
   "outputs": [
    {
     "data": {
      "application/vnd.jupyter.widget-view+json": {
       "model_id": "a18b3bd6d37b4e6bb80099f24945c0b4",
       "version_major": 2,
       "version_minor": 0
      },
      "text/plain": [
       "Select(description='NetCDF file:', layout=Layout(height='120px', width='100%'), options=('/Users/julesblom/The…"
      ]
     },
     "metadata": {},
     "output_type": "display_data"
    }
   ],
   "source": [
    "nc_filename = ncFilePicker(scenario_folder.value)\n",
    "nc_filename"
   ]
  },
  {
   "cell_type": "code",
   "execution_count": 44,
   "metadata": {},
   "outputs": [],
   "source": [
    "trim = xr.open_dataset(nc_filename.value)"
   ]
  },
  {
   "cell_type": "code",
   "execution_count": 64,
   "metadata": {},
   "outputs": [
    {
     "name": "stdout",
     "output_type": "stream",
     "text": [
      "DataSet is preprocessed, atleast, 'velocity' is already in DataSet\n"
     ]
    }
   ],
   "source": [
    "if 'velocity' not in trim:\n",
    "    trim = fixMeshGrid(trim, mystery_flag=True)\n",
    "    trim = makeVelocity(trim)\n",
    "else:\n",
    "    print(\"DataSet is preprocessed, atleast, 'velocity' is already in DataSet\")"
   ]
  },
  {
   "cell_type": "code",
   "execution_count": null,
   "metadata": {},
   "outputs": [],
   "source": [
    "basename = path.basename(nc_filename.value)\n",
    "plot_title, _ = path.splitext(basename)\n",
    "plot_title"
   ]
  },
  {
   "cell_type": "code",
   "execution_count": 78,
   "metadata": {},
   "outputs": [],
   "source": [
    "half_M = int(trim.M.size/2)"
   ]
  },
  {
   "cell_type": "markdown",
   "metadata": {},
   "source": [
    " 'add_dimension',\n",
    " 'aggregate',\n",
    " 'apply',\n",
    " 'array',\n",
    " 'cdims',\n",
    " 'clone',\n",
    " 'closest',\n",
    " 'collapse_data',\n",
    " 'columns',\n",
    " 'data',\n",
    " 'dataset',\n",
    " 'datatype',\n",
    " 'ddims',\n",
    " 'debug',\n",
    " 'defaults',\n",
    " 'dframe',\n",
    " 'dimension_values',\n",
    " 'dimensions',\n",
    " 'extents',\n",
    " 'force_new_dynamic_value',\n",
    " 'get_dimension',\n",
    " 'get_dimension_index',\n",
    " 'get_dimension_type',\n",
    " 'get_param_values',\n",
    " 'get_value_generator',\n",
    " 'group',\n",
    " 'groupby',\n",
    " 'hist',\n",
    " 'id',\n",
    " 'iloc',\n",
    " 'initialized',\n",
    " 'inspect_value',\n",
    " 'interface',\n",
    " 'kdims',\n",
    " 'label',\n",
    " 'map',\n",
    " 'mapping',\n",
    " 'matches',\n",
    " 'message',\n",
    " 'name',\n",
    " 'ndims',\n",
    " 'ndloc',\n",
    " 'options',\n",
    " 'opts',\n",
    " 'param',\n",
    " 'params',\n",
    " 'pipeline',\n",
    " 'pprint',\n",
    " 'print_param_defaults',\n",
    " 'print_param_values',\n",
    " 'range',\n",
    " 'redim',\n",
    " 'reduce',\n",
    " 'reindex',\n",
    " 'relabel',\n",
    " 'sample',\n",
    " 'script_repr',\n",
    " 'select',\n",
    " 'set_default',\n",
    " 'set_dynamic_time_fn',\n",
    " 'set_param',\n",
    " 'shape',\n",
    " 'sort',\n",
    " 'state_pop',\n",
    " 'state_push',\n",
    " 'table',\n",
    " 'to',\n",
    " 'transform',\n",
    " 'traverse',\n",
    " 'vdims',\n",
    " 'verbose',\n",
    " 'warning'"
   ]
  },
  {
   "cell_type": "code",
   "execution_count": 82,
   "metadata": {},
   "outputs": [
    {
     "data": {
      "text/plain": [
       "[Dimension('KMAXOUT_RESTR', label='User selected output layer centres', unit='1')]"
      ]
     },
     "execution_count": 82,
     "metadata": {},
     "output_type": "execute_result"
    }
   ],
   "source": [
    "trim.RHO.isel(time=3, M=half_M, N=75).hvplot().kdims"
   ]
  },
  {
   "cell_type": "code",
   "execution_count": 83,
   "metadata": {},
   "outputs": [
    {
     "data": {},
     "metadata": {},
     "output_type": "display_data"
    },
    {
     "data": {
      "application/vnd.holoviews_exec.v0+json": "",
      "text/html": [
       "<div id='2917'>\n",
       "\n",
       "\n",
       "\n",
       "\n",
       "\n",
       "  <div class=\"bk-root\" id=\"0c528b56-14f5-4f22-a7dc-3344b3116f9b\" data-root-id=\"2917\"></div>\n",
       "</div>\n",
       "<script type=\"application/javascript\">(function(root) {\n",
       "  function embed_document(root) {\n",
       "  var docs_json = {\"a7f5d491-e1ed-43a7-b0f0-e9f940db79ec\":{\"roots\":{\"references\":[{\"attributes\":{},\"id\":\"2940\",\"type\":\"PanTool\"},{\"attributes\":{\"children\":[{\"id\":\"2918\"},{\"id\":\"2922\"},{\"id\":\"2972\"}],\"margin\":[0,0,0,0],\"name\":\"Row05689\",\"tags\":[\"embedded\"]},\"id\":\"2917\",\"type\":\"Row\"},{\"attributes\":{},\"id\":\"2939\",\"type\":\"SaveTool\"},{\"attributes\":{\"line_alpha\":0.2,\"line_color\":\"#1f77b3\",\"line_width\":2,\"x\":{\"field\":\"KMAXOUT_RESTR\"},\"y\":{\"field\":\"RHO\"}},\"id\":\"2957\",\"type\":\"Line\"},{\"attributes\":{\"text\":\"\",\"text_color\":{\"value\":\"black\"},\"text_font_size\":{\"value\":\"12pt\"}},\"id\":\"2923\",\"type\":\"Title\"},{\"attributes\":{\"overlay\":{\"id\":\"2944\"}},\"id\":\"2942\",\"type\":\"BoxZoomTool\"},{\"attributes\":{},\"id\":\"2969\",\"type\":\"UnionRenderers\"},{\"attributes\":{\"line_alpha\":0.1,\"line_color\":\"#1f77b3\",\"line_width\":2,\"x\":{\"field\":\"KMAXOUT_RESTR\"},\"y\":{\"field\":\"RHO\"}},\"id\":\"2956\",\"type\":\"Line\"},{\"attributes\":{},\"id\":\"2943\",\"type\":\"ResetTool\"},{\"attributes\":{\"margin\":[5,5,5,5],\"name\":\"HSpacer05694\",\"sizing_mode\":\"stretch_width\"},\"id\":\"2972\",\"type\":\"Spacer\"},{\"attributes\":{},\"id\":\"2936\",\"type\":\"BasicTicker\"},{\"attributes\":{\"axis_label\":\"Density per layer in zeta point (kg/m3)\",\"bounds\":\"auto\",\"formatter\":{\"id\":\"2963\"},\"major_label_orientation\":\"horizontal\",\"ticker\":{\"id\":\"2936\"}},\"id\":\"2935\",\"type\":\"LinearAxis\"},{\"attributes\":{\"bottom_units\":\"screen\",\"fill_alpha\":0.5,\"fill_color\":\"lightgrey\",\"left_units\":\"screen\",\"level\":\"overlay\",\"line_alpha\":1.0,\"line_color\":\"black\",\"line_dash\":[4,4],\"line_width\":2,\"render_mode\":\"css\",\"right_units\":\"screen\",\"top_units\":\"screen\"},\"id\":\"2944\",\"type\":\"BoxAnnotation\"},{\"attributes\":{\"margin\":[5,5,5,5],\"name\":\"HSpacer05693\",\"sizing_mode\":\"stretch_width\"},\"id\":\"2918\",\"type\":\"Spacer\"},{\"attributes\":{\"axis\":{\"id\":\"2931\"},\"grid_line_color\":null,\"ticker\":null},\"id\":\"2934\",\"type\":\"Grid\"},{\"attributes\":{\"source\":{\"id\":\"2952\"}},\"id\":\"2959\",\"type\":\"CDSView\"},{\"attributes\":{\"line_color\":\"#1f77b3\",\"line_width\":2,\"x\":{\"field\":\"KMAXOUT_RESTR\"},\"y\":{\"field\":\"RHO\"}},\"id\":\"2955\",\"type\":\"Line\"},{\"attributes\":{\"end\":1037.2313232421875,\"reset_end\":1037.2313232421875,\"reset_start\":1023.8880615234375,\"start\":1023.8880615234375,\"tags\":[[[\"RHO\",\"Density per layer in zeta point\",\"kg/m3\"]]]},\"id\":\"2920\",\"type\":\"Range1d\"},{\"attributes\":{\"active_drag\":\"auto\",\"active_inspect\":\"auto\",\"active_multi\":null,\"active_scroll\":\"auto\",\"active_tap\":\"auto\",\"tools\":[{\"id\":\"2921\"},{\"id\":\"2939\"},{\"id\":\"2940\"},{\"id\":\"2941\"},{\"id\":\"2942\"},{\"id\":\"2943\"}]},\"id\":\"2945\",\"type\":\"Toolbar\"},{\"attributes\":{},\"id\":\"2932\",\"type\":\"BasicTicker\"},{\"attributes\":{},\"id\":\"2929\",\"type\":\"LinearScale\"},{\"attributes\":{},\"id\":\"2941\",\"type\":\"WheelZoomTool\"},{\"attributes\":{\"data_source\":{\"id\":\"2952\"},\"glyph\":{\"id\":\"2955\"},\"hover_glyph\":null,\"muted_glyph\":{\"id\":\"2957\"},\"nonselection_glyph\":{\"id\":\"2956\"},\"selection_glyph\":null,\"view\":{\"id\":\"2959\"}},\"id\":\"2958\",\"type\":\"GlyphRenderer\"},{\"attributes\":{\"data\":{\"KMAXOUT_RESTR\":[0,1,2,3,4,5,6,7,8,9,10,11,12,13,14,15,16,17,18,19,20,21,22,23,24,25,26,27,28,29,30,31,32,33,34,35,36,37,38,39,40,41,42,43,44,45,46,47,48,49,50,51,52,53,54,55,56,57,58,59,60,61,62,63,64,65,66,67,68,69,70,71,72,73,74,75,76,77,78,79],\"RHO\":{\"__ndarray__\":\"ACCARAAggEQAIIBEACCARAAggEQAIIBEACCARAAggEQAIIBEACCARAAggEQAIIBEACCARAAggEQAIIBEASCARAIggEQFIIBECCCARBUggEQdIIBEbSCARCghgES7IYBEwCKARFUkgEQ2JoBEKSeARAAogERBKIBEKiuARL4tgERvLoBE9S6ARGovgETVL4BEOzCARJ4wgEQBMYBEZTGARM0xgEQ8MoBEtTKARDwzgETTM4BEfTSAREE1gEQbNoBEAjeARN83gETLOIBE0jmARPE6gEQyPIBEpT2ARD0/gEQpQYBEfkOARFxGgETZSYBEtk2ARM9SgER7WYBEZGKARItsgEQbfIBELJKARJesgETQ2IBEgByBRHxegUTPaoFErm6BRIdxgUQbdIFEdHaBRLx4gUR1e4FE2H6BRNKDgUQ=\",\"dtype\":\"float32\",\"shape\":[80]}},\"selected\":{\"id\":\"2953\"},\"selection_policy\":{\"id\":\"2969\"}},\"id\":\"2952\",\"type\":\"ColumnDataSource\"},{\"attributes\":{},\"id\":\"2927\",\"type\":\"LinearScale\"},{\"attributes\":{\"callback\":null,\"renderers\":[{\"id\":\"2958\"}],\"tags\":[\"hv_created\"],\"tooltips\":[[\"User selected output layer centres (1)\",\"@{KMAXOUT_RESTR}\"],[\"Density per layer in zeta point (kg/m3)\",\"@{RHO}\"]]},\"id\":\"2921\",\"type\":\"HoverTool\"},{\"attributes\":{\"end\":79.0,\"reset_end\":79.0,\"reset_start\":0.0,\"tags\":[[[\"KMAXOUT_RESTR\",\"User selected output layer centres\",\"1\"]]]},\"id\":\"2919\",\"type\":\"Range1d\"},{\"attributes\":{\"axis\":{\"id\":\"2935\"},\"dimension\":1,\"grid_line_color\":null,\"ticker\":null},\"id\":\"2938\",\"type\":\"Grid\"},{\"attributes\":{},\"id\":\"2961\",\"type\":\"BasicTickFormatter\"},{\"attributes\":{},\"id\":\"2953\",\"type\":\"Selection\"},{\"attributes\":{},\"id\":\"2963\",\"type\":\"BasicTickFormatter\"},{\"attributes\":{\"axis_label\":\"User selected output layer centres (1)\",\"bounds\":\"auto\",\"formatter\":{\"id\":\"2961\"},\"major_label_orientation\":\"horizontal\",\"ticker\":{\"id\":\"2932\"}},\"id\":\"2931\",\"type\":\"LinearAxis\"},{\"attributes\":{\"align\":null,\"below\":[{\"id\":\"2931\"}],\"center\":[{\"id\":\"2934\"},{\"id\":\"2938\"}],\"left\":[{\"id\":\"2935\"}],\"margin\":null,\"min_border_bottom\":10,\"min_border_left\":10,\"min_border_right\":10,\"min_border_top\":10,\"plot_height\":300,\"plot_width\":700,\"renderers\":[{\"id\":\"2958\"}],\"sizing_mode\":\"fixed\",\"title\":{\"id\":\"2923\"},\"toolbar\":{\"id\":\"2945\"},\"x_range\":{\"id\":\"2919\"},\"x_scale\":{\"id\":\"2927\"},\"y_range\":{\"id\":\"2920\"},\"y_scale\":{\"id\":\"2929\"}},\"id\":\"2922\",\"subtype\":\"Figure\",\"type\":\"Plot\"}],\"root_ids\":[\"2917\"]},\"title\":\"Bokeh Application\",\"version\":\"2.0.1\"}};\n",
       "  var render_items = [{\"docid\":\"a7f5d491-e1ed-43a7-b0f0-e9f940db79ec\",\"root_ids\":[\"2917\"],\"roots\":{\"2917\":\"0c528b56-14f5-4f22-a7dc-3344b3116f9b\"}}];\n",
       "  root.Bokeh.embed.embed_items_notebook(docs_json, render_items);\n",
       "  }\n",
       "if (root.Bokeh !== undefined) {\n",
       "    embed_document(root);\n",
       "  } else {\n",
       "    var attempts = 0;\n",
       "    var timer = setInterval(function(root) {\n",
       "      if (root.Bokeh !== undefined) {\n",
       "        clearInterval(timer);\n",
       "        embed_document(root);\n",
       "      } else if (document.readyState == \"complete\") {\n",
       "        attempts++;\n",
       "        if (attempts > 100) {\n",
       "          clearInterval(timer);\n",
       "          console.log(\"Bokeh: ERROR: Unable to run BokehJS code because BokehJS library is missing\");\n",
       "        }\n",
       "      }\n",
       "    }, 10, root)\n",
       "  }\n",
       "})(window);</script>"
      ],
      "text/plain": [
       ":Curve   [KMAXOUT_RESTR]   (RHO)"
      ]
     },
     "execution_count": 83,
     "metadata": {
      "application/vnd.holoviews_exec.v0+json": {
       "id": "2917"
      }
     },
     "output_type": "execute_result"
    }
   ],
   "source": [
    "trim.RHO.isel(time=3, M=half_M, N=75).hvplot()"
   ]
  },
  {
   "cell_type": "code",
   "execution_count": 50,
   "metadata": {},
   "outputs": [
    {
     "data": {},
     "metadata": {},
     "output_type": "display_data"
    },
    {
     "data": {
      "application/vnd.holoviews_exec.v0+json": "",
      "text/html": [
       "<div id='1292'>\n",
       "\n",
       "\n",
       "\n",
       "\n",
       "\n",
       "  <div class=\"bk-root\" id=\"0eeca9fa-643e-44c8-ab90-215a5a4cc713\" data-root-id=\"1292\"></div>\n",
       "</div>\n",
       "<script type=\"application/javascript\">(function(root) {\n",
       "  function embed_document(root) {\n",
       "  var docs_json = {\"43fff441-925f-491e-b9dc-1af5cd747cd8\":{\"roots\":{\"references\":[{\"attributes\":{\"overlay\":{\"id\":\"1319\"}},\"id\":\"1317\",\"type\":\"BoxZoomTool\"},{\"attributes\":{\"margin\":[5,5,5,5],\"name\":\"HSpacer02009\",\"sizing_mode\":\"stretch_width\"},\"id\":\"1293\",\"type\":\"Spacer\"},{\"attributes\":{},\"id\":\"1302\",\"type\":\"LinearScale\"},{\"attributes\":{\"callback\":null,\"renderers\":[{\"id\":\"1333\"}],\"tags\":[\"hv_created\"],\"tooltips\":[[\"User selected output layer centres (1)\",\"@{KMAXOUT_RESTR}\"],[\"Horizontal velocity per layer (m/s)\",\"@{velocity}\"]]},\"id\":\"1296\",\"type\":\"HoverTool\"},{\"attributes\":{\"axis\":{\"id\":\"1310\"},\"dimension\":1,\"grid_line_color\":null,\"ticker\":null},\"id\":\"1313\",\"type\":\"Grid\"},{\"attributes\":{},\"id\":\"1318\",\"type\":\"ResetTool\"},{\"attributes\":{},\"id\":\"1344\",\"type\":\"UnionRenderers\"},{\"attributes\":{},\"id\":\"1304\",\"type\":\"LinearScale\"},{\"attributes\":{\"end\":0.7160171449184418,\"reset_end\":0.7160171449184418,\"reset_start\":-0.0379484735429287,\"start\":-0.0379484735429287,\"tags\":[[[\"velocity\",\"Horizontal velocity per layer\",\"m/s\"]]]},\"id\":\"1295\",\"type\":\"Range1d\"},{\"attributes\":{\"axis_label\":\"User selected output layer centres (1)\",\"bounds\":\"auto\",\"formatter\":{\"id\":\"1336\"},\"major_label_orientation\":\"horizontal\",\"ticker\":{\"id\":\"1307\"}},\"id\":\"1306\",\"type\":\"LinearAxis\"},{\"attributes\":{\"data\":{\"KMAXOUT_RESTR\":[0,1,2,3,4,5,6,7,8,9,10,11,12,13,14,15,16,17,18,19,20,21,22,23,24,25,26,27,28,29,30,31,32,33,34,35,36,37,38,39,40,41,42,43,44,45,46,47,48,49,50,51,52,53,54,55,56,57,58,59,60,61,62,63,64,65,66,67,68,69,70,71,72,73,74,75,76,77,78,79],\"velocity\":{\"__ndarray__\":\"P7wHPSLPBz2RXQc9w7oIPalHBj0d2Qg9ToUGPcDXCD2JZgY9flkIPS3pBj2cLwg969YGPYrhBz2ouQU9Yw0GPSPDAT2/5/c8Hz/rPFLVyzxI6CU9EHNkPT+9vD3a2+c9pIMCPj4R7T3Gt749fc6wPfg0iD3caJk9Q4uhPfEeGz6SRUw+mkJ0PnFdiz5hbpo+dqynPkZfsz5GwL0+ffvGPjIXzz4KDtY+m+nbPmi54D6qkuQ+FqznPlwr6j63J+w+xaztPrnW7j4J2+8+qcfwPq2f8T7Db/I+yDrzPq0B9D5M1PQ+RLf1PiOz9j7OxPc+a/L4Pnpw+j6CbPw+OBn/PjFhAT9bYwQ//g4JP+8VED9iFRs/PjcnP0eTHz9dUwc/MUQAP/HL8j6youQ+353WPg5jyD4c/bY+ANmhPh71hD4=\",\"dtype\":\"float32\",\"shape\":[80]}},\"selected\":{\"id\":\"1328\"},\"selection_policy\":{\"id\":\"1344\"}},\"id\":\"1327\",\"type\":\"ColumnDataSource\"},{\"attributes\":{},\"id\":\"1307\",\"type\":\"BasicTicker\"},{\"attributes\":{\"align\":null,\"below\":[{\"id\":\"1306\"}],\"center\":[{\"id\":\"1309\"},{\"id\":\"1313\"}],\"left\":[{\"id\":\"1310\"}],\"margin\":null,\"min_border_bottom\":10,\"min_border_left\":10,\"min_border_right\":10,\"min_border_top\":10,\"plot_height\":300,\"plot_width\":700,\"renderers\":[{\"id\":\"1333\"}],\"sizing_mode\":\"fixed\",\"title\":{\"id\":\"1298\"},\"toolbar\":{\"id\":\"1320\"},\"x_range\":{\"id\":\"1294\"},\"x_scale\":{\"id\":\"1302\"},\"y_range\":{\"id\":\"1295\"},\"y_scale\":{\"id\":\"1304\"}},\"id\":\"1297\",\"subtype\":\"Figure\",\"type\":\"Plot\"},{\"attributes\":{\"axis\":{\"id\":\"1306\"},\"grid_line_color\":null,\"ticker\":null},\"id\":\"1309\",\"type\":\"Grid\"},{\"attributes\":{},\"id\":\"1311\",\"type\":\"BasicTicker\"},{\"attributes\":{\"axis_label\":\"Horizontal velocity per layer (m/s)\",\"bounds\":\"auto\",\"formatter\":{\"id\":\"1338\"},\"major_label_orientation\":\"horizontal\",\"ticker\":{\"id\":\"1311\"}},\"id\":\"1310\",\"type\":\"LinearAxis\"},{\"attributes\":{},\"id\":\"1328\",\"type\":\"Selection\"},{\"attributes\":{\"text\":\"\",\"text_color\":{\"value\":\"black\"},\"text_font_size\":{\"value\":\"12pt\"}},\"id\":\"1298\",\"type\":\"Title\"},{\"attributes\":{\"bottom_units\":\"screen\",\"fill_alpha\":0.5,\"fill_color\":\"lightgrey\",\"left_units\":\"screen\",\"level\":\"overlay\",\"line_alpha\":1.0,\"line_color\":\"black\",\"line_dash\":[4,4],\"line_width\":2,\"render_mode\":\"css\",\"right_units\":\"screen\",\"top_units\":\"screen\"},\"id\":\"1319\",\"type\":\"BoxAnnotation\"},{\"attributes\":{},\"id\":\"1336\",\"type\":\"BasicTickFormatter\"},{\"attributes\":{\"active_drag\":\"auto\",\"active_inspect\":\"auto\",\"active_multi\":null,\"active_scroll\":\"auto\",\"active_tap\":\"auto\",\"tools\":[{\"id\":\"1296\"},{\"id\":\"1314\"},{\"id\":\"1315\"},{\"id\":\"1316\"},{\"id\":\"1317\"},{\"id\":\"1318\"}]},\"id\":\"1320\",\"type\":\"Toolbar\"},{\"attributes\":{\"margin\":[5,5,5,5],\"name\":\"HSpacer02010\",\"sizing_mode\":\"stretch_width\"},\"id\":\"1347\",\"type\":\"Spacer\"},{\"attributes\":{},\"id\":\"1314\",\"type\":\"SaveTool\"},{\"attributes\":{\"end\":79.0,\"reset_end\":79.0,\"reset_start\":0.0,\"tags\":[[[\"KMAXOUT_RESTR\",\"User selected output layer centres\",\"1\"]]]},\"id\":\"1294\",\"type\":\"Range1d\"},{\"attributes\":{},\"id\":\"1315\",\"type\":\"PanTool\"},{\"attributes\":{\"line_alpha\":0.1,\"line_color\":\"#1f77b3\",\"line_width\":2,\"x\":{\"field\":\"KMAXOUT_RESTR\"},\"y\":{\"field\":\"velocity\"}},\"id\":\"1331\",\"type\":\"Line\"},{\"attributes\":{\"line_alpha\":0.2,\"line_color\":\"#1f77b3\",\"line_width\":2,\"x\":{\"field\":\"KMAXOUT_RESTR\"},\"y\":{\"field\":\"velocity\"}},\"id\":\"1332\",\"type\":\"Line\"},{\"attributes\":{\"source\":{\"id\":\"1327\"}},\"id\":\"1334\",\"type\":\"CDSView\"},{\"attributes\":{},\"id\":\"1316\",\"type\":\"WheelZoomTool\"},{\"attributes\":{\"line_color\":\"#1f77b3\",\"line_width\":2,\"x\":{\"field\":\"KMAXOUT_RESTR\"},\"y\":{\"field\":\"velocity\"}},\"id\":\"1330\",\"type\":\"Line\"},{\"attributes\":{},\"id\":\"1338\",\"type\":\"BasicTickFormatter\"},{\"attributes\":{\"data_source\":{\"id\":\"1327\"},\"glyph\":{\"id\":\"1330\"},\"hover_glyph\":null,\"muted_glyph\":{\"id\":\"1332\"},\"nonselection_glyph\":{\"id\":\"1331\"},\"selection_glyph\":null,\"view\":{\"id\":\"1334\"}},\"id\":\"1333\",\"type\":\"GlyphRenderer\"},{\"attributes\":{\"children\":[{\"id\":\"1293\"},{\"id\":\"1297\"},{\"id\":\"1347\"}],\"margin\":[0,0,0,0],\"name\":\"Row02005\",\"tags\":[\"embedded\"]},\"id\":\"1292\",\"type\":\"Row\"}],\"root_ids\":[\"1292\"]},\"title\":\"Bokeh Application\",\"version\":\"2.0.1\"}};\n",
       "  var render_items = [{\"docid\":\"43fff441-925f-491e-b9dc-1af5cd747cd8\",\"root_ids\":[\"1292\"],\"roots\":{\"1292\":\"0eeca9fa-643e-44c8-ab90-215a5a4cc713\"}}];\n",
       "  root.Bokeh.embed.embed_items_notebook(docs_json, render_items);\n",
       "  }\n",
       "if (root.Bokeh !== undefined) {\n",
       "    embed_document(root);\n",
       "  } else {\n",
       "    var attempts = 0;\n",
       "    var timer = setInterval(function(root) {\n",
       "      if (root.Bokeh !== undefined) {\n",
       "        clearInterval(timer);\n",
       "        embed_document(root);\n",
       "      } else if (document.readyState == \"complete\") {\n",
       "        attempts++;\n",
       "        if (attempts > 100) {\n",
       "          clearInterval(timer);\n",
       "          console.log(\"Bokeh: ERROR: Unable to run BokehJS code because BokehJS library is missing\");\n",
       "        }\n",
       "      }\n",
       "    }, 10, root)\n",
       "  }\n",
       "})(window);</script>"
      ],
      "text/plain": [
       ":Curve   [KMAXOUT_RESTR]   (velocity)"
      ]
     },
     "execution_count": 50,
     "metadata": {
      "application/vnd.holoviews_exec.v0+json": {
       "id": "1292"
      }
     },
     "output_type": "execute_result"
    }
   ],
   "source": [
    "trim.velocity.isel(time=4, M=half_M, N=75).hvplot()"
   ]
  },
  {
   "cell_type": "code",
   "execution_count": 61,
   "metadata": {},
   "outputs": [
    {
     "data": {},
     "metadata": {},
     "output_type": "display_data"
    },
    {
     "data": {
      "application/vnd.holoviews_exec.v0+json": "",
      "text/html": [
       "<div id='2535'>\n",
       "\n",
       "\n",
       "\n",
       "\n",
       "\n",
       "  <div class=\"bk-root\" id=\"1ab15f5c-d1b4-4cef-a50c-dce1562ec396\" data-root-id=\"2535\"></div>\n",
       "</div>\n",
       "<script type=\"application/javascript\">(function(root) {\n",
       "  function embed_document(root) {\n",
       "  var docs_json = {\"fd849481-163d-47d9-bf2e-7981d50d1eef\":{\"roots\":{\"references\":[{\"attributes\":{\"line_color\":\"#ff7e0e\",\"line_width\":2,\"x\":{\"field\":\"KMAXOUT_RESTR\"},\"y\":{\"field\":\"R1\"}},\"id\":\"2586\",\"type\":\"Line\"},{\"attributes\":{},\"id\":\"2548\",\"type\":\"LinearScale\"},{\"attributes\":{},\"id\":\"2584\",\"type\":\"Selection\"},{\"attributes\":{\"children\":[{\"id\":\"2536\"},{\"id\":\"2541\"},{\"id\":\"2671\"}],\"margin\":[0,0,0,0],\"name\":\"Row04582\",\"tags\":[\"embedded\"]},\"id\":\"2535\",\"type\":\"Row\"},{\"attributes\":{\"source\":{\"id\":\"2575\"}},\"id\":\"2582\",\"type\":\"CDSView\"},{\"attributes\":{},\"id\":\"2598\",\"type\":\"UnionRenderers\"},{\"attributes\":{\"margin\":[5,5,5,5],\"name\":\"HSpacer04587\",\"sizing_mode\":\"stretch_width\"},\"id\":\"2671\",\"type\":\"Spacer\"},{\"attributes\":{},\"id\":\"2546\",\"type\":\"LinearScale\"},{\"attributes\":{\"end\":19.748407814139863,\"reset_end\":19.748407814139863,\"reset_start\":-1.795329278292411,\"start\":-1.795329278292411,\"tags\":[[[\"R1\",\"Concentrations per layer in zeta point\",\"1\"]]]},\"id\":\"2538\",\"type\":\"Range1d\"},{\"attributes\":{\"data\":{\"KMAXOUT_RESTR\":[0,1,2,3,4,5,6,7,8,9,10,11,12,13,14,15,16,17,18,19,20,21,22,23,24,25,26,27,28,29,30,31,32,33,34,35,36,37,38,39,40,41,42,43,44,45,46,47,48,49,50,51,52,53,54,55,56,57,58,59,60,61,62,63,64,65,66,67,68,69,70,71,72,73,74,75,76,77,78,79],\"R1\":{\"__ndarray__\":\"OO0aJ6bKnibwzX4ptIMtKy740Cw5ZSwuOkJWLyB+hjDFu3ox0I9rMihrODOlSQY0YFi5NLwNbTWmPBE2yKGmNvOONjeBp7439Bk+OF/EszhYDCU5iOuQOUiU7zldY0U6dRKWOg2f6TpfKCU7RexsO1L4nTurlNU7fYMJPJ/qMDzuEWc8YE+ZPO7CzDzNiAY9BLEqPRDQTz2B5nM9gMeKPcwwmj2Wtag9N2S2PeanxD15ktE9XCzgPbNM7T1G4Ps9zKkDPrDtCD5DDg4+wX8TPjVuGD5vbx4+oD0kPs3JKj7LdTI+qPM6PiWkRT6L3E8+7mVbPm3BZz4N+HU+t0yBPmrDhz71II8+AK6WPigxnj7IdqU+IqmsPr5ysz5qD70+faIrPzRqdD8jbps/S6m2Pw90zz8y5uo/8BAFQLdtBUA=\",\"dtype\":\"float32\",\"shape\":[80]}},\"selected\":{\"id\":\"2576\"},\"selection_policy\":{\"id\":\"2596\"}},\"id\":\"2575\",\"type\":\"ColumnDataSource\"},{\"attributes\":{\"data_source\":{\"id\":\"2575\"},\"glyph\":{\"id\":\"2578\"},\"hover_glyph\":null,\"muted_glyph\":{\"id\":\"2580\"},\"nonselection_glyph\":{\"id\":\"2579\"},\"selection_glyph\":null,\"view\":{\"id\":\"2582\"}},\"id\":\"2581\",\"type\":\"GlyphRenderer\"},{\"attributes\":{},\"id\":\"2558\",\"type\":\"SaveTool\"},{\"attributes\":{\"axis\":{\"id\":\"2554\"},\"dimension\":1,\"grid_line_color\":null,\"ticker\":null},\"id\":\"2557\",\"type\":\"Grid\"},{\"attributes\":{\"margin\":[5,5,5,5],\"name\":\"HSpacer04586\",\"sizing_mode\":\"stretch_width\"},\"id\":\"2536\",\"type\":\"Spacer\"},{\"attributes\":{\"end\":79.0,\"reset_end\":79.0,\"reset_start\":0.0,\"tags\":[[[\"KMAXOUT_RESTR\",\"User selected output layer centres\",\"1\"]]]},\"id\":\"2537\",\"type\":\"Range1d\"},{\"attributes\":{\"align\":null,\"below\":[{\"id\":\"2550\"}],\"center\":[{\"id\":\"2553\"},{\"id\":\"2557\"}],\"left\":[{\"id\":\"2554\"}],\"margin\":null,\"min_border_bottom\":10,\"min_border_left\":10,\"min_border_right\":10,\"min_border_top\":10,\"plot_height\":300,\"plot_width\":700,\"renderers\":[{\"id\":\"2581\"},{\"id\":\"2589\"}],\"sizing_mode\":\"fixed\",\"title\":{\"id\":\"2542\"},\"toolbar\":{\"id\":\"2564\"},\"x_range\":{\"id\":\"2537\"},\"x_scale\":{\"id\":\"2546\"},\"y_range\":{\"id\":\"2538\"},\"y_scale\":{\"id\":\"2548\"}},\"id\":\"2541\",\"subtype\":\"Figure\",\"type\":\"Plot\"},{\"attributes\":{\"line_alpha\":0.1,\"line_color\":\"#ff7e0e\",\"line_width\":2,\"x\":{\"field\":\"KMAXOUT_RESTR\"},\"y\":{\"field\":\"R1\"}},\"id\":\"2587\",\"type\":\"Line\"},{\"attributes\":{\"source\":{\"id\":\"2583\"}},\"id\":\"2590\",\"type\":\"CDSView\"},{\"attributes\":{},\"id\":\"2559\",\"type\":\"PanTool\"},{\"attributes\":{},\"id\":\"2560\",\"type\":\"WheelZoomTool\"},{\"attributes\":{\"active_drag\":\"auto\",\"active_inspect\":\"auto\",\"active_multi\":null,\"active_scroll\":\"auto\",\"active_tap\":\"auto\",\"tools\":[{\"id\":\"2539\"},{\"id\":\"2558\"},{\"id\":\"2559\"},{\"id\":\"2560\"},{\"id\":\"2561\"},{\"id\":\"2562\"}]},\"id\":\"2564\",\"type\":\"Toolbar\"},{\"attributes\":{\"line_alpha\":0.2,\"line_color\":\"#1f77b3\",\"line_width\":2,\"x\":{\"field\":\"KMAXOUT_RESTR\"},\"y\":{\"field\":\"R1\"}},\"id\":\"2580\",\"type\":\"Line\"},{\"attributes\":{\"line_color\":\"#1f77b3\",\"line_width\":2,\"x\":{\"field\":\"KMAXOUT_RESTR\"},\"y\":{\"field\":\"R1\"}},\"id\":\"2578\",\"type\":\"Line\"},{\"attributes\":{},\"id\":\"2572\",\"type\":\"BasicTickFormatter\"},{\"attributes\":{},\"id\":\"2596\",\"type\":\"UnionRenderers\"},{\"attributes\":{\"line_alpha\":0.2,\"line_color\":\"#ff7e0e\",\"line_width\":2,\"x\":{\"field\":\"KMAXOUT_RESTR\"},\"y\":{\"field\":\"R1\"}},\"id\":\"2588\",\"type\":\"Line\"},{\"attributes\":{\"callback\":null,\"renderers\":[{\"id\":\"2581\"},{\"id\":\"2589\"}],\"tags\":[\"hv_created\"],\"tooltips\":[[\"User selected output layer centres (1)\",\"@{KMAXOUT_RESTR}\"],[\"Concentrations per layer in zeta point (1)\",\"@{R1}\"]]},\"id\":\"2539\",\"type\":\"HoverTool\"},{\"attributes\":{\"text\":\"\",\"text_color\":{\"value\":\"black\"},\"text_font_size\":{\"value\":\"12pt\"}},\"id\":\"2542\",\"type\":\"Title\"},{\"attributes\":{\"bottom_units\":\"screen\",\"fill_alpha\":0.5,\"fill_color\":\"lightgrey\",\"left_units\":\"screen\",\"level\":\"overlay\",\"line_alpha\":1.0,\"line_color\":\"black\",\"line_dash\":[4,4],\"line_width\":2,\"render_mode\":\"css\",\"right_units\":\"screen\",\"top_units\":\"screen\"},\"id\":\"2563\",\"type\":\"BoxAnnotation\"},{\"attributes\":{\"axis_label\":\"User selected output layer centres (1)\",\"bounds\":\"auto\",\"formatter\":{\"id\":\"2572\"},\"major_label_orientation\":\"horizontal\",\"ticker\":{\"id\":\"2551\"}},\"id\":\"2550\",\"type\":\"LinearAxis\"},{\"attributes\":{\"data_source\":{\"id\":\"2583\"},\"glyph\":{\"id\":\"2586\"},\"hover_glyph\":null,\"muted_glyph\":{\"id\":\"2588\"},\"nonselection_glyph\":{\"id\":\"2587\"},\"selection_glyph\":null,\"view\":{\"id\":\"2590\"}},\"id\":\"2589\",\"type\":\"GlyphRenderer\"},{\"attributes\":{},\"id\":\"2551\",\"type\":\"BasicTicker\"},{\"attributes\":{\"line_alpha\":0.1,\"line_color\":\"#1f77b3\",\"line_width\":2,\"x\":{\"field\":\"KMAXOUT_RESTR\"},\"y\":{\"field\":\"R1\"}},\"id\":\"2579\",\"type\":\"Line\"},{\"attributes\":{\"axis\":{\"id\":\"2550\"},\"grid_line_color\":null,\"ticker\":null},\"id\":\"2553\",\"type\":\"Grid\"},{\"attributes\":{},\"id\":\"2576\",\"type\":\"Selection\"},{\"attributes\":{},\"id\":\"2555\",\"type\":\"BasicTicker\"},{\"attributes\":{\"overlay\":{\"id\":\"2563\"}},\"id\":\"2561\",\"type\":\"BoxZoomTool\"},{\"attributes\":{},\"id\":\"2562\",\"type\":\"ResetTool\"},{\"attributes\":{\"axis_label\":\"Concentrations per layer in zeta point (1)\",\"bounds\":\"auto\",\"formatter\":{\"id\":\"2574\"},\"major_label_orientation\":\"horizontal\",\"ticker\":{\"id\":\"2555\"}},\"id\":\"2554\",\"type\":\"LinearAxis\"},{\"attributes\":{},\"id\":\"2574\",\"type\":\"BasicTickFormatter\"},{\"attributes\":{\"data\":{\"KMAXOUT_RESTR\":[0,1,2,3,4,5,6,7,8,9,10,11,12,13,14,15,16,17,18,19,20,21,22,23,24,25,26,27,28,29,30,31,32,33,34,35,36,37,38,39,40,41,42,43,44,45,46,47,48,49,50,51,52,53,54,55,56,57,58,59,60,61,62,63,64,65,66,67,68,69,70,71,72,73,74,75,76,77,78,79],\"R1\":{\"__ndarray__\":\"+JGaL5aFmzMCfVq0RRBlNCWui7SKhXs14YQTts5mnTbDVwG3tChgN1jdhbeM7/c3AsWVt8l5nzgm+x04SG2DOcbQuzlWEXw6PojLOva0hzvPbL47VO+xPP4ncD02kLM9yLcOPqmnYD4H26A+V1S5PjwOzz4Le9U+u4YQP0LRMT/2tzo/nHNBP+tVRz+Dwkw/d/JRP08HVz/BE1w//TFhP9qCZj8kLmw/T2ByP+ZCeT89d4A/A8iEP5LEiT/qSo8//yaVP6i8mj8Zu6A/fmWnPyKvrj90zrY/rTrAP/+Syj+5Cdc/HC7mP2XP+D8BvAdAx0oUQNvbJEA+izpAb4ZXQECLeEDQl5VA3IG5QAx+5EA1OhZB1UNNQS5YgUGMI4ZBRI6HQVeViEFDhYlBHWOKQXU9i0HTR4xBEJuNQfGfj0E=\",\"dtype\":\"float32\",\"shape\":[80]}},\"selected\":{\"id\":\"2584\"},\"selection_policy\":{\"id\":\"2598\"}},\"id\":\"2583\",\"type\":\"ColumnDataSource\"}],\"root_ids\":[\"2535\"]},\"title\":\"Bokeh Application\",\"version\":\"2.0.1\"}};\n",
       "  var render_items = [{\"docid\":\"fd849481-163d-47d9-bf2e-7981d50d1eef\",\"root_ids\":[\"2535\"],\"roots\":{\"2535\":\"1ab15f5c-d1b4-4cef-a50c-dce1562ec396\"}}];\n",
       "  root.Bokeh.embed.embed_items_notebook(docs_json, render_items);\n",
       "  }\n",
       "if (root.Bokeh !== undefined) {\n",
       "    embed_document(root);\n",
       "  } else {\n",
       "    var attempts = 0;\n",
       "    var timer = setInterval(function(root) {\n",
       "      if (root.Bokeh !== undefined) {\n",
       "        clearInterval(timer);\n",
       "        embed_document(root);\n",
       "      } else if (document.readyState == \"complete\") {\n",
       "        attempts++;\n",
       "        if (attempts > 100) {\n",
       "          clearInterval(timer);\n",
       "          console.log(\"Bokeh: ERROR: Unable to run BokehJS code because BokehJS library is missing\");\n",
       "        }\n",
       "      }\n",
       "    }, 10, root)\n",
       "  }\n",
       "})(window);</script>"
      ],
      "text/plain": [
       ":Overlay\n",
       "   .Curve.I  :Curve   [KMAXOUT_RESTR]   (R1)\n",
       "   .Curve.II :Curve   [KMAXOUT_RESTR]   (R1)"
      ]
     },
     "execution_count": 61,
     "metadata": {
      "application/vnd.holoviews_exec.v0+json": {
       "id": "2535"
      }
     },
     "output_type": "execute_result"
    }
   ],
   "source": [
    "trim.R1.isel(LSTSCI=0, time=2, M=half_M, N=80).hvplot() * trim.R1.isel(LSTSCI=1, time=3, M=half_M, N=75).hvplot()"
   ]
  },
  {
   "cell_type": "code",
   "execution_count": 63,
   "metadata": {},
   "outputs": [
    {
     "name": "stderr",
     "output_type": "stream",
     "text": [
      "WARNING:param.main: backend option not found for line plot; similar options include: []\n"
     ]
    },
    {
     "data": {},
     "metadata": {},
     "output_type": "display_data"
    },
    {
     "data": {
      "application/vnd.holoviews_exec.v0+json": "",
      "text/html": [
       "<div id='2820'>\n",
       "\n",
       "\n",
       "\n",
       "\n",
       "\n",
       "  <div class=\"bk-root\" id=\"be981756-bc7e-4c40-8d3b-763983b7bf2b\" data-root-id=\"2820\"></div>\n",
       "</div>\n",
       "<script type=\"application/javascript\">(function(root) {\n",
       "  function embed_document(root) {\n",
       "  var docs_json = {\"8691ed90-503e-41a6-8de0-d162b654dd88\":{\"roots\":{\"references\":[{\"attributes\":{\"align\":null,\"below\":[{\"id\":\"2834\"}],\"center\":[{\"id\":\"2837\"},{\"id\":\"2841\"}],\"left\":[{\"id\":\"2838\"}],\"margin\":null,\"min_border_bottom\":10,\"min_border_left\":10,\"min_border_right\":10,\"min_border_top\":10,\"plot_height\":300,\"plot_width\":700,\"renderers\":[{\"id\":\"2861\"}],\"sizing_mode\":\"fixed\",\"title\":{\"id\":\"2826\"},\"toolbar\":{\"id\":\"2848\"},\"x_range\":{\"id\":\"2822\"},\"x_scale\":{\"id\":\"2830\"},\"y_range\":{\"id\":\"2823\"},\"y_scale\":{\"id\":\"2832\"}},\"id\":\"2825\",\"subtype\":\"Figure\",\"type\":\"Plot\"},{\"attributes\":{},\"id\":\"2839\",\"type\":\"BasicTicker\"},{\"attributes\":{\"axis\":{\"id\":\"2838\"},\"dimension\":1,\"grid_line_color\":null,\"ticker\":null},\"id\":\"2841\",\"type\":\"Grid\"},{\"attributes\":{\"line_alpha\":0.1,\"line_color\":\"#1f77b3\",\"line_width\":2,\"x\":{\"field\":\"KMAXOUT_RESTR\"},\"y\":{\"field\":\"R1\"}},\"id\":\"2859\",\"type\":\"Line\"},{\"attributes\":{\"text\":\"\",\"text_color\":{\"value\":\"black\"},\"text_font_size\":{\"value\":\"12pt\"}},\"id\":\"2826\",\"type\":\"Title\"},{\"attributes\":{\"bottom_units\":\"screen\",\"fill_alpha\":0.5,\"fill_color\":\"lightgrey\",\"left_units\":\"screen\",\"level\":\"overlay\",\"line_alpha\":1.0,\"line_color\":\"black\",\"line_dash\":[4,4],\"line_width\":2,\"render_mode\":\"css\",\"right_units\":\"screen\",\"top_units\":\"screen\"},\"id\":\"2847\",\"type\":\"BoxAnnotation\"},{\"attributes\":{},\"id\":\"2864\",\"type\":\"BasicTickFormatter\"},{\"attributes\":{\"active_drag\":\"auto\",\"active_inspect\":\"auto\",\"active_multi\":null,\"active_scroll\":\"auto\",\"active_tap\":\"auto\",\"tools\":[{\"id\":\"2824\"},{\"id\":\"2842\"},{\"id\":\"2843\"},{\"id\":\"2844\"},{\"id\":\"2845\"},{\"id\":\"2846\"}]},\"id\":\"2848\",\"type\":\"Toolbar\"},{\"attributes\":{},\"id\":\"2872\",\"type\":\"UnionRenderers\"},{\"attributes\":{},\"id\":\"2842\",\"type\":\"SaveTool\"},{\"attributes\":{},\"id\":\"2856\",\"type\":\"Selection\"},{\"attributes\":{\"end\":79.0,\"reset_end\":79.0,\"reset_start\":0.0,\"tags\":[[[\"KMAXOUT_RESTR\",\"User selected output layer centres\",\"1\"]]]},\"id\":\"2822\",\"type\":\"Range1d\"},{\"attributes\":{\"data_source\":{\"id\":\"2855\"},\"glyph\":{\"id\":\"2858\"},\"hover_glyph\":null,\"muted_glyph\":{\"id\":\"2860\"},\"nonselection_glyph\":{\"id\":\"2859\"},\"selection_glyph\":null,\"view\":{\"id\":\"2862\"}},\"id\":\"2861\",\"type\":\"GlyphRenderer\"},{\"attributes\":{},\"id\":\"2843\",\"type\":\"PanTool\"},{\"attributes\":{\"line_alpha\":0.2,\"line_color\":\"#1f77b3\",\"line_width\":2,\"x\":{\"field\":\"KMAXOUT_RESTR\"},\"y\":{\"field\":\"R1\"}},\"id\":\"2860\",\"type\":\"Line\"},{\"attributes\":{},\"id\":\"2844\",\"type\":\"WheelZoomTool\"},{\"attributes\":{},\"id\":\"2866\",\"type\":\"BasicTickFormatter\"},{\"attributes\":{\"line_color\":\"#1f77b3\",\"line_width\":2,\"x\":{\"field\":\"KMAXOUT_RESTR\"},\"y\":{\"field\":\"R1\"}},\"id\":\"2858\",\"type\":\"Line\"},{\"attributes\":{\"source\":{\"id\":\"2855\"}},\"id\":\"2862\",\"type\":\"CDSView\"},{\"attributes\":{\"overlay\":{\"id\":\"2847\"}},\"id\":\"2845\",\"type\":\"BoxZoomTool\"},{\"attributes\":{},\"id\":\"2830\",\"type\":\"LinearScale\"},{\"attributes\":{\"margin\":[5,5,5,5],\"name\":\"HSpacer05142\",\"sizing_mode\":\"stretch_width\"},\"id\":\"2875\",\"type\":\"Spacer\"},{\"attributes\":{\"callback\":null,\"renderers\":[{\"id\":\"2861\"}],\"tags\":[\"hv_created\"],\"tooltips\":[[\"User selected output layer centres (1)\",\"@{KMAXOUT_RESTR}\"],[\"Concentrations per layer in zeta point (1)\",\"@{R1}\"]]},\"id\":\"2824\",\"type\":\"HoverTool\"},{\"attributes\":{\"axis_label\":\"Concentrations per layer in zeta point (1)\",\"bounds\":\"auto\",\"formatter\":{\"id\":\"2866\"},\"major_label_orientation\":\"horizontal\",\"ticker\":{\"id\":\"2839\"}},\"id\":\"2838\",\"type\":\"LinearAxis\"},{\"attributes\":{},\"id\":\"2846\",\"type\":\"ResetTool\"},{\"attributes\":{\"children\":[{\"id\":\"2821\"},{\"id\":\"2825\"},{\"id\":\"2875\"}],\"margin\":[0,0,0,0],\"name\":\"Row05137\",\"tags\":[\"embedded\"]},\"id\":\"2820\",\"type\":\"Row\"},{\"attributes\":{\"margin\":[5,5,5,5],\"name\":\"HSpacer05141\",\"sizing_mode\":\"stretch_width\"},\"id\":\"2821\",\"type\":\"Spacer\"},{\"attributes\":{},\"id\":\"2832\",\"type\":\"LinearScale\"},{\"attributes\":{\"end\":2.293303608894348,\"reset_end\":2.293303608894348,\"reset_start\":-0.20848214626312145,\"start\":-0.20848214626312145,\"tags\":[[[\"R1\",\"Concentrations per layer in zeta point\",\"1\"]]]},\"id\":\"2823\",\"type\":\"Range1d\"},{\"attributes\":{\"axis_label\":\"User selected output layer centres (1)\",\"bounds\":\"auto\",\"formatter\":{\"id\":\"2864\"},\"major_label_orientation\":\"horizontal\",\"ticker\":{\"id\":\"2835\"}},\"id\":\"2834\",\"type\":\"LinearAxis\"},{\"attributes\":{\"data\":{\"KMAXOUT_RESTR\":[0,1,2,3,4,5,6,7,8,9,10,11,12,13,14,15,16,17,18,19,20,21,22,23,24,25,26,27,28,29,30,31,32,33,34,35,36,37,38,39,40,41,42,43,44,45,46,47,48,49,50,51,52,53,54,55,56,57,58,59,60,61,62,63,64,65,66,67,68,69,70,71,72,73,74,75,76,77,78,79],\"R1\":{\"__ndarray__\":\"OO0aJ6bKnibwzX4ptIMtKy740Cw5ZSwuOkJWLyB+hjDFu3ox0I9rMihrODOlSQY0YFi5NLwNbTWmPBE2yKGmNvOONjeBp7439Bk+OF/EszhYDCU5iOuQOUiU7zldY0U6dRKWOg2f6TpfKCU7RexsO1L4nTurlNU7fYMJPJ/qMDzuEWc8YE+ZPO7CzDzNiAY9BLEqPRDQTz2B5nM9gMeKPcwwmj2Wtag9N2S2PeanxD15ktE9XCzgPbNM7T1G4Ps9zKkDPrDtCD5DDg4+wX8TPjVuGD5vbx4+oD0kPs3JKj7LdTI+qPM6PiWkRT6L3E8+7mVbPm3BZz4N+HU+t0yBPmrDhz71II8+AK6WPigxnj7IdqU+IqmsPr5ysz5qD70+faIrPzRqdD8jbps/S6m2Pw90zz8y5uo/8BAFQLdtBUA=\",\"dtype\":\"float32\",\"shape\":[80]}},\"selected\":{\"id\":\"2856\"},\"selection_policy\":{\"id\":\"2872\"}},\"id\":\"2855\",\"type\":\"ColumnDataSource\"},{\"attributes\":{},\"id\":\"2835\",\"type\":\"BasicTicker\"},{\"attributes\":{\"axis\":{\"id\":\"2834\"},\"grid_line_color\":null,\"ticker\":null},\"id\":\"2837\",\"type\":\"Grid\"}],\"root_ids\":[\"2820\"]},\"title\":\"Bokeh Application\",\"version\":\"2.0.1\"}};\n",
       "  var render_items = [{\"docid\":\"8691ed90-503e-41a6-8de0-d162b654dd88\",\"root_ids\":[\"2820\"],\"roots\":{\"2820\":\"be981756-bc7e-4c40-8d3b-763983b7bf2b\"}}];\n",
       "  root.Bokeh.embed.embed_items_notebook(docs_json, render_items);\n",
       "  }\n",
       "if (root.Bokeh !== undefined) {\n",
       "    embed_document(root);\n",
       "  } else {\n",
       "    var attempts = 0;\n",
       "    var timer = setInterval(function(root) {\n",
       "      if (root.Bokeh !== undefined) {\n",
       "        clearInterval(timer);\n",
       "        embed_document(root);\n",
       "      } else if (document.readyState == \"complete\") {\n",
       "        attempts++;\n",
       "        if (attempts > 100) {\n",
       "          clearInterval(timer);\n",
       "          console.log(\"Bokeh: ERROR: Unable to run BokehJS code because BokehJS library is missing\");\n",
       "        }\n",
       "      }\n",
       "    }, 10, root)\n",
       "  }\n",
       "})(window);</script>"
      ],
      "text/plain": [
       ":Curve   [KMAXOUT_RESTR]   (R1)"
      ]
     },
     "execution_count": 63,
     "metadata": {
      "application/vnd.holoviews_exec.v0+json": {
       "id": "2820"
      }
     },
     "output_type": "execute_result"
    }
   ],
   "source": [
    "trim.R1.isel(LSTSCI=0, time=2, M=half_M, N=80).hvplot(backend='matplotlib')"
   ]
  },
  {
   "cell_type": "code",
   "execution_count": null,
   "metadata": {},
   "outputs": [],
   "source": []
  }
 ],
 "metadata": {
  "kernelspec": {
   "display_name": "Python 3",
   "language": "python",
   "name": "python3"
  },
  "language_info": {
   "codemirror_mode": {
    "name": "ipython",
    "version": 3
   },
   "file_extension": ".py",
   "mimetype": "text/x-python",
   "name": "python",
   "nbconvert_exporter": "python",
   "pygments_lexer": "ipython3",
   "version": "3.7.7"
  }
 },
 "nbformat": 4,
 "nbformat_minor": 4
}
