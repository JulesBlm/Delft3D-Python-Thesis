{
 "cells": [
  {
   "cell_type": "code",
   "execution_count": 1,
   "metadata": {},
   "outputs": [],
   "source": [
    "from JulesD3D.multipleruns import makeMultipleRuns\n",
    "from os import path"
   ]
  },
  {
   "cell_type": "code",
   "execution_count": 2,
   "metadata": {},
   "outputs": [],
   "source": [
    "%load_ext autoreload"
   ]
  },
  {
   "cell_type": "code",
   "execution_count": 3,
   "metadata": {},
   "outputs": [],
   "source": [
    "%reload_ext autoreload"
   ]
  },
  {
   "cell_type": "markdown",
   "metadata": {},
   "source": [
    "# Multiple Models + Multiple Runs\n",
    "* Assumes the models with different slopes are already in place in folder with a first (template) run "
   ]
  },
  {
   "cell_type": "code",
   "execution_count": 4,
   "metadata": {},
   "outputs": [],
   "source": [
    "# base_folder = '/Users/julesblom/Dropbox/TU/Master/Thesis/Runs/5050_single_slope'\n",
    "\n",
    "# model_names = ['/Slope0.50', '/Slope0.75', '/Slope1.00', '/Slope1.25', '/Slope1.50']\n",
    "# first_run = '/Run01'\n",
    "\n",
    "# models_folder_paths = [base_folder + model_name + first_run for model_name in model_names]\n",
    "\n",
    "# number_of_runs = 50"
   ]
  },
  {
   "cell_type": "code",
   "execution_count": 5,
   "metadata": {},
   "outputs": [],
   "source": [
    "# for model in models_folder_paths:\n",
    "#     print(\"---------------------- \", model[:-5] ,\"-------------------------- \")\n",
    "#     read_folder = path.join(base_folder, model)\n",
    "# #     print(\"read folder is\", read_folder)\n",
    "#     makeMultipleRuns(read_folder=read_folder, number_of_runs=number_of_runs)"
   ]
  },
  {
   "cell_type": "markdown",
   "metadata": {},
   "source": [
    "<hr/>"
   ]
  },
  {
   "cell_type": "markdown",
   "metadata": {},
   "source": [
    "# Single model Multiple Runs\n",
    "Has to be the filepath to the **first run** of the model"
   ]
  },
  {
   "cell_type": "code",
   "execution_count": 6,
   "metadata": {},
   "outputs": [],
   "source": [
    "template_folder = '/Users/julesblom/Dropbox/TU/Master/Thesis/Runs/Current/Underlayer2cmtest2500wider_final/Run01'"
   ]
  },
  {
   "cell_type": "code",
   "execution_count": 7,
   "metadata": {},
   "outputs": [
    {
     "name": "stdout",
     "output_type": "stream",
     "text": [
      "mdf_filename 36km_200m_W60Channel.mdf\n",
      "No restart Id string provided. Got it from mdf filename:  trim-36km_200m_W60Channel\n",
      "Number of output timesteps is 10\n",
      "**--------- RUN1-----------**\n",
      "Start time: 0.0 \n",
      "End time:   1020.0\n",
      "**--------- RUN2-----------**\n",
      "New folder: /Users/julesblom/Dropbox/TU/Master/Thesis/Runs/Current/Underlayer2cmtest2500wider_final/Run02\n",
      "Creation of the directory '/Users/julesblom/Dropbox/TU/Master/Thesis/Runs/Current/Underlayer2cmtest2500wider_final/Run02' failed, because it already exists! Carrying on\n",
      "write simple int MNKmax [132.0, 182.0, 80.0]\n",
      "write simple int Dt [0.3]\n",
      "write simple int Tzone [0.0]\n",
      "write simple int Iter [2.0]\n",
      "write simple int ncFormat [4.0]\n",
      "write simple int Restid_timeindex [11]\n",
      "Removing morphology smoothing time in subsequent runs\n",
      "\tChanging times in 5050_15.bcc\n",
      "\tChanging times in discharge2500.bct\n",
      "Start time: 1020.0 \n",
      "End time:   2040.0\n"
     ]
    }
   ],
   "source": [
    "makeMultipleRuns(read_folder=template_folder, number_of_runs=2, removeNetCdf=False, mor_smoothing_time=True)"
   ]
  },
  {
   "cell_type": "code",
   "execution_count": null,
   "metadata": {},
   "outputs": [],
   "source": []
  }
 ],
 "metadata": {
  "kernelspec": {
   "display_name": "Python 3",
   "language": "python",
   "name": "python3"
  },
  "language_info": {
   "codemirror_mode": {
    "name": "ipython",
    "version": 3
   },
   "file_extension": ".py",
   "mimetype": "text/x-python",
   "name": "python",
   "nbconvert_exporter": "python",
   "pygments_lexer": "ipython3",
   "version": "3.7.5"
  }
 },
 "nbformat": 4,
 "nbformat_minor": 4
}
