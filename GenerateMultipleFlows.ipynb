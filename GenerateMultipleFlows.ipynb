{
 "cells": [
  {
   "cell_type": "code",
   "execution_count": 3,
   "metadata": {},
   "outputs": [],
   "source": [
    "from JulesD3D.multipleruns import makeMultipleRuns\n",
    "from os import path"
   ]
  },
  {
   "cell_type": "code",
   "execution_count": 4,
   "metadata": {},
   "outputs": [],
   "source": [
    "# for dev purposes\n",
    "%load_ext autoreload\n",
    "%reload_ext autoreload"
   ]
  },
  {
   "cell_type": "markdown",
   "metadata": {},
   "source": [
    "# Multiple Models + Multiple Runs\n",
    "* For when you're feeling really ambitious!\n",
    "* Assumes the models with different slopes are already in place in folder with a first (template) run "
   ]
  },
  {
   "cell_type": "code",
   "execution_count": 3,
   "metadata": {},
   "outputs": [],
   "source": [
    "# base_folder = '/Users/julesblom/Dropbox/TU/Master/Thesis/Runs/5050_single_slope'\n",
    "\n",
    "# model_names = ['/Slope0.50', '/Slope0.75', '/Slope1.00', '/Slope1.25', '/Slope1.50']\n",
    "# first_run = '/Run01'\n",
    "\n",
    "# models_folder_paths = [base_folder + model_name + first_run for model_name in model_names]\n",
    "\n",
    "# number_of_runs = 50"
   ]
  },
  {
   "cell_type": "code",
   "execution_count": 4,
   "metadata": {},
   "outputs": [],
   "source": [
    "# for model in models_folder_paths:\n",
    "#     print(\"---------------------- \", model[:-5] ,\"-------------------------- \")\n",
    "#     read_folder = path.join(base_folder, model)\n",
    "# #     print(\"read folder is\", read_folder)\n",
    "#     makeMultipleRuns(template_folder=read_folder, number_of_runs=number_of_runs)"
   ]
  },
  {
   "cell_type": "markdown",
   "metadata": {},
   "source": [
    "<hr/>"
   ]
  },
  {
   "cell_type": "markdown",
   "metadata": {},
   "source": [
    "# Single model Multiple Runs\n",
    "Has to be the filepath to the **first run** of the model"
   ]
  },
  {
   "cell_type": "code",
   "execution_count": 5,
   "metadata": {},
   "outputs": [],
   "source": [
    "# template folder\n",
    "my_folder = '/Users/julesblom/Dropbox/TU/Master/Thesis/Runs/Current/ResetEvery5_Slope1.25/Run01'"
   ]
  },
  {
   "cell_type": "code",
   "execution_count": 6,
   "metadata": {},
   "outputs": [
    {
     "name": "stdout",
     "output_type": "stream",
     "text": [
      "mdf_filename 36km_200m_W60Channel.mdf\n",
      "No restart Id string provided. Got it from mdf filename:  trim-36km_200m_W60Channel\n",
      "Total number of output timesteps is 12\n",
      "**--------- RUN1-----------**\n",
      "**--------- RUN2-----------**\n",
      "New folder: /Users/julesblom/Dropbox/TU/Master/Thesis/Runs/Current/ResetEvery5_Slope1.25/Run02\n",
      "Creation of the directory '/Users/julesblom/Dropbox/TU/Master/Thesis/Runs/Current/ResetEvery5_Slope1.25/Run02' failed, because it already exists! Carrying on\n",
      "Removing morphology smoothing time\n",
      "\tChanging times in 5050_15.bcc\n",
      "\tChanging times in discharge4500.bct\n",
      "Start time: 1230.0 \n",
      "End time:   2460.0\n"
     ]
    }
   ],
   "source": [
    "makeMultipleRuns(template_folder=my_folder, number_of_runs=2, init_MorStt=\"4.5000000e+001\", Restid_timeindex=0)"
   ]
  },
  {
   "cell_type": "code",
   "execution_count": null,
   "metadata": {},
   "outputs": [],
   "source": []
  }
 ],
 "metadata": {
  "kernelspec": {
   "display_name": "Python 3",
   "language": "python",
   "name": "python3"
  },
  "language_info": {
   "codemirror_mode": {
    "name": "ipython",
    "version": 3
   },
   "file_extension": ".py",
   "mimetype": "text/x-python",
   "name": "python",
   "nbconvert_exporter": "python",
   "pygments_lexer": "ipython3",
   "version": "3.7.7"
  }
 },
 "nbformat": 4,
 "nbformat_minor": 4
}
