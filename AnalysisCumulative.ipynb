{
 "cells": [
  {
   "cell_type": "markdown",
   "metadata": {},
   "source": [
    "## Pick last timestep of every run of multirun\n",
    "* This is me doing the same thing I already did in `CompareMultipleRuns.ipynb` but in different approach because I like wasting time"
   ]
  },
  {
   "cell_type": "code",
   "execution_count": 6,
   "metadata": {},
   "outputs": [],
   "source": [
    "%matplotlib widget\n",
    "import xarray as xr\n",
    "import hvplot.xarray\n",
    "import pyvista as pv\n",
    "from JulesD3D.processNetCDF import fixCORs, fixMeshGrid, addVectorSum, makeVelocity\n",
    "from JulesD3D.utils import quickDF, folderPicker\n",
    "from os import path, walk\n",
    "import ipywidgets as widgets\n",
    "import matplotlib.pyplot as plt\n",
    "from IPython.display import Markdown as md"
   ]
  },
  {
   "cell_type": "code",
   "execution_count": 7,
   "metadata": {},
   "outputs": [
    {
     "data": {
      "application/vnd.jupyter.widget-view+json": {
       "model_id": "d4789a15278a4685ab3ac69987bce277",
       "version_major": 2,
       "version_minor": 0
      },
      "text/plain": [
       "Select(description='Scenario folder:', layout=Layout(height='120px', width='100%'), options=('/Volumes/Seagate…"
      ]
     },
     "metadata": {},
     "output_type": "display_data"
    }
   ],
   "source": [
    "parent_folder = '/Volumes/Seagate Expansion Drive/FinalResults'\n",
    "\n",
    "# parent_folder = '/Users/julesblom/ThesisResults/'\n",
    "scenario_folder = folderPicker(parent_folder)\n",
    "scenario_folder"
   ]
  },
  {
   "cell_type": "markdown",
   "metadata": {},
   "source": [
    "## ⚠️ Things blow up when you include Run01 in this folder  ¯\\_(ツ)_/¯   ⚠️\n",
    "Should really figure with what params this would work"
   ]
  },
  {
   "cell_type": "code",
   "execution_count": 14,
   "metadata": {},
   "outputs": [
    {
     "data": {
      "text/plain": [
       "'Slope0.85'"
      ]
     },
     "execution_count": 14,
     "metadata": {},
     "output_type": "execute_result"
    }
   ],
   "source": [
    "all_nc_files_in_folder = scenario_folder.value + '*.nc'\n",
    "scenario = scenario_folder.value[-10:-1] \n",
    "scenario"
   ]
  },
  {
   "cell_type": "code",
   "execution_count": 15,
   "metadata": {},
   "outputs": [],
   "source": [
    "# hack because first dataset is composed slightly differently as restart datasets \n",
    "first_ncfilename = '/Users/julesblom/ThesisResults/Slope085_Run01.nc' # '/Users/julesblom/ThesisResults/Slope125_Run01.nc'\n",
    "\n",
    "first = xr.open_dataset(first_ncfilename)"
   ]
  },
  {
   "cell_type": "code",
   "execution_count": 16,
   "metadata": {},
   "outputs": [],
   "source": [
    "# chunking makes adding vector sums much faster!\n",
    "combined = xr.open_mfdataset(all_nc_files_in_folder, combine='nested', concat_dim=\"time\", chunks={'time': 10},\n",
    "                             data_vars='minimal', coords='minimal', join='left', compat='override')"
   ]
  },
  {
   "cell_type": "code",
   "execution_count": 17,
   "metadata": {},
   "outputs": [
    {
     "name": "stdout",
     "output_type": "stream",
     "text": [
      "● Fixing mesh grid, assuming a uniform grid \n",
      "132 x 182 grid\n"
     ]
    }
   ],
   "source": [
    "bottom_stress_attrs = {'long_name': 'Bottom stress', 'units': 'N/m2', 'grid': 'grid', 'location': 'edge1'}\n",
    "bottom_stres_dims = ('time', 'M', 'N')\n",
    "\n",
    "combined = fixCORs(combined)\n",
    "combined = fixMeshGrid(combined, mystery_flag=True)\n",
    "combined = addVectorSum(combined, 'TAUKSI', 'TAUETA', key=\"bottom_stress\", attrs=bottom_stress_attrs, dims=bottom_stres_dims)\n",
    "combined['bottom_diff'] = first.DPS.isel(time = 0) - combined.DPS # Make accumulated deposition/erosion DataArray—"
   ]
  },
  {
   "cell_type": "code",
   "execution_count": 42,
   "metadata": {},
   "outputs": [
    {
     "name": "stdout",
     "output_type": "stream",
     "text": [
      "makeVelocity: depth not in DataSet already, adding it now...\n"
     ]
    }
   ],
   "source": [
    "combined = makeVelocity(first)"
   ]
  },
  {
   "cell_type": "code",
   "execution_count": 19,
   "metadata": {},
   "outputs": [],
   "source": [
    "plot_settings = dict(\n",
    "    height= 600,\n",
    "    width= 444,\n",
    "    rasterize= True,\n",
    "    dynamic= True,\n",
    "    attr_labels= True,    \n",
    ")"
   ]
  },
  {
   "cell_type": "code",
   "execution_count": 28,
   "metadata": {},
   "outputs": [],
   "source": [
    "_, _, files = next(walk(scenario_folder.value))\n",
    "nr_of_datasets = len(files) - 1 # .DS_Store wrecking things here\n",
    "nr_time_steps = int(combined.time.size)\n",
    "steps_per_dataset = int(nr_time_steps/nr_of_datasets)\n",
    "times = [i for i in range(steps_per_dataset-1, nr_time_steps+1, steps_per_dataset)]"
   ]
  },
  {
   "cell_type": "code",
   "execution_count": 29,
   "metadata": {},
   "outputs": [
    {
     "data": {
      "text/markdown": [
       "\n",
       "# Times\n",
       "| Name | Value |\n",
       "| --- | --- |\n",
       "| Nr of timesteps total | 588 |\n",
       "| Nr of datasets | 49 |\n",
       "| Timestep per set | 12 |\n"
      ],
      "text/plain": [
       "<IPython.core.display.Markdown object>"
      ]
     },
     "execution_count": 29,
     "metadata": {},
     "output_type": "execute_result"
    }
   ],
   "source": [
    "md(f\"\"\"\n",
    "# Times\n",
    "| Name | Value |\n",
    "| --- | --- |\n",
    "| Nr of timesteps total | {nr_time_steps} |\n",
    "| Nr of datasets | {nr_of_datasets} |\n",
    "| Timestep per set | {steps_per_dataset} |\n",
    "\"\"\")"
   ]
  },
  {
   "cell_type": "markdown",
   "metadata": {},
   "source": [
    "# Depocenter/erosion coords\n",
    "Ignoring channel"
   ]
  },
  {
   "cell_type": "code",
   "execution_count": null,
   "metadata": {
    "jupyter": {
     "source_hidden": true
    }
   },
   "outputs": [],
   "source": [
    "# thickest_points = []\n",
    "# lowest_point = []\n",
    "\n",
    "# for time in range(1, only_last_timestep_per_run.time.size):\n",
    "#     print('time', time)\n",
    "#     bottom_diff_at_time = only_last_timestep_per_run.bottom_diff.isel(time=time).squeeze()\n",
    "    \n",
    "#     thickest_deposit_height = bottom_diff_at_time.max().values    \n",
    "#     lowest_deposit_height = bottom_diff_at_time.min().values\n",
    "\n",
    "#     print(\"thickest:\", thickest_deposit_height, \"lowest\", lowest_deposit_height)\n",
    "    \n",
    "#     x_coord_erosion = bottom_diff_at_time.where(bottom_diff_at_time == lowest_deposit_height, drop=True).squeeze().XZ.values\n",
    "#     y_coord_erosion = bottom_diff_at_time.where(bottom_diff_at_time == lowest_deposit_height, drop=True).squeeze().YZ.values\n",
    "    \n",
    "#     x_coord_depocenter = bottom_diff_at_time.where(bottom_diff_at_time == thickest_deposit_height, drop=True).squeeze().XZ.values\n",
    "#     y_coord_depocenter = bottom_diff_at_time.where(bottom_diff_at_time == thickest_deposit_height, drop=True).squeeze().YZ.values\n",
    "    \n",
    "#     thickest_points.append(\n",
    "#         {\"x\": x_coord_depocenter,\n",
    "#          \"y\": y_coord_depocenter,\n",
    "#          \"height\": float(thickest_deposit_height),\n",
    "#          \"run\": int(time-1*5)\n",
    "#         })\n",
    "# #     lowest_point_coords.append([int(x_coord_erosion),int(y_coord_depocenter) ])"
   ]
  },
  {
   "cell_type": "code",
   "execution_count": null,
   "metadata": {},
   "outputs": [],
   "source": [
    "thickest_points"
   ]
  },
  {
   "cell_type": "code",
   "execution_count": null,
   "metadata": {},
   "outputs": [],
   "source": [
    "lowest_point_coords"
   ]
  },
  {
   "cell_type": "markdown",
   "metadata": {},
   "source": [
    "# Bottom stress mean"
   ]
  },
  {
   "cell_type": "code",
   "execution_count": 30,
   "metadata": {},
   "outputs": [],
   "source": [
    "bottom_stress = combined.bottom_stress"
   ]
  },
  {
   "cell_type": "code",
   "execution_count": 32,
   "metadata": {},
   "outputs": [],
   "source": [
    "filtered_bottom_stress = bottom_stress.where(bottom_stress > 0.1)"
   ]
  },
  {
   "cell_type": "code",
   "execution_count": null,
   "metadata": {},
   "outputs": [],
   "source": [
    "filtered_bottom_stress.hvplot.quadmesh('XZ', 'YZ',\n",
    "                        cmap='inferno_r',\n",
    "                        clim=(0,10),\n",
    "                        clabel=filtered_bottom_stress.attrs['units'],                                                                       \n",
    "                        **plot_settings\n",
    "                       ) "
   ]
  },
  {
   "cell_type": "code",
   "execution_count": null,
   "metadata": {},
   "outputs": [],
   "source": [
    "filtered_bottom_stress"
   ]
  },
  {
   "cell_type": "code",
   "execution_count": null,
   "metadata": {},
   "outputs": [],
   "source": [
    "mean_bottom_stress_per_time = filtered_bottom_stress.groupby('time').mean(...)"
   ]
  },
  {
   "cell_type": "code",
   "execution_count": 33,
   "metadata": {},
   "outputs": [
    {
     "name": "stderr",
     "output_type": "stream",
     "text": [
      "All-NaN slice encountered\n"
     ]
    }
   ],
   "source": [
    "max_bottom_stress_per_time = filtered_bottom_stress.groupby('time').max(...)"
   ]
  },
  {
   "cell_type": "code",
   "execution_count": 37,
   "metadata": {},
   "outputs": [
    {
     "data": {
      "application/vnd.jupyter.widget-view+json": {
       "model_id": "7a0a010d62b94959848687bfb27bb0e2",
       "version_major": 2,
       "version_minor": 0
      },
      "text/plain": [
       "Canvas(toolbar=Toolbar(toolitems=[('Home', 'Reset original view', 'home', 'home'), ('Back', 'Back to previous …"
      ]
     },
     "metadata": {},
     "output_type": "display_data"
    },
    {
     "data": {
      "text/plain": [
       "[<matplotlib.lines.Line2D at 0x12447cb50>]"
      ]
     },
     "execution_count": 37,
     "metadata": {},
     "output_type": "execute_result"
    }
   ],
   "source": [
    "max_bottom_stress_per_time.plot(aspect=1.8, size=5)"
   ]
  },
  {
   "cell_type": "code",
   "execution_count": null,
   "metadata": {},
   "outputs": [],
   "source": [
    "plt.ylabel(\"Bottom Stress (N/m2)\")\n",
    "plt.title(f\"{scenario}° Maximum bottom Stress per timestep (N/m2)\")\n"
   ]
  },
  {
   "cell_type": "code",
   "execution_count": null,
   "metadata": {},
   "outputs": [],
   "source": [
    "mean_bottom_stress_per_time.plot(aspect=1.8, size=4, ylim=(0,16))"
   ]
  },
  {
   "cell_type": "markdown",
   "metadata": {},
   "source": [
    "## Max density"
   ]
  },
  {
   "cell_type": "code",
   "execution_count": null,
   "metadata": {},
   "outputs": [],
   "source": [
    "density = combined.RHO\n",
    "filtered_density = density.where(density > 1025.5)"
   ]
  },
  {
   "cell_type": "code",
   "execution_count": null,
   "metadata": {},
   "outputs": [],
   "source": [
    "max_densi_per_time = combined.RHO.groupby('time').max(...)\n",
    "max_densi_per_time.plot()"
   ]
  },
  {
   "cell_type": "code",
   "execution_count": null,
   "metadata": {},
   "outputs": [],
   "source": [
    "filtered_density.groupby('time').mean(...).plot(aspect=1.8, size=4)"
   ]
  },
  {
   "cell_type": "code",
   "execution_count": null,
   "metadata": {},
   "outputs": [],
   "source": [
    "plt.show()"
   ]
  },
  {
   "cell_type": "markdown",
   "metadata": {},
   "source": [
    "## Acc net flux max"
   ]
  },
  {
   "cell_type": "code",
   "execution_count": 35,
   "metadata": {},
   "outputs": [],
   "source": [
    "acc_net_sed_flux = combined.DMSEDCUM.combine\n",
    "filtered_acc_net_sed_flux = acc_net_sed_flux.where(acc_net_sed_flux > 3)\n"
   ]
  },
  {
   "cell_type": "code",
   "execution_count": 39,
   "metadata": {},
   "outputs": [
    {
     "data": {
      "application/vnd.jupyter.widget-view+json": {
       "model_id": "1ea01fb2522747208b25d0655b599482",
       "version_major": 2,
       "version_minor": 0
      },
      "text/plain": [
       "Canvas(toolbar=Toolbar(toolitems=[('Home', 'Reset original view', 'home', 'home'), ('Back', 'Back to previous …"
      ]
     },
     "metadata": {},
     "output_type": "display_data"
    },
    {
     "name": "stderr",
     "output_type": "stream",
     "text": [
      "All-NaN slice encountered\n",
      "All-NaN slice encountered\n"
     ]
    },
    {
     "data": {
      "text/plain": [
       "[<matplotlib.lines.Line2D at 0x1221f2410>]"
      ]
     },
     "execution_count": 39,
     "metadata": {},
     "output_type": "execute_result"
    }
   ],
   "source": [
    "plt.figure()\n",
    "# filtered_acc_net_sed_flux.groupby('time').max(...).plot()"
   ]
  },
  {
   "cell_type": "code",
   "execution_count": 43,
   "metadata": {},
   "outputs": [],
   "source": [
    "# def thickestPoint(x):\n",
    "#     thickest_deposit_height = x.max() \n",
    "\n",
    "# #     x_coord_depocenter = x.where(x == thickest_deposit_height, drop=True).squeeze().XZ.values\n",
    "# #     y_coord_depocenter = x.where(x == thickest_deposit_height, drop=True).squeeze().YZ.values\n",
    "    \n",
    "#     return thickest_deposit_height\n",
    "\n",
    "# def lowestPoint(x):\n",
    "#     lowest_deposit_height = bottom_diff_at_time.min().values\n",
    "    \n",
    "#     x_coord_erosio\n",
    "#     n = bottom_diff_at_time.where(bottom_diff_at_time == lowest_deposit_height, drop=True).squeeze().XZ.values\n",
    "#     y_coord_erosion = bottom_diff_at_time.where(bottom_diff_at_time == lowest_deposit_height, drop=True).squeeze().YZ.values\n",
    "    \n",
    "# combined.bottom_diff.reduce(thickestPoint)"
   ]
  },
  {
   "cell_type": "code",
   "execution_count": null,
   "metadata": {},
   "outputs": [],
   "source": [
    "combined.bottom_diff"
   ]
  }
 ],
 "metadata": {
  "kernelspec": {
   "display_name": "Python 3",
   "language": "python",
   "name": "python3"
  },
  "language_info": {
   "codemirror_mode": {
    "name": "ipython",
    "version": 3
   },
   "file_extension": ".py",
   "mimetype": "text/x-python",
   "name": "python",
   "nbconvert_exporter": "python",
   "pygments_lexer": "ipython3",
   "version": "3.7.7"
  }
 },
 "nbformat": 4,
 "nbformat_minor": 4
}
