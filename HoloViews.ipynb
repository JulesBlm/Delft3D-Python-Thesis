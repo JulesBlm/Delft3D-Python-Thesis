{
 "cells": [
  {
   "cell_type": "markdown",
   "metadata": {},
   "source": [
    "# Holoviews"
   ]
  },
  {
   "cell_type": "code",
   "execution_count": 1,
   "metadata": {},
   "outputs": [],
   "source": [
    "# hv_density = hv.Dataset(trim.RHO)\n",
    "# density_plot = hv_density.to(hv.QuadMesh, [\"XZ\", \"YZ\"], dynamic=True)\\\n",
    "#     .opts(opts.QuadMesh(cmap='viridis', fig_inches=(5, 15), #width=170, height=1200,\n",
    "#                         colorbar=True, aspect=0.3,\n",
    "#                        )\\\n",
    "#          )\n",
    "\n",
    "\n",
    "# density_plot\n",
    "# # rasterize(density_plot) # datashaded for performance"
   ]
  },
  {
   "cell_type": "code",
   "execution_count": null,
   "metadata": {},
   "outputs": [],
   "source": [
    "hv_velocity = hv.Dataset(trim.velocity)\n",
    "\n",
    "velocity_plot = hv_velocity.to(hv.QuadMesh, [\"XZ\", \"YZ\"], dynamic=True).opts(\n",
    "    opts.QuadMesh(cmap='inferno', fig_inches=(5, 12), clim=(0,1), colorbar=True, aspect=0.3) \n",
    ")\n",
    "\n",
    "velocity_plot"
   ]
  }
 ],
 "metadata": {
  "kernelspec": {
   "display_name": "Python 3",
   "language": "python",
   "name": "python3"
  },
  "language_info": {
   "codemirror_mode": {
    "name": "ipython",
    "version": 3
   },
   "file_extension": ".py",
   "mimetype": "text/x-python",
   "name": "python",
   "nbconvert_exporter": "python",
   "pygments_lexer": "ipython3",
   "version": "3.7.5"
  }
 },
 "nbformat": 4,
 "nbformat_minor": 4
}
