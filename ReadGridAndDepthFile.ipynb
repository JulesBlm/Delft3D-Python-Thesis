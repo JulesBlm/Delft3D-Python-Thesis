{
 "cells": [
  {
   "cell_type": "markdown",
   "metadata": {},
   "source": [
    "# Read and view Delft3D grid, depth and enclosure files"
   ]
  },
  {
   "cell_type": "code",
   "execution_count": 1,
   "metadata": {},
   "outputs": [],
   "source": [
    "%matplotlib widget"
   ]
  },
  {
   "cell_type": "code",
   "execution_count": 2,
   "metadata": {},
   "outputs": [],
   "source": [
    "import matplotlib.pyplot as plt\n",
    "from cmocean.cm import deep\n",
    "from mpl_toolkits.mplot3d import Axes3D\n",
    "import pandas as pd\n",
    "import numpy as np\n",
    "from JulesD3D.dep import Dep\n",
    "from JulesD3D.grid import Grid\n",
    "from JulesD3D.enc import readEnc\n",
    "from JulesD3D.bnd import bnd\n",
    "from os import path, walk\n",
    "colormap = deep\n",
    "%load_ext autoreload"
   ]
  },
  {
   "cell_type": "code",
   "execution_count": 3,
   "metadata": {},
   "outputs": [],
   "source": [
    "%reload_ext autoreload"
   ]
  },
  {
   "cell_type": "markdown",
   "metadata": {},
   "source": [
    "## Load grid + depth + boundaries"
   ]
  },
  {
   "cell_type": "code",
   "execution_count": 4,
   "metadata": {},
   "outputs": [],
   "source": [
    "folder_name = \"/Users/julesblom/Dropbox/TU/Master/Thesis/Runs/Current/Replenishment_TransportLayer50cm/Run01\""
   ]
  },
  {
   "cell_type": "code",
   "execution_count": 5,
   "metadata": {},
   "outputs": [],
   "source": [
    "basename = path.basename(folder_name)\n",
    "plot_title, _ = path.splitext(basename)\n",
    "title = basename"
   ]
  },
  {
   "cell_type": "code",
   "execution_count": 6,
   "metadata": {},
   "outputs": [],
   "source": [
    "all_filenames = []\n",
    "\n",
    "# Find filenames in template/read folder\n",
    "for root, dirs, files in walk(folder_name):\n",
    "    for file in files:\n",
    "        if file.endswith('bnd'):\n",
    "            bnd_filename = path.join(folder_name, file)\n",
    "            all_filenames.append({\"type\": \"Boundary\", \"filename\": path.split(bnd_filename)[1]})\n",
    "        elif file.endswith('dep'):\n",
    "            dep_filename =  path.join(folder_name, file)\n",
    "            all_filenames.append({\"type\": \"Depth\", \"filename\": path.split(dep_filename)[1]})\n",
    "        elif file.endswith('enc'):\n",
    "            enc_filename =  path.join(folder_name, file)\n",
    "            all_filenames.append({\"type\": \"Enclosure\", \"filename\":path.split(enc_filename)[1]})\n",
    "        elif file.endswith('grd'):\n",
    "            grid_filename = path.join(folder_name, file)\n",
    "            all_filenames.append({\"type\": \"Grid\", \"filename\":path.split(grid_filename)[1]})        "
   ]
  },
  {
   "cell_type": "code",
   "execution_count": 7,
   "metadata": {},
   "outputs": [
    {
     "data": {
      "text/html": [
       "<div>\n",
       "<style scoped>\n",
       "    .dataframe tbody tr th:only-of-type {\n",
       "        vertical-align: middle;\n",
       "    }\n",
       "\n",
       "    .dataframe tbody tr th {\n",
       "        vertical-align: top;\n",
       "    }\n",
       "\n",
       "    .dataframe thead th {\n",
       "        text-align: right;\n",
       "    }\n",
       "</style>\n",
       "<table border=\"1\" class=\"dataframe\">\n",
       "  <thead>\n",
       "    <tr style=\"text-align: right;\">\n",
       "      <th></th>\n",
       "      <th>type</th>\n",
       "      <th>filename</th>\n",
       "    </tr>\n",
       "  </thead>\n",
       "  <tbody>\n",
       "    <tr>\n",
       "      <th>0</th>\n",
       "      <td>Depth</td>\n",
       "      <td>gen_36_by_26km.dep</td>\n",
       "    </tr>\n",
       "    <tr>\n",
       "      <th>1</th>\n",
       "      <td>Boundary</td>\n",
       "      <td>QChannelZdeep.bnd</td>\n",
       "    </tr>\n",
       "    <tr>\n",
       "      <th>2</th>\n",
       "      <td>Grid</td>\n",
       "      <td>36km_26km_W60Channel.grd</td>\n",
       "    </tr>\n",
       "    <tr>\n",
       "      <th>3</th>\n",
       "      <td>Enclosure</td>\n",
       "      <td>36km_1cellchannel_15km.enc</td>\n",
       "    </tr>\n",
       "  </tbody>\n",
       "</table>\n",
       "</div>"
      ],
      "text/plain": [
       "        type                    filename\n",
       "0      Depth          gen_36_by_26km.dep\n",
       "1   Boundary           QChannelZdeep.bnd\n",
       "2       Grid    36km_26km_W60Channel.grd\n",
       "3  Enclosure  36km_1cellchannel_15km.enc"
      ]
     },
     "execution_count": 7,
     "metadata": {},
     "output_type": "execute_result"
    }
   ],
   "source": [
    "files_df = pd.DataFrame(data=all_filenames)\n",
    "files_df"
   ]
  },
  {
   "cell_type": "code",
   "execution_count": 8,
   "metadata": {},
   "outputs": [
    {
     "data": {
      "text/plain": [
       "(181, 131)"
      ]
     },
     "execution_count": 8,
     "metadata": {},
     "output_type": "execute_result"
    }
   ],
   "source": [
    "grid = Grid.fromfile(grid_filename)\n",
    "grid.shape"
   ]
  },
  {
   "cell_type": "code",
   "execution_count": 9,
   "metadata": {},
   "outputs": [],
   "source": [
    "dep = Dep.read(dep_filename, grid.shape)\n",
    "depth = dep.values[0:-1,0:-1]"
   ]
  },
  {
   "cell_type": "code",
   "execution_count": 10,
   "metadata": {},
   "outputs": [
    {
     "data": {
      "text/html": [
       "<div>\n",
       "<style scoped>\n",
       "    .dataframe tbody tr th:only-of-type {\n",
       "        vertical-align: middle;\n",
       "    }\n",
       "\n",
       "    .dataframe tbody tr th {\n",
       "        vertical-align: top;\n",
       "    }\n",
       "\n",
       "    .dataframe thead th {\n",
       "        text-align: right;\n",
       "    }\n",
       "</style>\n",
       "<table border=\"1\" class=\"dataframe\">\n",
       "  <thead>\n",
       "    <tr style=\"text-align: right;\">\n",
       "      <th></th>\n",
       "      <th>x</th>\n",
       "      <th>y</th>\n",
       "    </tr>\n",
       "  </thead>\n",
       "  <tbody>\n",
       "    <tr>\n",
       "      <th>0</th>\n",
       "      <td>1</td>\n",
       "      <td>75</td>\n",
       "    </tr>\n",
       "    <tr>\n",
       "      <th>1</th>\n",
       "      <td>64</td>\n",
       "      <td>75</td>\n",
       "    </tr>\n",
       "    <tr>\n",
       "      <th>2</th>\n",
       "      <td>64</td>\n",
       "      <td>1</td>\n",
       "    </tr>\n",
       "    <tr>\n",
       "      <th>3</th>\n",
       "      <td>69</td>\n",
       "      <td>1</td>\n",
       "    </tr>\n",
       "    <tr>\n",
       "      <th>4</th>\n",
       "      <td>69</td>\n",
       "      <td>75</td>\n",
       "    </tr>\n",
       "    <tr>\n",
       "      <th>5</th>\n",
       "      <td>132</td>\n",
       "      <td>75</td>\n",
       "    </tr>\n",
       "    <tr>\n",
       "      <th>6</th>\n",
       "      <td>132</td>\n",
       "      <td>182</td>\n",
       "    </tr>\n",
       "    <tr>\n",
       "      <th>7</th>\n",
       "      <td>1</td>\n",
       "      <td>182</td>\n",
       "    </tr>\n",
       "    <tr>\n",
       "      <th>8</th>\n",
       "      <td>1</td>\n",
       "      <td>75</td>\n",
       "    </tr>\n",
       "  </tbody>\n",
       "</table>\n",
       "</div>"
      ],
      "text/plain": [
       "     x    y\n",
       "0    1   75\n",
       "1   64   75\n",
       "2   64    1\n",
       "3   69    1\n",
       "4   69   75\n",
       "5  132   75\n",
       "6  132  182\n",
       "7    1  182\n",
       "8    1   75"
      ]
     },
     "metadata": {},
     "output_type": "display_data"
    }
   ],
   "source": [
    "enclosure_x, enclosure_y = readEnc(enc_filename)"
   ]
  },
  {
   "cell_type": "code",
   "execution_count": 11,
   "metadata": {},
   "outputs": [
    {
     "data": {
      "text/html": [
       "<div>\n",
       "<style scoped>\n",
       "    .dataframe tbody tr th:only-of-type {\n",
       "        vertical-align: middle;\n",
       "    }\n",
       "\n",
       "    .dataframe tbody tr th {\n",
       "        vertical-align: top;\n",
       "    }\n",
       "\n",
       "    .dataframe thead th {\n",
       "        text-align: right;\n",
       "    }\n",
       "</style>\n",
       "<table border=\"1\" class=\"dataframe\">\n",
       "  <thead>\n",
       "    <tr style=\"text-align: right;\">\n",
       "      <th></th>\n",
       "      <th>name</th>\n",
       "      <th>type</th>\n",
       "      <th>forcing</th>\n",
       "      <th>m1</th>\n",
       "      <th>n1</th>\n",
       "      <th>m2</th>\n",
       "      <th>n2</th>\n",
       "      <th>reflection coefficient</th>\n",
       "      <th>vertical profile</th>\n",
       "      <th>label1</th>\n",
       "      <th>label2</th>\n",
       "    </tr>\n",
       "  </thead>\n",
       "  <tbody>\n",
       "    <tr>\n",
       "      <th>0</th>\n",
       "      <td>Discharge</td>\n",
       "      <td>Q</td>\n",
       "      <td>T</td>\n",
       "      <td>66</td>\n",
       "      <td>1</td>\n",
       "      <td>66</td>\n",
       "      <td>1</td>\n",
       "      <td>200.0</td>\n",
       "      <td>3d-profile</td>\n",
       "      <td>NaN</td>\n",
       "      <td>NaN</td>\n",
       "    </tr>\n",
       "    <tr>\n",
       "      <th>1</th>\n",
       "      <td>deep</td>\n",
       "      <td>Z</td>\n",
       "      <td>T</td>\n",
       "      <td>2</td>\n",
       "      <td>182</td>\n",
       "      <td>131</td>\n",
       "      <td>182</td>\n",
       "      <td>200.0</td>\n",
       "      <td>NaN</td>\n",
       "      <td>NaN</td>\n",
       "      <td>NaN</td>\n",
       "    </tr>\n",
       "  </tbody>\n",
       "</table>\n",
       "</div>"
      ],
      "text/plain": [
       "        name type forcing  m1   n1   m2   n2  reflection coefficient  \\\n",
       "0  Discharge    Q       T  66    1   66    1                   200.0   \n",
       "1       deep    Z       T   2  182  131  182                   200.0   \n",
       "\n",
       "  vertical profile  label1  label2  \n",
       "0       3d-profile     NaN     NaN  \n",
       "1              NaN     NaN     NaN  "
      ]
     },
     "metadata": {},
     "output_type": "display_data"
    }
   ],
   "source": [
    "boundary_coords = bnd.readBnd(fname=bnd_filename)"
   ]
  },
  {
   "cell_type": "markdown",
   "metadata": {},
   "source": [
    "## Map plot"
   ]
  },
  {
   "cell_type": "code",
   "execution_count": 12,
   "metadata": {},
   "outputs": [],
   "source": [
    "x_gridcells, y_gridcells = grid.x.shape"
   ]
  },
  {
   "cell_type": "code",
   "execution_count": 13,
   "metadata": {},
   "outputs": [],
   "source": [
    "# almost!\n",
    "# xGridstep, yGridstep = [int((grid.x[-1][-1] / grid.y.shape[1])+1), int((grid.y[-1][-1] / grid.y.shape[0])+1)]\n",
    "# print(xGridstep, yGridstep)"
   ]
  },
  {
   "cell_type": "code",
   "execution_count": 14,
   "metadata": {},
   "outputs": [],
   "source": [
    "x_gridstep = 200\n",
    "y_gridstep = 200"
   ]
  },
  {
   "cell_type": "code",
   "execution_count": 15,
   "metadata": {},
   "outputs": [],
   "source": [
    "fig_length, fig_width = [x_gridcells/10, y_gridcells/10]\n",
    "min_depth, max_depth = [np.amin(depth), np.max(depth)]"
   ]
  },
  {
   "cell_type": "code",
   "execution_count": 16,
   "metadata": {},
   "outputs": [],
   "source": [
    "# Minus 1 cause off by 1\n",
    "plot_enclosure_x_coords = [i - 1 for i in enclosure_x] # oo GIFs afac\n",
    "plot_enclosure_y_coords = [i - 3 for i in enclosure_y]"
   ]
  },
  {
   "cell_type": "code",
   "execution_count": 17,
   "metadata": {},
   "outputs": [],
   "source": [
    "plot_enclosure_x_meters = [i * x_gridstep for i in plot_enclosure_x_coords]\n",
    "plot_enclosure_y_meters = [i * y_gridstep for i in enclosure_y]"
   ]
  },
  {
   "cell_type": "code",
   "execution_count": 18,
   "metadata": {},
   "outputs": [],
   "source": [
    "bc_x_coords, bc_y_coords = bnd.getXY(boundary_coords)"
   ]
  },
  {
   "cell_type": "code",
   "execution_count": 19,
   "metadata": {},
   "outputs": [],
   "source": [
    "bc_x_meters = [(i[0] * x_gridstep, i[1] * y_gridstep) for i in bc_x_coords]\n",
    "bc_y_meters = [(i[0] * x_gridstep, i[1] * y_gridstep) for i in bc_y_coords]"
   ]
  },
  {
   "cell_type": "code",
   "execution_count": 20,
   "metadata": {},
   "outputs": [
    {
     "data": {
      "text/plain": [
       "((400, 36400), (26200, 36400))"
      ]
     },
     "execution_count": 20,
     "metadata": {},
     "output_type": "execute_result"
    }
   ],
   "source": [
    "deep_1 = (bc_x_meters[1][0], bc_y_meters[1][0])\n",
    "deep_2 = (bc_x_meters[1][1], bc_y_meters[1][1])\n",
    "deep_bc_meters = (deep_1, deep_2)\n",
    "deep_bc_meters"
   ]
  },
  {
   "cell_type": "code",
   "execution_count": 21,
   "metadata": {},
   "outputs": [
    {
     "data": {
      "text/plain": [
       "(13200, 200)"
      ]
     },
     "execution_count": 21,
     "metadata": {},
     "output_type": "execute_result"
    }
   ],
   "source": [
    "discharge_location_x = bc_x_meters[0][0]\n",
    "discharge_location_y = bc_y_meters[0][0]\n",
    "(discharge_location_x, discharge_location_y)"
   ]
  },
  {
   "cell_type": "code",
   "execution_count": 22,
   "metadata": {},
   "outputs": [],
   "source": [
    "x_grid = grid.x.data[0]\n",
    "y_grid = grid.y.data[:,1]"
   ]
  },
  {
   "cell_type": "code",
   "execution_count": 23,
   "metadata": {},
   "outputs": [],
   "source": [
    "# tickstep = 10\n",
    "# coords_x_ticks = [i for i in range(0, x_gridcells, tickstep)]\n",
    "# coords_y_ticks = [i for i in range(0, y_gridcells, tickstep)]"
   ]
  },
  {
   "cell_type": "code",
   "execution_count": 27,
   "metadata": {},
   "outputs": [
    {
     "data": {
      "application/vnd.jupyter.widget-view+json": {
       "model_id": "629f128871e04fba909ae4f2e9db4eab",
       "version_major": 2,
       "version_minor": 0
      },
      "text/plain": [
       "Canvas(toolbar=Toolbar(toolitems=[('Home', 'Reset original view', 'home', 'home'), ('Back', 'Back to previous …"
      ]
     },
     "metadata": {},
     "output_type": "display_data"
    }
   ],
   "source": [
    "fig, [gridAx0, gridAx1] = plt.subplots(1,2, figsize=(10, 5))\n",
    "\n",
    "fig.suptitle(title, fontsize=13)\n",
    "# In M by N numbers\n",
    "gridAx0.set_title('In grid numbers')\n",
    "gridAx0.set_aspect('equal')\n",
    "gridAx0.plot(plot_enclosure_x_coords, plot_enclosure_y_coords, c='#ffb9be', linewidth=3)\n",
    "gridAx0.pcolor(depth, vmin=min_depth, vmax=max_depth, cmap=colormap) \n",
    "gridAx0.set_xlabel('m')\n",
    "gridAx0.set_ylabel('n')\n",
    "# gridAx0.set_xticks(coords_x_ticks)\n",
    "# gridAx0.set_xticklabels(labels=coords_x_ticks, rotation='vertical')\n",
    "gridAx0.grid(linewidth=0.5, alpha=0.8, color='w')# xdata=newGrid.x[0][1:-1], ydata=newGrid.y[0][1:-1])\n",
    "gridAx0.scatter(bc_x_coords, bc_y_coords, c='black', linewidth=3)\n",
    "\n",
    "# In meters\n",
    "\n",
    "gridAx1.set_title('In meters')\n",
    "gridAx1.set_aspect('equal')\n",
    "gridAx1.plot(plot_enclosure_x_meters, plot_enclosure_y_meters, c='#ffb9be', linewidth=1.5)\n",
    "grid_im = gridAx1.pcolor(grid.x, grid.y, depth[0:-1,0:-1], vmin=min_depth, vmax=max_depth, cmap=deep)\n",
    "gridAx1.set_ylabel('Length $n$ [m]', fontsize=10)\n",
    "gridAx1.set_ylabel('Length $n$ [m]', fontsize=10)\n",
    "gridAx1.set_xlim((0, 26200))\n",
    "gridAx1.set_ylim(0, 36700)\n",
    "# gridAx1.set_xticks([i for i in range(0,19000,2500)])\n",
    "# gridAx1.set_xticklabels(labels=[i for i in range(0,17000,1000)], rotation='vertical')\n",
    "gridAx1.grid(linewidth=0.5, alpha=0.7, color='w')# xdata=newGrid.x[0][1:-1], ydata=newGrid.y[0][1:-1])\n",
    "discharge_point = gridAx1.scatter(discharge_location_x, discharge_location_y, c='black', marker=\"^\", label=\"Discharge\", linewidths=7, edgecolors=\"white\")\n",
    "fig.colorbar(grid_im, ax=gridAx1)\n",
    "plt.show()"
   ]
  },
  {
   "cell_type": "markdown",
   "metadata": {},
   "source": [
    "# Report plot"
   ]
  },
  {
   "cell_type": "code",
   "execution_count": 29,
   "metadata": {},
   "outputs": [
    {
     "data": {
      "application/vnd.jupyter.widget-view+json": {
       "model_id": "adfb02b629924f87972983c172e77cc0",
       "version_major": 2,
       "version_minor": 0
      },
      "text/plain": [
       "Canvas(toolbar=Toolbar(toolitems=[('Home', 'Reset original view', 'home', 'home'), ('Back', 'Back to previous …"
      ]
     },
     "metadata": {},
     "output_type": "display_data"
    },
    {
     "data": {
      "text/plain": [
       "<matplotlib.legend.Legend at 0x11b04d1d0>"
      ]
     },
     "execution_count": 29,
     "metadata": {},
     "output_type": "execute_result"
    }
   ],
   "source": [
    "fig_r, ax_r = plt.subplots(nrows=1, figsize=(7, 8))\n",
    "\n",
    "# axins = zoomed_inset_axes(ax_r, 2.5, loc=2) # zoom-factor: 2.5, location: upper-left\n",
    "\n",
    "ax_r.set_title('Map view of model domain')\n",
    "ax_r.set_aspect('equal')\n",
    "ax_r.plot(bc_x_meters[1:][0], bc_y_meters[1:][0], c='coral', label='Zero discharge BC', linewidth=7.5)\n",
    "ax_r.plot(plot_enclosure_x_meters, plot_enclosure_y_meters, c='white', linewidth=2.5, label=\"Enclosure\")\n",
    "grid_im = ax_r.pcolor(grid.x, grid.y, depth[0:-1,0:-1], vmin=min_depth, vmax=max_depth, cmap=deep)\n",
    "ax_r.set_xlabel('Width $m$ [m]', fontsize=16)\n",
    "ax_r.set_ylabel('Length $n$ [m]', fontsize=16)\n",
    "ax_r.set_xlim(0, 26200)\n",
    "ax_r.set_ylim(0, 36700)\n",
    "\n",
    "# grid\n",
    "ax_r.set_xticks(x_grid, minor=True)\n",
    "ax_r.set_yticks(y_grid, minor=True)\n",
    "\n",
    "ax_r.grid(which='minor', alpha=0.15)\n",
    "ax_r.grid(which='major', alpha=0.75)\n",
    "\n",
    "discharge = ax_r.scatter(discharge_location_x - 100, discharge_location_y + 400, s=[175], c='coral', label=\"Discharge BC\", marker=\"^\", edgecolors=\"white\")  #\n",
    "\n",
    "# colorbar\n",
    "cbar = fig_r.colorbar(grid_im, ax=ax_r)\n",
    "cbar.ax.set_ylabel(\"Depth [m]\", rotation=-90, va=\"bottom\", fontsize=16)\n",
    "\n",
    "# legend \n",
    "fig_r.legend(loc=(0.15,.273))\n",
    "# fig_r.legend(fontsize=\"xx-large\", loc=\"lower left\")\n",
    "\n"
   ]
  },
  {
   "cell_type": "markdown",
   "metadata": {},
   "source": [
    "## 3D depth"
   ]
  },
  {
   "cell_type": "code",
   "execution_count": null,
   "metadata": {},
   "outputs": [],
   "source": [
    "plt.close(\"all\")"
   ]
  },
  {
   "cell_type": "code",
   "execution_count": null,
   "metadata": {},
   "outputs": [],
   "source": [
    "fig_3d = plt.figure(figsize=(15,10))\n",
    "ax_3d = fig_3d.gca(projection='3d')\n",
    "\n",
    "print(depth.shape)\n",
    "print(grid.x.shape)\n",
    "\n",
    "surface = ax_3d.plot_surface(grid.x, grid.y, depth, cmap=colormap, label='Initial Bathymetry')\n",
    "fig_3d.colorbar(surface, shrink=0.5, aspect=5, label='Depth [m]')\n",
    "\n",
    "ax_3d.set_title(\"3D depth \" + title, fontsize=13)\n",
    "ax_3d.set_xlabel('X [m]')\n",
    "ax_3d.set_ylabel('Y [m]')\n",
    "ax_3d.set_zlabel('Depth [m]')\n",
    "ax_3d.view_init(45, 70)\n",
    "\n",
    "ax_3d.set_zlim(max_depth, min_depth)"
   ]
  },
  {
   "cell_type": "markdown",
   "metadata": {},
   "source": [
    "# PyVista 3D Depth Widget"
   ]
  },
  {
   "cell_type": "code",
   "execution_count": null,
   "metadata": {},
   "outputs": [],
   "source": [
    "import pyvista as pv\n",
    "from cmocean.cm import deep_r\n",
    "# from JulesD3D.plotPyVista import makeBottomSurface"
   ]
  },
  {
   "cell_type": "code",
   "execution_count": null,
   "metadata": {},
   "outputs": [],
   "source": [
    "grid.x[:-1,:-1].shape"
   ]
  },
  {
   "cell_type": "code",
   "execution_count": null,
   "metadata": {},
   "outputs": [],
   "source": [
    "plot_x_mesh = grid.x[:-1,:-1]\n",
    "plot_y_mesh = grid.y[:-1,:-1]\n",
    "plot_z_mesh = -depth[:-1,:-1]\n",
    "\n",
    "bottom_surface = pv.StructuredGrid(plot_x_mesh, plot_y_mesh, plot_z_mesh)\n",
    "bottom_surface.field_arrays['depth'] = -depth[:-1,:-1].T\n",
    "bottom_surface"
   ]
  },
  {
   "cell_type": "code",
   "execution_count": null,
   "metadata": {},
   "outputs": [],
   "source": [
    "p = pv.Plotter(notebook=True)\n",
    "p.add_mesh(bottom_surface, cmap=deep_r, scalars='depth', ambient=0.2)\n",
    "\n",
    "p.show_grid()\n",
    "p.set_scale(zscale=25)\n",
    "p.show(screenshot=\"rememberbathymetry.png\")"
   ]
  },
  {
   "cell_type": "markdown",
   "metadata": {},
   "source": [
    "## Plot grid only"
   ]
  },
  {
   "cell_type": "code",
   "execution_count": null,
   "metadata": {},
   "outputs": [],
   "source": [
    "# Flipped y and x for nice plot!\n",
    "gridFig, gridAx = plt.subplots(figsize=(20, 10))\n",
    "gridAx.plot(grid.y.transpose(), grid.x.transpose(), 'gray')\n",
    "gridAx.plot(grid.y, grid.x, 'gray')\n",
    "gridAx.set_xlabel('n [m]')\n",
    "gridAx.set_ylabel('m [m]')\n",
    "gridAx.set_aspect('equal')"
   ]
  },
  {
   "cell_type": "code",
   "execution_count": null,
   "metadata": {},
   "outputs": [],
   "source": [
    "plt.close('all')"
   ]
  }
 ],
 "metadata": {
  "kernelspec": {
   "display_name": "Python 3",
   "language": "python",
   "name": "python3"
  },
  "language_info": {
   "codemirror_mode": {
    "name": "ipython",
    "version": 3
   },
   "file_extension": ".py",
   "mimetype": "text/x-python",
   "name": "python",
   "nbconvert_exporter": "python",
   "pygments_lexer": "ipython3",
   "version": "3.7.6"
  }
 },
 "nbformat": 4,
 "nbformat_minor": 4
}
