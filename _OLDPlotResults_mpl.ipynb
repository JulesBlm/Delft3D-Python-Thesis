{
 "cells": [
  {
   "cell_type": "markdown",
   "metadata": {},
   "source": [
    "# Open Delft3D NetCDF output file\n",
    "Abondoned in favor of hvPlot and PyVista\n",
    "\n",
    "#### Enter manually\n",
    "* Outputstep duration"
   ]
  },
  {
   "cell_type": "code",
   "execution_count": null,
   "metadata": {},
   "outputs": [],
   "source": [
    "%matplotlib widget\n",
    "!jupyter nbextension enable --py widgetsnbextension\n",
    "%load_ext autoreload\n",
    "import numpy as np\n",
    "import pandas as pd\n",
    "import xarray as xr\n",
    "import numpy.ma as ma\n",
    "import matplotlib.pyplot as plt\n",
    "from matplotlib.ticker import MaxNLocator\n",
    "from matplotlib.colors import BoundaryNorm\n",
    "from matplotlib.colors import LightSource\n",
    "from matplotlib import cm\n",
    "from mpl_toolkits.mplot3d import Axes3D\n",
    "\n",
    "import cmocean.cm as cmo\n",
    "from JulesD3D.utils import plotCrossSection, niceCDF, getPlotKeyword, checkMinMax, quickDF\n",
    "from ipywidgets import interact, interactive, fixed, interact_manual, HBox, VBox\n",
    "import ipywidgets as widgets\n",
    "from seaborn import heatmap\n",
    "colormap = cmo.deep"
   ]
  },
  {
   "cell_type": "code",
   "execution_count": null,
   "metadata": {},
   "outputs": [],
   "source": [
    "# sediments = [('MediumSand', 0), ('FineSand', 1), ('CoarseSilt', 2), ('MediumSilt', 3)] # Check manually in .mdf file\n",
    "# ncfilename = '/Users/julesblom/Dropbox/TU/Master/Thesis/Results/trim-GUIM.nc'"
   ]
  },
  {
   "cell_type": "code",
   "execution_count": 3,
   "metadata": {},
   "outputs": [],
   "source": [
    "# ncfilename = '/Users/julesblom/Dropbox/TU/Master/Thesis/Results/trim-60km_300m_W60Channel.nc'\n",
    "ncfilename = '/Users/julesblom/Dropbox/TU/Master/Thesis/Results/6_2575Run1.nc'"
   ]
  },
  {
   "cell_type": "code",
   "execution_count": 4,
   "metadata": {},
   "outputs": [],
   "source": [
    "trim = xr.open_dataset(ncfilename) # Open with xarray\n",
    "trim = niceCDF(trim, sediments) # Make vector sums\n",
    "\n",
    "[dropdownOptions_horizontal, dropdownOptions_underlayer, dropdownOptions_vertical] = getPlotKeyword(trim)\n",
    "# [print(trim[keyword].attrs) for keyword in trim.data_vars] #keyword, \n",
    "# print(trim.data_vars)"
   ]
  },
  {
   "cell_type": "code",
   "execution_count": null,
   "metadata": {},
   "outputs": [],
   "source": [
    "trim.grid"
   ]
  },
  {
   "cell_type": "code",
   "execution_count": 5,
   "metadata": {},
   "outputs": [
    {
     "name": "stdout",
     "output_type": "stream",
     "text": [
      "Nr of outputsteps 91\n",
      "Total run time hours: 9.0 hours\n",
      "Final output time 09:00:00\n"
     ]
    }
   ],
   "source": [
    "## Get some key variables\n",
    "X = trim.variables['XZ'] # Face X-coordinate of grid points\n",
    "Y = trim.variables['YZ'] # Face Y-coordinate of grid points\n",
    "DPS = trim.variables['DPS'] # Bottom depth\n",
    "sediments = [str(sediment.rstrip()) for sediment in nc.NAMCON.values]\n",
    "xDim, yDim = [trim.dims['M'], trim.dims['N']]\n",
    "nr_of_sigma_layers, nr_of_sigma_bounds = [trim.dims['SIG_LYR'], trim.dims['SIG_INTF']]\n",
    "nr_of_sediment_classes = trim.dims['LSED']\n",
    "total_outputsteps = trim.dims['time']\n",
    "nr_of_underlayers, nr_of_underlayersP = [trim.dims['nlyr'], trim.dims['nlyrp1']]\n",
    "output_duration = 6# minutes  #!!!!!!!!!!!!!!!!!!! WATCH THIS!!!!!!!!!!!!!!!!!!!!!!!\n",
    "print(\"Nr of outputsteps\", total_outputsteps)\n",
    "print('Total run time hours:', ((total_outputsteps-1) * output_duration)/60, 'hours')\n",
    "print('Final output time', str(trim.time[-1].values)[11:19])"
   ]
  },
  {
   "cell_type": "markdown",
   "metadata": {},
   "source": [
    "### Define selectors for (global) plot parameters"
   ]
  },
  {
   "cell_type": "code",
   "execution_count": 6,
   "metadata": {},
   "outputs": [],
   "source": [
    "outputstep = widgets.IntSlider(min=0, max=(trim.time.size - 1), step=1, description='outputstep')\n",
    "sigma = widgets.IntSlider(min=0, max=(trim.KMAXOUT_RESTR.shape[0]-1), step=1, description='sigma')\n",
    "x = widgets.IntSlider(min=0, max=X.shape[0], step=1, description='m')\n",
    "y = widgets.IntSlider(min=0, max=X.shape[1], step=1, description='n')\n",
    "underlayer = widgets.IntSlider(min=0, max=nr_of_underlayers, step=1, description='Underlayer')\n",
    "# list(enumerate(['MediumSand', 'FineSand', 'CoarseSilt', 'MediumSilt']))\n",
    "ui = widgets.HBox([outputstep, sigma, y, x, underlayer])\n",
    "\n",
    "def printSliderValues(outputstep, sigma, y, x, underlayer):\n",
    "    print((outputstep, sigma, y, x, underlayer))\n",
    "\n",
    "out = widgets.interactive_output(printSliderValues, {'outputstep': outputstep, 'sigma': sigma, 'x': x, 'y': y, 'underlayer': underlayer})\n",
    "\n",
    "sedimentClass = widgets.RadioButtons(\n",
    "    options=sediments, # Check manually in .mdf file\n",
    "    description='Sediment:',\n",
    "    disabled=False\n",
    ")"
   ]
  },
  {
   "cell_type": "code",
   "execution_count": null,
   "metadata": {},
   "outputs": [],
   "source": [
    "plotKeyword = widgets.Dropdown(\n",
    "    options=dropdownOptions_horizontal,\n",
    "    description='Plot:',\n",
    "    disabled=False,\n",
    ")\n",
    "\n",
    "vertPlotKeyword = widgets.Dropdown(\n",
    "    options=dropdownOptions_vertical,\n",
    "    description='Plot vertical:',\n",
    "    disabled=False,\n",
    ")\n",
    "\n",
    "underlayerPlotKeyword = widgets.Dropdown(\n",
    "    options=dropdownOptions_underlayer,\n",
    "    description='Plot underlayer:',\n",
    "    disabled=False,\n",
    ")"
   ]
  },
  {
   "cell_type": "markdown",
   "metadata": {},
   "source": [
    "## Velocity map plot"
   ]
  },
  {
   "cell_type": "code",
   "execution_count": 1,
   "metadata": {},
   "outputs": [
    {
     "ename": "NameError",
     "evalue": "name 'interact_manual' is not defined",
     "output_type": "error",
     "traceback": [
      "\u001b[0;31m---------------------------------------------------------------------------\u001b[0m",
      "\u001b[0;31mNameError\u001b[0m                                 Traceback (most recent call last)",
      "\u001b[0;32m<ipython-input-1-05765561ebe9>\u001b[0m in \u001b[0;36m<module>\u001b[0;34m\u001b[0m\n\u001b[0;32m----> 1\u001b[0;31m \u001b[0;34m@\u001b[0m\u001b[0minteract_manual\u001b[0m\u001b[0;34m\u001b[0m\u001b[0;34m\u001b[0m\u001b[0m\n\u001b[0m\u001b[1;32m      2\u001b[0m \u001b[0;32mdef\u001b[0m \u001b[0mVelocityMap\u001b[0m\u001b[0;34m(\u001b[0m\u001b[0moutputstep\u001b[0m\u001b[0;34m=\u001b[0m\u001b[0moutputstep\u001b[0m\u001b[0;34m,\u001b[0m \u001b[0msigma\u001b[0m\u001b[0;34m=\u001b[0m\u001b[0msigma\u001b[0m\u001b[0;34m)\u001b[0m\u001b[0;34m:\u001b[0m\u001b[0;34m\u001b[0m\u001b[0;34m\u001b[0m\u001b[0m\n\u001b[1;32m      3\u001b[0m     \u001b[0mplt\u001b[0m\u001b[0;34m.\u001b[0m\u001b[0mclose\u001b[0m\u001b[0;34m(\u001b[0m\u001b[0;34m\"all\"\u001b[0m\u001b[0;34m)\u001b[0m\u001b[0;34m\u001b[0m\u001b[0;34m\u001b[0m\u001b[0m\n\u001b[1;32m      4\u001b[0m     \u001b[0mvelocity\u001b[0m \u001b[0;34m=\u001b[0m \u001b[0mtrim\u001b[0m\u001b[0;34m[\u001b[0m\u001b[0;34m'velocity'\u001b[0m\u001b[0;34m]\u001b[0m\u001b[0;34m.\u001b[0m\u001b[0misel\u001b[0m\u001b[0;34m(\u001b[0m\u001b[0mtime\u001b[0m\u001b[0;34m=\u001b[0m\u001b[0moutputstep\u001b[0m\u001b[0;34m,\u001b[0m \u001b[0mKMAXOUT_RESTR\u001b[0m\u001b[0;34m=\u001b[0m\u001b[0msigma\u001b[0m\u001b[0;34m)\u001b[0m\u001b[0;34m.\u001b[0m\u001b[0mplot\u001b[0m\u001b[0;34m(\u001b[0m\u001b[0;34m)\u001b[0m\u001b[0;34m\u001b[0m\u001b[0;34m\u001b[0m\u001b[0m\n",
      "\u001b[0;31mNameError\u001b[0m: name 'interact_manual' is not defined"
     ]
    }
   ],
   "source": [
    "@interact_manual\n",
    "def VelocityMap(outputstep=outputstep, sigma=sigma):\n",
    "    plt.close(\"all\")    \n",
    "    velocity = trim['velocity'].isel(time=outputstep, KMAXOUT_RESTR=sigma).plot()"
   ]
  },
  {
   "cell_type": "markdown",
   "metadata": {},
   "source": [
    "## Vertical velocity plot"
   ]
  },
  {
   "cell_type": "code",
   "execution_count": null,
   "metadata": {},
   "outputs": [],
   "source": [
    "@interact_manual\n",
    "def VelocityHorizontal(outputstep=outputstep, M=x):\n",
    "    plt.close(\"all\")\n",
    "    velocity = trim ['velocity'].isel(time=outputstep, M=M)\n",
    "\n",
    "#     velo_title = 'Velocity vector at MC={} at {} hours'.format(M+1, str(trim.time[0].values)[11:19])#(outputstep * output_duration)/60)\n",
    "    velocity.plot(yincrease=False)\n",
    "#     velo_fig, velo_ax = plt.subplots()\n",
    "#     velo_im = velo_ax.imshow(velocity, interpolation='bilinear', cmap=cm.inferno,\n",
    "#                    origin='upper',\n",
    "#                    vmax=abs(velocity).max(), vmin=0) \n",
    "#     velo_ax.set_title(velo_title)\n",
    "#     velo_fig.colorbar(velo_im, ax=velo_ax, label=trim.U1.units)\n",
    "    plt.show()"
   ]
  },
  {
   "cell_type": "markdown",
   "metadata": {},
   "source": [
    "## Easy Density Map"
   ]
  },
  {
   "cell_type": "code",
   "execution_count": null,
   "metadata": {},
   "outputs": [],
   "source": [
    "@interact_manual\n",
    "def DensityMap(outputstep=outputstep, sigma=sigma):\n",
    "    plt.show('all')\n",
    "    selected_densi = trim.RHO.isel(time=outputstep, KMAXOUT_RESTR=sigma)\n",
    "    \n",
    "#     selected_densi.plot(yincrease=False)\n",
    "#     print('min value', abs(selected_densi).min(), 'max value', abs(selected_densi).max(), )\n",
    "\n",
    "    densi_fig, densi_ax = plt.subplots()\n",
    "    densi_title = 'Density map at sigma={} at {:.2f} hours'.format(sigma, (outputstep * output_duration)/60)\n",
    "    \n",
    "    densi_im = densi_ax.imshow(selected_densi, cmap=cm.viridis,\n",
    "                   origin='lower', interpolation='bilinear',\n",
    "                    vmin=abs(selected_densi).min(), vmax=abs(selected_densi).max() )\n",
    "    densi_ax.set_title(densi_title)\n",
    "    densi_fig.colorbar(densi_im, ax=densi_ax, label=trim.RHO.units)\n",
    "    plt.show()"
   ]
  },
  {
   "cell_type": "markdown",
   "metadata": {},
   "source": [
    "# Plot horizontal Section"
   ]
  },
  {
   "cell_type": "code",
   "execution_count": null,
   "metadata": {},
   "outputs": [],
   "source": [
    "@interact_manual\n",
    "def plotMapDropdown(keyword=plotKeyword, outputstep=outputstep, sigma=sigma, sedimentNr=sedimentClass):\n",
    "    property = trim[keyword]\n",
    "    propertyName = property.attrs['long_name']\n",
    "\n",
    "    title = 'Horizontal section of {} at {:.2f} hours'.format(propertyName, (outputstep * output_duration)/60)\n",
    "    values = property.data\n",
    "    print(\"keyword\", keyword, values.shape)\n",
    "    print(\"outputstep:\", outputstep, \", sigma:\", sigma)\n",
    "\n",
    "    if values.shape == (total_outputsteps, nr_of_sigma_layers, xDim, yDim) or values.shape == (total_outputsteps, nr_of_sigma_layers+1, xDim, yDim):\n",
    "        title += ' at sigma layer {}'.format(sigma)\n",
    "        plotSection = property[outputstep][sigma,:,:]\n",
    "    elif values.shape == (total_outputsteps, nr_of_sediment_classes, nr_of_sigma_layers+1, xDim, yDim):\n",
    "        plotSection = property[outputstep][sedimentNr][sigma+1][:,:]\n",
    "        title += ' ' + str(sedimentClass.options[sedimentNr][0])        \n",
    "    elif values.shape == (total_outputsteps, 2, nr_of_sigma_layers+1, xDim, yDim): # For RTUR: Turbulent quantiy per sigma layer\n",
    "        title += ' at sigma layer {}'.format(sigma)\n",
    "        plotSection = property[outputstep][1][sigma+1][:,:]\n",
    "    elif values.shape == (total_outputsteps, nr_of_sediment_classes, xDim, yDim):\n",
    "        plotSection = property[outputstep][sedimentNr][:,:]\n",
    "        title += ' ' + str(sedimentClass.options[sedimentNr][0])        \n",
    "    elif values.shape == (1, nr_of_sediment_classes, xDim, yDim):\n",
    "        plotSection = property[0][sedimentNr][:,:]\n",
    "        title += ' ' + str(sedimentClass.options[sedimentNr][0])        \n",
    "    elif values.shape == (total_outputsteps, xDim, yDim):\n",
    "        plotSection = property[outputstep][:,:]\n",
    "    elif values.shape == (xDim, yDim):\n",
    "        plotSection = property[:,:]\n",
    "    else:\n",
    "        print(\"This property has non-plottable dimensions\")\n",
    "        return\n",
    "        \n",
    "    mask0 = np.equal(0, plotSection)\n",
    "    mask999 = np.equal(-999, plotSection)\n",
    "    maskSmall = np.equal(10000000000.0, plotSection)\n",
    "    maskKK = np.equal(-1e+10, plotSection)\n",
    "    mask = mask0 | mask999 | maskSmall | maskKK\n",
    "    plotSection = ma.array(plotSection, mask = mask)\n",
    "#     Jules.quickDF(np.rot90(mask[1:-1,1:-1], k=1))\n",
    "    \n",
    "    plotCrossSection(X, Y, plotSection, title, property.units, 'x [m]','y [m]', minValue=abs(plotSection).min(), maxValue=abs(plotSection).max()) # x, vmin=-)Dim x yDim\n",
    "    "
   ]
  },
  {
   "cell_type": "markdown",
   "metadata": {},
   "source": [
    "# Plot underlayers"
   ]
  },
  {
   "cell_type": "code",
   "execution_count": null,
   "metadata": {},
   "outputs": [],
   "source": [
    "@interact_manual\n",
    "def plotUnderlayerDropdown(keyword=underlayerPlotKeyword, outputstep=outputstep, underlayer=underlayer, sedimentNr=sedimentClass):\n",
    "    property = trim[keyword]\n",
    "    values = property.data\n",
    "    propertyName = property.attrs['long_name']\n",
    "    unit = property.units\n",
    "\n",
    "    title = 'Underlayer of {} at t={:01.2f} hr'.format(propertyName, (outputstep * output_duration)/60)  \n",
    "    \n",
    "    if values.shape == (total_outputsteps, nr_of_sediment_classes, nr_of_underlayers, xDim, yDim):\n",
    "        plotSection = values[outputstep][sedimentNr][underlayer][:,:]\n",
    "        title += ' ' + str(sedimentClass.options[sedimentNr][0])    \n",
    "    elif values.shape == (total_outputsteps, nr_of_underlayers, xDim, yDim) or values.shape == (total_outputsteps, nr_of_underlayersP, xDim, yDim):\n",
    "        title += ' ' + str(sedimentClass.options[sedimentNr][0])\n",
    "        plotSection = values[outputstep][underlayer][:,:]\n",
    "    \n",
    "    plotSection = ma.masked_values(plotSection, 0)\n",
    "    print(propertyName)\n",
    "    print(\"keyword\", keyword, values.shape)\n",
    "    print(\"outputstep:\", outputstep, \", underlayer:\", underlayer)\n",
    "#     quickDF(plotSection)\n",
    "        \n",
    "    plotCrossSection(X, Y, plotSection, title, unit, 'x [m]','y [m]') # xDim x yDim\n",
    "    plt.show()"
   ]
  },
  {
   "cell_type": "markdown",
   "metadata": {},
   "source": [
    "# Vertical Cross-sections"
   ]
  },
  {
   "cell_type": "code",
   "execution_count": null,
   "metadata": {},
   "outputs": [],
   "source": [
    "@interact_manual\n",
    "def VertSection(keyword=vertPlotKeyword, sedimentNr=sedimentClass, outputstep=outputstep, M=x, N=y):\n",
    "    property = trim[keyword]\n",
    "    values = property.data\n",
    "    propertyName = property.attrs['long_name']\n",
    "    print(values.shape)\n",
    "    \n",
    "    # Plot a Y/Z section\n",
    "    if M != 0:\n",
    "        title = \"Vertical {} Section at x={} at {:.2f} hour\".format(keyword, N, (outputstep*output_duration)/60)\n",
    "\n",
    "        if values.shape == (total_outputsteps, 2, nr_of_sigma_layers, xDim, yDim) or values.shape == (total_outputsteps, 2, nr_of_sigma_layers+2, xDim, yDim) or values.shape == (total_outputsteps, 2, 77, xDim, yDim) or values.shape == (total_outputsteps, 2, nr_of_sigma_layers+1, xDim, yDim) :\n",
    "            plotSection = values[outputstep][1][:,M,:]\n",
    "        elif values.shape == (total_outputsteps, nr_of_sediment_classes, nr_of_sigma_layers, xDim, yDim) or values.shape == (total_outputsteps, 2, nr_of_sigma_layers+2, xDim, yDim) or values.shape == (total_outputsteps, 2, 77, xDim, yDim):\n",
    "            plotSection = values[outputstep][1][:,M,:]  \n",
    "            title += ' ' + str(sedimentClass.options[sedimentNr][0])\n",
    "        elif values.shape == (total_outputsteps, nr_of_sigma_layers-2, xDim, yDim) or values.shape == (total_outputsteps, nr_of_sigma_layers, xDim, yDim) or values.shape == (total_outputsteps, nr_of_sigma_layers+1, xDim, yDim): \n",
    "            plotSection = values[outputstep][:,M,:]\n",
    "        else:\n",
    "            print(values.shape)\n",
    "            print(\"Dimensions are not right for vertical section\")\n",
    "            return\n",
    "        plt.xlabel('x')\n",
    "    # Plot a X/Z section        \n",
    "    elif N != 0:\n",
    "        title = \"Vertical {} Section at y={} at {:.2f} hour\".format(keyword, N, (outputstep*output_duration)/60)\n",
    "     \n",
    "        if values.shape == (total_outputsteps, 2, nr_of_sigma_layers, xDim, yDim) or values.shape == (total_outputsteps, 2, nr_of_sigma_layers+1, xDim, yDim) or values.shape == (total_outputsteps, 2, nr_of_sigma_layers-3, xDim, yDim):\n",
    "            plotSection = values[outputstep][sedimentNr][:,:,N]\n",
    "        elif values.shape == (total_outputsteps, nr_of_sediment_classes, nr_of_sigma_layers, xDim, yDim) or values.shape == (total_outputsteps, 2, nr_of_sigma_layers+2, xDim, yDim) or values.shape == (total_outputsteps, 2, 77, xDim, yDim):\n",
    "            plotSection = values[outputstep][1][:,M,:]  \n",
    "            title += ' ' + str(sedimentClass.options[sedimentNr][0])\n",
    "        elif values.shape == (total_outputsteps, nr_of_sigma_layers, xDim, yDim) or values.shape == (total_outputsteps, nr_of_sigma_layers+1, xDim, yDim):\n",
    "            plotSection = values[outputstep][:,:,N]\n",
    "        else:\n",
    "            print(values.shape)\n",
    "            print(\"Dimensions are not right for vertical section\")\n",
    "            return\n",
    "        plt.xlabel('y')\n",
    "    else:\n",
    "        print(values.shape)\n",
    "        print(\"Error: Both x and y are 0\")\n",
    "        return\n",
    " \n",
    "    # plt.figure(2)\n",
    "    minValue, maxValue = checkMinMax(plotSection)  #1025, 1030\n",
    "    print(\"Section shape\", plotSection.shape)\n",
    "    print(\"Min value\", minValue, \"Max value\", maxValue)\n",
    "\n",
    "    fig_vert, ax_vert = plt.subplots(nrows=1, figsize=(18,12))\n",
    "\n",
    "    ax_vert.set_title(title)\n",
    "\n",
    "    levels = MaxNLocator(nbins=15).tick_values(minValue, maxValue)\n",
    "    colormap = plt.get_cmap('viridis') # different colormap?\n",
    "    norm = BoundaryNorm(levels, ncolors=colormap.N, clip=True)\n",
    "    plt.ylim(80,50)\n",
    "    plt.ylabel('sigma')\n",
    "    \n",
    "    unit = trim[keyword].units\n",
    "    \n",
    "    mesh = ax_vert.pcolormesh(plotSection, cmap=colormap, norm=norm)\n",
    "    cbar = fig_vert.colorbar(mesh, ax=ax_vert)\n",
    "    cbar.ax.get_yaxis().labelpad = 15\n",
    "    cbar.ax.set_ylabel(unit,rotation=90)\n",
    "\n",
    "#     quickDF(plotSection)\n"
   ]
  },
  {
   "cell_type": "markdown",
   "metadata": {},
   "source": [
    "## Sediment volume fraction difference Underlayers [LYRFRAC]"
   ]
  },
  {
   "cell_type": "code",
   "execution_count": null,
   "metadata": {},
   "outputs": [],
   "source": [
    "sedVolFraction = trim['LYRFRAC']\n",
    "\n",
    "@interact_manual\n",
    "def sedVolDiffPlot(outputstep=outputstep, sedimentNr=sedimentClass, underlayer=underlayer):\n",
    "    sedVolFractionZero = sedVolFraction.values[0][sedimentNr][underlayer]\n",
    "#     quickDF(sedVolFractionZero)\n",
    "    difference = sedVolFraction.values[outputstep][sedimentNr][underlayer] - sedVolFractionZero\n",
    "    sedVolDiffTitle = \"Sediment volume fraction DIFFERENCE of {sedclass} at t={outputstep} hrs and underlayer nr={underlayer}\".format(sedclass=sedimentClass.options[sedimentNr][0], outputstep=(outputstep * output_duration)/60, underlayer=underlayer)\n",
    "\n",
    "    plotCrossSection(X, Y, difference, sedVolDiffTitle, \"Percentage %\", 'X [m]', 'Y [m]')"
   ]
  },
  {
   "cell_type": "code",
   "execution_count": null,
   "metadata": {},
   "outputs": [],
   "source": [
    "# plt.close('all')\n",
    "# print(sedimentClass.options[sedimentClass.value][0])\n",
    "# yup = sedVolFraction[outputstep.value][sedimentClass.value][underlayer.value].plot()"
   ]
  },
  {
   "cell_type": "markdown",
   "metadata": {},
   "source": [
    "## Contour plot"
   ]
  },
  {
   "cell_type": "code",
   "execution_count": null,
   "metadata": {},
   "outputs": [],
   "source": [
    "# hillshade_cmap = cmo.deep #cmo.thermal # \n",
    "@interact_manual\n",
    "def contourDeposits(outputstep=outputstep):\n",
    "    hs_fig, hs_ax = plt.subplots()\n",
    "\n",
    "    elevation = DPS[outputstep][1:-1]\n",
    "    maskElevation = np.equal(0, elevation)\n",
    "    elevation = ma.array(elevation, mask = maskElevation)\n",
    "\n",
    "    \n",
    "    # Compare with depth at timestep 0\n",
    "    eleDiff = trim.DPS[0][1:-1] - elevation\n",
    "\n",
    "    titleString = \"Contour of deposit at t={:.2f} hrs\".format(outputstep*output_duration/60)\n",
    "    \n",
    "    levels = [0.05,0.1,0.2,0.3]\n",
    "    norm = cm.colors.Normalize(vmax=levels[-1], vmin=levels[0]) # abs(eleDiff).max(), vmin=-abs(eleDiff).max())\n",
    "    \n",
    "    pos = hs_ax.imshow(eleDiff, origin='lower', cmap=colormap, norm=norm)\n",
    "    hs_ax.contour(eleDiff, levels, colors='k', origin='lower')\n",
    "    hs_ax.set_title(titleString)\n",
    "    hs_fig.colorbar(pos, ax=hs_ax)\n",
    "\n",
    "#     Jules.quickDF(eleDiff)"
   ]
  },
  {
   "cell_type": "markdown",
   "metadata": {},
   "source": [
    "## Heatmap of deposit height"
   ]
  },
  {
   "cell_type": "code",
   "execution_count": null,
   "metadata": {},
   "outputs": [],
   "source": [
    "print(\"outputstep\", outputstep.value)\n",
    "elevation = DPS[outputstep.value]\n",
    "# maskElevation = np.equal(0, elevation)\n",
    "# elevation = ma.array(elevation, mask = maskElevation)    \n",
    "\n",
    "eleDiff = trim.DPS0 - elevation\n",
    "\n",
    "f, ax_heatmap = plt.subplots(figsize=(9, 6))\n",
    "\n",
    "heatmap(eleDiff, cmap=cmo.delta, ax=ax_heatmap, center=0, robust=True)#, annot=True) "
   ]
  },
  {
   "cell_type": "code",
   "execution_count": null,
   "metadata": {},
   "outputs": [],
   "source": [
    "# quickDF(trim.DPS[0].values)"
   ]
  },
  {
   "cell_type": "code",
   "execution_count": null,
   "metadata": {},
   "outputs": [],
   "source": [
    "# Jules.quickDF(trim.DPS[outputstep.value].values)"
   ]
  },
  {
   "cell_type": "markdown",
   "metadata": {},
   "source": [
    "## Deposit height plot"
   ]
  },
  {
   "cell_type": "code",
   "execution_count": null,
   "metadata": {},
   "outputs": [],
   "source": [
    "@interact\n",
    "def contourDeposits(outputstep=outputstep, M=x):\n",
    "    eleDiff = trim.DPS[outputstep].isel(M=M) - trim.DPS[0].isel(M=M)\n",
    "#     print(eleDiff)\n",
    "    plt.close('all')\n",
    "    eleDiff.plot()"
   ]
  },
  {
   "cell_type": "code",
   "execution_count": null,
   "metadata": {},
   "outputs": [],
   "source": [
    "fig, axs = plt.subplots(figsize=(15, 10), nrows=2,ncols=1,gridspec_kw={'height_ratios': [20,1.5]},constrained_layout=True)\n",
    "\n",
    "pcm = axs[0].pcolormesh(X[1:-1],Y[1:-1],eleDiff.values[1:-1],cmap='viridis')\n",
    "pcm.set_edgecolor('face')\n",
    "cbar=fig.colorbar(pcm,cax=axs[1], extend='both', orientation='horizontal')\n",
    "cbar.set_label('eleDiff [$\\mu$g m$^{-3}]$')"
   ]
  },
  {
   "cell_type": "markdown",
   "metadata": {},
   "source": [
    "## 3D Deposits surface"
   ]
  },
  {
   "cell_type": "code",
   "execution_count": null,
   "metadata": {},
   "outputs": [],
   "source": [
    "@interact_manual\n",
    "def depositsSurface(outputstep=outputstep):\n",
    "    fig_3d = plt.figure(figsize=(15,10))\n",
    "    ax_3d = fig_3d.gca(projection='3d')\n",
    "    \n",
    "    elevation = DPS[outputstep][1:-1]\n",
    "    \n",
    "    maskElevation = np.equal(0, elevation)\n",
    "#     maskNaN = ma.masked_invalid(elevation)\n",
    "#     mask = maskElevation & maskNaN\n",
    "    elevation = ma.array(elevation, mask = maskElevation)\n",
    "\n",
    "    # maskElevation = np.equal(0, elevation)\n",
    "    # elevation = ma.arr|ay(elevation, mask = maskElevation)\n",
    "\n",
    "    eleDiff = DPS[0][1:-1] - elevation\n",
    "    surface = ax_3d.plot_surface(X[1:-1], Y[1:-1], eleDiff, cmap=colormap, label='Surface plot of deposits')\n",
    "    fig_3d.colorbar(surface, aspect=7)\n",
    "    \n",
    "    maxDepositHeight = np.amax(eleDiff)\n",
    "    print(\"Max deposit height is\", maxDepositHeight.data)\n",
    "    dir(maxDepositHeight)\n",
    "\n",
    "    ax_3d.view_init(70, 25)\n",
    "    ax_3d.set_xlabel('X [m]')\n",
    "    ax_3d.set_ylabel('Y [m]')\n",
    "#     ax_3d.set_zlim(0,maxDepositHeight.data)\n",
    "    ax_3d.set_zlabel('Deposit height [m]')"
   ]
  },
  {
   "cell_type": "markdown",
   "metadata": {},
   "source": [
    "## New Bathymetry"
   ]
  },
  {
   "cell_type": "code",
   "execution_count": null,
   "metadata": {},
   "outputs": [],
   "source": [
    "depthMap = DPS[outputstep.value]\n",
    "\n",
    "fig_3d = plt.figure(figsize=(15,10))\n",
    "ax_3d = fig_3d.gca(projection='3d')\n",
    "\n",
    "surface = ax_3d.plot_surface(X[1:-1], Y[1:-1], depthMap[1:-1], cmap=colormap, label='Bathymetry after xx')\n",
    "fig_3d.colorbar(surface, shrink=0.5, aspect=7)\n",
    "ax_3d.view_init(20, 40)\n",
    "ax_3d.set_xlabel('X [m]')\n",
    "ax_3d.set_ylabel('Y [m]')\n",
    "ax_3d.set_zlabel('Depth [m]')\n",
    "\n",
    "ax_3d.set_zlim(600,0)"
   ]
  },
  {
   "cell_type": "markdown",
   "metadata": {},
   "source": [
    "# Actual Depth!"
   ]
  },
  {
   "cell_type": "code",
   "execution_count": 27,
   "metadata": {},
   "outputs": [
    {
     "name": "stderr",
     "output_type": "stream",
     "text": [
      "/Users/julesblom/.local/share/virtualenvs/ThesisPython-OwMgd5UG/lib/python3.7/site-packages/xarray/core/computation.py:1188: FutureWarning: This DataArray contains multi-dimensional coordinates. In the future, these coordinates will be transposed as well unless you specify transpose_coords=False.\n",
      "  return result.transpose(*[d for d in all_dims if d in result.dims])\n"
     ]
    }
   ],
   "source": [
    "trim['actual_depth'] = trim.SIG_LYR @ trim.DPS"
   ]
  },
  {
   "cell_type": "code",
   "execution_count": 28,
   "metadata": {},
   "outputs": [],
   "source": [
    "z_section = trim['actual_depth'].isel(time=20, M=30)"
   ]
  },
  {
   "cell_type": "code",
   "execution_count": 35,
   "metadata": {},
   "outputs": [
    {
     "data": {
      "text/plain": [
       "array([[  -3.5900002,   -3.8049476,   -4.0211844, ...,  -25.130001 ,\n",
       "         -25.130001 ,  -25.130001 ],\n",
       "       [ -10.18     ,  -10.789517 ,  -11.402691 , ...,  -71.26     ,\n",
       "         -71.26     ,  -71.26     ],\n",
       "       [ -15.93     ,  -16.883793 ,  -17.843306 , ..., -111.51     ,\n",
       "        -111.51     , -111.51     ],\n",
       "       ...,\n",
       "       [ -99.92     , -105.9026   , -111.921104 , ..., -699.44     ,\n",
       "        -699.44     , -699.44     ],\n",
       "       [ -99.955    , -105.9397   , -111.960304 , ..., -699.685    ,\n",
       "        -699.685    , -699.685    ],\n",
       "       [ -99.985    , -105.9715   , -111.993904 , ..., -699.89496  ,\n",
       "        -699.89496  , -699.89496  ]], dtype=float32)"
      ]
     },
     "execution_count": 35,
     "metadata": {},
     "output_type": "execute_result"
    }
   ],
   "source": [
    "z_section.values"
   ]
  },
  {
   "cell_type": "code",
   "execution_count": 31,
   "metadata": {},
   "outputs": [],
   "source": [
    "gridstep = 300 # [m]\n",
    "\n",
    "# Grid dimensions\n",
    "length = 60000 # y [m]\n",
    "width = 18000 # x [m]\n",
    "\n",
    "cool_xList = [i for i in range(int(gridstep/2), 202 * gridstep, gridstep)] # CENTERs But really y dimensions\n",
    "XZ, YZ = np.meshgrid(cool_xList, trim.SIG_LYR.values)"
   ]
  },
  {
   "cell_type": "code",
   "execution_count": 1,
   "metadata": {},
   "outputs": [
    {
     "ename": "NameError",
     "evalue": "name 'trim' is not defined",
     "output_type": "error",
     "traceback": [
      "\u001b[0;31m---------------------------------------------------------------------------\u001b[0m",
      "\u001b[0;31mNameError\u001b[0m                                 Traceback (most recent call last)",
      "\u001b[0;32m<ipython-input-1-8dabc876d680>\u001b[0m in \u001b[0;36m<module>\u001b[0;34m\u001b[0m\n\u001b[0;32m----> 1\u001b[0;31m \u001b[0mdensity_x_section\u001b[0m \u001b[0;34m=\u001b[0m \u001b[0mtrim\u001b[0m\u001b[0;34m.\u001b[0m\u001b[0mRHO\u001b[0m\u001b[0;34m.\u001b[0m\u001b[0misel\u001b[0m\u001b[0;34m(\u001b[0m\u001b[0mtime\u001b[0m\u001b[0;34m=\u001b[0m\u001b[0;36m20\u001b[0m\u001b[0;34m,\u001b[0m \u001b[0mM\u001b[0m\u001b[0;34m=\u001b[0m\u001b[0;36m30\u001b[0m\u001b[0;34m)\u001b[0m\u001b[0;34m\u001b[0m\u001b[0;34m\u001b[0m\u001b[0m\n\u001b[0m",
      "\u001b[0;31mNameError\u001b[0m: name 'trim' is not defined"
     ]
    }
   ],
   "source": [
    "density_x_section = trim.RHO.isel(time=20, M=30)"
   ]
  },
  {
   "cell_type": "code",
   "execution_count": null,
   "metadata": {},
   "outputs": [],
   "source": []
  },
  {
   "cell_type": "code",
   "execution_count": 33,
   "metadata": {},
   "outputs": [
    {
     "name": "stdout",
     "output_type": "stream",
     "text": [
      "(80, 202)\n",
      "(80, 202)\n",
      "(80, 202)\n"
     ]
    }
   ],
   "source": [
    "print(density_x_section.shape)\n",
    "# print(z_section.T.shape)\n",
    "print(hmm_section.shape)\n",
    "print(XZ.shape)"
   ]
  },
  {
   "cell_type": "code",
   "execution_count": 34,
   "metadata": {},
   "outputs": [
    {
     "data": {
      "application/vnd.jupyter.widget-view+json": {
       "model_id": "6de4adfaa0af481e86e5bd12126508d8",
       "version_major": 2,
       "version_minor": 0
      },
      "text/plain": [
       "Canvas(toolbar=Toolbar(toolitems=[('Home', 'Reset original view', 'home', 'home'), ('Back', 'Back to previous …"
      ]
     },
     "metadata": {},
     "output_type": "display_data"
    },
    {
     "data": {
      "text/plain": [
       "Text(0, 0.5, 'kg/m3')"
      ]
     },
     "execution_count": 34,
     "metadata": {},
     "output_type": "execute_result"
    }
   ],
   "source": [
    "fig_vert, ax_vert = plt.subplots(nrows=1, figsize=(18,12))\n",
    "\n",
    "ax_vert.set_title('Horizontal section')\n",
    "\n",
    "mesh = ax_vert.pcolormesh(XZ, hmm_section, density_x_section, vmin=1025, vmax=1025.5) #, cmap=colormap, norm=norm)\n",
    "cbar = fig_vert.colorbar(mesh, ax=ax_vert)\n",
    "cbar.ax.get_yaxis().labelpad = 15\n",
    "cbar.ax.set_ylabel('kg/m3',rotation=90)"
   ]
  },
  {
   "cell_type": "code",
   "execution_count": null,
   "metadata": {},
   "outputs": [],
   "source": [
    "plt.close('all')"
   ]
  }
 ],
 "metadata": {
  "kernelspec": {
   "display_name": "Python 3",
   "language": "python",
   "name": "python3"
  },
  "language_info": {
   "codemirror_mode": {
    "name": "ipython",
    "version": 3
   },
   "file_extension": ".py",
   "mimetype": "text/x-python",
   "name": "python",
   "nbconvert_exporter": "python",
   "pygments_lexer": "ipython3",
   "version": "3.7.5"
  }
 },
 "nbformat": 4,
 "nbformat_minor": 4
}
