{
 "cells": [
  {
   "cell_type": "markdown",
   "metadata": {},
   "source": [
    "# Doesnt work yet"
   ]
  },
  {
   "cell_type": "code",
   "execution_count": 9,
   "metadata": {},
   "outputs": [],
   "source": [
    "import pyvista as pv\n",
    "import numpy as np\n",
    "import xarray as xr\n",
    "from JulesD3D.utils import quickDF\n",
    "from JulesD3D.cleanNetCDF import fixMeshGrid, makeBottomStress,addDepth, makeVelocity, addUnderlayerCoords\n",
    "from JulesD3D.plotPyVista import makeBottomSurface, makeStructuredGridDepth, easyTimeFormat\n",
    "from cmocean.cm import deep\n",
    "import matplotlib.pyplot as plt\n",
    "from JulesD3D.utils import ncFilepicker"
   ]
  },
  {
   "cell_type": "code",
   "execution_count": 10,
   "metadata": {},
   "outputs": [],
   "source": [
    "folder = '/Volumes/Seagate Expansion Drive/ThesisResults/Current'\n",
    "\n",
    "nc_filename = ncFilepicker(folder)"
   ]
  },
  {
   "cell_type": "code",
   "execution_count": 11,
   "metadata": {},
   "outputs": [
    {
     "data": {
      "application/vnd.jupyter.widget-view+json": {
       "model_id": "aac2c686c7224efab43a504f27209566",
       "version_major": 2,
       "version_minor": 0
      },
      "text/plain": [
       "Select(description='NetCDF file:', layout=Layout(height='120px', width='90%'), options=('/Volumes/Seagate Expa…"
      ]
     },
     "metadata": {},
     "output_type": "display_data"
    }
   ],
   "source": [
    "nc_filename"
   ]
  },
  {
   "cell_type": "code",
   "execution_count": 13,
   "metadata": {},
   "outputs": [
    {
     "data": {
      "text/plain": [
       "'Slope1.25_30min_conc3.0_2575_discharge4400_SMALLER_timestep_MORFAC_3hrs_150mChannelNEW'"
      ]
     },
     "execution_count": 13,
     "metadata": {},
     "output_type": "execute_result"
    }
   ],
   "source": [
    "basename = path.basename(nc_filename.value)\n",
    "plot_title, _ = path.splitext(basename)\n",
    "plot_title"
   ]
  },
  {
   "cell_type": "code",
   "execution_count": 14,
   "metadata": {},
   "outputs": [],
   "source": [
    "trim = xr.open_dataset(nc_filename.value) # Open with xarray : DataSet : A collection of DataArrays"
   ]
  },
  {
   "cell_type": "code",
   "execution_count": 15,
   "metadata": {},
   "outputs": [
    {
     "name": "stdout",
     "output_type": "stream",
     "text": [
      "62 x 152 grid\n",
      "XZ (152, 62)\n",
      "YZ (152, 62)\n"
     ]
    }
   ],
   "source": [
    "if 'velocity' not in trim:\n",
    "    trim = fixMeshGrid(trim, trim.XZ.values, trim.YZ.values, mystery_flag=True)\n",
    "#     trim = makeBottomStress(trim)    \n",
    "    trim = addDepth(trim)\n",
    "#     trim = makeVelocity(trim)\n",
    "    trim = addUnderlayerCoords(trim)\n",
    "else:\n",
    "    print(\"DataSet is preprocessed, 'velocity' is already in DataSet\")"
   ]
  },
  {
   "cell_type": "markdown",
   "metadata": {},
   "source": [
    "### Process data vars"
   ]
  },
  {
   "cell_type": "code",
   "execution_count": 6,
   "metadata": {},
   "outputs": [],
   "source": [
    "concentration = trim.R1.transpose('time', 'LSTSCI', 'M', 'N', 'KMAXOUT_RESTR')\n",
    "# concentration_silt = concentration.isel(LSTSCI=1)\n",
    "concentration_silt = concentration.isel(LSTSCI=1)\n",
    "concentration_silt_at_time = concentration_silt.isel(time=5)\n",
    "concentration_silt_at_time = concentration_silt_at_time.assign_attrs({'long_name': 'Silt concentrations percentage per layer in zeta point',\n",
    "                                                              'units': '%',\n",
    "                                                              'grid': 'grid',\n",
    "                                                              'location': 'face'})"
   ]
  },
  {
   "cell_type": "code",
   "execution_count": 7,
   "metadata": {},
   "outputs": [
    {
     "ename": "AttributeError",
     "evalue": "'Dataset' object has no attribute 'velocity'",
     "output_type": "error",
     "traceback": [
      "\u001b[0;31m---------------------------------------------------------------------------\u001b[0m",
      "\u001b[0;31mAttributeError\u001b[0m                            Traceback (most recent call last)",
      "\u001b[0;32m<ipython-input-7-c010184387d7>\u001b[0m in \u001b[0;36m<module>\u001b[0;34m\u001b[0m\n\u001b[1;32m      1\u001b[0m \u001b[0;31m# Reorder velocity dims to match x, y, z\u001b[0m\u001b[0;34m\u001b[0m\u001b[0;34m\u001b[0m\u001b[0;34m\u001b[0m\u001b[0m\n\u001b[0;32m----> 2\u001b[0;31m \u001b[0mvelocity\u001b[0m \u001b[0;34m=\u001b[0m \u001b[0mtrim\u001b[0m\u001b[0;34m.\u001b[0m\u001b[0mvelocity\u001b[0m\u001b[0;34m.\u001b[0m\u001b[0mtranspose\u001b[0m\u001b[0;34m(\u001b[0m\u001b[0;34m'time'\u001b[0m\u001b[0;34m,\u001b[0m \u001b[0;34m'M'\u001b[0m\u001b[0;34m,\u001b[0m \u001b[0;34m'N'\u001b[0m\u001b[0;34m,\u001b[0m \u001b[0;34m'KMAXOUT_RESTR'\u001b[0m\u001b[0;34m)\u001b[0m\u001b[0;34m\u001b[0m\u001b[0;34m\u001b[0m\u001b[0m\n\u001b[0m\u001b[1;32m      3\u001b[0m \u001b[0mvelocity\u001b[0m\u001b[0;34m.\u001b[0m\u001b[0mdims\u001b[0m\u001b[0;34m\u001b[0m\u001b[0;34m\u001b[0m\u001b[0m\n",
      "\u001b[0;32m~/.local/share/virtualenvs/ThesisPython-OwMgd5UG/lib/python3.7/site-packages/xarray/core/common.py\u001b[0m in \u001b[0;36m__getattr__\u001b[0;34m(self, name)\u001b[0m\n\u001b[1;32m    231\u001b[0m                     \u001b[0;32mreturn\u001b[0m \u001b[0msource\u001b[0m\u001b[0;34m[\u001b[0m\u001b[0mname\u001b[0m\u001b[0;34m]\u001b[0m\u001b[0;34m\u001b[0m\u001b[0;34m\u001b[0m\u001b[0m\n\u001b[1;32m    232\u001b[0m         raise AttributeError(\n\u001b[0;32m--> 233\u001b[0;31m             \u001b[0;34m\"{!r} object has no attribute {!r}\"\u001b[0m\u001b[0;34m.\u001b[0m\u001b[0mformat\u001b[0m\u001b[0;34m(\u001b[0m\u001b[0mtype\u001b[0m\u001b[0;34m(\u001b[0m\u001b[0mself\u001b[0m\u001b[0;34m)\u001b[0m\u001b[0;34m.\u001b[0m\u001b[0m__name__\u001b[0m\u001b[0;34m,\u001b[0m \u001b[0mname\u001b[0m\u001b[0;34m)\u001b[0m\u001b[0;34m\u001b[0m\u001b[0;34m\u001b[0m\u001b[0m\n\u001b[0m\u001b[1;32m    234\u001b[0m         )\n\u001b[1;32m    235\u001b[0m \u001b[0;34m\u001b[0m\u001b[0m\n",
      "\u001b[0;31mAttributeError\u001b[0m: 'Dataset' object has no attribute 'velocity'"
     ]
    }
   ],
   "source": [
    "# Reorder velocity dims to match x, y, z\n",
    "velocity = trim.velocity.transpose('time', 'M', 'N', 'KMAXOUT_RESTR')\n",
    "velocity.dims"
   ]
  },
  {
   "cell_type": "code",
   "execution_count": 21,
   "metadata": {},
   "outputs": [
    {
     "data": {
      "text/plain": [
       "('time', 'M', 'N', 'KMAXOUT_RESTR')"
      ]
     },
     "execution_count": 21,
     "metadata": {},
     "output_type": "execute_result"
    }
   ],
   "source": [
    "density = trim.RHO.transpose('time', 'M', 'N', 'KMAXOUT_RESTR')\n",
    "density.dims"
   ]
  },
  {
   "cell_type": "markdown",
   "metadata": {},
   "source": [
    "### Turn Delft3D output into PyVista grid"
   ]
  },
  {
   "cell_type": "code",
   "execution_count": 22,
   "metadata": {},
   "outputs": [
    {
     "name": "stdout",
     "output_type": "stream",
     "text": [
      "62 x 152 grid\n",
      "XZ (152, 62)\n",
      "YZ (152, 62)\n"
     ]
    },
    {
     "data": {
      "text/html": [
       "\n",
       "<table>\n",
       "<tr><th>StructuredGrid</th><th>Information</th></tr>\n",
       "<tr><td>N Cells</td><td>9000</td></tr>\n",
       "<tr><td>N Points</td><td>9211</td></tr>\n",
       "<tr><td>X Bounds</td><td>0.000e+00, 1.800e+04</td></tr>\n",
       "<tr><td>Y Bounds</td><td>1.000e+02, 4.510e+04</td></tr>\n",
       "<tr><td>Z Bounds</td><td>-7.310e+02, -1.500e+02</td></tr>\n",
       "<tr><td>Dimensions</td><td>61, 151, 1</td></tr>\n",
       "<tr><td>N Arrays</td><td>0</td></tr>\n",
       "</table>\n",
       "\n"
      ],
      "text/plain": [
       "StructuredGrid (0x11e31c520)\n",
       "  N Cells:\t9000\n",
       "  N Points:\t9211\n",
       "  X Bounds:\t0.000e+00, 1.800e+04\n",
       "  Y Bounds:\t1.000e+02, 4.510e+04\n",
       "  Z Bounds:\t-7.310e+02, -1.500e+02\n",
       "  Dimensions:\t61, 151, 1\n",
       "  N Arrays:\t0"
      ]
     },
     "execution_count": 22,
     "metadata": {},
     "output_type": "execute_result"
    }
   ],
   "source": [
    "bottom_surface = makeBottomSurface(trim)\n",
    "bottom_surface"
   ]
  },
  {
   "cell_type": "code",
   "execution_count": 23,
   "metadata": {},
   "outputs": [
    {
     "name": "stdout",
     "output_type": "stream",
     "text": [
      "'depth' DataArray found found in DataSet!\n",
      "xyz_layers.shape (753920, 3)\n"
     ]
    }
   ],
   "source": [
    "depth_centers_grid = makeStructuredGridDepth(trim, keyword='SIG_LYR')"
   ]
  },
  {
   "cell_type": "code",
   "execution_count": 24,
   "metadata": {},
   "outputs": [
    {
     "data": {
      "text/plain": [
       "(5, 170)"
      ]
     },
     "execution_count": 24,
     "metadata": {},
     "output_type": "execute_result"
    }
   ],
   "source": [
    "initial_time = 5\n",
    "time_lims = (initial_time, trim.time.size-1)\n",
    "time_lims"
   ]
  },
  {
   "cell_type": "code",
   "execution_count": 25,
   "metadata": {},
   "outputs": [],
   "source": [
    "depth_centers_grid['scalars'] = density.isel(time=initial_time).values.ravel()"
   ]
  },
  {
   "cell_type": "code",
   "execution_count": 26,
   "metadata": {},
   "outputs": [],
   "source": [
    "def callback(val):\n",
    "    outputstep = int(val)\n",
    "    \n",
    "    scalars = density.isel(time=outputstep).values.ravel()\n",
    "    print(scalars.max())\n",
    "#     concentration_silt.isel(time=outputstep).values.ravel()\n",
    "    p.update_scalars(scalars, mesh=depth_centers_grid)"
   ]
  },
  {
   "cell_type": "code",
   "execution_count": null,
   "metadata": {},
   "outputs": [
    {
     "name": "stdout",
     "output_type": "stream",
     "text": [
      "1073.75\n",
      "1116.0184\n",
      "1143.3165\n",
      "1042.5939\n",
      "1116.0184\n",
      "1120.8667\n",
      "1041.9491\n",
      "1031.5994\n",
      "1159.8336\n",
      "1066.3567\n",
      "1088.1426\n",
      "1111.038\n",
      "1143.3165\n",
      "1099.1155\n",
      "1047.0826\n",
      "1042.3501\n",
      "1042.3501\n",
      "1069.9487\n",
      "1069.9487\n",
      "1133.7102\n",
      "1061.011\n",
      "1136.3813\n"
     ]
    }
   ],
   "source": [
    "p = pv.Plotter(notebook=False)\n",
    "p.add_mesh(bottom_surface, cmap=deep)\n",
    "p.add_mesh(depth_centers_grid, opacity=0.9)\n",
    "p.add_slider_widget(callback, time_lims, value=initial_time)\n",
    "p.enable_depth_peeling()\n",
    "p.show_grid()\n",
    "p.set_scale(zscale=25)\n",
    "panel = p.show()"
   ]
  },
  {
   "cell_type": "code",
   "execution_count": null,
   "metadata": {},
   "outputs": [],
   "source": [
    "alg = vtk.vtkThreshold()\n",
    "alg.SetInputDataObject(depth_centers_grid)\n",
    "# alg.SetInputArrayToProcess(0, 0, 0, field, scalars) # args: (idx, port, connection, field, name)\n",
    "# alg.SetUseContinuousCellRange(continuous)"
   ]
  },
  {
   "cell_type": "code",
   "execution_count": null,
   "metadata": {},
   "outputs": [],
   "source": [
    "def testCallback(val):\n",
    "    outputstep = int(val)\n",
    "    \n",
    "    scalars = density.isel(time=outputstep).values.ravel()\n",
    "    print(scalars.max())\n",
    "#     concentration_silt.isel(time=outputstep).values.ravel()\n",
    "    p.update_scalars(scalars, mesh=depth_centers_grid)\n",
    "#     print(\"Updated scalars\", scalars.size)\n",
    "#     alg.SetInputDataObject(depth_centers_grid)\n",
    "#     threshold_mesh = pv.wrap(alg.GetOutput())\n",
    "    \n",
    "#     alg.ThresholdByLower(value)\n",
    "#     alg.update()"
   ]
  },
  {
   "cell_type": "code",
   "execution_count": null,
   "metadata": {},
   "outputs": [],
   "source": [
    "# def oldCallback(val):\n",
    "#     outputstep = int(val)\n",
    "#     scalars = concentration_silt.isel(time=outputstep).values.ravel()\n",
    "#     depth_centers_grid['conc_silt'] = scalars\n",
    "    \n",
    "#     thresh_conc_silt = depth_centers_grid.threshold(conc_silt_lims, scalars=\"conc_silt\")\n",
    "\n",
    "#     threshed_actor = p.add_mesh(thresh_conc_silt, scalars='conc_silt', cmap=\"plasma\",\n",
    "#                        opacity=0.8, clim=conc_silt_lims, ambient=0.2)\n",
    "#     print(\"outputstep\", outputstep)\n",
    "    "
   ]
  },
  {
   "cell_type": "code",
   "execution_count": null,
   "metadata": {},
   "outputs": [],
   "source": [
    "p = pv.Plotter(notebook=False)\n",
    "p.add_mesh(bottom_surface, cmap=deep)\n",
    "p.add_mesh(depth_centers_grid, opacity=0.9)\n",
    "# p.add_mesh(thresh_conc_silt, scalars='conc_silt', cmap=\"plasma\", opacity=0.8, clim=conc_silt_lims, ambient=0.2)\n",
    "# p.add_mesh_threshold(thresh_conc_silt, scalars='conc_silt', cmap=\"plasma\", opacity=0.8, clim=conc_silt_lims, ambient=0.2)\n",
    "# p.add_slider_widget(testCallback, time_lims, value=5)\n",
    "p.add_slider_widget(testCallback, time_lims, value=5)\n",
    "p.enable_depth_peeling()\n",
    "p.show_grid()\n",
    "p.set_scale(zscale=25)\n",
    "panel = p.show()"
   ]
  }
 ],
 "metadata": {
  "kernelspec": {
   "display_name": "Python 3",
   "language": "python",
   "name": "python3"
  },
  "language_info": {
   "codemirror_mode": {
    "name": "ipython",
    "version": 3
   },
   "file_extension": ".py",
   "mimetype": "text/x-python",
   "name": "python",
   "nbconvert_exporter": "python",
   "pygments_lexer": "ipython3",
   "version": "3.7.5"
  }
 },
 "nbformat": 4,
 "nbformat_minor": 4
}
