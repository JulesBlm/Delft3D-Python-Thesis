{
 "cells": [
  {
   "cell_type": "markdown",
   "metadata": {},
   "source": [
    "# Plot N cross-section with matplotlib"
   ]
  },
  {
   "cell_type": "code",
   "execution_count": 1,
   "metadata": {},
   "outputs": [],
   "source": [
    "%matplotlib widget"
   ]
  },
  {
   "cell_type": "code",
   "execution_count": 50,
   "metadata": {},
   "outputs": [],
   "source": [
    "import xarray as xr\n",
    "import pandas as pd\n",
    "import matplotlib.pyplot as plt\n",
    "from matplotlib.ticker import (MultipleLocator, FormatStrFormatter, AutoMinorLocator)\n",
    "import numpy as np"
   ]
  },
  {
   "cell_type": "code",
   "execution_count": 4,
   "metadata": {},
   "outputs": [],
   "source": [
    "ncfilename = '/Users/julesblom/ThesisResults/MultiTest/trim-36km_200m_W60ChannelRun01_compressed_realclean.nc'\n",
    "trim = xr.open_dataset(ncfilename) # Lazyload DataSet with xarray, unload from memory with .close()"
   ]
  },
  {
   "cell_type": "code",
   "execution_count": 5,
   "metadata": {},
   "outputs": [],
   "source": [
    "# only if the NetCDF has already been processed\n",
    "if \"depth_center\" in trim:\n",
    "    depth_center = trim['depth_center']\n",
    "else:\n",
    "    print(\"processNetCDF first\")"
   ]
  },
  {
   "cell_type": "code",
   "execution_count": 6,
   "metadata": {},
   "outputs": [],
   "source": [
    "selected_time = 1\n",
    "selected_M = int(trim.M.size/2)\n",
    "\n",
    "density_m_at_time = trim.RHO.isel(time=selected_time, M=selected_M) \n",
    "z_section_center = depth_center.isel(time=selected_time, M=selected_M) # density_m_31.depth_center.T #trim.depth_center.isel(time=this_time, M=this_M).T # why do i need to transpose this?\n",
    "\n",
    "z_section_intf = trim.depth.isel(time=selected_time, M=selected_M) # why do i need to transpose this?\n",
    "\n",
    "n_section = z_section_intf.YZ\n",
    "\n",
    "_, mesh_N = np.meshgrid(trim.SIG_INTF.values, n_section)"
   ]
  },
  {
   "cell_type": "markdown",
   "metadata": {},
   "source": [
    "### Sanity check of dimensions"
   ]
  },
  {
   "cell_type": "code",
   "execution_count": 7,
   "metadata": {},
   "outputs": [
    {
     "name": "stdout",
     "output_type": "stream",
     "text": [
      "quad_NSigma\t (182, 81)\n",
      "n_section\t (182,)\n",
      "z_section_center (182, 80)\n",
      "z_section_intf\t (182, 81)\n",
      "density_m_at_time (182, 80)\n"
     ]
    }
   ],
   "source": [
    "# is there a way to quickly print a formatted table in jupyter without pandas?\n",
    "print('quad_NSigma\\t', mesh_N.shape)\n",
    "print('n_section\\t', n_section.shape)\n",
    "print('z_section_center', z_section_center.shape)\n",
    "print('z_section_intf\\t', z_section_intf.shape)\n",
    "print('density_m_at_time', density_m_at_time.T.shape)"
   ]
  },
  {
   "cell_type": "code",
   "execution_count": 8,
   "metadata": {},
   "outputs": [],
   "source": [
    "sigma_percentages = np.diff(trim.SIG_LYR.values)*-100"
   ]
  },
  {
   "cell_type": "code",
   "execution_count": 9,
   "metadata": {},
   "outputs": [
    {
     "data": {
      "text/html": [
       "<div>\n",
       "<style scoped>\n",
       "    .dataframe tbody tr th:only-of-type {\n",
       "        vertical-align: middle;\n",
       "    }\n",
       "\n",
       "    .dataframe tbody tr th {\n",
       "        vertical-align: top;\n",
       "    }\n",
       "\n",
       "    .dataframe thead th {\n",
       "        text-align: right;\n",
       "    }\n",
       "</style>\n",
       "<table border=\"1\" class=\"dataframe\">\n",
       "  <thead>\n",
       "    <tr style=\"text-align: right;\">\n",
       "      <th></th>\n",
       "      <th>XZ</th>\n",
       "      <th>YZ</th>\n",
       "      <th>time</th>\n",
       "      <th>depth_center</th>\n",
       "      <th>depth_center</th>\n",
       "    </tr>\n",
       "    <tr>\n",
       "      <th>SIG_LYR</th>\n",
       "      <th></th>\n",
       "      <th></th>\n",
       "      <th></th>\n",
       "      <th></th>\n",
       "      <th></th>\n",
       "    </tr>\n",
       "  </thead>\n",
       "  <tbody>\n",
       "    <tr>\n",
       "      <th>-0.10180</th>\n",
       "      <td>13100.0</td>\n",
       "      <td>36200.0</td>\n",
       "      <td>2020-02-01 01:42:00</td>\n",
       "      <td>-71.250549</td>\n",
       "      <td>-46.123882</td>\n",
       "    </tr>\n",
       "    <tr>\n",
       "      <th>-0.15930</th>\n",
       "      <td>13100.0</td>\n",
       "      <td>36200.0</td>\n",
       "      <td>2020-02-01 01:42:00</td>\n",
       "      <td>-111.495209</td>\n",
       "      <td>-40.244659</td>\n",
       "    </tr>\n",
       "    <tr>\n",
       "      <th>-0.21180</th>\n",
       "      <td>13100.0</td>\n",
       "      <td>36200.0</td>\n",
       "      <td>2020-02-01 01:42:00</td>\n",
       "      <td>-148.240326</td>\n",
       "      <td>-36.745117</td>\n",
       "    </tr>\n",
       "    <tr>\n",
       "      <th>-0.25930</th>\n",
       "      <td>13100.0</td>\n",
       "      <td>36200.0</td>\n",
       "      <td>2020-02-01 01:42:00</td>\n",
       "      <td>-181.485916</td>\n",
       "      <td>-33.245590</td>\n",
       "    </tr>\n",
       "    <tr>\n",
       "      <th>-0.30180</th>\n",
       "      <td>13100.0</td>\n",
       "      <td>36200.0</td>\n",
       "      <td>2020-02-01 01:42:00</td>\n",
       "      <td>-211.231995</td>\n",
       "      <td>-29.746078</td>\n",
       "    </tr>\n",
       "    <tr>\n",
       "      <th>...</th>\n",
       "      <td>...</td>\n",
       "      <td>...</td>\n",
       "      <td>...</td>\n",
       "      <td>...</td>\n",
       "      <td>...</td>\n",
       "    </tr>\n",
       "    <tr>\n",
       "      <th>-0.99840</th>\n",
       "      <td>13100.0</td>\n",
       "      <td>36200.0</td>\n",
       "      <td>2020-02-01 01:42:00</td>\n",
       "      <td>-698.787292</td>\n",
       "      <td>-0.314941</td>\n",
       "    </tr>\n",
       "    <tr>\n",
       "      <th>-0.99880</th>\n",
       "      <td>13100.0</td>\n",
       "      <td>36200.0</td>\n",
       "      <td>2020-02-01 01:42:00</td>\n",
       "      <td>-699.067261</td>\n",
       "      <td>-0.279968</td>\n",
       "    </tr>\n",
       "    <tr>\n",
       "      <th>-0.99920</th>\n",
       "      <td>13100.0</td>\n",
       "      <td>36200.0</td>\n",
       "      <td>2020-02-01 01:42:00</td>\n",
       "      <td>-699.347229</td>\n",
       "      <td>-0.279968</td>\n",
       "    </tr>\n",
       "    <tr>\n",
       "      <th>-0.99955</th>\n",
       "      <td>13100.0</td>\n",
       "      <td>36200.0</td>\n",
       "      <td>2020-02-01 01:42:00</td>\n",
       "      <td>-699.592224</td>\n",
       "      <td>-0.244995</td>\n",
       "    </tr>\n",
       "    <tr>\n",
       "      <th>-0.99985</th>\n",
       "      <td>13100.0</td>\n",
       "      <td>36200.0</td>\n",
       "      <td>2020-02-01 01:42:00</td>\n",
       "      <td>-699.802185</td>\n",
       "      <td>-0.209961</td>\n",
       "    </tr>\n",
       "  </tbody>\n",
       "</table>\n",
       "<p>79 rows × 5 columns</p>\n",
       "</div>"
      ],
      "text/plain": [
       "               XZ       YZ                time  depth_center  depth_center\n",
       "SIG_LYR                                                                   \n",
       "-0.10180  13100.0  36200.0 2020-02-01 01:42:00    -71.250549    -46.123882\n",
       "-0.15930  13100.0  36200.0 2020-02-01 01:42:00   -111.495209    -40.244659\n",
       "-0.21180  13100.0  36200.0 2020-02-01 01:42:00   -148.240326    -36.745117\n",
       "-0.25930  13100.0  36200.0 2020-02-01 01:42:00   -181.485916    -33.245590\n",
       "-0.30180  13100.0  36200.0 2020-02-01 01:42:00   -211.231995    -29.746078\n",
       "...           ...      ...                 ...           ...           ...\n",
       "-0.99840  13100.0  36200.0 2020-02-01 01:42:00   -698.787292     -0.314941\n",
       "-0.99880  13100.0  36200.0 2020-02-01 01:42:00   -699.067261     -0.279968\n",
       "-0.99920  13100.0  36200.0 2020-02-01 01:42:00   -699.347229     -0.279968\n",
       "-0.99955  13100.0  36200.0 2020-02-01 01:42:00   -699.592224     -0.244995\n",
       "-0.99985  13100.0  36200.0 2020-02-01 01:42:00   -699.802185     -0.209961\n",
       "\n",
       "[79 rows x 5 columns]"
      ]
     },
     "execution_count": 9,
     "metadata": {},
     "output_type": "execute_result"
    }
   ],
   "source": [
    "z_section_center.isel(N=-1).diff('SIG_LYR').to_dataframe()"
   ]
  },
  {
   "cell_type": "code",
   "execution_count": 10,
   "metadata": {},
   "outputs": [],
   "source": [
    "# newDF = pd.DataFrame(section)\n",
    "\n",
    "# display(s)\n"
   ]
  },
  {
   "cell_type": "code",
   "execution_count": 11,
   "metadata": {},
   "outputs": [],
   "source": [
    "legend_hack_intf = z_section_intf.isel(SIG_INTF=-1)\n",
    "legend_hack_center = z_section_center.isel(SIG_LYR=-1)"
   ]
  },
  {
   "cell_type": "code",
   "execution_count": 12,
   "metadata": {},
   "outputs": [
    {
     "data": {
      "text/plain": [
       "5.171428571428572"
      ]
     },
     "execution_count": 12,
     "metadata": {},
     "output_type": "execute_result"
    }
   ],
   "source": [
    "3620.0/700"
   ]
  },
  {
   "cell_type": "code",
   "execution_count": 13,
   "metadata": {},
   "outputs": [],
   "source": [
    "plt.close(\"all\")"
   ]
  },
  {
   "cell_type": "markdown",
   "metadata": {},
   "source": [
    "## Plot Sigma interfaces and center with length"
   ]
  },
  {
   "cell_type": "code",
   "execution_count": 52,
   "metadata": {},
   "outputs": [
    {
     "data": {
      "application/vnd.jupyter.widget-view+json": {
       "model_id": "3e2fbc43b2bc4504aa260b1518174214",
       "version_major": 2,
       "version_minor": 0
      },
      "text/plain": [
       "Canvas(toolbar=Toolbar(toolitems=[('Home', 'Reset original view', 'home', 'home'), ('Back', 'Back to previous …"
      ]
     },
     "metadata": {},
     "output_type": "display_data"
    }
   ],
   "source": [
    "# zscale = 20\n",
    "fig, ax = plt.subplots(nrows=1, figsize=(10,4.5)) # scale to actual depth lenght: (20 ,4) for  factor 10\n",
    "plt.title(\"Channel slope 1.5° - Basin slope 0.2°\")\n",
    "plt.suptitle('Sigma grid vertical section - Length (n)')\n",
    "\n",
    "ax.plot(n_section, z_section_intf, c='k', linewidth=0.55, marker='+', markersize=0.1)\n",
    "ax.plot(n_section, z_section_center, c='steelblue', linewidth=0.15, marker='+', markersize=0.1)\n",
    "\n",
    "ax.xaxis.set_minor_locator(MultipleLocator(1000))\n",
    "plt.xlim(0., 36200)\n",
    "\n",
    "# hack to get only names in legend for lines\n",
    "interfaces, = ax.plot(n_section, legend_hack_intf, c='k', linewidth=0.8, marker='+', markersize=0.)\n",
    "centers, = ax.plot(n_section, legend_hack_center, c='steelblue', linewidth=0.8, marker='+', markersize=0.1)\n",
    "\n",
    "# mark one line just because\n",
    "# ax.plot(n_section, z_section_intf[:,42], c='hotpink', marker='o', markersize=1.5,)\n",
    "\n",
    "\n",
    "# inset axes\n",
    "axins = ax.inset_axes([0.5, 0.5, 0.47, 0.47])\n",
    "axins.plot(n_section, z_section_intf, c='k', linewidth=0.55, marker='+', markersize=0.1)\n",
    "\n",
    "# axins.imshow(Z2, extent=extent, interpolation=\"nearest\",origin=\"lower\")\n",
    "# sub region of the original image\n",
    "x1, x2, y1, y2 = 13000, 17000, -640, -600\n",
    "axins.set_xlim(x1, x2)\n",
    "axins.set_ylim(y1, y2)\n",
    "axins.set_xticklabels('')\n",
    "axins.set_yticklabels('')\n",
    "\n",
    "ax.indicate_inset_zoom(axins, edgecolor='tomato', alpha=0.5)\n",
    "\n",
    "# ax.scatter(n_section, depth_m_31[:,10], s=1.5)\n",
    "ax.set_xlabel('Length [m]', fontsize=13.5)\n",
    "ax.set_ylabel('Depth [m]', fontsize=13.5)\n",
    "ax.legend((interfaces, centers), ('$\\sigma$ Interfaces', '$\\sigma$ Centers'), fontsize=\"x-large\", loc=\"lower left\", markerscale=50)\n",
    "fig.show()"
   ]
  },
  {
   "cell_type": "code",
   "execution_count": 45,
   "metadata": {},
   "outputs": [
    {
     "name": "stdout",
     "output_type": "stream",
     "text": [
      "Help on method indicate_inset_zoom in module matplotlib.axes._axes:\n",
      "\n",
      "indicate_inset_zoom(inset_ax, **kwargs) method of matplotlib.axes._subplots.AxesSubplot instance\n",
      "    Add an inset indicator rectangle to the axes based on the axis\n",
      "    limits for an *inset_ax* and draw connectors between *inset_ax*\n",
      "    and the rectangle.\n",
      "    \n",
      "    Warnings\n",
      "    --------\n",
      "    This method is experimental as of 3.0, and the API may change.\n",
      "    \n",
      "    Parameters\n",
      "    ----------\n",
      "    inset_ax : `.Axes`\n",
      "        Inset axes to draw connecting lines to.  Two lines are\n",
      "        drawn connecting the indicator box to the inset axes on corners\n",
      "        chosen so as to not overlap with the indicator box.\n",
      "    \n",
      "    **kwargs\n",
      "        Other keyword arguments are passed on to `.Axes.indicate_inset`\n",
      "    \n",
      "    Returns\n",
      "    -------\n",
      "    rectangle_patch : `.Patches.Rectangle`\n",
      "         Rectangle artist.\n",
      "    \n",
      "    connector_lines : 4-tuple of `.Patches.ConnectionPatch`\n",
      "        Each of four connector lines coming from the rectangle drawn on\n",
      "        this axis, in the order lower left, upper left, lower right,\n",
      "        upper right.\n",
      "        Two are set with visibility to *False*,  but the user can\n",
      "        set the visibility to *True* if the automatic choice is not deemed\n",
      "        correct.\n",
      "\n"
     ]
    }
   ],
   "source": [
    "help(ax.indicate_inset_zoom)\n",
    "# plt.close('all')"
   ]
  },
  {
   "cell_type": "markdown",
   "metadata": {},
   "source": [
    "## Plot Sigma interfaces and center with grid index"
   ]
  },
  {
   "cell_type": "code",
   "execution_count": 20,
   "metadata": {},
   "outputs": [
    {
     "data": {
      "application/vnd.jupyter.widget-view+json": {
       "model_id": "307c09e016c44390b71f528f38f0b779",
       "version_major": 2,
       "version_minor": 0
      },
      "text/plain": [
       "Canvas(toolbar=Toolbar(toolitems=[('Home', 'Reset original view', 'home', 'home'), ('Back', 'Back to previous …"
      ]
     },
     "metadata": {},
     "output_type": "display_data"
    }
   ],
   "source": [
    "fig_N, ax_N = plt.subplots(nrows=1, figsize=(9,6))\n",
    "ax_N.set_title('Sigma layers vertical section - N number')\n",
    "\n",
    "ax_N.plot(z_section_intf, c='k', linewidth=0.25, marker='+', markersize=0.1)\n",
    "ax_N.plot(z_section_center, c='g', linewidth=0.05, marker='+', markersize=0.1)\n",
    "ax_N.set_xlabel('N')\n",
    "ax_N.set_ylabel('Depth [m]')\n",
    "fig_N.show()"
   ]
  },
  {
   "cell_type": "markdown",
   "metadata": {},
   "source": [
    "## Plot density N cross section"
   ]
  },
  {
   "cell_type": "code",
   "execution_count": null,
   "metadata": {},
   "outputs": [],
   "source": [
    "print(mesh_N[:,:].shape)\n",
    "print(z_section_intf[:,:].shape)\n",
    "print(density_m_31.T.shape)"
   ]
  },
  {
   "cell_type": "code",
   "execution_count": null,
   "metadata": {},
   "outputs": [],
   "source": [
    "fig_vert, ax_vert1 = plt.subplots(nrows=1, figsize=(9,6))\n",
    "\n",
    "ax_vert1.set_title('Vertical section density')\n",
    "\n",
    "# or z_section.YZ both work\n",
    "mesh = ax_vert1.pcolormesh(mesh_N, z_section_intf, density_m_31.T,\n",
    "                          vmin=1025, vmax=1025.5) #, edgecolors='w', linewidths=0.1)\n",
    "ax_vert1.plot(n_section, z_section_center, c='lightsteelblue', linewidth=0.10) #, marker='+', markersize=0.1)\n",
    "ax_vert1.plot(n_section, z_section_intf[:,:], c='bisque', linewidth=0.08)\n",
    "# ax_vert1.plot(n_section, z_section_intf[:,45], c='hotpink', marker='o', markersize=0.75,)\n",
    "cbar = fig_vert.colorbar(mesh, ax=ax_vert1)\n",
    "cbar.ax.get_yaxis().labelpad = 15\n",
    "cbar.ax.set_ylabel('Density [kg/m3]',rotation=90)\n",
    "ax_vert1.set_xlabel('N [m]')\n",
    "ax_vert1.set_ylabel('Depth [m]')"
   ]
  },
  {
   "cell_type": "code",
   "execution_count": null,
   "metadata": {},
   "outputs": [],
   "source": []
  },
  {
   "cell_type": "code",
   "execution_count": null,
   "metadata": {},
   "outputs": [],
   "source": []
  }
 ],
 "metadata": {
  "kernelspec": {
   "display_name": "Python 3",
   "language": "python",
   "name": "python3"
  },
  "language_info": {
   "codemirror_mode": {
    "name": "ipython",
    "version": 3
   },
   "file_extension": ".py",
   "mimetype": "text/x-python",
   "name": "python",
   "nbconvert_exporter": "python",
   "pygments_lexer": "ipython3",
   "version": "3.7.6"
  }
 },
 "nbformat": 4,
 "nbformat_minor": 4
}
