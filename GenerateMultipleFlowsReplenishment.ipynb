{
 "cells": [
  {
   "cell_type": "code",
   "execution_count": 1,
   "metadata": {},
   "outputs": [],
   "source": [
    "from JulesD3D.multiplerunsreplenish import makeMultipleRunsReplenishment\n",
    "from os import path"
   ]
  },
  {
   "cell_type": "code",
   "execution_count": 2,
   "metadata": {},
   "outputs": [],
   "source": [
    "# for dev purposes\n",
    "%load_ext autoreload\n",
    "%reload_ext autoreload"
   ]
  },
  {
   "cell_type": "markdown",
   "metadata": {},
   "source": [
    "# Single model Multiple Runs with silt replenishment after every 5 runs\n",
    "Has to be the filepath to the **first run** of the model"
   ]
  },
  {
   "cell_type": "code",
   "execution_count": 2,
   "metadata": {},
   "outputs": [],
   "source": [
    "# has to start in Run01\n",
    "my_folder = '/Users/julesblom/Dropbox/TU/Master/Thesis/Runs/Current/Replenishment_TransportLayer50cm/Run01'"
   ]
  },
  {
   "cell_type": "code",
   "execution_count": 3,
   "metadata": {},
   "outputs": [
    {
     "name": "stdout",
     "output_type": "stream",
     "text": [
      "'\u001b[1m'Replenishment run every after 5 runs, make sure that both .bcc files (ie the templates) have the same reference date!'\u001b[0m'\n",
      "mdf_filename 36km_200m_W60Channel.mdf\n",
      "No restart Id string provided. Got it from mdf filename:  trim-36km_200m_W60Channel\n",
      "Total number of output timesteps is 13\n",
      "**--------- RUN1-----------**\n",
      "**--------- RUN2-----------**\n",
      "New folder: /Users/julesblom/Dropbox/TU/Master/Thesis/Runs/Current/Replenishment_TransportLayer50cm/Run02\n",
      "Creation of the directory '/Users/julesblom/Dropbox/TU/Master/Thesis/Runs/Current/Replenishment_TransportLayer50cm/Run02' failed, because it already exists! Carrying on\n",
      "Removing morphology smoothing time\n",
      "\tChanging times in 5050_15.bcc\n",
      "\tChanging times in discharge4500.bct\n",
      "**--------- RUN3-----------**\n",
      "New folder: /Users/julesblom/Dropbox/TU/Master/Thesis/Runs/Current/Replenishment_TransportLayer50cm/Run03\n",
      "Creation of the directory '/Users/julesblom/Dropbox/TU/Master/Thesis/Runs/Current/Replenishment_TransportLayer50cm/Run03' failed, because it already exists! Carrying on\n",
      "Removing morphology smoothing time\n",
      "\tChanging times in 5050_15.bcc\n",
      "\tChanging times in discharge4500.bct\n",
      "**--------- RUN4-----------**\n",
      "New folder: /Users/julesblom/Dropbox/TU/Master/Thesis/Runs/Current/Replenishment_TransportLayer50cm/Run04\n",
      "Creation of the directory '/Users/julesblom/Dropbox/TU/Master/Thesis/Runs/Current/Replenishment_TransportLayer50cm/Run04' failed, because it already exists! Carrying on\n",
      "Removing morphology smoothing time\n",
      "\tChanging times in 5050_15.bcc\n",
      "\tChanging times in discharge4500.bct\n",
      "**--------- RUN5-----------**\n",
      "New folder: /Users/julesblom/Dropbox/TU/Master/Thesis/Runs/Current/Replenishment_TransportLayer50cm/Run05\n",
      "Creation of the directory '/Users/julesblom/Dropbox/TU/Master/Thesis/Runs/Current/Replenishment_TransportLayer50cm/Run05' failed, because it already exists! Carrying on\n",
      "Removing morphology smoothing time\n",
      "\n",
      "------------------------------------------------------------------------\n",
      "In this run, the flow composition is changed to replenish silt sediment\n",
      "------------------------------------------------------------------------\n",
      "                    \n",
      "YEYEYEYEYEAHAHAHAHAHAHAHHAHHBAHAHAHAHEYYEYEYBZNBABHGEYTENAHAHA\n",
      "Changing replenishment .bcc file with different template file\n",
      "Changing .bct file!\n",
      "**--------- RUN6-----------**\n",
      "New folder: /Users/julesblom/Dropbox/TU/Master/Thesis/Runs/Current/Replenishment_TransportLayer50cm/Run06\n",
      "Removing morphology smoothing time\n",
      "\tChanging times in 5050_15.bcc\n",
      "\tChanging times in discharge4500.bct\n",
      "**--------- RUN7-----------**\n",
      "New folder: /Users/julesblom/Dropbox/TU/Master/Thesis/Runs/Current/Replenishment_TransportLayer50cm/Run07\n",
      "Removing morphology smoothing time\n",
      "\tChanging times in 5050_15.bcc\n",
      "\tChanging times in discharge4500.bct\n",
      "**--------- RUN8-----------**\n",
      "New folder: /Users/julesblom/Dropbox/TU/Master/Thesis/Runs/Current/Replenishment_TransportLayer50cm/Run08\n",
      "Removing morphology smoothing time\n",
      "\tChanging times in 5050_15.bcc\n",
      "\tChanging times in discharge4500.bct\n",
      "**--------- RUN9-----------**\n",
      "New folder: /Users/julesblom/Dropbox/TU/Master/Thesis/Runs/Current/Replenishment_TransportLayer50cm/Run09\n",
      "Removing morphology smoothing time\n",
      "\tChanging times in 5050_15.bcc\n",
      "\tChanging times in discharge4500.bct\n",
      "**--------- RUN10-----------**\n",
      "New folder: /Users/julesblom/Dropbox/TU/Master/Thesis/Runs/Current/Replenishment_TransportLayer50cm/Run10\n",
      "Removing morphology smoothing time\n",
      "\n",
      "------------------------------------------------------------------------\n",
      "In this run, the flow composition is changed to replenish silt sediment\n",
      "------------------------------------------------------------------------\n",
      "                    \n",
      "YEYEYEYEYEAHAHAHAHAHAHAHHAHHBAHAHAHAHEYYEYEYBZNBABHGEYTENAHAHA\n",
      "Changing replenishment .bcc file with different template file\n",
      "Changing .bct file!\n",
      "Start time: 11070.0 \n",
      "End time:   12300.0\n"
     ]
    }
   ],
   "source": [
    "replenishOptions = {\n",
    "    \"replenish\": 5,\n",
    "    \"replenish_bcc_template_filepath\":  \"/Users/julesblom/ThesisPython/7525_15.bcc\"\n",
    "}\n",
    "\n",
    "makeMultipleRunsReplenishment(template_folder=my_folder, number_of_runs=10, init_MorStt=\"4.5000000e+001\", **replenishOptions)"
   ]
  },
  {
   "cell_type": "code",
   "execution_count": null,
   "metadata": {},
   "outputs": [],
   "source": []
  }
 ],
 "metadata": {
  "kernelspec": {
   "display_name": "Python 3",
   "language": "python",
   "name": "python3"
  },
  "language_info": {
   "codemirror_mode": {
    "name": "ipython",
    "version": 3
   },
   "file_extension": ".py",
   "mimetype": "text/x-python",
   "name": "python",
   "nbconvert_exporter": "python",
   "pygments_lexer": "ipython3",
   "version": "3.7.6"
  }
 },
 "nbformat": 4,
 "nbformat_minor": 4
}
