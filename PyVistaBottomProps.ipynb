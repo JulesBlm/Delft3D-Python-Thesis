{
 "cells": [
  {
   "cell_type": "code",
   "execution_count": 1,
   "metadata": {},
   "outputs": [],
   "source": [
    "import pyvista as pv\n",
    "import numpy as np\n",
    "import xarray as xr\n",
    "from JulesD3D.plotPyVista import makeBottomSurface\n",
    "from JulesD3D.processNetCDF import addDepth, fixCORs, fixMeshGrid, makeVelocity, addVectorSum\n",
    "from JulesD3D.utils import ncFilepicker#, quickDF\n",
    "from cmocean.cm import deep"
   ]
  },
  {
   "cell_type": "code",
   "execution_count": 7,
   "metadata": {},
   "outputs": [],
   "source": [
    "# folder = '/Volumes/Seagate Expansion Drive/ThesisResults/Current'\n",
    "folder = '/Users/julesblom/ThesisResults/MultiTest'\n",
    "\n",
    "nc_filename = ncFilepicker(folder)"
   ]
  },
  {
   "cell_type": "code",
   "execution_count": 8,
   "metadata": {},
   "outputs": [
    {
     "data": {
      "application/vnd.jupyter.widget-view+json": {
       "model_id": "62e3304cf76949b78a5d4e7171433e13",
       "version_major": 2,
       "version_minor": 0
      },
      "text/plain": [
       "Select(description='NetCDF file:', layout=Layout(height='120px', width='100%'), options=('/Users/julesblom/The…"
      ]
     },
     "metadata": {},
     "output_type": "display_data"
    }
   ],
   "source": [
    "nc_filename"
   ]
  },
  {
   "cell_type": "code",
   "execution_count": 9,
   "metadata": {},
   "outputs": [],
   "source": [
    "trim = xr.open_dataset(nc_filename.value) # Open with xarray : DataSet : A collection of DataArrays"
   ]
  },
  {
   "cell_type": "code",
   "execution_count": 10,
   "metadata": {},
   "outputs": [
    {
     "name": "stdout",
     "output_type": "stream",
     "text": [
      "------ Fixing mesh grid, assuming a uniform grid ------\n",
      "x_gridstep:\t 200.0 m\n",
      "y_gridstep:\t 200.0 m\n",
      "width:\t\t 26000.0 m\n",
      "length:\t\t 36200.0 m\n",
      "132 x 182 grid\n"
     ]
    }
   ],
   "source": [
    "if 'velocity' not in trim:\n",
    "    trim = fixMeshGrid(trim, trim.XZ.values, trim.YZ.values, mystery_flag=True)\n",
    "    trim = addDepth(trim)\n",
    "    trim = makeVelocity(trim)\n",
    "else:\n",
    "    print(\"DataSet is preprocessed, 'velocity' is already in DataSet\")"
   ]
  },
  {
   "cell_type": "code",
   "execution_count": 11,
   "metadata": {},
   "outputs": [],
   "source": [
    "bottom_surface_grid = makeBottomSurface(trim)"
   ]
  },
  {
   "cell_type": "code",
   "execution_count": 12,
   "metadata": {},
   "outputs": [
    {
     "ename": "AttributeError",
     "evalue": "'Dataset' object has no attribute 'bottom_stress'",
     "output_type": "error",
     "traceback": [
      "\u001b[0;31m---------------------------------------------------------------------------\u001b[0m",
      "\u001b[0;31mAttributeError\u001b[0m                            Traceback (most recent call last)",
      "\u001b[0;32m<ipython-input-12-b4e905bbcd76>\u001b[0m in \u001b[0;36m<module>\u001b[0;34m\u001b[0m\n\u001b[0;32m----> 1\u001b[0;31m \u001b[0mplot_title\u001b[0m \u001b[0;34m=\u001b[0m \u001b[0;34mf\"{trim.bottom_stress.attrs['long_name']} ({trim.bottom_stress.attrs['units']})\"\u001b[0m\u001b[0;34m\u001b[0m\u001b[0;34m\u001b[0m\u001b[0m\n\u001b[0m",
      "\u001b[0;32m~/Library/Caches/pypoetry/virtualenvs/delft3d-python-j5EFwY34-py3.7/lib/python3.7/site-packages/xarray/core/common.py\u001b[0m in \u001b[0;36m__getattr__\u001b[0;34m(self, name)\u001b[0m\n\u001b[1;32m    231\u001b[0m                     \u001b[0;32mreturn\u001b[0m \u001b[0msource\u001b[0m\u001b[0;34m[\u001b[0m\u001b[0mname\u001b[0m\u001b[0;34m]\u001b[0m\u001b[0;34m\u001b[0m\u001b[0;34m\u001b[0m\u001b[0m\n\u001b[1;32m    232\u001b[0m         raise AttributeError(\n\u001b[0;32m--> 233\u001b[0;31m             \u001b[0;34m\"{!r} object has no attribute {!r}\"\u001b[0m\u001b[0;34m.\u001b[0m\u001b[0mformat\u001b[0m\u001b[0;34m(\u001b[0m\u001b[0mtype\u001b[0m\u001b[0;34m(\u001b[0m\u001b[0mself\u001b[0m\u001b[0;34m)\u001b[0m\u001b[0;34m.\u001b[0m\u001b[0m__name__\u001b[0m\u001b[0;34m,\u001b[0m \u001b[0mname\u001b[0m\u001b[0;34m)\u001b[0m\u001b[0;34m\u001b[0m\u001b[0;34m\u001b[0m\u001b[0m\n\u001b[0m\u001b[1;32m    234\u001b[0m         )\n\u001b[1;32m    235\u001b[0m \u001b[0;34m\u001b[0m\u001b[0m\n",
      "\u001b[0;31mAttributeError\u001b[0m: 'Dataset' object has no attribute 'bottom_stress'"
     ]
    }
   ],
   "source": [
    "plot_title = f\"{trim.bottom_stress.attrs['long_name']} ({trim.bottom_stress.attrs['units']})\""
   ]
  },
  {
   "cell_type": "code",
   "execution_count": 12,
   "metadata": {},
   "outputs": [
    {
     "ename": "AttributeError",
     "evalue": "'Dataset' object has no attribute 'bottom_stress'",
     "output_type": "error",
     "traceback": [
      "\u001b[0;31m---------------------------------------------------------------------------\u001b[0m",
      "\u001b[0;31mAttributeError\u001b[0m                            Traceback (most recent call last)",
      "\u001b[0;32m<ipython-input-12-93f29a58f878>\u001b[0m in \u001b[0;36m<module>\u001b[0;34m\u001b[0m\n\u001b[0;32m----> 1\u001b[0;31m \u001b[0mplot_bottom_stress\u001b[0m \u001b[0;34m=\u001b[0m \u001b[0mtrim\u001b[0m\u001b[0;34m.\u001b[0m\u001b[0mbottom_stress\u001b[0m\u001b[0;34m.\u001b[0m\u001b[0misel\u001b[0m\u001b[0;34m(\u001b[0m\u001b[0mtime\u001b[0m\u001b[0;34m=\u001b[0m\u001b[0;34m-\u001b[0m\u001b[0;36m5\u001b[0m\u001b[0;34m)\u001b[0m\u001b[0;34m.\u001b[0m\u001b[0mvalues\u001b[0m\u001b[0;34m[\u001b[0m\u001b[0;34m:\u001b[0m\u001b[0;34m-\u001b[0m\u001b[0;36m1\u001b[0m\u001b[0;34m,\u001b[0m\u001b[0;34m:\u001b[0m\u001b[0;34m-\u001b[0m\u001b[0;36m1\u001b[0m\u001b[0;34m]\u001b[0m\u001b[0;34m.\u001b[0m\u001b[0mT\u001b[0m\u001b[0;34m\u001b[0m\u001b[0;34m\u001b[0m\u001b[0m\n\u001b[0m",
      "\u001b[0;32m~/.local/share/virtualenvs/ThesisPython-OwMgd5UG/lib/python3.7/site-packages/xarray/core/common.py\u001b[0m in \u001b[0;36m__getattr__\u001b[0;34m(self, name)\u001b[0m\n\u001b[1;32m    231\u001b[0m                     \u001b[0;32mreturn\u001b[0m \u001b[0msource\u001b[0m\u001b[0;34m[\u001b[0m\u001b[0mname\u001b[0m\u001b[0;34m]\u001b[0m\u001b[0;34m\u001b[0m\u001b[0;34m\u001b[0m\u001b[0m\n\u001b[1;32m    232\u001b[0m         raise AttributeError(\n\u001b[0;32m--> 233\u001b[0;31m             \u001b[0;34m\"{!r} object has no attribute {!r}\"\u001b[0m\u001b[0;34m.\u001b[0m\u001b[0mformat\u001b[0m\u001b[0;34m(\u001b[0m\u001b[0mtype\u001b[0m\u001b[0;34m(\u001b[0m\u001b[0mself\u001b[0m\u001b[0;34m)\u001b[0m\u001b[0;34m.\u001b[0m\u001b[0m__name__\u001b[0m\u001b[0;34m,\u001b[0m \u001b[0mname\u001b[0m\u001b[0;34m)\u001b[0m\u001b[0;34m\u001b[0m\u001b[0;34m\u001b[0m\u001b[0m\n\u001b[0m\u001b[1;32m    234\u001b[0m         )\n\u001b[1;32m    235\u001b[0m \u001b[0;34m\u001b[0m\u001b[0m\n",
      "\u001b[0;31mAttributeError\u001b[0m: 'Dataset' object has no attribute 'bottom_stress'"
     ]
    }
   ],
   "source": [
    "plot_bottom_stress = trim.bottom_stress.isel(time=-5).values[:-1,:-1].T"
   ]
  },
  {
   "cell_type": "code",
   "execution_count": null,
   "metadata": {},
   "outputs": [],
   "source": [
    "plot_acc_sand_flux = trim.DMSEDCUM.isel(time=-2, LSEDTOT=0).values[:-1,:-1].T"
   ]
  },
  {
   "cell_type": "code",
   "execution_count": null,
   "metadata": {},
   "outputs": [],
   "source": [
    "# grid.field_arrays['bottom_stress'] = plot_bottom_stress"
   ]
  },
  {
   "cell_type": "code",
   "execution_count": null,
   "metadata": {},
   "outputs": [],
   "source": [
    "bottom_surface_grid.field_arrays['acc_sand_flux'] = plot_acc_sand_flux"
   ]
  },
  {
   "cell_type": "code",
   "execution_count": null,
   "metadata": {},
   "outputs": [],
   "source": [
    "bottom_surface_grid"
   ]
  },
  {
   "cell_type": "code",
   "execution_count": null,
   "metadata": {},
   "outputs": [],
   "source": [
    "p = pv.Plotter()\n",
    "# p.add_mesh(bottom_surface_grid, scalars='bottom_stress', cmap=deep, interpolate_before_map=False)\n",
    "p.add_mesh(bottom_surface_grid, scalars='acc_sand_flux', cmap='cividis', interpolate_before_map=False)\n",
    "# p.add_scalar_bar(title=plot_title)\n",
    "p.enable()\n",
    "p.show_grid()\n",
    "p.set_scale(zscale=15)\n",
    "p.show()"
   ]
  },
  {
   "cell_type": "code",
   "execution_count": null,
   "metadata": {},
   "outputs": [],
   "source": [
    "# # https://docs.pyvista.org/plotting/plotting.html#plot-time-series-data\n",
    "\n",
    "# bottom_surface_grid.field_arrays['anim_bottom_stress'] = trim.bottom_stress.isel(time=0).values[:-1,:-1].T\n",
    "\n",
    "# # bottom_surface_grid.set_active_scalars('bottom_stress')\n",
    "\n",
    "# animation_plotter = pv.BackgroundPlotter()\n",
    "# animation_plotter.add_mesh(grid, lighting=True, scalars='anim_bottom_stress', cmap=deep, interpolate_before_map=False)\n",
    "# animation_plotter.set_scale(zscale=10)\n",
    "# animation_plotter.show_grid()\n",
    "# animation_plotter.show()\n",
    "\n",
    "# def update_bottom_stress():\n",
    "#     for i in range(trim.time.size):\n",
    "#         if i % 10 == 0:\n",
    "#             print(\"time\", i, \"max: \", trim.bottom_stress.isel(time=i).max().values)\n",
    "\n",
    "# #         # Update scalars\n",
    "#         new_bottom_stress = trim.bottom_stress.isel(time=i).values[:-1,:-1].T\n",
    "#         bottom_surface_grid.field_arrays['anim_bottom_stress'] = new_bottom_stress\n",
    "#         time.sleep(0.05)\n",
    "\n",
    "\n",
    "        \n",
    "# thread = Thread(target=update_bottom_stress)\n",
    "# thread.start()"
   ]
  },
  {
   "cell_type": "code",
   "execution_count": null,
   "metadata": {},
   "outputs": [],
   "source": [
    "# Create a plotter object and set the scalars to the Z height\n",
    "plotter = pv.Plotter()\n",
    "sargs = dict(height=0.25, vertical=True, position_x=0.05, position_y=0.05)\n",
    "plotter.add_mesh(bottom_surface_grid, scalars=trim.bottom_stress.isel(time=0).values[:-1,:-1].T,\n",
    "                 cmap=deep, interpolate_before_map=False, scalar_bar_args=sargs, stitle='Bottom Stress N/m2')\n",
    "plotter.set_scale(zscale=15)\n",
    "plotter.show_grid()"
   ]
  },
  {
   "cell_type": "code",
   "execution_count": null,
   "metadata": {},
   "outputs": [],
   "source": [
    "# https://docs.pyvista.org/examples/02-plot/gif.html#sphx-glr-examples-02-plot-gif-py\n",
    "# setup camera and close\n",
    "\n",
    "plotter.show(auto_close=False)\n",
    "\n",
    "# Open a gif\n",
    "plotter.open_gif(\"bottomstress1.5.gif\")\n",
    "\n",
    "pts = grid.points.copy()\n",
    "\n",
    "for i in range(trim.time.size):\n",
    "    new_bottom_stress = trim.bottom_stress.isel(time=i).values[:-1,:-1].T.ravel()\n",
    "#     print(trim.time.isel(time=i).values)\n",
    "    plotter.update_scalars(new_bottom_stress)\n",
    "    timetext = plotter.add_text(\"t = {}\".format(trim.time.isel(time=i).values), position='upper_left')\n",
    "    plotter.write_frame()\n",
    "    plotter.remove_actor(timetext)\n",
    "    \n",
    "# Close movie and delete object\n",
    "plotter.close()"
   ]
  },
  {
   "cell_type": "code",
   "execution_count": null,
   "metadata": {},
   "outputs": [],
   "source": []
  }
 ],
 "metadata": {
  "kernelspec": {
   "display_name": "Python 3",
   "language": "python",
   "name": "python3"
  },
  "language_info": {
   "codemirror_mode": {
    "name": "ipython",
    "version": 3
   },
   "file_extension": ".py",
   "mimetype": "text/x-python",
   "name": "python",
   "nbconvert_exporter": "python",
   "pygments_lexer": "ipython3",
   "version": "3.7.6"
  }
 },
 "nbformat": 4,
 "nbformat_minor": 4
}
